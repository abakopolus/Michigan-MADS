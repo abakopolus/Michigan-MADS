{
 "cells": [
  {
   "cell_type": "markdown",
   "metadata": {
    "deletable": false,
    "editable": false,
    "nbgrader": {
     "cell_type": "markdown",
     "checksum": "8c4516ab111e7d00191215c1373c029e",
     "grade": false,
     "grade_id": "cell-6e768e5e5abee2e8",
     "locked": true,
     "schema_version": 3,
     "solution": false
    }
   },
   "source": [
    "## Information Visualization II\n",
    "\n",
    "## School of Information, University of Michigan\n",
    "\n",
    "## Week 2:\n",
    "\n",
    "- Functions of interactivity\n",
    "\n",
    "## Assignment Overview\n",
    "### The objectives for this week are for you to:\n",
    "\n",
    "- Understand the role of interaction in visualization\n",
    "- Identify and understand various types of interaction in visualization\n",
    "- Learn to implement interactive visualizations using Altair\n",
    "\n",
    "\n",
    "### The total score of this assignment will be\n",
    "- Case study reflection:  (30 points)\n",
    "- Altair programming exercise (70 points)\n",
    "- Extra credit (up to 10 points)\n",
    "\n",
    "\n",
    "\n",
    "### Resources:\n",
    "\n",
    "- This article by [FiveThirtyEight](https://fivethirtyeight.com). Available [online](https://fivethirtyeight.com/features/women-in-comic-books/) (Hichey, 2014) \n",
    "\n",
    "- Datasets from FiveThirtyEight, we have downloaded a subset of these datasets available in the folder for your use into [./assets](./assets)\n",
    "     - The original dataset can be found on [FiveThirtyEight Comic Characters](https://github.com/fivethirtyeight/data/tree/master/comic-characters)\n",
    "\n",
    "### Important notes:\n",
    "1) Grading for this assignment is entirely done by manual inspection.\n",
    "\n",
    "2) When turning in your PDF, please use the File -> Print -> Save as PDF option ***from your browser***. Do ***not*** use the File->Download as->PDF option. Complete instructions for this are under Resources in the Coursera page for this class.\n",
    "\n",
    "If you're having trouble with printing, take a look at [this video](https://youtu.be/PiO-K7AoWjk).\n",
    "\n",
    "\n",
    "***"
   ]
  },
  {
   "cell_type": "markdown",
   "metadata": {
    "deletable": false,
    "editable": false,
    "nbgrader": {
     "cell_type": "markdown",
     "checksum": "5bdfc46deeab5973f830fbf9a2fc773a",
     "grade": false,
     "grade_id": "cell-f3a1c0ace8804d04",
     "locked": true,
     "schema_version": 3,
     "solution": false
    }
   },
   "source": [
    "## Part 1. Interactive visualization assesment (30 points)\n",
    "\n",
    "Read the following article [Timeless Songs](https://pudding.cool/2017/03/timeless/) on the Pudding's site (the music doesn't play anymore but you can find samples on Spotify and YouTube). Then answer the following questions:"
   ]
  },
  {
   "cell_type": "markdown",
   "metadata": {
    "deletable": false,
    "editable": false,
    "nbgrader": {
     "cell_type": "markdown",
     "checksum": "5ff658174a86eccadb814c0d344e8415",
     "grade": false,
     "grade_id": "cell-1c4a07eee497cd53",
     "locked": true,
     "schema_version": 3,
     "solution": false
    }
   },
   "source": [
    "### 1.1 Identify various interactions (15 points)\n",
    "For the five visualizations:\n",
    "* What's Remembered from the 90s\n",
    "* Biggie or Tupac\n",
    "* Present-day Popularity of Five Decades of Music\n",
    "* XXXX Tracks: Historic Billboard Performance vs. 2014 Spotify Plays\n",
    "* The Long-term Future of Hits from 2013\n",
    "\n",
    "Identify which of the 7 interaction types are implemented and how.  You don't need a long description. A short sentence will do."
   ]
  },
  {
   "cell_type": "markdown",
   "metadata": {},
   "source": [
    "* What's Remembered from the 90s\n",
    "  * select is implemented by hovering a mouse over the circle mark denoting an artist or band's song to support a viewer's ability to see the name of the artist/band, the song title, the year the song came out, and the plays of the song.\n",
    "  * (re)encode is implemented by the 'find a track' search feature which blurs out the artists/bands and/or songs that were not a part of the search to support the viewer being able to quickly identify the artist/band and/or song of interest. The figure is re-encoded by color by a new binary variable of whether or not the band/artist or song is in the search.\n",
    "\n",
    "\n",
    "* Biggie or Tupac\n",
    "  * select is implemented by hovering a mouse over the circle mark denoting a rapper's song to support a viewer's ability to see the name of the rapper, the song title, the year the song came out, and the plays of the song.\n",
    "  * (re)encode is implemented by the 'find a rapper' search feature which sets to black the rapper and/or song that was not a part of the search to support the viewer being able to quickly identify the rapper and/or song of interest. The figure is re-encoded by color by a new binary variable of whether or not the rapper or song is in the search (black for not in the search, red for included). (re)encode is also implemented by the \"ALL RAPPERS\", \"JUST BIGGIE AND TUPAC\", and \"JUST JAY-Z\" search buttons which again set to black the rappers that were not a part of the condition to support the viewer being able to quickly identify the rapper of interest. The figure is re-encoded by color by a new binary variable of whether or not the rapper is in the condition (black for not in the condition, red for included).\n",
    "\n",
    "\n",
    "* Present-day Popularity of Five Decades of Music\n",
    "  * (re)configure is implemented by, regardless of filtering, having the spotify playcount always be sorted highest to lowest to support a viewer's ability to quickly determine the current popularity of artists and songs across decades.\n",
    "  * filter is implemented by the \"FInd an artist\" search and the ALL Decade, 50s, 60s, etc. buttons to support a viewer's ability to focus on a particular decade or artist of interest to assess their current popularity.\n",
    "  * select is implemented by clear labelling of the artist, song, and Spotify plays to support a viewer's ability to see this information quickly and effectively within the visualization and focus on songs or artists of interest.\n",
    "\n",
    "\n",
    "* XXXX Tracks: Historic Billboard Performance vs. 2014 Spotify Plays\n",
    "  * filter is implemented by changing the year in 'XXXX Tracks', which leads to the songs that the mark circles correspond to changing to that particular year. The 50s, 60s, etc. buttons also filter to the particular decade listed to support the viewer's ability to quickly assess how a song from a particular year or decade's popularity has lasted based on 2014 Spotify plays\n",
    "  * (re)encode is implemented by the \"Find a Track\" search which blurs out the artists/bands and/or songs that were not a part of the search to support the viewer being able to quickly identify the song or artist of interest. The figure is re-encoded by color by a new binary variable of whether or not the band/artist or song is in the search. The Won a Grammy and Peaked at Number 1 buttons also re-encode the visualization as the songs that meet the condition are turned red and all others remain black again to support a viewer's ability to quickly assess a song of interest and the accolades it may have received. The figure is again re-encoded by color by a new binary variable of whether or not the song met the condition.\n",
    "  * select is implemented by hovering a mouse over the circle mark denoting a song to support a viewer's ability to see the name of the artist, the song title, the year the song came out, and its position on the billboards for that particular year.\n",
    "\n",
    "\n",
    "* The Long-term Future of Hits from 2013\n",
    "  * filter is implemented by the \"Find a Track\" search which filters the listed songs, and the checked songs filter what appears in the visualization itself. This allows for a viewer to easily include the songs or artists of interest and plot their playcounts over time.\n",
    "  * select is implemented by the line label denoting the song being displayed to support a viewer's ability to see this information and focus on particular songs of interest."
   ]
  },
  {
   "cell_type": "markdown",
   "metadata": {
    "deletable": false,
    "editable": false,
    "nbgrader": {
     "cell_type": "markdown",
     "checksum": "1222d71eeecc9e6de8b9e5a3d1fed109",
     "grade": false,
     "grade_id": "cell-83c73ab445e1e812",
     "locked": true,
     "schema_version": 3,
     "solution": false
    }
   },
   "source": [
    "### 1.2  Critique (15 points)\n",
    "For one of the five visualizations, critique the use of interaction. What works well? What could be better? You can add your own images here if it helps."
   ]
  },
  {
   "cell_type": "markdown",
   "metadata": {},
   "source": [
    "In reviewing the final visualization, \"The Long-term Future of Hits from 2013\", the encoding is straightforward but both effective and expressive. Time is encoded as the x-position, indexed Spotify plays as the y-position, and color encodes each individual song. The filtering functionality allows for a viewer to quickly search for songs of interest to plot in the visualization. As part of this, the visualization can be limited to just the filtered songs of interest, which allows for quick comparisons between songs and for the viewer to have a lot of control over what the visualization expresses and how effective and uncluttered it is.\n",
    "\n",
    "In terms of improvements, while the visualization is both expressive and effective, the effectiveness can be improved. A tooltip-like functionality could be added to the visualization to denote the song name, the time period, and the indexed Spotify plays at a given point in the visualization. The x-axis is labelled quarterly and the y-axis has no tick marks which makes exact interpretations at a given point in time difficult. A tooltip encoding would assist greatly and fix this issue and allow for more accurate interpretations of the visualization. Additionally, as opposed to just including a long list of Artist - Song combinations, it likely would have been an enhancement to include some Elaborate interactive functionality. For example, a viewer could search by decade (50s, 60s, 70s, etc.), which would drill down into the artists of this time period and then could further drill into other categories like music type, etc. This would be a much easier way to work through the data and would allow the user more control and the ability to more quickly search and find the songs and artists of interest."
   ]
  },
  {
   "cell_type": "markdown",
   "metadata": {},
   "source": [
    "****"
   ]
  },
  {
   "cell_type": "markdown",
   "metadata": {
    "deletable": false,
    "editable": false,
    "nbgrader": {
     "cell_type": "markdown",
     "checksum": "bcd74cdb86c11d1a8b0e5954eaf5bd75",
     "grade": false,
     "grade_id": "cell-c97878b614df173d",
     "locked": true,
     "schema_version": 3,
     "solution": false
    }
   },
   "source": [
    "## Part 2. Programming exercise (70 points)\n",
    "\n",
    "Start by reading the 538 article [here](https://fivethirtyeight.com/features/women-in-comic-books/). What you should know is that there are two major comic book companies: DC (Batman, Superman, Wonder Woman, etc.) and Marvel (Black Widow, Iron Man, Hulk, etc.). \n",
    "\n",
    "We have a dataset of characters, their sex, when they were introduced, if their identify is secret, their eye and hair color, the number of appearances, etc. Lots of dimensions on which to build our visualizations."
   ]
  },
  {
   "cell_type": "code",
   "execution_count": 1,
   "metadata": {
    "code_folding": []
   },
   "outputs": [],
   "source": [
    "# start with the setup\n",
    "import pandas as pd\n",
    "import numpy as np\n",
    "import altair as alt"
   ]
  },
  {
   "cell_type": "code",
   "execution_count": 2,
   "metadata": {},
   "outputs": [
    {
     "data": {
      "text/plain": [
       "RendererRegistry.enable('default')"
      ]
     },
     "execution_count": 2,
     "metadata": {},
     "output_type": "execute_result"
    }
   ],
   "source": [
    "# enable correct rendering\n",
    "alt.renderers.enable('default')"
   ]
  },
  {
   "cell_type": "code",
   "execution_count": 3,
   "metadata": {},
   "outputs": [
    {
     "data": {
      "text/plain": [
       "ThemeRegistry.enable('fivethirtyeight')"
      ]
     },
     "execution_count": 3,
     "metadata": {},
     "output_type": "execute_result"
    }
   ],
   "source": [
    "# uses intermediate json files to speed things up\n",
    "alt.data_transformers.enable('json')\n",
    "\n",
    "# use the 538 theme\n",
    "alt.themes.enable('fivethirtyeight')"
   ]
  },
  {
   "cell_type": "code",
   "execution_count": 4,
   "metadata": {},
   "outputs": [],
   "source": [
    "def createComicFrame(DCDataFile='assets/dc-wikia-data.csv',marvelDatafile='assets/marvel-wikia-data.csv'):\n",
    "    # load up the two datasets, one for Marvel and one for DC\n",
    "    dc = pd.read_csv(DCDataFile)\n",
    "    marvel = pd.read_csv(marvelDatafile)\n",
    "    \n",
    "    # label the publisher\n",
    "    dc['publisher'] = 'DC'\n",
    "    marvel['publisher'] = 'Marvel'\n",
    "    \n",
    "    # rename some columns\n",
    "    marvel.rename(columns={'Year': 'YEAR'}, inplace=True)\n",
    "    \n",
    "    # create the concatenated table with everything\n",
    "    comic = pd.concat([dc, marvel])\n",
    "    \n",
    "    # drop years with na values\n",
    "    comic.dropna(subset=['YEAR'], inplace=True)\n",
    "    \n",
    "    return(comic)"
   ]
  },
  {
   "cell_type": "code",
   "execution_count": 5,
   "metadata": {},
   "outputs": [],
   "source": [
    "# let's get the comic data:\n",
    "\n",
    "comic = createComicFrame()"
   ]
  },
  {
   "cell_type": "code",
   "execution_count": 6,
   "metadata": {},
   "outputs": [
    {
     "data": {
      "text/html": [
       "<div>\n",
       "<style scoped>\n",
       "    .dataframe tbody tr th:only-of-type {\n",
       "        vertical-align: middle;\n",
       "    }\n",
       "\n",
       "    .dataframe tbody tr th {\n",
       "        vertical-align: top;\n",
       "    }\n",
       "\n",
       "    .dataframe thead th {\n",
       "        text-align: right;\n",
       "    }\n",
       "</style>\n",
       "<table border=\"1\" class=\"dataframe\">\n",
       "  <thead>\n",
       "    <tr style=\"text-align: right;\">\n",
       "      <th></th>\n",
       "      <th>page_id</th>\n",
       "      <th>name</th>\n",
       "      <th>urlslug</th>\n",
       "      <th>ID</th>\n",
       "      <th>ALIGN</th>\n",
       "      <th>EYE</th>\n",
       "      <th>HAIR</th>\n",
       "      <th>SEX</th>\n",
       "      <th>GSM</th>\n",
       "      <th>ALIVE</th>\n",
       "      <th>APPEARANCES</th>\n",
       "      <th>FIRST APPEARANCE</th>\n",
       "      <th>YEAR</th>\n",
       "      <th>publisher</th>\n",
       "    </tr>\n",
       "  </thead>\n",
       "  <tbody>\n",
       "    <tr>\n",
       "      <th>16163</th>\n",
       "      <td>522132</td>\n",
       "      <td>Rot's Creations (Earth-616)</td>\n",
       "      <td>\\/Rot%27s_Creations_(Earth-616)</td>\n",
       "      <td>NaN</td>\n",
       "      <td>Bad Characters</td>\n",
       "      <td>NaN</td>\n",
       "      <td>No Hair</td>\n",
       "      <td>NaN</td>\n",
       "      <td>NaN</td>\n",
       "      <td>Living Characters</td>\n",
       "      <td>NaN</td>\n",
       "      <td>Jun-12</td>\n",
       "      <td>2012.0</td>\n",
       "      <td>Marvel</td>\n",
       "    </tr>\n",
       "    <tr>\n",
       "      <th>3561</th>\n",
       "      <td>1200</td>\n",
       "      <td>Amanda Mueller (Earth-616)</td>\n",
       "      <td>\\/Amanda_Mueller_(Earth-616)</td>\n",
       "      <td>Secret Identity</td>\n",
       "      <td>Bad Characters</td>\n",
       "      <td>Brown Eyes</td>\n",
       "      <td>White Hair</td>\n",
       "      <td>Female Characters</td>\n",
       "      <td>NaN</td>\n",
       "      <td>Deceased Characters</td>\n",
       "      <td>9.0</td>\n",
       "      <td>Feb-00</td>\n",
       "      <td>2000.0</td>\n",
       "      <td>Marvel</td>\n",
       "    </tr>\n",
       "    <tr>\n",
       "      <th>4204</th>\n",
       "      <td>85958</td>\n",
       "      <td>Jefferson Skeevers (New Earth)</td>\n",
       "      <td>\\/wiki\\/Jefferson_Skeevers_(New_Earth)</td>\n",
       "      <td>Public Identity</td>\n",
       "      <td>Bad Characters</td>\n",
       "      <td>Brown Eyes</td>\n",
       "      <td>Black Hair</td>\n",
       "      <td>Male Characters</td>\n",
       "      <td>NaN</td>\n",
       "      <td>Living Characters</td>\n",
       "      <td>4.0</td>\n",
       "      <td>1987, March</td>\n",
       "      <td>1987.0</td>\n",
       "      <td>DC</td>\n",
       "    </tr>\n",
       "    <tr>\n",
       "      <th>7471</th>\n",
       "      <td>284330</td>\n",
       "      <td>Harry Palmer (Earth-616)</td>\n",
       "      <td>\\/Harry_Palmer_(Earth-616)</td>\n",
       "      <td>NaN</td>\n",
       "      <td>Bad Characters</td>\n",
       "      <td>NaN</td>\n",
       "      <td>Blond Hair</td>\n",
       "      <td>Male Characters</td>\n",
       "      <td>NaN</td>\n",
       "      <td>Deceased Characters</td>\n",
       "      <td>3.0</td>\n",
       "      <td>Aug-88</td>\n",
       "      <td>1988.0</td>\n",
       "      <td>Marvel</td>\n",
       "    </tr>\n",
       "    <tr>\n",
       "      <th>15532</th>\n",
       "      <td>62353</td>\n",
       "      <td>Juliette D'Angelo (Earth-616)</td>\n",
       "      <td>\\/Juliette_D%27Angelo_(Earth-616)</td>\n",
       "      <td>NaN</td>\n",
       "      <td>NaN</td>\n",
       "      <td>NaN</td>\n",
       "      <td>NaN</td>\n",
       "      <td>Female Characters</td>\n",
       "      <td>NaN</td>\n",
       "      <td>Living Characters</td>\n",
       "      <td>NaN</td>\n",
       "      <td>Dec-81</td>\n",
       "      <td>1981.0</td>\n",
       "      <td>Marvel</td>\n",
       "    </tr>\n",
       "  </tbody>\n",
       "</table>\n",
       "</div>"
      ],
      "text/plain": [
       "       page_id                            name  \\\n",
       "16163   522132     Rot's Creations (Earth-616)   \n",
       "3561      1200      Amanda Mueller (Earth-616)   \n",
       "4204     85958  Jefferson Skeevers (New Earth)   \n",
       "7471    284330        Harry Palmer (Earth-616)   \n",
       "15532    62353   Juliette D'Angelo (Earth-616)   \n",
       "\n",
       "                                      urlslug               ID  \\\n",
       "16163         \\/Rot%27s_Creations_(Earth-616)              NaN   \n",
       "3561             \\/Amanda_Mueller_(Earth-616)  Secret Identity   \n",
       "4204   \\/wiki\\/Jefferson_Skeevers_(New_Earth)  Public Identity   \n",
       "7471               \\/Harry_Palmer_(Earth-616)              NaN   \n",
       "15532       \\/Juliette_D%27Angelo_(Earth-616)              NaN   \n",
       "\n",
       "                ALIGN         EYE        HAIR                SEX  GSM  \\\n",
       "16163  Bad Characters         NaN     No Hair                NaN  NaN   \n",
       "3561   Bad Characters  Brown Eyes  White Hair  Female Characters  NaN   \n",
       "4204   Bad Characters  Brown Eyes  Black Hair    Male Characters  NaN   \n",
       "7471   Bad Characters         NaN  Blond Hair    Male Characters  NaN   \n",
       "15532             NaN         NaN         NaN  Female Characters  NaN   \n",
       "\n",
       "                     ALIVE  APPEARANCES FIRST APPEARANCE    YEAR publisher  \n",
       "16163    Living Characters          NaN           Jun-12  2012.0    Marvel  \n",
       "3561   Deceased Characters          9.0           Feb-00  2000.0    Marvel  \n",
       "4204     Living Characters          4.0      1987, March  1987.0        DC  \n",
       "7471   Deceased Characters          3.0           Aug-88  1988.0    Marvel  \n",
       "15532    Living Characters          NaN           Dec-81  1981.0    Marvel  "
      ]
     },
     "execution_count": 6,
     "metadata": {},
     "output_type": "execute_result"
    }
   ],
   "source": [
    "# let's look inside\n",
    "comic.sample(5)\n",
    "\n",
    "# this next line sub-samples the data if you want to experiment with \n",
    "# a smaller dataset. This should only be used for testing. and should \n",
    "# be commented back in after (otherwise your results won't match the \n",
    "# images)\n",
    "# comic = comic[comic.index % 5 == 0]"
   ]
  },
  {
   "cell_type": "markdown",
   "metadata": {
    "deletable": false,
    "editable": false,
    "nbgrader": {
     "cell_type": "markdown",
     "checksum": "7f0a62eefdc09fc086938a08465306fc",
     "grade": false,
     "grade_id": "cell-e32f6926ac8ae847",
     "locked": true,
     "schema_version": 3,
     "solution": false
    }
   },
   "source": [
    "# Comic Books Are Still Made By Men, For Men And About Men"
   ]
  },
  {
   "cell_type": "markdown",
   "metadata": {
    "deletable": false,
    "editable": false,
    "nbgrader": {
     "cell_type": "markdown",
     "checksum": "e012cd9de614f9f8d0113998c62534df",
     "grade": false,
     "grade_id": "cell-e0e6292a77fde238",
     "locked": true,
     "schema_version": 3,
     "solution": false
    }
   },
   "source": [
    "_Original article available at [FiveThirtyEight](https://fivethirtyeight.com/features/women-in-comic-books/)_\n",
    "\n",
    "By [Walt Hickey](https://fivethirtyeight.com/contributors/walt-hickey/)\n",
    "\n",
    "Get the data on [GitHub](https://github.com/fivethirtyeight/data/tree/master/comic-characters)"
   ]
  },
  {
   "cell_type": "markdown",
   "metadata": {
    "deletable": false,
    "editable": false,
    "nbgrader": {
     "cell_type": "markdown",
     "checksum": "536052877121b0f8e2163cc40353f2ab",
     "grade": false,
     "grade_id": "cell-ade4a868ef5175a9",
     "locked": true,
     "schema_version": 3,
     "solution": false
    }
   },
   "source": [
    "We are going to be revising and adding to the visualizations for this article. While they're nice, we think we can do better by adding some interactivity.\n",
    "\n",
    "Because many of these visualizations are interactive, we will be recording short clips to demonstrate the desired behavior of the systems. Unlike some of your previous assignments, we will give you portions of the Altair code and ask you to complete the interactive elements."
   ]
  },
  {
   "cell_type": "markdown",
   "metadata": {
    "deletable": false,
    "editable": false,
    "nbgrader": {
     "cell_type": "markdown",
     "checksum": "bd044901041cb76b7fb5efbbdf68e112",
     "grade": false,
     "grade_id": "cell-61c22cab74bb5cba",
     "locked": true,
     "schema_version": 3,
     "solution": false
    }
   },
   "source": [
    "## Problem 2.1 (35 Points)\n",
    "\n",
    "We'd like to build an interactive visualization that allows us to compare the distributions of characters over time as well. The top two charts will represent the total characters over time (as bar charts). The bottom two will be a line chart with separate lines for female and male characters.  \n",
    "\n",
    "![\"example for 4 chart](assets/4chart_example.gif)\n",
    "\n",
    "As ranges are selected or moved in the top charts, the bottom charts will automatically update (and the selection will be visible). Selection in one of the top two will also cause the appropriate data to be selected in the other (i.e., select on the left, and the right gets changed (highlighting); select on the right, and the left changes).\n",
    "\n",
    "You can watch a narrated version of the visualization [here](https://www.youtube.com/watch?v=NKCk97yBlJM)"
   ]
  },
  {
   "cell_type": "code",
   "execution_count": 7,
   "metadata": {},
   "outputs": [],
   "source": [
    "def genStaticBars(comicDF):\n",
    "    # input: comicDF -- dataframe of characters as described above (e.g., comic)\n",
    "    # return: a static version of the visualization pieces described above\n",
    "    \n",
    "    # we're going to generate the 2 visualizations at once to make things concise, but you might break this up\n",
    "    # into sub-functions in a different implementation\n",
    "    \n",
    "    # we're largely going to use the same \"base\" visualization here for the bar. We can start with a bar\n",
    "    # chart and then change the details. The Y axis will be the count()\n",
    "    p1_bar_base = alt.Chart(comicDF).mark_bar(size=2.5).encode( \n",
    "        alt.Y('count():Q', \n",
    "              axis=alt.Axis(values=[0, 100, 200, 300, 400, 500], \n",
    "                            title=None,\n",
    "                            labelFontWeight=\"bold\",\n",
    "                            labelFontSize=15),\n",
    "              scale=alt.Scale(domain=[0, 500]))).properties(\n",
    "                     width=240,\n",
    "                     height=300\n",
    "    )\n",
    "\n",
    "\n",
    "\n",
    "    # let's create the bar chart for DC. We'll take the \"base\" chart\n",
    "    bar_dc = p1_bar_base.encode(alt.X('YEAR:N',  # create the X axis based on year and fix the look of the axes\n",
    "                                   axis=alt.Axis(values=[1940, 1960, 1980, 2000], labels=True, ticks=False,grid=True,\n",
    "                                                 title=\"DC, New Earth continuity\",\n",
    "                                                 titlePadding=-347, \n",
    "                                                 labelAngle=360,\n",
    "                                                 labelFontWeight=\"bold\",\n",
    "                                                 labelFontSize=15,)),\n",
    "            ).transform_filter(\n",
    "                # we will use Altair's filter to only keep DC for this chart\n",
    "                alt.datum.publisher == 'DC'\n",
    "            )\n",
    "\n",
    "    # let's do the same thing for marvel\n",
    "    bar_marvel = p1_bar_base.mark_bar(color='#f6573f').encode(alt.X('YEAR:N', # create the X axis based on year \n",
    "                                # fix the look of the axes\n",
    "                               axis=alt.Axis(values=[1940, 1960, 1980, 2000], labels=True, ticks=False,grid=True,\n",
    "                                             title=\"Marvel, Earth-616 continuity\",\n",
    "                                             titlePadding=-347,\n",
    "                                             labelAngle=360,\n",
    "                                             labelFontWeight=\"bold\",\n",
    "                                             labelFontSize=15)),\n",
    "            ).transform_filter(\n",
    "                # we will use Altair's filter to only keep DC for this chart\n",
    "                alt.datum.publisher == 'Marvel'\n",
    "            )\n",
    "    \n",
    "    return(bar_dc,bar_marvel)"
   ]
  },
  {
   "cell_type": "code",
   "execution_count": 8,
   "metadata": {},
   "outputs": [],
   "source": [
    "def genStaticLines(comicDF):\n",
    "    # input: comicDF -- dataframe of characters as described above (e.g., comic)\n",
    "    # return: a static version of the visualization pieces described above\n",
    "    \n",
    "    # we're going to generate the 2 visualizations at once to make things concise, but you might break this up\n",
    "    # into sub-functions in a different implementation\n",
    "    \n",
    "    # let's create a new \"base\" chart for the two line charts. We'll take the bar chart base above\n",
    "    # and modify it to use a line chart\n",
    "    \n",
    "    p1_line_base = alt.Chart(comicDF).mark_line().encode( \n",
    "         # the X axis will be year\n",
    "         alt.X('YEAR:N'),\n",
    "         # the Y axis will be the count (the number of points that year)\n",
    "         alt.Y('count():Q', axis=alt.Axis(grid=False, \n",
    "                                        labelFontWeight=\"bold\",\n",
    "                                        labelFontSize=15, \n",
    "                                        title=None)),\n",
    "         # let's split the data and color by SEX\n",
    "         alt.Color('SEX', \n",
    "                  scale = alt.Scale(domain=['Female Characters', 'Male Characters'], range=['#31a354', '#ce6dbd']),\n",
    "                  legend=alt.Legend(orient=\"bottom\"))\n",
    "        ).properties(\n",
    "                    width=240, height=80\n",
    "         )\n",
    "\n",
    "\n",
    "    line_dc = p1_line_base.encode(alt.X('YEAR:N',\n",
    "                                           axis=alt.Axis(values=[1940, 1960, 1980, 2000], \n",
    "                                                                  grid=True, \n",
    "                                                                  labelAngle=360,\n",
    "                                                                  labelFontWeight=\"bold\",\n",
    "                                                                  labelFontSize=15,\n",
    "                                                                  title = 'Dc, Female and Male characters over time',\n",
    "                                                                  titlePadding=-130,\n",
    "                                                                  titleFontSize = 12\n",
    "                                                                 )\n",
    "                                          )\n",
    "                ).transform_filter(\n",
    "                    # this is the DC line chart, so we only want DC\n",
    "                    alt.datum.publisher == 'DC'\n",
    "                )\n",
    "\n",
    "\n",
    "\n",
    "    line_marvel = p1_line_base.encode(alt.X('YEAR:N', \n",
    "                                        axis=alt.Axis(values=[1940, 1960, 1980, 2000], \n",
    "                                                              grid=True, \n",
    "                                                              labelAngle=360,\n",
    "                                                              labelFontWeight=\"bold\",\n",
    "                                                              labelFontSize=15,\n",
    "                                                              title = 'Marvel, Female and Male characters over time',\n",
    "                                                              titlePadding=-130,\n",
    "                                                              titleFontSize = 12\n",
    "                                                             )\n",
    "                                        )\n",
    "                ).transform_filter(\n",
    "                    # this is the Marvel line chart, so we only want Marvel\n",
    "                    alt.datum.publisher == 'Marvel'\n",
    "                )\n",
    "\n",
    "\n",
    "\n",
    "    return(line_dc,line_marvel)"
   ]
  },
  {
   "cell_type": "code",
   "execution_count": 9,
   "metadata": {},
   "outputs": [],
   "source": [
    "# we're going to get all the little subpiece visualizations\n",
    "\n",
    "# the top two bar charts\n",
    "bar_dc, bar_marvel = genStaticBars(comic)\n",
    "\n",
    "# and the bottom two line charts\n",
    "line_dc, line_marvel = genStaticLines(comic)"
   ]
  },
  {
   "cell_type": "code",
   "execution_count": 10,
   "metadata": {},
   "outputs": [],
   "source": [
    "# let's make a function that puts it all together\n",
    "def genIntroVis(b_dc, b_marvel, l_dc, l_marvel):\n",
    "    # let's put everything together\n",
    "    \n",
    "    # top piece \n",
    "    top_charts = alt.hconcat(b_dc,b_marvel).resolve_scale(y='shared'\n",
    "               ).properties(\n",
    "                        title='New Comic Book Characters Introduced Per Year'\n",
    "               )\n",
    "\n",
    "    # bottom piece\n",
    "    bottom_charts = alt.hconcat(l_dc,l_marvel).resolve_scale(y='shared')\n",
    "\n",
    "    return alt.vconcat(top_charts,bottom_charts).configure_view(\n",
    "        strokeWidth=0\n",
    "    )"
   ]
  },
  {
   "cell_type": "code",
   "execution_count": 11,
   "metadata": {},
   "outputs": [
    {
     "data": {
      "text/html": [
       "\n",
       "<div id=\"altair-viz-c3cd1cc3fb9c480997fb17e5c871236b\"></div>\n",
       "<script type=\"text/javascript\">\n",
       "  var VEGA_DEBUG = (typeof VEGA_DEBUG == \"undefined\") ? {} : VEGA_DEBUG;\n",
       "  (function(spec, embedOpt){\n",
       "    let outputDiv = document.currentScript.previousElementSibling;\n",
       "    if (outputDiv.id !== \"altair-viz-c3cd1cc3fb9c480997fb17e5c871236b\") {\n",
       "      outputDiv = document.getElementById(\"altair-viz-c3cd1cc3fb9c480997fb17e5c871236b\");\n",
       "    }\n",
       "    const paths = {\n",
       "      \"vega\": \"https://cdn.jsdelivr.net/npm//vega@5?noext\",\n",
       "      \"vega-lib\": \"https://cdn.jsdelivr.net/npm//vega-lib?noext\",\n",
       "      \"vega-lite\": \"https://cdn.jsdelivr.net/npm//vega-lite@4.17.0?noext\",\n",
       "      \"vega-embed\": \"https://cdn.jsdelivr.net/npm//vega-embed@6?noext\",\n",
       "    };\n",
       "\n",
       "    function maybeLoadScript(lib, version) {\n",
       "      var key = `${lib.replace(\"-\", \"\")}_version`;\n",
       "      return (VEGA_DEBUG[key] == version) ?\n",
       "        Promise.resolve(paths[lib]) :\n",
       "        new Promise(function(resolve, reject) {\n",
       "          var s = document.createElement('script');\n",
       "          document.getElementsByTagName(\"head\")[0].appendChild(s);\n",
       "          s.async = true;\n",
       "          s.onload = () => {\n",
       "            VEGA_DEBUG[key] = version;\n",
       "            return resolve(paths[lib]);\n",
       "          };\n",
       "          s.onerror = () => reject(`Error loading script: ${paths[lib]}`);\n",
       "          s.src = paths[lib];\n",
       "        });\n",
       "    }\n",
       "\n",
       "    function showError(err) {\n",
       "      outputDiv.innerHTML = `<div class=\"error\" style=\"color:red;\">${err}</div>`;\n",
       "      throw err;\n",
       "    }\n",
       "\n",
       "    function displayChart(vegaEmbed) {\n",
       "      vegaEmbed(outputDiv, spec, embedOpt)\n",
       "        .catch(err => showError(`Javascript Error: ${err.message}<br>This usually means there's a typo in your chart specification. See the javascript console for the full traceback.`));\n",
       "    }\n",
       "\n",
       "    if(typeof define === \"function\" && define.amd) {\n",
       "      requirejs.config({paths});\n",
       "      require([\"vega-embed\"], displayChart, err => showError(`Error loading script: ${err.message}`));\n",
       "    } else {\n",
       "      maybeLoadScript(\"vega\", \"5\")\n",
       "        .then(() => maybeLoadScript(\"vega-lite\", \"4.17.0\"))\n",
       "        .then(() => maybeLoadScript(\"vega-embed\", \"6\"))\n",
       "        .catch(showError)\n",
       "        .then(() => displayChart(vegaEmbed));\n",
       "    }\n",
       "  })({\"usermeta\": {\"embedOptions\": {\"theme\": \"fivethirtyeight\"}}, \"config\": {\"view\": {\"continuousWidth\": 400, \"continuousHeight\": 300, \"strokeWidth\": 0}}, \"vconcat\": [{\"hconcat\": [{\"mark\": {\"type\": \"bar\", \"size\": 2.5}, \"encoding\": {\"x\": {\"axis\": {\"grid\": true, \"labelAngle\": 360, \"labelFontSize\": 15, \"labelFontWeight\": \"bold\", \"labels\": true, \"ticks\": false, \"title\": \"DC, New Earth continuity\", \"titlePadding\": -347, \"values\": [1940, 1960, 1980, 2000]}, \"field\": \"YEAR\", \"type\": \"nominal\"}, \"y\": {\"aggregate\": \"count\", \"axis\": {\"labelFontSize\": 15, \"labelFontWeight\": \"bold\", \"title\": null, \"values\": [0, 100, 200, 300, 400, 500]}, \"scale\": {\"domain\": [0, 500]}, \"type\": \"quantitative\"}}, \"height\": 300, \"transform\": [{\"filter\": \"(datum.publisher === 'DC')\"}], \"width\": 240}, {\"mark\": {\"type\": \"bar\", \"color\": \"#f6573f\"}, \"encoding\": {\"x\": {\"axis\": {\"grid\": true, \"labelAngle\": 360, \"labelFontSize\": 15, \"labelFontWeight\": \"bold\", \"labels\": true, \"ticks\": false, \"title\": \"Marvel, Earth-616 continuity\", \"titlePadding\": -347, \"values\": [1940, 1960, 1980, 2000]}, \"field\": \"YEAR\", \"type\": \"nominal\"}, \"y\": {\"aggregate\": \"count\", \"axis\": {\"labelFontSize\": 15, \"labelFontWeight\": \"bold\", \"title\": null, \"values\": [0, 100, 200, 300, 400, 500]}, \"scale\": {\"domain\": [0, 500]}, \"type\": \"quantitative\"}}, \"height\": 300, \"transform\": [{\"filter\": \"(datum.publisher === 'Marvel')\"}], \"width\": 240}], \"resolve\": {\"scale\": {\"y\": \"shared\"}}, \"title\": \"New Comic Book Characters Introduced Per Year\"}, {\"hconcat\": [{\"mark\": \"line\", \"encoding\": {\"color\": {\"field\": \"SEX\", \"legend\": {\"orient\": \"bottom\"}, \"scale\": {\"domain\": [\"Female Characters\", \"Male Characters\"], \"range\": [\"#31a354\", \"#ce6dbd\"]}, \"type\": \"nominal\"}, \"x\": {\"axis\": {\"grid\": true, \"labelAngle\": 360, \"labelFontSize\": 15, \"labelFontWeight\": \"bold\", \"title\": \"Dc, Female and Male characters over time\", \"titleFontSize\": 12, \"titlePadding\": -130, \"values\": [1940, 1960, 1980, 2000]}, \"field\": \"YEAR\", \"type\": \"nominal\"}, \"y\": {\"aggregate\": \"count\", \"axis\": {\"grid\": false, \"labelFontSize\": 15, \"labelFontWeight\": \"bold\", \"title\": null}, \"type\": \"quantitative\"}}, \"height\": 80, \"transform\": [{\"filter\": \"(datum.publisher === 'DC')\"}], \"width\": 240}, {\"mark\": \"line\", \"encoding\": {\"color\": {\"field\": \"SEX\", \"legend\": {\"orient\": \"bottom\"}, \"scale\": {\"domain\": [\"Female Characters\", \"Male Characters\"], \"range\": [\"#31a354\", \"#ce6dbd\"]}, \"type\": \"nominal\"}, \"x\": {\"axis\": {\"grid\": true, \"labelAngle\": 360, \"labelFontSize\": 15, \"labelFontWeight\": \"bold\", \"title\": \"Marvel, Female and Male characters over time\", \"titleFontSize\": 12, \"titlePadding\": -130, \"values\": [1940, 1960, 1980, 2000]}, \"field\": \"YEAR\", \"type\": \"nominal\"}, \"y\": {\"aggregate\": \"count\", \"axis\": {\"grid\": false, \"labelFontSize\": 15, \"labelFontWeight\": \"bold\", \"title\": null}, \"type\": \"quantitative\"}}, \"height\": 80, \"transform\": [{\"filter\": \"(datum.publisher === 'Marvel')\"}], \"width\": 240}], \"resolve\": {\"scale\": {\"y\": \"shared\"}}}], \"data\": {\"url\": \"altair-data-fb3f5fa205f4481ca029c6794db6019c.json\", \"format\": {\"type\": \"json\"}}, \"$schema\": \"https://vega.github.io/schema/vega-lite/v4.17.0.json\"}, {\"mode\": \"vega-lite\"});\n",
       "</script>"
      ],
      "text/plain": [
       "alt.VConcatChart(...)"
      ]
     },
     "execution_count": 11,
     "metadata": {},
     "output_type": "execute_result"
    }
   ],
   "source": [
    "# and now that we have them, let's put them together\n",
    "genIntroVis(bar_dc, bar_marvel, line_dc, line_marvel)"
   ]
  },
  {
   "cell_type": "markdown",
   "metadata": {
    "deletable": false,
    "editable": false,
    "nbgrader": {
     "cell_type": "markdown",
     "checksum": "b527d97d186ddf8d29fc269f11f77dc0",
     "grade": false,
     "grade_id": "cell-cf374dcf5751568d",
     "locked": true,
     "schema_version": 3,
     "solution": false
    }
   },
   "source": [
    "Now we have the chart we need, but here is where you have to start doing some work. For this problem, we'll do this a little bit at a time."
   ]
  },
  {
   "cell_type": "markdown",
   "metadata": {
    "deletable": false,
    "editable": false,
    "nbgrader": {
     "cell_type": "markdown",
     "checksum": "6c584482fa8668fc8d1f070295cdd468",
     "grade": false,
     "grade_id": "cell-568e8f5cce3e7d4d",
     "locked": true,
     "schema_version": 3,
     "solution": false
    }
   },
   "source": [
    "### Problem 2.1.1 \n",
    "\n",
    "First, modify the code below to create a \"brush\" object (a \"selection\" in Altair speak) that will let us select a time range. For all these, you should take a look at the examples on [this page](https://altair-viz.github.io/user_guide/interactions.html) to identify the right (and the lab)."
   ]
  },
  {
   "cell_type": "code",
   "execution_count": 12,
   "metadata": {
    "deletable": false,
    "nbgrader": {
     "cell_type": "code",
     "checksum": "4d8b3db3cfa9512f3d7f8824ce6e24c6",
     "grade": true,
     "grade_id": "cell-ecefd1b67db28a1f",
     "locked": false,
     "points": 0,
     "schema_version": 3,
     "solution": true
    }
   },
   "outputs": [],
   "source": [
    "# modify this cell to create the brush object\n",
    "brush = alt.selection_interval(encodings=['x'])\n",
    "\n",
    "#raise NotImplementedError()"
   ]
  },
  {
   "cell_type": "markdown",
   "metadata": {
    "deletable": false,
    "editable": false,
    "nbgrader": {
     "cell_type": "markdown",
     "checksum": "3be49bc6023e7f3578ef45c29a5e211d",
     "grade": false,
     "grade_id": "cell-335d0664afb064a1",
     "locked": true,
     "schema_version": 3,
     "solution": false
    }
   },
   "source": [
    "### Problem 2.1.2 \n",
    "\n",
    "The next step is to create the condition for the DC chart. Look at the documentation for the condition. We specifically want things selected by the \"brush\" object to stay the same color (#2182bd) and the unselected content to turn gray."
   ]
  },
  {
   "cell_type": "code",
   "execution_count": 13,
   "metadata": {
    "deletable": false,
    "nbgrader": {
     "cell_type": "code",
     "checksum": "a6c157d8cfb9c6348a91dfdaf02b0115",
     "grade": true,
     "grade_id": "cell-738ecb3e04f17ae1",
     "locked": false,
     "points": 0,
     "schema_version": 3,
     "solution": true
    }
   },
   "outputs": [],
   "source": [
    "# modify this cell to create the brush object\n",
    "colorConditionDC = alt.condition(brush, alt.value('#2182bd'),alt.value('gray'))\n",
    "\n",
    "#raise NotImplementedError()\n"
   ]
  },
  {
   "cell_type": "markdown",
   "metadata": {
    "deletable": false,
    "editable": false,
    "nbgrader": {
     "cell_type": "markdown",
     "checksum": "09940c36a06497e7d203b9c29ba68ceb",
     "grade": false,
     "grade_id": "cell-deae8cf0434f77c4",
     "locked": true,
     "schema_version": 3,
     "solution": false
    }
   },
   "source": [
    "### Problem 2.1.3\n",
    "\n",
    "Finally, we need to add both the condition and selection to the ```bar_dc``` chart. We'll call this new chart ```i_bar_dc``` (i for interactive). Remember that you can \"override\" or modify a chart by simply taking the original chart and adding an encode or some other function to it.  For example the line:\n",
    "\n",
    "```i_bar_dc = bar_dc.encode(color = 'TEST')```\n",
    "\n",
    "will take the original chart with all its original settings and make the color encoding based on the TEST column (which doesn't exist in this case). If there was a color encoding in ```bar_dc```, it will be overridden by TEST. If there wasn't one, it will be added."
   ]
  },
  {
   "cell_type": "code",
   "execution_count": 14,
   "metadata": {
    "deletable": false,
    "nbgrader": {
     "cell_type": "code",
     "checksum": "beba450b853d65e4fa6eda062e50cb37",
     "grade": true,
     "grade_id": "cell-583afd8f5835c173",
     "locked": false,
     "points": 0,
     "schema_version": 3,
     "solution": true
    }
   },
   "outputs": [],
   "source": [
    "# modify this cell to create the brush object\n",
    "i_bar_dc = bar_dc.add_selection(brush) \\\n",
    "                 .encode(color=colorConditionDC)\n",
    "\n",
    "#raise NotImplementedError()"
   ]
  },
  {
   "cell_type": "code",
   "execution_count": 15,
   "metadata": {},
   "outputs": [
    {
     "data": {
      "text/html": [
       "\n",
       "<div id=\"altair-viz-3b49972b3f65432ca235875e69bf374e\"></div>\n",
       "<script type=\"text/javascript\">\n",
       "  var VEGA_DEBUG = (typeof VEGA_DEBUG == \"undefined\") ? {} : VEGA_DEBUG;\n",
       "  (function(spec, embedOpt){\n",
       "    let outputDiv = document.currentScript.previousElementSibling;\n",
       "    if (outputDiv.id !== \"altair-viz-3b49972b3f65432ca235875e69bf374e\") {\n",
       "      outputDiv = document.getElementById(\"altair-viz-3b49972b3f65432ca235875e69bf374e\");\n",
       "    }\n",
       "    const paths = {\n",
       "      \"vega\": \"https://cdn.jsdelivr.net/npm//vega@5?noext\",\n",
       "      \"vega-lib\": \"https://cdn.jsdelivr.net/npm//vega-lib?noext\",\n",
       "      \"vega-lite\": \"https://cdn.jsdelivr.net/npm//vega-lite@4.17.0?noext\",\n",
       "      \"vega-embed\": \"https://cdn.jsdelivr.net/npm//vega-embed@6?noext\",\n",
       "    };\n",
       "\n",
       "    function maybeLoadScript(lib, version) {\n",
       "      var key = `${lib.replace(\"-\", \"\")}_version`;\n",
       "      return (VEGA_DEBUG[key] == version) ?\n",
       "        Promise.resolve(paths[lib]) :\n",
       "        new Promise(function(resolve, reject) {\n",
       "          var s = document.createElement('script');\n",
       "          document.getElementsByTagName(\"head\")[0].appendChild(s);\n",
       "          s.async = true;\n",
       "          s.onload = () => {\n",
       "            VEGA_DEBUG[key] = version;\n",
       "            return resolve(paths[lib]);\n",
       "          };\n",
       "          s.onerror = () => reject(`Error loading script: ${paths[lib]}`);\n",
       "          s.src = paths[lib];\n",
       "        });\n",
       "    }\n",
       "\n",
       "    function showError(err) {\n",
       "      outputDiv.innerHTML = `<div class=\"error\" style=\"color:red;\">${err}</div>`;\n",
       "      throw err;\n",
       "    }\n",
       "\n",
       "    function displayChart(vegaEmbed) {\n",
       "      vegaEmbed(outputDiv, spec, embedOpt)\n",
       "        .catch(err => showError(`Javascript Error: ${err.message}<br>This usually means there's a typo in your chart specification. See the javascript console for the full traceback.`));\n",
       "    }\n",
       "\n",
       "    if(typeof define === \"function\" && define.amd) {\n",
       "      requirejs.config({paths});\n",
       "      require([\"vega-embed\"], displayChart, err => showError(`Error loading script: ${err.message}`));\n",
       "    } else {\n",
       "      maybeLoadScript(\"vega\", \"5\")\n",
       "        .then(() => maybeLoadScript(\"vega-lite\", \"4.17.0\"))\n",
       "        .then(() => maybeLoadScript(\"vega-embed\", \"6\"))\n",
       "        .catch(showError)\n",
       "        .then(() => displayChart(vegaEmbed));\n",
       "    }\n",
       "  })({\"usermeta\": {\"embedOptions\": {\"theme\": \"fivethirtyeight\"}}, \"config\": {\"view\": {\"continuousWidth\": 400, \"continuousHeight\": 300}}, \"data\": {\"url\": \"altair-data-fb3f5fa205f4481ca029c6794db6019c.json\", \"format\": {\"type\": \"json\"}}, \"mark\": {\"type\": \"bar\", \"size\": 2.5}, \"encoding\": {\"color\": {\"condition\": {\"value\": \"#2182bd\", \"selection\": \"selector001\"}, \"value\": \"gray\"}, \"x\": {\"axis\": {\"grid\": true, \"labelAngle\": 360, \"labelFontSize\": 15, \"labelFontWeight\": \"bold\", \"labels\": true, \"ticks\": false, \"title\": \"DC, New Earth continuity\", \"titlePadding\": -347, \"values\": [1940, 1960, 1980, 2000]}, \"field\": \"YEAR\", \"type\": \"nominal\"}, \"y\": {\"aggregate\": \"count\", \"axis\": {\"labelFontSize\": 15, \"labelFontWeight\": \"bold\", \"title\": null, \"values\": [0, 100, 200, 300, 400, 500]}, \"scale\": {\"domain\": [0, 500]}, \"type\": \"quantitative\"}}, \"height\": 300, \"selection\": {\"selector001\": {\"type\": \"interval\", \"encodings\": [\"x\"]}}, \"transform\": [{\"filter\": \"(datum.publisher === 'DC')\"}], \"width\": 240, \"$schema\": \"https://vega.github.io/schema/vega-lite/v4.17.0.json\"}, {\"mode\": \"vega-lite\"});\n",
       "</script>"
      ],
      "text/plain": [
       "alt.Chart(...)"
      ]
     },
     "execution_count": 15,
     "metadata": {},
     "output_type": "execute_result"
    }
   ],
   "source": [
    "# if you did the last step correctly, you should be able to see the selection work for the DC bar chart\n",
    "i_bar_dc"
   ]
  },
  {
   "cell_type": "markdown",
   "metadata": {
    "deletable": false,
    "editable": false,
    "nbgrader": {
     "cell_type": "markdown",
     "checksum": "574794cea7c7ccc29a33eb7eb03bde72",
     "grade": false,
     "grade_id": "cell-8bd76682358ed8a4",
     "locked": true,
     "schema_version": 3,
     "solution": false
    }
   },
   "source": [
    "### Problem 2.1.4\n",
    "\n",
    "Do the same thing for the marvel chart. Create the color condition for marvel (selected should be #f6573f, unselected should be gray). Then add the brush and condition to the ```bar_marvel``` to create ```i_bar_marvel```"
   ]
  },
  {
   "cell_type": "code",
   "execution_count": 16,
   "metadata": {
    "deletable": false,
    "nbgrader": {
     "cell_type": "code",
     "checksum": "c333a6b310fb18ed1baf9ae45223cfd3",
     "grade": true,
     "grade_id": "cell-1d6b10c5e300593a",
     "locked": false,
     "points": 0,
     "schema_version": 3,
     "solution": true
    }
   },
   "outputs": [],
   "source": [
    "# modify the following two lines\n",
    "colorConditionMarvel = alt.condition(brush, alt.value('#f6573f'),alt.value('gray'))\n",
    "i_bar_marvel = bar_marvel.add_selection(brush) \\\n",
    "                         .encode(color=colorConditionMarvel)\n",
    "\n",
    "#raise NotImplementedError()"
   ]
  },
  {
   "cell_type": "code",
   "execution_count": 17,
   "metadata": {},
   "outputs": [
    {
     "data": {
      "text/html": [
       "\n",
       "<div id=\"altair-viz-3df7293ec034462ab1745afec3247c93\"></div>\n",
       "<script type=\"text/javascript\">\n",
       "  var VEGA_DEBUG = (typeof VEGA_DEBUG == \"undefined\") ? {} : VEGA_DEBUG;\n",
       "  (function(spec, embedOpt){\n",
       "    let outputDiv = document.currentScript.previousElementSibling;\n",
       "    if (outputDiv.id !== \"altair-viz-3df7293ec034462ab1745afec3247c93\") {\n",
       "      outputDiv = document.getElementById(\"altair-viz-3df7293ec034462ab1745afec3247c93\");\n",
       "    }\n",
       "    const paths = {\n",
       "      \"vega\": \"https://cdn.jsdelivr.net/npm//vega@5?noext\",\n",
       "      \"vega-lib\": \"https://cdn.jsdelivr.net/npm//vega-lib?noext\",\n",
       "      \"vega-lite\": \"https://cdn.jsdelivr.net/npm//vega-lite@4.17.0?noext\",\n",
       "      \"vega-embed\": \"https://cdn.jsdelivr.net/npm//vega-embed@6?noext\",\n",
       "    };\n",
       "\n",
       "    function maybeLoadScript(lib, version) {\n",
       "      var key = `${lib.replace(\"-\", \"\")}_version`;\n",
       "      return (VEGA_DEBUG[key] == version) ?\n",
       "        Promise.resolve(paths[lib]) :\n",
       "        new Promise(function(resolve, reject) {\n",
       "          var s = document.createElement('script');\n",
       "          document.getElementsByTagName(\"head\")[0].appendChild(s);\n",
       "          s.async = true;\n",
       "          s.onload = () => {\n",
       "            VEGA_DEBUG[key] = version;\n",
       "            return resolve(paths[lib]);\n",
       "          };\n",
       "          s.onerror = () => reject(`Error loading script: ${paths[lib]}`);\n",
       "          s.src = paths[lib];\n",
       "        });\n",
       "    }\n",
       "\n",
       "    function showError(err) {\n",
       "      outputDiv.innerHTML = `<div class=\"error\" style=\"color:red;\">${err}</div>`;\n",
       "      throw err;\n",
       "    }\n",
       "\n",
       "    function displayChart(vegaEmbed) {\n",
       "      vegaEmbed(outputDiv, spec, embedOpt)\n",
       "        .catch(err => showError(`Javascript Error: ${err.message}<br>This usually means there's a typo in your chart specification. See the javascript console for the full traceback.`));\n",
       "    }\n",
       "\n",
       "    if(typeof define === \"function\" && define.amd) {\n",
       "      requirejs.config({paths});\n",
       "      require([\"vega-embed\"], displayChart, err => showError(`Error loading script: ${err.message}`));\n",
       "    } else {\n",
       "      maybeLoadScript(\"vega\", \"5\")\n",
       "        .then(() => maybeLoadScript(\"vega-lite\", \"4.17.0\"))\n",
       "        .then(() => maybeLoadScript(\"vega-embed\", \"6\"))\n",
       "        .catch(showError)\n",
       "        .then(() => displayChart(vegaEmbed));\n",
       "    }\n",
       "  })({\"usermeta\": {\"embedOptions\": {\"theme\": \"fivethirtyeight\"}}, \"config\": {\"view\": {\"continuousWidth\": 400, \"continuousHeight\": 300}}, \"hconcat\": [{\"mark\": {\"type\": \"bar\", \"size\": 2.5}, \"encoding\": {\"color\": {\"condition\": {\"value\": \"#2182bd\", \"selection\": \"selector001\"}, \"value\": \"gray\"}, \"x\": {\"axis\": {\"grid\": true, \"labelAngle\": 360, \"labelFontSize\": 15, \"labelFontWeight\": \"bold\", \"labels\": true, \"ticks\": false, \"title\": \"DC, New Earth continuity\", \"titlePadding\": -347, \"values\": [1940, 1960, 1980, 2000]}, \"field\": \"YEAR\", \"type\": \"nominal\"}, \"y\": {\"aggregate\": \"count\", \"axis\": {\"labelFontSize\": 15, \"labelFontWeight\": \"bold\", \"title\": null, \"values\": [0, 100, 200, 300, 400, 500]}, \"scale\": {\"domain\": [0, 500]}, \"type\": \"quantitative\"}}, \"height\": 300, \"selection\": {\"selector001\": {\"type\": \"interval\", \"encodings\": [\"x\"]}}, \"transform\": [{\"filter\": \"(datum.publisher === 'DC')\"}], \"width\": 240}, {\"mark\": {\"type\": \"bar\", \"color\": \"#f6573f\"}, \"encoding\": {\"color\": {\"condition\": {\"value\": \"#f6573f\", \"selection\": \"selector001\"}, \"value\": \"gray\"}, \"x\": {\"axis\": {\"grid\": true, \"labelAngle\": 360, \"labelFontSize\": 15, \"labelFontWeight\": \"bold\", \"labels\": true, \"ticks\": false, \"title\": \"Marvel, Earth-616 continuity\", \"titlePadding\": -347, \"values\": [1940, 1960, 1980, 2000]}, \"field\": \"YEAR\", \"type\": \"nominal\"}, \"y\": {\"aggregate\": \"count\", \"axis\": {\"labelFontSize\": 15, \"labelFontWeight\": \"bold\", \"title\": null, \"values\": [0, 100, 200, 300, 400, 500]}, \"scale\": {\"domain\": [0, 500]}, \"type\": \"quantitative\"}}, \"height\": 300, \"selection\": {\"selector001\": {\"type\": \"interval\", \"encodings\": [\"x\"]}}, \"transform\": [{\"filter\": \"(datum.publisher === 'Marvel')\"}], \"width\": 240}], \"data\": {\"url\": \"altair-data-fb3f5fa205f4481ca029c6794db6019c.json\", \"format\": {\"type\": \"json\"}}, \"resolve\": {\"scale\": {\"y\": \"shared\"}}, \"title\": \"New Comic Book Characters Introduced Per Year\", \"$schema\": \"https://vega.github.io/schema/vega-lite/v4.17.0.json\"}, {\"mode\": \"vega-lite\"});\n",
       "</script>"
      ],
      "text/plain": [
       "alt.HConcatChart(...)"
      ]
     },
     "execution_count": 17,
     "metadata": {},
     "output_type": "execute_result"
    }
   ],
   "source": [
    "# top piece \n",
    "top_charts = alt.hconcat(i_bar_dc,i_bar_marvel).resolve_scale(y='shared'\n",
    "           ).properties(\n",
    "                    title='New Comic Book Characters Introduced Per Year'\n",
    "           )\n",
    "\n",
    "# if you did the two bar charts correctly, you should now be able to interactively select\n",
    "# (and the selections should be linked)\n",
    "top_charts"
   ]
  },
  {
   "cell_type": "markdown",
   "metadata": {
    "deletable": false,
    "editable": false,
    "nbgrader": {
     "cell_type": "markdown",
     "checksum": "30da24222f130efd6ee03242b9f795c4",
     "grade": false,
     "grade_id": "cell-95f9846e45ecb48b",
     "locked": true,
     "schema_version": 3,
     "solution": false
    }
   },
   "source": [
    "### Problem 2.1.5\n",
    "\n",
    "The last step is to modify the two line charts. Again, you'll want to start with ```line_dc``` and ```line_marvel``` to create the new charts."
   ]
  },
  {
   "cell_type": "code",
   "execution_count": 18,
   "metadata": {
    "deletable": false,
    "nbgrader": {
     "cell_type": "code",
     "checksum": "e0c4c5a58e6f574d103fc20964418da3",
     "grade": true,
     "grade_id": "cell-06124043d0abbbf5",
     "locked": false,
     "points": 0,
     "schema_version": 3,
     "solution": true
    }
   },
   "outputs": [],
   "source": [
    "# modify the code below\n",
    "i_line_dc = line_dc.transform_filter(brush)\n",
    "i_line_marvel = line_marvel.transform_filter(brush)\n",
    "\n",
    "#raise NotImplementedError()"
   ]
  },
  {
   "cell_type": "code",
   "execution_count": 19,
   "metadata": {
    "scrolled": false
   },
   "outputs": [
    {
     "data": {
      "text/html": [
       "\n",
       "<div id=\"altair-viz-ca98d8a60c284f17ac527468837ff9ec\"></div>\n",
       "<script type=\"text/javascript\">\n",
       "  var VEGA_DEBUG = (typeof VEGA_DEBUG == \"undefined\") ? {} : VEGA_DEBUG;\n",
       "  (function(spec, embedOpt){\n",
       "    let outputDiv = document.currentScript.previousElementSibling;\n",
       "    if (outputDiv.id !== \"altair-viz-ca98d8a60c284f17ac527468837ff9ec\") {\n",
       "      outputDiv = document.getElementById(\"altair-viz-ca98d8a60c284f17ac527468837ff9ec\");\n",
       "    }\n",
       "    const paths = {\n",
       "      \"vega\": \"https://cdn.jsdelivr.net/npm//vega@5?noext\",\n",
       "      \"vega-lib\": \"https://cdn.jsdelivr.net/npm//vega-lib?noext\",\n",
       "      \"vega-lite\": \"https://cdn.jsdelivr.net/npm//vega-lite@4.17.0?noext\",\n",
       "      \"vega-embed\": \"https://cdn.jsdelivr.net/npm//vega-embed@6?noext\",\n",
       "    };\n",
       "\n",
       "    function maybeLoadScript(lib, version) {\n",
       "      var key = `${lib.replace(\"-\", \"\")}_version`;\n",
       "      return (VEGA_DEBUG[key] == version) ?\n",
       "        Promise.resolve(paths[lib]) :\n",
       "        new Promise(function(resolve, reject) {\n",
       "          var s = document.createElement('script');\n",
       "          document.getElementsByTagName(\"head\")[0].appendChild(s);\n",
       "          s.async = true;\n",
       "          s.onload = () => {\n",
       "            VEGA_DEBUG[key] = version;\n",
       "            return resolve(paths[lib]);\n",
       "          };\n",
       "          s.onerror = () => reject(`Error loading script: ${paths[lib]}`);\n",
       "          s.src = paths[lib];\n",
       "        });\n",
       "    }\n",
       "\n",
       "    function showError(err) {\n",
       "      outputDiv.innerHTML = `<div class=\"error\" style=\"color:red;\">${err}</div>`;\n",
       "      throw err;\n",
       "    }\n",
       "\n",
       "    function displayChart(vegaEmbed) {\n",
       "      vegaEmbed(outputDiv, spec, embedOpt)\n",
       "        .catch(err => showError(`Javascript Error: ${err.message}<br>This usually means there's a typo in your chart specification. See the javascript console for the full traceback.`));\n",
       "    }\n",
       "\n",
       "    if(typeof define === \"function\" && define.amd) {\n",
       "      requirejs.config({paths});\n",
       "      require([\"vega-embed\"], displayChart, err => showError(`Error loading script: ${err.message}`));\n",
       "    } else {\n",
       "      maybeLoadScript(\"vega\", \"5\")\n",
       "        .then(() => maybeLoadScript(\"vega-lite\", \"4.17.0\"))\n",
       "        .then(() => maybeLoadScript(\"vega-embed\", \"6\"))\n",
       "        .catch(showError)\n",
       "        .then(() => displayChart(vegaEmbed));\n",
       "    }\n",
       "  })({\"usermeta\": {\"embedOptions\": {\"theme\": \"fivethirtyeight\"}}, \"config\": {\"view\": {\"continuousWidth\": 400, \"continuousHeight\": 300, \"strokeWidth\": 0}}, \"vconcat\": [{\"hconcat\": [{\"mark\": {\"type\": \"bar\", \"size\": 2.5}, \"encoding\": {\"color\": {\"condition\": {\"value\": \"#2182bd\", \"selection\": \"selector001\"}, \"value\": \"gray\"}, \"x\": {\"axis\": {\"grid\": true, \"labelAngle\": 360, \"labelFontSize\": 15, \"labelFontWeight\": \"bold\", \"labels\": true, \"ticks\": false, \"title\": \"DC, New Earth continuity\", \"titlePadding\": -347, \"values\": [1940, 1960, 1980, 2000]}, \"field\": \"YEAR\", \"type\": \"nominal\"}, \"y\": {\"aggregate\": \"count\", \"axis\": {\"labelFontSize\": 15, \"labelFontWeight\": \"bold\", \"title\": null, \"values\": [0, 100, 200, 300, 400, 500]}, \"scale\": {\"domain\": [0, 500]}, \"type\": \"quantitative\"}}, \"height\": 300, \"selection\": {\"selector001\": {\"type\": \"interval\", \"encodings\": [\"x\"]}}, \"transform\": [{\"filter\": \"(datum.publisher === 'DC')\"}], \"width\": 240}, {\"mark\": {\"type\": \"bar\", \"color\": \"#f6573f\"}, \"encoding\": {\"color\": {\"condition\": {\"value\": \"#f6573f\", \"selection\": \"selector001\"}, \"value\": \"gray\"}, \"x\": {\"axis\": {\"grid\": true, \"labelAngle\": 360, \"labelFontSize\": 15, \"labelFontWeight\": \"bold\", \"labels\": true, \"ticks\": false, \"title\": \"Marvel, Earth-616 continuity\", \"titlePadding\": -347, \"values\": [1940, 1960, 1980, 2000]}, \"field\": \"YEAR\", \"type\": \"nominal\"}, \"y\": {\"aggregate\": \"count\", \"axis\": {\"labelFontSize\": 15, \"labelFontWeight\": \"bold\", \"title\": null, \"values\": [0, 100, 200, 300, 400, 500]}, \"scale\": {\"domain\": [0, 500]}, \"type\": \"quantitative\"}}, \"height\": 300, \"selection\": {\"selector001\": {\"type\": \"interval\", \"encodings\": [\"x\"]}}, \"transform\": [{\"filter\": \"(datum.publisher === 'Marvel')\"}], \"width\": 240}], \"resolve\": {\"scale\": {\"y\": \"shared\"}}, \"title\": \"New Comic Book Characters Introduced Per Year\"}, {\"hconcat\": [{\"mark\": \"line\", \"encoding\": {\"color\": {\"field\": \"SEX\", \"legend\": {\"orient\": \"bottom\"}, \"scale\": {\"domain\": [\"Female Characters\", \"Male Characters\"], \"range\": [\"#31a354\", \"#ce6dbd\"]}, \"type\": \"nominal\"}, \"x\": {\"axis\": {\"grid\": true, \"labelAngle\": 360, \"labelFontSize\": 15, \"labelFontWeight\": \"bold\", \"title\": \"Dc, Female and Male characters over time\", \"titleFontSize\": 12, \"titlePadding\": -130, \"values\": [1940, 1960, 1980, 2000]}, \"field\": \"YEAR\", \"type\": \"nominal\"}, \"y\": {\"aggregate\": \"count\", \"axis\": {\"grid\": false, \"labelFontSize\": 15, \"labelFontWeight\": \"bold\", \"title\": null}, \"type\": \"quantitative\"}}, \"height\": 80, \"transform\": [{\"filter\": \"(datum.publisher === 'DC')\"}, {\"filter\": {\"selection\": \"selector001\"}}], \"width\": 240}, {\"mark\": \"line\", \"encoding\": {\"color\": {\"field\": \"SEX\", \"legend\": {\"orient\": \"bottom\"}, \"scale\": {\"domain\": [\"Female Characters\", \"Male Characters\"], \"range\": [\"#31a354\", \"#ce6dbd\"]}, \"type\": \"nominal\"}, \"x\": {\"axis\": {\"grid\": true, \"labelAngle\": 360, \"labelFontSize\": 15, \"labelFontWeight\": \"bold\", \"title\": \"Marvel, Female and Male characters over time\", \"titleFontSize\": 12, \"titlePadding\": -130, \"values\": [1940, 1960, 1980, 2000]}, \"field\": \"YEAR\", \"type\": \"nominal\"}, \"y\": {\"aggregate\": \"count\", \"axis\": {\"grid\": false, \"labelFontSize\": 15, \"labelFontWeight\": \"bold\", \"title\": null}, \"type\": \"quantitative\"}}, \"height\": 80, \"transform\": [{\"filter\": \"(datum.publisher === 'Marvel')\"}, {\"filter\": {\"selection\": \"selector001\"}}], \"width\": 240}], \"resolve\": {\"scale\": {\"y\": \"shared\"}}}], \"data\": {\"url\": \"altair-data-fb3f5fa205f4481ca029c6794db6019c.json\", \"format\": {\"type\": \"json\"}}, \"$schema\": \"https://vega.github.io/schema/vega-lite/v4.17.0.json\"}, {\"mode\": \"vega-lite\"});\n",
       "</script>"
      ],
      "text/plain": [
       "alt.VConcatChart(...)"
      ]
     },
     "execution_count": 19,
     "metadata": {},
     "output_type": "execute_result"
    }
   ],
   "source": [
    "# let's put everything together with your new interactive charts. If you did everything correctly this part\n",
    "# should generate the visualizations we want\n",
    "\n",
    "# the same function we wrote above should work for the new subplots\n",
    "genIntroVis(i_bar_dc, i_bar_marvel, i_line_dc, i_line_marvel)\n"
   ]
  },
  {
   "cell_type": "markdown",
   "metadata": {
    "deletable": false,
    "editable": false,
    "nbgrader": {
     "cell_type": "markdown",
     "checksum": "2b39c8424796356ded42b6e8d8129f61",
     "grade": false,
     "grade_id": "cell-afc1c9e04475662c",
     "locked": true,
     "schema_version": 3,
     "solution": false
    }
   },
   "source": [
    "## Problem 2.2 (35 Points)\n",
    "\n",
    "One of the issues discussed in the article is that the comics aren't gaining many female characters. \n",
    "\n",
    "![\"original 538 image of female charcters over time\"](assets/538original_2.png)\n",
    "\n",
    "This visualization is ok, but we can enhance it with some interactivity.  Let's start by dealing with the fact that the chart only presents one interesting: Percent female in any given year. It might help us understand the claim that there's a relatively trending change in this percent by plotting year-over-year percent changes. Also, it's possible that there are more characters being introduced in later years. So even one or two good years in the 2000's may make up for lots of bad years in the past (it turns out that this is not the case, but it is a question we might ask).\n",
    "\n",
    "We're going to create the table with all the necessary statistics for you next:"
   ]
  },
  {
   "cell_type": "code",
   "execution_count": 20,
   "metadata": {},
   "outputs": [],
   "source": [
    "def generatePercentTable(comicDF, publisher):\n",
    "    # input: comicDF -- dataframe of characters as described above (e.g., comic)\n",
    "    # input: publisher -- a string, either DC or Marvel\n",
    "    # return: a procesed percent table\n",
    "    \n",
    "    _df = comicDF[comicDF.publisher == publisher]\n",
    "    _df = _df[['SEX','YEAR']]\n",
    "    _df = pd.get_dummies(_df)\n",
    "    _df.YEAR = _df.YEAR.astype('int')\n",
    "    _df = _df.groupby(['YEAR']).sum()\n",
    "\n",
    "    _df['total'] = 0\n",
    "    _df['total'] = _df['total'].astype('int')\n",
    "    for col in list(comicDF[comicDF.publisher == publisher].SEX.unique()):\n",
    "        col = str(col)\n",
    "        if (col != 'nan'):\n",
    "            _df['total'] = _df['total'].astype('int') + _df[\"SEX_\"+col].astype('int')\n",
    "\n",
    "    _df['% Female'] = _df['SEX_Female Characters'] / _df.total\n",
    "    _df = _df.reset_index()\n",
    "    _df = _df[['YEAR','% Female','SEX_Female Characters','SEX_Male Characters','total']]\n",
    "    _df['publisher'] = publisher\n",
    "    _df = _df[(_df.YEAR >= 1979)]\n",
    "    _df['Year-over-year change in % Female'] = _df['% Female'].pct_change()\n",
    "    toret = _df[(_df.YEAR > 1980) & (_df.YEAR < 2013)].copy()\n",
    "    t2 = toret.cumsum()\n",
    "    toret['% Female characters to date'] = list(t2['SEX_Female Characters'] / t2['total'])\n",
    "    return(toret)\n",
    "\n"
   ]
  },
  {
   "cell_type": "code",
   "execution_count": 21,
   "metadata": {},
   "outputs": [],
   "source": [
    "# let's create the table we need\n",
    "\n",
    "# first, make the percent table for Marvel and DC and concat them\n",
    "changedata = pd.concat([generatePercentTable(comic,\"Marvel\"),generatePercentTable(comic,\"DC\")])\n",
    "\n",
    "# now, let's restructure it to the right long form\n",
    "changedata = pd.melt(changedata,id_vars=['YEAR','publisher'],value_vars=['% Female',\n",
    "                                                             'Year-over-year change in % Female',\n",
    "                                                             '% Female characters to date'])"
   ]
  },
  {
   "cell_type": "code",
   "execution_count": 22,
   "metadata": {},
   "outputs": [
    {
     "data": {
      "text/html": [
       "<div>\n",
       "<style scoped>\n",
       "    .dataframe tbody tr th:only-of-type {\n",
       "        vertical-align: middle;\n",
       "    }\n",
       "\n",
       "    .dataframe tbody tr th {\n",
       "        vertical-align: top;\n",
       "    }\n",
       "\n",
       "    .dataframe thead th {\n",
       "        text-align: right;\n",
       "    }\n",
       "</style>\n",
       "<table border=\"1\" class=\"dataframe\">\n",
       "  <thead>\n",
       "    <tr style=\"text-align: right;\">\n",
       "      <th></th>\n",
       "      <th>YEAR</th>\n",
       "      <th>publisher</th>\n",
       "      <th>variable</th>\n",
       "      <th>value</th>\n",
       "    </tr>\n",
       "  </thead>\n",
       "  <tbody>\n",
       "    <tr>\n",
       "      <th>13</th>\n",
       "      <td>1994</td>\n",
       "      <td>Marvel</td>\n",
       "      <td>% Female</td>\n",
       "      <td>0.252700</td>\n",
       "    </tr>\n",
       "    <tr>\n",
       "      <th>60</th>\n",
       "      <td>2009</td>\n",
       "      <td>DC</td>\n",
       "      <td>% Female</td>\n",
       "      <td>0.313901</td>\n",
       "    </tr>\n",
       "    <tr>\n",
       "      <th>158</th>\n",
       "      <td>2011</td>\n",
       "      <td>Marvel</td>\n",
       "      <td>% Female characters to date</td>\n",
       "      <td>0.291694</td>\n",
       "    </tr>\n",
       "    <tr>\n",
       "      <th>51</th>\n",
       "      <td>2000</td>\n",
       "      <td>DC</td>\n",
       "      <td>% Female</td>\n",
       "      <td>0.308725</td>\n",
       "    </tr>\n",
       "    <tr>\n",
       "      <th>182</th>\n",
       "      <td>2003</td>\n",
       "      <td>DC</td>\n",
       "      <td>% Female characters to date</td>\n",
       "      <td>0.316178</td>\n",
       "    </tr>\n",
       "  </tbody>\n",
       "</table>\n",
       "</div>"
      ],
      "text/plain": [
       "     YEAR publisher                     variable     value\n",
       "13   1994    Marvel                     % Female  0.252700\n",
       "60   2009        DC                     % Female  0.313901\n",
       "158  2011    Marvel  % Female characters to date  0.291694\n",
       "51   2000        DC                     % Female  0.308725\n",
       "182  2003        DC  % Female characters to date  0.316178"
      ]
     },
     "execution_count": 22,
     "metadata": {},
     "output_type": "execute_result"
    }
   ],
   "source": [
    "# let's see what's inside\n",
    "changedata.sample(5)"
   ]
  },
  {
   "cell_type": "markdown",
   "metadata": {
    "deletable": false,
    "editable": false,
    "nbgrader": {
     "cell_type": "markdown",
     "checksum": "6e814f2b3d4f2154e5e5d3ecad40667f",
     "grade": false,
     "grade_id": "cell-6642874f36b63cb3",
     "locked": true,
     "schema_version": 3,
     "solution": false
    }
   },
   "source": [
    "### Problem 2.2.1\n",
    "\n",
    "Your first job will be to create an interactive chart that has a drop-down box that allows us to select the variable of interest. Here's our target in action:\n",
    "\n",
    "![\"percent interactive example\"](assets/percentinteractive.gif)\n",
    "\n",
    "Modify ```generateLineChartP21``` below to generate this chart. If you haven't already, you'll want to take a look at the binding_select examples.  Make sure you can get the chart working without interactivity first (hint: see if you can figure out how to filter to specific variables of interest)."
   ]
  },
  {
   "cell_type": "code",
   "execution_count": 23,
   "metadata": {
    "deletable": false,
    "nbgrader": {
     "cell_type": "code",
     "checksum": "a62e6933975bf4cfda19d5f29e8842d2",
     "grade": true,
     "grade_id": "cell-504631e1df0d8575",
     "locked": false,
     "points": 0,
     "schema_version": 3,
     "solution": true
    }
   },
   "outputs": [],
   "source": [
    "def generateLineChartP21(changeDF):\n",
    "    # input: changeDF -- the data frame, formatted as changedata above\n",
    "    # return: an altar chart as described above\n",
    "    \n",
    "    metricOptions = ['% Female','Year-over-year change in % Female','% Female characters to date']\n",
    "    input_dropdown = alt.binding_select(options= metricOptions, name=\"Data___variable: \")\n",
    "    \n",
    "    dropdown_selection = alt.selection_single(fields = ['variable'], init={'variable':'% Female'}, bind = input_dropdown)\n",
    "    \n",
    "    line = alt.Chart(changeDF) \\\n",
    "              .mark_line() \\\n",
    "              .encode( \n",
    "                     x = alt.X('YEAR:N'),\n",
    "                     y = alt.Y('value:Q'),\n",
    "                     color  = alt.Color('publisher',\n",
    "                                        scale = alt.Scale(domain=['DC', 'Marvel'], \n",
    "                                                          range=['#2182bd', '#f6573f'])\n",
    "                                       )\n",
    "                     ) \\\n",
    "              .add_selection(dropdown_selection) \\\n",
    "              .transform_filter(dropdown_selection)\n",
    "    \n",
    "    #raise NotImplementedError()\n",
    "    return(line)\n",
    "\n"
   ]
  },
  {
   "cell_type": "code",
   "execution_count": 24,
   "metadata": {},
   "outputs": [
    {
     "data": {
      "text/html": [
       "\n",
       "<div id=\"altair-viz-4cc4294034da40369449bede5dd34ba7\"></div>\n",
       "<script type=\"text/javascript\">\n",
       "  var VEGA_DEBUG = (typeof VEGA_DEBUG == \"undefined\") ? {} : VEGA_DEBUG;\n",
       "  (function(spec, embedOpt){\n",
       "    let outputDiv = document.currentScript.previousElementSibling;\n",
       "    if (outputDiv.id !== \"altair-viz-4cc4294034da40369449bede5dd34ba7\") {\n",
       "      outputDiv = document.getElementById(\"altair-viz-4cc4294034da40369449bede5dd34ba7\");\n",
       "    }\n",
       "    const paths = {\n",
       "      \"vega\": \"https://cdn.jsdelivr.net/npm//vega@5?noext\",\n",
       "      \"vega-lib\": \"https://cdn.jsdelivr.net/npm//vega-lib?noext\",\n",
       "      \"vega-lite\": \"https://cdn.jsdelivr.net/npm//vega-lite@4.17.0?noext\",\n",
       "      \"vega-embed\": \"https://cdn.jsdelivr.net/npm//vega-embed@6?noext\",\n",
       "    };\n",
       "\n",
       "    function maybeLoadScript(lib, version) {\n",
       "      var key = `${lib.replace(\"-\", \"\")}_version`;\n",
       "      return (VEGA_DEBUG[key] == version) ?\n",
       "        Promise.resolve(paths[lib]) :\n",
       "        new Promise(function(resolve, reject) {\n",
       "          var s = document.createElement('script');\n",
       "          document.getElementsByTagName(\"head\")[0].appendChild(s);\n",
       "          s.async = true;\n",
       "          s.onload = () => {\n",
       "            VEGA_DEBUG[key] = version;\n",
       "            return resolve(paths[lib]);\n",
       "          };\n",
       "          s.onerror = () => reject(`Error loading script: ${paths[lib]}`);\n",
       "          s.src = paths[lib];\n",
       "        });\n",
       "    }\n",
       "\n",
       "    function showError(err) {\n",
       "      outputDiv.innerHTML = `<div class=\"error\" style=\"color:red;\">${err}</div>`;\n",
       "      throw err;\n",
       "    }\n",
       "\n",
       "    function displayChart(vegaEmbed) {\n",
       "      vegaEmbed(outputDiv, spec, embedOpt)\n",
       "        .catch(err => showError(`Javascript Error: ${err.message}<br>This usually means there's a typo in your chart specification. See the javascript console for the full traceback.`));\n",
       "    }\n",
       "\n",
       "    if(typeof define === \"function\" && define.amd) {\n",
       "      requirejs.config({paths});\n",
       "      require([\"vega-embed\"], displayChart, err => showError(`Error loading script: ${err.message}`));\n",
       "    } else {\n",
       "      maybeLoadScript(\"vega\", \"5\")\n",
       "        .then(() => maybeLoadScript(\"vega-lite\", \"4.17.0\"))\n",
       "        .then(() => maybeLoadScript(\"vega-embed\", \"6\"))\n",
       "        .catch(showError)\n",
       "        .then(() => displayChart(vegaEmbed));\n",
       "    }\n",
       "  })({\"usermeta\": {\"embedOptions\": {\"theme\": \"fivethirtyeight\"}}, \"config\": {\"view\": {\"continuousWidth\": 400, \"continuousHeight\": 300}}, \"data\": {\"url\": \"altair-data-01ff98150960fd989d5dbe6275f5b9e7.json\", \"format\": {\"type\": \"json\"}}, \"mark\": \"line\", \"encoding\": {\"color\": {\"field\": \"publisher\", \"scale\": {\"domain\": [\"DC\", \"Marvel\"], \"range\": [\"#2182bd\", \"#f6573f\"]}, \"type\": \"nominal\"}, \"x\": {\"field\": \"YEAR\", \"type\": \"nominal\"}, \"y\": {\"field\": \"value\", \"type\": \"quantitative\"}}, \"selection\": {\"selector002\": {\"type\": \"single\", \"fields\": [\"variable\"], \"init\": {\"variable\": \"% Female\"}, \"bind\": {\"input\": \"select\", \"options\": [\"% Female\", \"Year-over-year change in % Female\", \"% Female characters to date\"], \"name\": \"Data___variable: \"}}}, \"transform\": [{\"filter\": {\"selection\": \"selector002\"}}], \"$schema\": \"https://vega.github.io/schema/vega-lite/v4.17.0.json\"}, {\"mode\": \"vega-lite\"});\n",
       "</script>"
      ],
      "text/plain": [
       "alt.Chart(...)"
      ]
     },
     "execution_count": 24,
     "metadata": {},
     "output_type": "execute_result"
    }
   ],
   "source": [
    "# if you did everything correctly, this should generate the visualization:\n",
    "generateLineChartP21(changedata)"
   ]
  },
  {
   "cell_type": "markdown",
   "metadata": {
    "deletable": false,
    "editable": false,
    "nbgrader": {
     "cell_type": "markdown",
     "checksum": "839ac6c8a8ee91718a7a685c2d69a3fe",
     "grade": false,
     "grade_id": "cell-a28557e5b7ae863c",
     "locked": true,
     "schema_version": 3,
     "solution": false
    }
   },
   "source": [
    "### Problem 2.2.2\n",
    "\n",
    "The next thing we're going to do is modify this example to give us a useful line that gives us the actual values (an effectiveness boost if we want to know the numbers). Here's an example:\n",
    "\n",
    "![\"percent example extended\"](assets/percentinteractive2.gif)\n",
    "\n",
    "Notice that the dropdown functionality still works. Your task is to build ```generateLineChartP22``` below to return this modified line chart. The good news is there's an example that's really close to [what you need](https://altair-viz.github.io/gallery/multiline_tooltip.html). But you'll need to understand what's going on and modify it.\n",
    "\n",
    "Some hints: \n",
    "* You probably want to copy your code for ```generateLineChartP21``` into the new function. There are pieces of code  you defined (e.g., the selection) that you'll need to use again.\n",
    "* The example relies a lot on overloading Altair charts from a common base (e.g., ```line = alt.Chart(...``` and then ```newline = line.encode...``` so newline overloads/extends line). Our experience is that it's easy to get errors when doing this here because you'll be using multiple selections and conditions (another hint). We recommend defining the Altair charts (selectors, points, etc.) from scratch. It's more repeated code, but it'll save you the same headaches."
   ]
  },
  {
   "cell_type": "code",
   "execution_count": 25,
   "metadata": {
    "deletable": false,
    "nbgrader": {
     "cell_type": "code",
     "checksum": "3dbb3b64b769ef4c5f438793dc7d8737",
     "grade": true,
     "grade_id": "cell-1f59348cfddbfcf3",
     "locked": false,
     "points": 0,
     "schema_version": 3,
     "solution": true
    }
   },
   "outputs": [],
   "source": [
    "def generateLineChartP22(changeDF):\n",
    "    # input: changeDF -- the data frame, formatted as changedata above\n",
    "    # return: an altar chart as described above\n",
    "    \n",
    "    nearest = alt.selection(type='single', nearest=True, on='mouseover', fields=['YEAR'], empty='none')\n",
    "    \n",
    "    metricOptions = ['% Female','Year-over-year change in % Female','% Female characters to date']\n",
    "    input_dropdown = alt.binding_select(options= metricOptions, name=\"Data___variable: \")\n",
    "    dropdown_selection = alt.selection_single(fields = ['variable'], init={'variable':'% Female'}, bind = input_dropdown)\n",
    "    \n",
    "    line = alt.Chart(changeDF) \\\n",
    "              .mark_line() \\\n",
    "              .encode( \n",
    "                     x = alt.X('YEAR:N'),\n",
    "                     y = alt.Y('value:Q'),\n",
    "                     color  = alt.Color('publisher',\n",
    "                                        scale = alt.Scale(domain=['DC', 'Marvel'], \n",
    "                                                          range=['#2182bd', '#f6573f'])\n",
    "                                       )\n",
    "                     ) \\\n",
    "              .add_selection(dropdown_selection) \\\n",
    "              .transform_filter(dropdown_selection)\n",
    "    \n",
    "    selectors = alt.Chart(changeDF) \\\n",
    "                   .mark_point() \\\n",
    "                   .encode(\n",
    "                            x='YEAR:N',\n",
    "                            opacity=alt.value(0),\n",
    "                           )\n",
    "    \n",
    "    points = alt.Chart(changeDF) \\\n",
    "              .mark_point() \\\n",
    "              .encode( \n",
    "                     x = alt.X('YEAR:N'),\n",
    "                     y = alt.Y('value:Q'),\n",
    "                     color  = alt.Color('publisher',\n",
    "                                        scale = alt.Scale(domain=['DC', 'Marvel'], \n",
    "                                                          range=['#2182bd', '#f6573f'])\n",
    "                                       ),\n",
    "                     opacity=alt.condition(nearest, alt.value(1), alt.value(0))\n",
    "                     ) \\\n",
    "              .add_selection(nearest) \\\n",
    "              .transform_filter(dropdown_selection)\n",
    "    \n",
    "    text = alt.Chart(changeDF) \\\n",
    "              .mark_text(align='left', dx=5, dy=-5) \\\n",
    "              .encode( \n",
    "                     x = alt.X('YEAR:N'),\n",
    "                     y = alt.Y('value:Q'),\n",
    "                     text= alt.condition(nearest, alt.Text('value:Q', format = '.0%'), alt.value(' '))\n",
    "                     ) \\\n",
    "              .transform_filter(dropdown_selection)\n",
    "\n",
    "    # Draw a rule at the location of the selection\n",
    "    rules = alt.Chart(changeDF) \\\n",
    "              .mark_rule() \\\n",
    "              .encode( \n",
    "                     x = alt.X('YEAR:N')\n",
    "                     ) \\\n",
    "              .transform_filter(nearest)\n",
    "\n",
    "# Put the five layers into a chart and bind the data\n",
    "    final_chart = alt.layer(line, selectors, points, rules, text) \\\n",
    "                     .properties(width=600, height=300)\n",
    "    \n",
    "    #raise NotImplementedError()\n",
    "    return final_chart\n",
    "\n"
   ]
  },
  {
   "cell_type": "code",
   "execution_count": 26,
   "metadata": {},
   "outputs": [
    {
     "data": {
      "text/html": [
       "\n",
       "<div id=\"altair-viz-1a7d1d985bbe4c20bba35658c6168212\"></div>\n",
       "<script type=\"text/javascript\">\n",
       "  var VEGA_DEBUG = (typeof VEGA_DEBUG == \"undefined\") ? {} : VEGA_DEBUG;\n",
       "  (function(spec, embedOpt){\n",
       "    let outputDiv = document.currentScript.previousElementSibling;\n",
       "    if (outputDiv.id !== \"altair-viz-1a7d1d985bbe4c20bba35658c6168212\") {\n",
       "      outputDiv = document.getElementById(\"altair-viz-1a7d1d985bbe4c20bba35658c6168212\");\n",
       "    }\n",
       "    const paths = {\n",
       "      \"vega\": \"https://cdn.jsdelivr.net/npm//vega@5?noext\",\n",
       "      \"vega-lib\": \"https://cdn.jsdelivr.net/npm//vega-lib?noext\",\n",
       "      \"vega-lite\": \"https://cdn.jsdelivr.net/npm//vega-lite@4.17.0?noext\",\n",
       "      \"vega-embed\": \"https://cdn.jsdelivr.net/npm//vega-embed@6?noext\",\n",
       "    };\n",
       "\n",
       "    function maybeLoadScript(lib, version) {\n",
       "      var key = `${lib.replace(\"-\", \"\")}_version`;\n",
       "      return (VEGA_DEBUG[key] == version) ?\n",
       "        Promise.resolve(paths[lib]) :\n",
       "        new Promise(function(resolve, reject) {\n",
       "          var s = document.createElement('script');\n",
       "          document.getElementsByTagName(\"head\")[0].appendChild(s);\n",
       "          s.async = true;\n",
       "          s.onload = () => {\n",
       "            VEGA_DEBUG[key] = version;\n",
       "            return resolve(paths[lib]);\n",
       "          };\n",
       "          s.onerror = () => reject(`Error loading script: ${paths[lib]}`);\n",
       "          s.src = paths[lib];\n",
       "        });\n",
       "    }\n",
       "\n",
       "    function showError(err) {\n",
       "      outputDiv.innerHTML = `<div class=\"error\" style=\"color:red;\">${err}</div>`;\n",
       "      throw err;\n",
       "    }\n",
       "\n",
       "    function displayChart(vegaEmbed) {\n",
       "      vegaEmbed(outputDiv, spec, embedOpt)\n",
       "        .catch(err => showError(`Javascript Error: ${err.message}<br>This usually means there's a typo in your chart specification. See the javascript console for the full traceback.`));\n",
       "    }\n",
       "\n",
       "    if(typeof define === \"function\" && define.amd) {\n",
       "      requirejs.config({paths});\n",
       "      require([\"vega-embed\"], displayChart, err => showError(`Error loading script: ${err.message}`));\n",
       "    } else {\n",
       "      maybeLoadScript(\"vega\", \"5\")\n",
       "        .then(() => maybeLoadScript(\"vega-lite\", \"4.17.0\"))\n",
       "        .then(() => maybeLoadScript(\"vega-embed\", \"6\"))\n",
       "        .catch(showError)\n",
       "        .then(() => displayChart(vegaEmbed));\n",
       "    }\n",
       "  })({\"usermeta\": {\"embedOptions\": {\"theme\": \"fivethirtyeight\"}}, \"config\": {\"view\": {\"continuousWidth\": 400, \"continuousHeight\": 300}}, \"layer\": [{\"mark\": \"line\", \"encoding\": {\"color\": {\"field\": \"publisher\", \"scale\": {\"domain\": [\"DC\", \"Marvel\"], \"range\": [\"#2182bd\", \"#f6573f\"]}, \"type\": \"nominal\"}, \"x\": {\"field\": \"YEAR\", \"type\": \"nominal\"}, \"y\": {\"field\": \"value\", \"type\": \"quantitative\"}}, \"selection\": {\"selector004\": {\"type\": \"single\", \"fields\": [\"variable\"], \"init\": {\"variable\": \"% Female\"}, \"bind\": {\"input\": \"select\", \"options\": [\"% Female\", \"Year-over-year change in % Female\", \"% Female characters to date\"], \"name\": \"Data___variable: \"}}}, \"transform\": [{\"filter\": {\"selection\": \"selector004\"}}]}, {\"mark\": \"point\", \"encoding\": {\"opacity\": {\"value\": 0}, \"x\": {\"field\": \"YEAR\", \"type\": \"nominal\"}}}, {\"mark\": \"point\", \"encoding\": {\"color\": {\"field\": \"publisher\", \"scale\": {\"domain\": [\"DC\", \"Marvel\"], \"range\": [\"#2182bd\", \"#f6573f\"]}, \"type\": \"nominal\"}, \"opacity\": {\"condition\": {\"value\": 1, \"selection\": \"selector003\"}, \"value\": 0}, \"x\": {\"field\": \"YEAR\", \"type\": \"nominal\"}, \"y\": {\"field\": \"value\", \"type\": \"quantitative\"}}, \"selection\": {\"selector003\": {\"type\": \"single\", \"nearest\": true, \"on\": \"mouseover\", \"fields\": [\"YEAR\"], \"empty\": \"none\"}}, \"transform\": [{\"filter\": {\"selection\": \"selector004\"}}]}, {\"mark\": \"rule\", \"encoding\": {\"x\": {\"field\": \"YEAR\", \"type\": \"nominal\"}}, \"transform\": [{\"filter\": {\"selection\": \"selector003\"}}]}, {\"mark\": {\"type\": \"text\", \"align\": \"left\", \"dx\": 5, \"dy\": -5}, \"encoding\": {\"text\": {\"condition\": {\"field\": \"value\", \"format\": \".0%\", \"type\": \"quantitative\", \"selection\": \"selector003\"}, \"value\": \" \"}, \"x\": {\"field\": \"YEAR\", \"type\": \"nominal\"}, \"y\": {\"field\": \"value\", \"type\": \"quantitative\"}}, \"transform\": [{\"filter\": {\"selection\": \"selector004\"}}]}], \"data\": {\"url\": \"altair-data-01ff98150960fd989d5dbe6275f5b9e7.json\", \"format\": {\"type\": \"json\"}}, \"height\": 300, \"width\": 600, \"$schema\": \"https://vega.github.io/schema/vega-lite/v4.17.0.json\"}, {\"mode\": \"vega-lite\"});\n",
       "</script>"
      ],
      "text/plain": [
       "alt.LayerChart(...)"
      ]
     },
     "execution_count": 26,
     "metadata": {},
     "output_type": "execute_result"
    }
   ],
   "source": [
    "# let's try it out\n",
    "generateLineChartP22(changedata)"
   ]
  },
  {
   "cell_type": "markdown",
   "metadata": {
    "deletable": false,
    "editable": false,
    "nbgrader": {
     "cell_type": "markdown",
     "checksum": "d0fdcfdbf2345abd7e7ba80dabb6f8fe",
     "grade": false,
     "grade_id": "cell-98c6ca9398abd9e6",
     "locked": true,
     "schema_version": 3,
     "solution": false
    }
   },
   "source": [
    "## Extra Credit (up to 10 points)\n",
    "\n",
    "As an extra credit exercise, you can create a new interactive visualization that either replaces/extends one of the 538 examples OR invent a new one that fits with the article.\n",
    "\n",
    "The interaction should be well thought out and appropriate (so just turning on ```.interactive()``` on a static chart won't really cut it). Please give us 1-2 sentences about what your interactivity adds."
   ]
  },
  {
   "cell_type": "code",
   "execution_count": 27,
   "metadata": {},
   "outputs": [],
   "source": [
    "# YOUR ANSWER HERE"
   ]
  }
 ],
 "metadata": {
  "coursera": {
   "schema_names": [
    "mads_information_visualization_ii_v1_assignment2"
   ]
  },
  "kernelspec": {
   "display_name": "Python 3 (ipykernel)",
   "language": "python",
   "name": "python3"
  },
  "language_info": {
   "codemirror_mode": {
    "name": "ipython",
    "version": 3
   },
   "file_extension": ".py",
   "mimetype": "text/x-python",
   "name": "python",
   "nbconvert_exporter": "python",
   "pygments_lexer": "ipython3",
   "version": "3.8.10"
  }
 },
 "nbformat": 4,
 "nbformat_minor": 4
}

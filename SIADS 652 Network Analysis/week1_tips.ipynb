{
 "cells": [
  {
   "cell_type": "markdown",
   "id": "747384b7-22bf-4d1a-b274-21ea28c37cee",
   "metadata": {},
   "source": [
    "# 652 Week 1 Tips and Tricks #"
   ]
  },
  {
   "cell_type": "markdown",
   "id": "9d214aed-6d7a-4f95-8615-a888b056dcaf",
   "metadata": {},
   "source": [
    "Jamie White \n",
    "\n",
    "Revision: [ F2021 23 Aug 2021 ]"
   ]
  },
  {
   "cell_type": "markdown",
   "id": "a221a27b-9fc8-44ab-a52a-3980972b64d2",
   "metadata": {},
   "source": [
    "## Before starting your assignments... ##"
   ]
  },
  {
   "cell_type": "markdown",
   "id": "ca02b946-f2f3-4a3d-a074-19369697b17f",
   "metadata": {},
   "source": [
    "... make a clean copy of your notebook in case you have to start over.\n",
    "\n",
    "In Coursera:\n",
    "\n",
    "`File > Make a copy...`"
   ]
  },
  {
   "cell_type": "markdown",
   "id": "4aca1d32-6945-441a-a198-bd39aaef024d",
   "metadata": {},
   "source": [
    "## Don't overload the autograder ###"
   ]
  },
  {
   "cell_type": "markdown",
   "id": "580a86da-edab-4c09-ab41-0b8c13c2cd63",
   "metadata": {},
   "source": [
    "Some cells take quite a while to compute. Work on one problem at a time, comment out other cells until you're read to submit.  Make sure your notebook runs, however.\n",
    "\n",
    "```\n",
    "Kernel -> Restart & Run All\n",
    "\n",
    "```"
   ]
  },
  {
   "cell_type": "markdown",
   "id": "33370c52-834b-4118-bc11-735a6cf5029b",
   "metadata": {},
   "source": [
    "## Load some libraries to get started... ##"
   ]
  },
  {
   "cell_type": "code",
   "execution_count": 1,
   "id": "24d8915d-6fa5-4a2b-9cef-c964bbf7d8c9",
   "metadata": {},
   "outputs": [],
   "source": [
    "import networkx as nx\n",
    "import matplotlib.pyplot as plt\n",
    "%matplotlib inline"
   ]
  },
  {
   "cell_type": "markdown",
   "id": "e98d4dc5-4e06-443d-8de1-74195573d083",
   "metadata": {},
   "source": [
    "### Make a graph (from 652 W1 tutorial) ###"
   ]
  },
  {
   "cell_type": "code",
   "execution_count": 2,
   "id": "86e2898e-eb5d-420e-8419-eaa2183277e0",
   "metadata": {},
   "outputs": [],
   "source": [
    "G = nx.Graph()\n",
    "G.add_node(1) # add a single node\n",
    "G.add_nodes_from([2, 3, 4, 5, 6, 7, 8, 9, 0]) # add a list of nodes"
   ]
  },
  {
   "cell_type": "code",
   "execution_count": 12,
   "id": "0a0de635-561d-47f8-9997-bc7c002161b6",
   "metadata": {},
   "outputs": [],
   "source": [
    "G.add_edge(1, 2) # add a single edge\n",
    "G.add_edges_from([(1, 2), (1, 3), (2, 4), (2, 5), (3,5), \n",
    "                  (3, 7), (4,8), (5,9),(5,0),(6,0),(7,8),(8,9)]) \n",
    "# G.remove_edge(1, 2)"
   ]
  },
  {
   "cell_type": "markdown",
   "id": "ccf6febe-97ab-4a75-ab51-42875ca72446",
   "metadata": {},
   "source": [
    "### User `dir` to find methods and attributes of any function ###\n",
    "\n",
    "Maxim: When in doubt, `dir`"
   ]
  },
  {
   "cell_type": "code",
   "execution_count": 4,
   "id": "changing-lodge",
   "metadata": {},
   "outputs": [
    {
     "data": {
      "text/plain": [
       "networkx.classes.graph.Graph"
      ]
     },
     "execution_count": 4,
     "metadata": {},
     "output_type": "execute_result"
    }
   ],
   "source": [
    "type(G)"
   ]
  },
  {
   "cell_type": "code",
   "execution_count": 3,
   "id": "d7984ecf-f7f2-4763-a063-d37db36228c0",
   "metadata": {},
   "outputs": [
    {
     "data": {
      "text/plain": [
       "['__class__',\n",
       " '__contains__',\n",
       " '__delattr__',\n",
       " '__dict__',\n",
       " '__dir__',\n",
       " '__doc__',\n",
       " '__eq__',\n",
       " '__format__',\n",
       " '__ge__',\n",
       " '__getattribute__',\n",
       " '__getitem__',\n",
       " '__gt__',\n",
       " '__hash__',\n",
       " '__init__',\n",
       " '__init_subclass__',\n",
       " '__iter__',\n",
       " '__le__',\n",
       " '__len__',\n",
       " '__lt__',\n",
       " '__module__',\n",
       " '__ne__',\n",
       " '__new__',\n",
       " '__reduce__',\n",
       " '__reduce_ex__',\n",
       " '__repr__',\n",
       " '__setattr__',\n",
       " '__sizeof__',\n",
       " '__str__',\n",
       " '__subclasshook__',\n",
       " '__weakref__',\n",
       " '_adj',\n",
       " '_node',\n",
       " 'add_edge',\n",
       " 'add_edges_from',\n",
       " 'add_node',\n",
       " 'add_nodes_from',\n",
       " 'add_weighted_edges_from',\n",
       " 'adj',\n",
       " 'adjacency',\n",
       " 'adjlist_inner_dict_factory',\n",
       " 'adjlist_outer_dict_factory',\n",
       " 'clear',\n",
       " 'clear_edges',\n",
       " 'copy',\n",
       " 'degree',\n",
       " 'edge_attr_dict_factory',\n",
       " 'edge_subgraph',\n",
       " 'edges',\n",
       " 'get_edge_data',\n",
       " 'graph',\n",
       " 'graph_attr_dict_factory',\n",
       " 'has_edge',\n",
       " 'has_node',\n",
       " 'is_directed',\n",
       " 'is_multigraph',\n",
       " 'name',\n",
       " 'nbunch_iter',\n",
       " 'neighbors',\n",
       " 'node_attr_dict_factory',\n",
       " 'node_dict_factory',\n",
       " 'nodes',\n",
       " 'number_of_edges',\n",
       " 'number_of_nodes',\n",
       " 'order',\n",
       " 'remove_edge',\n",
       " 'remove_edges_from',\n",
       " 'remove_node',\n",
       " 'remove_nodes_from',\n",
       " 'size',\n",
       " 'subgraph',\n",
       " 'to_directed',\n",
       " 'to_directed_class',\n",
       " 'to_undirected',\n",
       " 'to_undirected_class',\n",
       " 'update']"
      ]
     },
     "execution_count": 3,
     "metadata": {},
     "output_type": "execute_result"
    }
   ],
   "source": [
    "dir(G)"
   ]
  },
  {
   "cell_type": "markdown",
   "id": "3491b1b7-f1df-4868-96a6-1dd295c026a2",
   "metadata": {},
   "source": [
    "### Reminder: NetworkX methods vs attributes ###"
   ]
  },
  {
   "cell_type": "code",
   "execution_count": 13,
   "id": "87ded141-a510-49ef-baa0-8b8fd3d81f81",
   "metadata": {},
   "outputs": [
    {
     "data": {
      "text/plain": [
       "{1: 0.2222222222222222,\n",
       " 2: 0.3333333333333333,\n",
       " 3: 0.3333333333333333,\n",
       " 4: 0.2222222222222222,\n",
       " 5: 0.4444444444444444,\n",
       " 6: 0.1111111111111111,\n",
       " 7: 0.2222222222222222,\n",
       " 8: 0.3333333333333333,\n",
       " 9: 0.2222222222222222,\n",
       " 0: 0.2222222222222222}"
      ]
     },
     "execution_count": 13,
     "metadata": {},
     "output_type": "execute_result"
    }
   ],
   "source": [
    "# method\n",
    "nx.degree_centrality(G)\n",
    "# not G.degree_centrality"
   ]
  },
  {
   "cell_type": "code",
   "execution_count": 9,
   "id": "unable-outreach",
   "metadata": {},
   "outputs": [],
   "source": [
    "nx.degree_centrality?"
   ]
  },
  {
   "cell_type": "code",
   "execution_count": 14,
   "id": "11d4c16b-2bfd-4662-86e4-2623b1fb6b02",
   "metadata": {},
   "outputs": [
    {
     "data": {
      "image/png": "[encoded data removed]",
      "text/plain": [
       "<Figure size 432x288 with 1 Axes>"
      ]
     },
     "metadata": {},
     "output_type": "display_data"
    }
   ],
   "source": [
    "# method\n",
    "nx.draw_networkx(G)"
   ]
  },
  {
   "cell_type": "code",
   "execution_count": 15,
   "id": "75bec699-eec2-4c5b-99f5-e785f3354ca3",
   "metadata": {},
   "outputs": [
    {
     "data": {
      "text/plain": [
       "EdgeView([(1, 2), (1, 3), (2, 4), (2, 5), (3, 5), (3, 7), (4, 8), (5, 9), (5, 0), (6, 0), (7, 8), (8, 9)])"
      ]
     },
     "execution_count": 15,
     "metadata": {},
     "output_type": "execute_result"
    }
   ],
   "source": [
    "# attibute\n",
    "G.edges"
   ]
  },
  {
   "cell_type": "markdown",
   "id": "7f97a6c7-e7b2-4c9c-90d2-fca2152f426f",
   "metadata": {},
   "source": [
    "___\n",
    "\n",
    "## Graph analysis and sorting of dictionary values ###"
   ]
  },
  {
   "cell_type": "markdown",
   "id": "64b79ccb-d127-402a-bbd1-7cc12ef81f03",
   "metadata": {},
   "source": [
    "Many functions return dictionaries. The 652 Assignments often require sorting of dictionary items based on value.\n",
    "\n",
    "☞ Different sorting methods are equally valid, but ties may be resolved differently depending on method. **The autograder is very particular about exact answers, so use the recommended hint.**"
   ]
  },
  {
   "cell_type": "markdown",
   "id": "c78b3036-07e3-44dc-9121-1f0b1e58ec41",
   "metadata": {},
   "source": [
    "\n",
    ">Hint: you can sort a dictionary `D` by its values using \n",
    ">\n",
    ">```python\n",
    ">sorted(D.items(), key=lambda item: item[1])\n",
    ">```"
   ]
  },
  {
   "cell_type": "code",
   "execution_count": 16,
   "id": "7e22e03a-7bfe-46e7-b5d1-0333951cc4d8",
   "metadata": {},
   "outputs": [
    {
     "data": {
      "text/plain": [
       "{1: 0.2222222222222222,\n",
       " 2: 0.3333333333333333,\n",
       " 3: 0.3333333333333333,\n",
       " 4: 0.2222222222222222,\n",
       " 5: 0.4444444444444444,\n",
       " 6: 0.1111111111111111,\n",
       " 7: 0.2222222222222222,\n",
       " 8: 0.3333333333333333,\n",
       " 9: 0.2222222222222222,\n",
       " 0: 0.2222222222222222}"
      ]
     },
     "execution_count": 16,
     "metadata": {},
     "output_type": "execute_result"
    }
   ],
   "source": [
    "D = nx.degree_centrality(G)\n",
    "D"
   ]
  },
  {
   "cell_type": "markdown",
   "id": "b23d1c53-2e86-435f-83e9-e530103c3f94",
   "metadata": {},
   "source": [
    "### Do this... ###"
   ]
  },
  {
   "cell_type": "code",
   "execution_count": 26,
   "id": "a3d29a32-a7d9-4a65-9b05-a83619cfbea5",
   "metadata": {},
   "outputs": [
    {
     "data": {
      "text/plain": [
       "[(6, 0.1111111111111111),\n",
       " (1, 0.2222222222222222),\n",
       " (4, 0.2222222222222222),\n",
       " (7, 0.2222222222222222),\n",
       " (9, 0.2222222222222222),\n",
       " (0, 0.2222222222222222),\n",
       " (2, 0.3333333333333333),\n",
       " (3, 0.3333333333333333),\n",
       " (8, 0.3333333333333333),\n",
       " (5, 0.4444444444444444)]"
      ]
     },
     "execution_count": 26,
     "metadata": {},
     "output_type": "execute_result"
    }
   ],
   "source": [
    "D_sorted = sorted(D.items(), key=lambda item: item[1])\n",
    "D_sorted"
   ]
  },
  {
   "cell_type": "code",
   "execution_count": 27,
   "id": "63b81fef-e4a0-4af4-99d7-c91e427b8264",
   "metadata": {},
   "outputs": [
    {
     "data": {
      "text/plain": [
       "[(5, 0.4444444444444444),\n",
       " (8, 0.3333333333333333),\n",
       " (3, 0.3333333333333333),\n",
       " (2, 0.3333333333333333),\n",
       " (0, 0.2222222222222222)]"
      ]
     },
     "execution_count": 27,
     "metadata": {},
     "output_type": "execute_result"
    }
   ],
   "source": [
    "# recall: reverse slicing of lists\n",
    "N    = 5\n",
    "topN = D_sorted[::-1][:N]\n",
    "topN"
   ]
  },
  {
   "cell_type": "code",
   "execution_count": 28,
   "id": "0df61030-6d49-4197-8d1e-a03dc2b61610",
   "metadata": {},
   "outputs": [
    {
     "data": {
      "text/plain": [
       "[5, 8, 3, 2, 0]"
      ]
     },
     "execution_count": 28,
     "metadata": {},
     "output_type": "execute_result"
    }
   ],
   "source": [
    "topN_nodes = [n for n,dc in topN]\n",
    "topN_nodes"
   ]
  },
  {
   "cell_type": "markdown",
   "id": "3657f97d-db41-405b-8762-003ce7a1e525",
   "metadata": {},
   "source": [
    "### ...don't do this... ###"
   ]
  },
  {
   "cell_type": "code",
   "execution_count": 30,
   "id": "79423f36-ef9b-4906-ae0d-db9c76bbc24e",
   "metadata": {},
   "outputs": [
    {
     "data": {
      "text/plain": [
       "[(5, 0.4444444444444444),\n",
       " (2, 0.3333333333333333),\n",
       " (3, 0.3333333333333333),\n",
       " (8, 0.3333333333333333),\n",
       " (1, 0.2222222222222222),\n",
       " (4, 0.2222222222222222),\n",
       " (7, 0.2222222222222222),\n",
       " (9, 0.2222222222222222),\n",
       " (0, 0.2222222222222222),\n",
       " (6, 0.1111111111111111)]"
      ]
     },
     "execution_count": 30,
     "metadata": {},
     "output_type": "execute_result"
    }
   ],
   "source": [
    "D_sorted_rev = sorted(D.items(), key=lambda item: item[1], reverse=True)\n",
    "D_sorted_rev"
   ]
  },
  {
   "cell_type": "code",
   "execution_count": 35,
   "id": "tracked-raise",
   "metadata": {},
   "outputs": [
    {
     "data": {
      "text/plain": [
       "[(5, 0.4444444444444444),\n",
       " (2, 0.3333333333333333),\n",
       " (3, 0.3333333333333333),\n",
       " (8, 0.3333333333333333),\n",
       " (1, 0.2222222222222222)]"
      ]
     },
     "execution_count": 35,
     "metadata": {},
     "output_type": "execute_result"
    }
   ],
   "source": [
    "N = 5\n",
    "[(n,dc) for n,dc in D_sorted_rev][:N]"
   ]
  },
  {
   "cell_type": "code",
   "execution_count": 31,
   "id": "fd82836d-4fe5-425d-b87c-e1187282669d",
   "metadata": {},
   "outputs": [
    {
     "data": {
      "text/plain": [
       "[5, 2, 3, 8, 1]"
      ]
     },
     "execution_count": 31,
     "metadata": {},
     "output_type": "execute_result"
    }
   ],
   "source": [
    "N = 5\n",
    "topN_nodes_rev = [n for n,dc in D_sorted_rev][:N]\n",
    "topN_nodes_rev"
   ]
  },
  {
   "cell_type": "markdown",
   "id": "7e52abf4-552d-4a4b-8d8b-5ac2c6108647",
   "metadata": {},
   "source": [
    "### ...because ###"
   ]
  },
  {
   "cell_type": "code",
   "execution_count": 32,
   "id": "3f983d17-f05c-449c-84b0-33642728691f",
   "metadata": {},
   "outputs": [
    {
     "data": {
      "text/plain": [
       "False"
      ]
     },
     "execution_count": 32,
     "metadata": {},
     "output_type": "execute_result"
    }
   ],
   "source": [
    "set(topN_nodes) == set(topN_nodes_rev)"
   ]
  },
  {
   "cell_type": "markdown",
   "id": "bebcb431-1c3a-44ed-81df-e65904b13da4",
   "metadata": {},
   "source": [
    "### ...and don't do this, either... ###"
   ]
  },
  {
   "cell_type": "code",
   "execution_count": 36,
   "id": "5a5877a2-c7d6-4776-a315-e81d7dc24097",
   "metadata": {},
   "outputs": [
    {
     "data": {
      "text/plain": [
       "[(0.1111111111111111, 6),\n",
       " (0.2222222222222222, 0),\n",
       " (0.2222222222222222, 1),\n",
       " (0.2222222222222222, 4),\n",
       " (0.2222222222222222, 7),\n",
       " (0.2222222222222222, 9),\n",
       " (0.3333333333333333, 2),\n",
       " (0.3333333333333333, 3),\n",
       " (0.3333333333333333, 8),\n",
       " (0.4444444444444444, 5)]"
      ]
     },
     "execution_count": 36,
     "metadata": {},
     "output_type": "execute_result"
    }
   ],
   "source": [
    "D_sorted_alt1 = sorted([(v,k) for k,v in D.items()])\n",
    "D_sorted_alt1"
   ]
  },
  {
   "cell_type": "code",
   "execution_count": 38,
   "id": "94c4018e-2e8f-46d2-9ddb-c6fc029f5584",
   "metadata": {},
   "outputs": [
    {
     "data": {
      "text/plain": [
       "[(0.4444444444444444, 5),\n",
       " (0.3333333333333333, 8),\n",
       " (0.3333333333333333, 3),\n",
       " (0.3333333333333333, 2),\n",
       " (0.2222222222222222, 9)]"
      ]
     },
     "execution_count": 38,
     "metadata": {},
     "output_type": "execute_result"
    }
   ],
   "source": [
    "N               = 5\n",
    "N_slice         = N-1\n",
    "topN_alt1       = D_sorted_alt1[:N_slice:-1]\n",
    "topN_alt1"
   ]
  },
  {
   "cell_type": "code",
   "execution_count": 39,
   "id": "c5fb9ffe-cc62-495b-acb0-335932007aef",
   "metadata": {},
   "outputs": [
    {
     "data": {
      "text/plain": [
       "[5, 8, 3, 2, 9]"
      ]
     },
     "execution_count": 39,
     "metadata": {},
     "output_type": "execute_result"
    }
   ],
   "source": [
    "topN_nodes_alt1 = [n for dc,n in topN_alt1]\n",
    "topN_nodes_alt1"
   ]
  },
  {
   "cell_type": "markdown",
   "id": "e9659c7d-3162-4352-8fab-819579b115a5",
   "metadata": {},
   "source": [
    "### ...because ###"
   ]
  },
  {
   "cell_type": "code",
   "execution_count": 40,
   "id": "228b2437-3ad7-43c9-8e32-3207f2daab7a",
   "metadata": {},
   "outputs": [
    {
     "data": {
      "text/plain": [
       "False"
      ]
     },
     "execution_count": 40,
     "metadata": {},
     "output_type": "execute_result"
    }
   ],
   "source": [
    "# both sorts are valid, but ties are different\n",
    "set(topN_nodes) == set(topN_nodes_alt1)"
   ]
  },
  {
   "cell_type": "markdown",
   "id": "6adbd867-8516-4fe1-b13c-77d7abd54008",
   "metadata": {},
   "source": [
    "### More Do's ###"
   ]
  },
  {
   "cell_type": "code",
   "execution_count": 41,
   "id": "f4b961e8-193f-4bf5-b5d0-320a1ad0af87",
   "metadata": {},
   "outputs": [
    {
     "data": {
      "text/plain": [
       "(5, 0.4444444444444444)"
      ]
     },
     "execution_count": 41,
     "metadata": {},
     "output_type": "execute_result"
    }
   ],
   "source": [
    "D_max_value = D_sorted[-1]\n",
    "D_max_value"
   ]
  },
  {
   "cell_type": "code",
   "execution_count": 42,
   "id": "ef05d049-4d2e-4772-84cf-cae79b1c465c",
   "metadata": {},
   "outputs": [
    {
     "data": {
      "text/plain": [
       "0.4444444444444444"
      ]
     },
     "execution_count": 42,
     "metadata": {},
     "output_type": "execute_result"
    }
   ],
   "source": [
    "# value (degree centrality in this case)\n",
    "D_max_value[1]"
   ]
  },
  {
   "cell_type": "code",
   "execution_count": 43,
   "id": "08d3ba75-6810-4c53-9a55-7a5598f330e0",
   "metadata": {},
   "outputs": [
    {
     "data": {
      "text/plain": [
       "5"
      ]
     },
     "execution_count": 43,
     "metadata": {},
     "output_type": "execute_result"
    }
   ],
   "source": [
    "# node with max value\n",
    "D_max_value[0]"
   ]
  },
  {
   "cell_type": "code",
   "execution_count": 44,
   "id": "a9063357-81c4-4900-91ca-081681a4c624",
   "metadata": {},
   "outputs": [
    {
     "data": {
      "text/plain": [
       "(0.4444444444444444, 5)"
      ]
     },
     "execution_count": 44,
     "metadata": {},
     "output_type": "execute_result"
    }
   ],
   "source": [
    "D_max_alt1 = max(D_sorted_alt1)\n",
    "D_max_alt1"
   ]
  },
  {
   "cell_type": "code",
   "execution_count": 46,
   "id": "773da9fb-43f4-427e-ad3c-7214f670f74b",
   "metadata": {},
   "outputs": [],
   "source": [
    "D_max_value_alt1 = D_max_alt1[0]"
   ]
  },
  {
   "cell_type": "markdown",
   "id": "d042c44e-4ceb-48f0-bff2-d7903a139094",
   "metadata": {},
   "source": [
    "___\n",
    "\n",
    "## Random seeds  ##\n",
    "\n",
    "### `random()`, not `np.random()` ###"
   ]
  },
  {
   "cell_type": "markdown",
   "id": "62b8644d-8a5f-4bcb-9d68-b71a41199625",
   "metadata": {},
   "source": [
    "Be sure to set your random seed.\n",
    "\n",
    "Not all randoms are random.  Use the bultin python `random()`, not `np.random()`\n",
    "\n",
    "The autograder is very sensitive to how random() is used, so if you are having issues, check the instructions and pay attention to `random()`."
   ]
  },
  {
   "cell_type": "code",
   "execution_count": null,
   "id": "66849f82-8a02-4e42-9b95-45b2ee721baa",
   "metadata": {},
   "outputs": [],
   "source": [
    "import random # if you see this, it is a hint about what to use."
   ]
  },
  {
   "cell_type": "code",
   "execution_count": null,
   "id": "75fa33a4-f410-4c48-9413-49fbab28ccbb",
   "metadata": {},
   "outputs": [],
   "source": []
  }
 ],
 "metadata": {
  "kernelspec": {
   "display_name": "Python 3",
   "language": "python",
   "name": "python3"
  },
  "language_info": {
   "codemirror_mode": {
    "name": "ipython",
    "version": 3
   },
   "file_extension": ".py",
   "mimetype": "text/x-python",
   "name": "python",
   "nbconvert_exporter": "python",
   "pygments_lexer": "ipython3",
   "version": "3.7.10"
  }
 },
 "nbformat": 4,
 "nbformat_minor": 5
}

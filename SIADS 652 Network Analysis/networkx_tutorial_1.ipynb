{
 "cells": [
  {
   "cell_type": "markdown",
   "metadata": {},
   "source": [
    "# [NetworkX](https://networkx.github.io/) Tutorial 1\n",
    "\n",
    "In this course, we will primarily rely on NetworkX v2.5. If you want to work with NetworkX on your machine outside the provided Jupyter notebooks, you can use pip to either upgrade to the latest version (currently 2.5) or specify that you want to install 2.5. Both commands are shown below. If you only need to work with NetworkX within the notebooks provided as part of this course, then there's nothing else you need to do. The framework provided by Coursera handles the install for you.\n",
    "\n",
    "```bash\n",
    "foo@bar:~$ pip install --upgrade networkx\n",
    "```\n",
    "\n",
    "```bash\n",
    "foo@bar:~$ pip install networkx==2.5\n",
    "```\n",
    "\n",
    "The official documentation for `networkx` can be found [here](https://networkx.github.io/documentation/stable/) and an official tutorial is available [here](https://networkx.github.io/documentation/stable/tutorial.html)."
   ]
  },
  {
   "cell_type": "code",
   "execution_count": 1,
   "metadata": {},
   "outputs": [],
   "source": [
    "import networkx as nx\n",
    "import matplotlib.pyplot as plt\n",
    "%matplotlib inline"
   ]
  },
  {
   "cell_type": "markdown",
   "metadata": {},
   "source": [
    "## Basics\n",
    "\n",
    "- Graph\n",
    "- Nodes\n",
    "- Edges"
   ]
  },
  {
   "cell_type": "markdown",
   "metadata": {},
   "source": [
    "### Graph\n",
    "\n",
    "The main component of NetworkX is the graph object. NetworkX supports several [graph types](https://networkx.github.io/documentation/stable/reference/classes/index.html#graph-types). We can create an empty undirected graph by:"
   ]
  },
  {
   "cell_type": "code",
   "execution_count": 2,
   "metadata": {},
   "outputs": [],
   "source": [
    "G = nx.Graph()"
   ]
  },
  {
   "cell_type": "markdown",
   "metadata": {},
   "source": [
    "Learn more about G"
   ]
  },
  {
   "cell_type": "code",
   "execution_count": 3,
   "metadata": {},
   "outputs": [],
   "source": [
    "G?"
   ]
  },
  {
   "cell_type": "markdown",
   "metadata": {},
   "source": [
    "Similarly, we can also create a digraph or a multigraph:"
   ]
  },
  {
   "cell_type": "code",
   "execution_count": 4,
   "metadata": {},
   "outputs": [],
   "source": [
    "DiG = nx.DiGraph()\n",
    "MuG = nx.MultiGraph()"
   ]
  },
  {
   "cell_type": "markdown",
   "metadata": {},
   "source": [
    "Learn more about MuG"
   ]
  },
  {
   "cell_type": "code",
   "execution_count": 5,
   "metadata": {},
   "outputs": [],
   "source": [
    "MuG?"
   ]
  },
  {
   "cell_type": "markdown",
   "metadata": {},
   "source": [
    "### Nodes\n",
    "\n",
    "We can add nodes to a graph one at a time or by adding a list of nodes simultaneously:"
   ]
  },
  {
   "cell_type": "code",
   "execution_count": 6,
   "metadata": {},
   "outputs": [],
   "source": [
    "G.add_node(1) # add a single node\n",
    "G.add_nodes_from([2, 3, 4, 5, 6, 7, 8, 9, 0]) # add a list of nodes"
   ]
  },
  {
   "cell_type": "markdown",
   "metadata": {},
   "source": [
    "We can retrieve the nodes of a graph object `G` directly with:"
   ]
  },
  {
   "cell_type": "code",
   "execution_count": 7,
   "metadata": {},
   "outputs": [
    {
     "data": {
      "text/plain": [
       "NodeView((1, 2, 3, 4, 5, 6, 7, 8, 9, 0))"
      ]
     },
     "execution_count": 7,
     "metadata": {},
     "output_type": "execute_result"
    }
   ],
   "source": [
    "G.nodes"
   ]
  },
  {
   "cell_type": "markdown",
   "metadata": {},
   "source": [
    "We can also remove nodes if we don't want some of them using `Graph.remove_node()` or `Graph.remove_nodes_from()`."
   ]
  },
  {
   "cell_type": "code",
   "execution_count": 8,
   "metadata": {},
   "outputs": [
    {
     "data": {
      "text/plain": [
       "NodeView((1, 2, 3, 4, 5, 7, 8, 9, 0))"
      ]
     },
     "execution_count": 8,
     "metadata": {},
     "output_type": "execute_result"
    }
   ],
   "source": [
    "G.remove_node(6)\n",
    "G.nodes"
   ]
  },
  {
   "cell_type": "markdown",
   "metadata": {},
   "source": [
    "### Edges\n",
    "\n",
    "Similar to the process of adding nodes, we can add edges to a graph. Each edge is specified by a pair of nodes."
   ]
  },
  {
   "cell_type": "code",
   "execution_count": 9,
   "metadata": {},
   "outputs": [],
   "source": [
    "G.add_edge(1, 2) # add a single edge\n",
    "G.add_edges_from([(1, 2), (1, 3), (2, 4), (2, 5), (3,5), \n",
    "                  (3, 7), (4,8), (5,9),(5,0),(6,0),(7,8),(8,9)]) # add a list of edges"
   ]
  },
  {
   "cell_type": "markdown",
   "metadata": {},
   "source": [
    "Similarly, we retrieve the edges with:"
   ]
  },
  {
   "cell_type": "code",
   "execution_count": 10,
   "metadata": {},
   "outputs": [
    {
     "data": {
      "text/plain": [
       "EdgeView([(1, 2), (1, 3), (2, 4), (2, 5), (3, 5), (3, 7), (4, 8), (5, 9), (5, 0), (7, 8), (8, 9), (0, 6)])"
      ]
     },
     "execution_count": 10,
     "metadata": {},
     "output_type": "execute_result"
    }
   ],
   "source": [
    "G.edges"
   ]
  },
  {
   "cell_type": "markdown",
   "metadata": {},
   "source": [
    "Or the edges of specific nodes:"
   ]
  },
  {
   "cell_type": "code",
   "execution_count": 11,
   "metadata": {},
   "outputs": [
    {
     "data": {
      "text/plain": [
       "EdgeDataView([(2, 1), (2, 4), (2, 5)])"
      ]
     },
     "execution_count": 11,
     "metadata": {},
     "output_type": "execute_result"
    }
   ],
   "source": [
    "G.edges(2) # all edges related to node 2"
   ]
  },
  {
   "cell_type": "markdown",
   "metadata": {},
   "source": [
    "Edges can be removed similarly to the way they are added, with `Graph.remove_edge()` or `Graph.remove_edges_from()`."
   ]
  },
  {
   "cell_type": "code",
   "execution_count": 12,
   "metadata": {},
   "outputs": [
    {
     "data": {
      "text/plain": [
       "EdgeView([(1, 3), (2, 4), (2, 5), (3, 5), (3, 7), (4, 8), (5, 9), (5, 0), (7, 8), (8, 9), (0, 6)])"
      ]
     },
     "execution_count": 12,
     "metadata": {},
     "output_type": "execute_result"
    }
   ],
   "source": [
    "G.remove_edge(1, 2)\n",
    "G.edges"
   ]
  },
  {
   "cell_type": "markdown",
   "metadata": {},
   "source": [
    "## Adding attributes\n",
    "\n",
    "We can assign attributes to graphs, nodes, and edges. You can set the name of attributes as you wish. For example, adding an attribute called \"name\" to graph G:"
   ]
  },
  {
   "cell_type": "code",
   "execution_count": 13,
   "metadata": {},
   "outputs": [
    {
     "data": {
      "text/plain": [
       "{'name': 'My first graph'}"
      ]
     },
     "execution_count": 13,
     "metadata": {},
     "output_type": "execute_result"
    }
   ],
   "source": [
    "G.graph['name'] = \"My first graph\"\n",
    "G.graph"
   ]
  },
  {
   "cell_type": "markdown",
   "metadata": {},
   "source": [
    "Similarly, we can add attributes for nodes and edges:"
   ]
  },
  {
   "cell_type": "code",
   "execution_count": 14,
   "metadata": {},
   "outputs": [],
   "source": [
    "G.add_node(6, color='red') # add a node with color attribute \"red\"\n",
    "G.nodes[1]['color'] = 'green' # add color \"green\" attribute to node 1"
   ]
  },
  {
   "cell_type": "markdown",
   "metadata": {},
   "source": [
    "You can quickly view all node attributes by passing `data=True` like so:"
   ]
  },
  {
   "cell_type": "code",
   "execution_count": 15,
   "metadata": {},
   "outputs": [
    {
     "data": {
      "text/plain": [
       "NodeDataView({1: {'color': 'green'}, 2: {}, 3: {}, 4: {}, 5: {}, 7: {}, 8: {}, 9: {}, 0: {}, 6: {'color': 'red'}})"
      ]
     },
     "execution_count": 15,
     "metadata": {},
     "output_type": "execute_result"
    }
   ],
   "source": [
    "G.nodes(data=True)"
   ]
  },
  {
   "cell_type": "markdown",
   "metadata": {},
   "source": [
    "Here we are adding attributes to edges in a fashion similar to what we did above:"
   ]
  },
  {
   "cell_type": "code",
   "execution_count": 16,
   "metadata": {},
   "outputs": [
    {
     "data": {
      "text/plain": [
       "{'weight': 0.7}"
      ]
     },
     "execution_count": 16,
     "metadata": {},
     "output_type": "execute_result"
    }
   ],
   "source": [
    "G.add_edge(1, 2, weight=0.7) # add an edge of weight attribute 0.7\n",
    "G.edges()[(1,2)]"
   ]
  },
  {
   "cell_type": "code",
   "execution_count": 17,
   "metadata": {},
   "outputs": [],
   "source": [
    "G.add_edges_from([(3, 4), (4, 5), (3, 6), (5, 6)], weight=0.3)        # add edges of weight attribute 0.3\n",
    "G.add_edges_from([(1, 5, {'weight': 0.5}), (1, 4, {'weight': 0.8})])  # add edges of different weights"
   ]
  },
  {
   "cell_type": "code",
   "execution_count": 18,
   "metadata": {},
   "outputs": [
    {
     "data": {
      "text/plain": [
       "EdgeDataView([(1, 3, {}), (1, 2, {'weight': 0.7}), (1, 5, {'weight': 0.5}), (1, 4, {'weight': 0.8}), (2, 4, {}), (2, 5, {}), (3, 5, {}), (3, 7, {}), (3, 4, {'weight': 0.3}), (3, 6, {'weight': 0.3}), (4, 8, {}), (4, 5, {'weight': 0.3}), (5, 9, {}), (5, 0, {}), (5, 6, {'weight': 0.3}), (7, 8, {}), (8, 9, {}), (0, 6, {})])"
      ]
     },
     "execution_count": 18,
     "metadata": {},
     "output_type": "execute_result"
    }
   ],
   "source": [
    "G.edges(data=True)"
   ]
  },
  {
   "cell_type": "markdown",
   "metadata": {},
   "source": [
    "If we want to create a signed graph to reflect positive/negative relationships between nodes we can add weighted edges to a directed graph by specifying a list of 3-tuples containing (source_node, target_node, value)."
   ]
  },
  {
   "cell_type": "code",
   "execution_count": 19,
   "metadata": {},
   "outputs": [
    {
     "data": {
      "text/plain": [
       "OutEdgeDataView([(1, 2, {'weight': -10}), (1, 3, {'weight': -5}), (1, 4, {'weight': 8}), (2, 1, {'weight': 0}), (2, 3, {'weight': 1}), (2, 4, {'weight': 2}), (3, 1, {'weight': -3}), (3, 4, {'weight': 5})])"
      ]
     },
     "execution_count": 19,
     "metadata": {},
     "output_type": "execute_result"
    }
   ],
   "source": [
    "DiG.add_weighted_edges_from(\n",
    "    [(1, 2, -10),(2, 1, 0),(2, 3, 1),(3, 1, -3),(1, 3, -5),\n",
    "    (1, 4, 8), (2, 4, 2), (3, 4, 5)]) # add 3-tuples containing <source node>, <target node>, <value>\n",
    "\n",
    "DiG.edges(data=True)"
   ]
  },
  {
   "cell_type": "markdown",
   "metadata": {},
   "source": [
    "## Drawing graphs\n",
    "\n",
    "NetworkX provides various types of graph drawing tools for us to customize the visualization of graphs. For example, we can change the graph layout, node colors, size, edge types, colors, labels, fonts, etc. More details can be found [here](https://networkx.github.io/documentation/stable/reference/drawing.html). \n",
    "\n",
    "As a simple example, we can plot the previous graph we created using `nx.draw_networkx()`:"
   ]
  },
  {
   "cell_type": "code",
   "execution_count": 20,
   "metadata": {},
   "outputs": [
    {
     "data": {
      "image/png": "[encoded data removed]",
      "text/plain": [
       "<Figure size 432x288 with 1 Axes>"
      ]
     },
     "metadata": {},
     "output_type": "display_data"
    }
   ],
   "source": [
    "nx.draw_networkx(G)"
   ]
  },
  {
   "cell_type": "markdown",
   "metadata": {},
   "source": [
    "`nx.draw_networkx()` is a very simple function for drawing graphs. Actually, `networkx` provides several parameters for customizing the appearance of the drawings. \n",
    "You can refer to this [page](https://networkx.github.io/documentation/stable/reference/generated/networkx.drawing.nx_pylab.draw_networkx.html) for detailed explanations. \n",
    "\n",
    "Some commonly used parameters are:\n",
    "\n",
    "- `pos`, the layout of a graph. There are several layouts to choose from, for example, `nx.circular_layout(G)`.\n",
    "- `with_labels`, whether to label the nodes or not\n",
    "- `node_color`, `node_shape`, `node_size`: specify the color, shape and sizes of nodes\n",
    "- `alpha`: specify the transparency of the plot\n",
    "\n",
    "We are now going to try out a few of the parameters."
   ]
  },
  {
   "cell_type": "code",
   "execution_count": 21,
   "metadata": {},
   "outputs": [
    {
     "data": {
      "image/png": "[encoded data removed]",
      "text/plain": [
       "<Figure size 576x576 with 4 Axes>"
      ]
     },
     "metadata": {},
     "output_type": "display_data"
    }
   ],
   "source": [
    "fig = plt.figure(figsize=(8, 8))\n",
    "plt.subplot(221)\n",
    "nx.draw_networkx(G, pos=nx.circular_layout(G), with_labels=True, node_shape='8', node_color='#FDA7D3', font_color='white')\n",
    "\n",
    "plt.subplot(222)\n",
    "nx.draw_networkx(G, pos=nx.spectral_layout(G), with_labels=False, node_shape='^', node_color='red', node_size=200)\n",
    "\n",
    "plt.subplot(223)\n",
    "nx.draw_networkx(G, pos=nx.random_layout(G), with_labels=True, alpha=0.3)\n",
    "\n",
    "plt.subplot(224)\n",
    "nx.draw_networkx(G, pos=nx.spring_layout(G), with_labels=True, edge_color=\"#00E10F\", node_color='#00C4FF')\n"
   ]
  },
  {
   "cell_type": "markdown",
   "metadata": {},
   "source": [
    "## Graph generators\n",
    "\n",
    "In addition to building a graph from scratch, we can use graph generators to conveniently create specific kinds of graphs. For example, NetworkX provides several popular small networks:"
   ]
  },
  {
   "cell_type": "code",
   "execution_count": 22,
   "metadata": {},
   "outputs": [
    {
     "data": {
      "image/png": "[encoded data removed]",
      "text/plain": [
       "<Figure size 576x576 with 4 Axes>"
      ]
     },
     "metadata": {},
     "output_type": "display_data"
    }
   ],
   "source": [
    "fig = plt.figure(figsize=(8, 8))\n",
    "petersen = nx.petersen_graph()\n",
    "plt.subplot(221)\n",
    "nx.draw_networkx(petersen, with_labels=True, node_shape='8', node_color='#FDA7D3')\n",
    "\n",
    "tutte = nx.tutte_graph()\n",
    "plt.subplot(222)\n",
    "nx.draw_networkx(tutte, with_labels=False, node_color='#FDCC07', node_size=100)\n",
    "\n",
    "maze = nx.sedgewick_maze_graph()\n",
    "plt.subplot(223)\n",
    "nx.draw_networkx(maze, with_labels=True, alpha=0.5)\n",
    "\n",
    "tet = nx.karate_club_graph()\n",
    "plt.subplot(224)\n",
    "nx.draw_networkx(tet, with_labels=True, edge_color=\"#00E10F\", node_size=30)"
   ]
  },
  {
   "cell_type": "markdown",
   "metadata": {},
   "source": [
    "## Loading a graph from file\n",
    "\n",
    "In addition to manually configuring a graph ourselves, we can load an existing graph from a file. NetworkX supports a number of different formats. Refer to [this page](https://networkx.github.io/documentation/stable/reference/readwrite/index.html) for more information.\n",
    "\n",
    "For example, one of the methods is to load a graph from a GML(Graph Modelling Language) format file:\n",
    "```python\n",
    "nx.read_gml(path_to_file)\n",
    "```\n",
    "Here we load the `florentine_families.gml` file, which describes the relationships of famous families in Firenze, Italy."
   ]
  },
  {
   "cell_type": "code",
   "execution_count": 23,
   "metadata": {},
   "outputs": [
    {
     "data": {
      "text/plain": [
       "NodeView(('Acciaiuoli', 'Medici', 'Castellani', 'Peruzzi', 'Strozzi', 'Barbadori', 'Ridolfi', 'Tornabuoni', 'Albizzi', 'Salviati', 'Pazzi', 'Bischeri', 'Guadagni', 'Ginori', 'Lamberteschi'))"
      ]
     },
     "execution_count": 23,
     "metadata": {},
     "output_type": "execute_result"
    }
   ],
   "source": [
    "G = nx.read_gml('assets/florentine_families.gml')\n",
    "G.nodes"
   ]
  },
  {
   "cell_type": "markdown",
   "metadata": {},
   "source": [
    "We can also visualize the data:"
   ]
  },
  {
   "cell_type": "code",
   "execution_count": 24,
   "metadata": {},
   "outputs": [
    {
     "data": {
      "image/png": "[encoded data removed]",
      "text/plain": [
       "<Figure size 432x288 with 1 Axes>"
      ]
     },
     "metadata": {},
     "output_type": "display_data"
    }
   ],
   "source": [
    "nx.draw_networkx(G, with_labels=True, node_color='#00C4FF')"
   ]
  },
  {
   "cell_type": "markdown",
   "metadata": {},
   "source": [
    "## Basic graphs properties\n",
    "\n",
    "Networkx allows us to measure various properties of a graph. Take the Florentine families graph in the previous section as an example, we can obtain the degree of each node using either `nx.degree(G)` or `G.degree()`."
   ]
  },
  {
   "cell_type": "code",
   "execution_count": 25,
   "metadata": {},
   "outputs": [
    {
     "data": {
      "text/plain": [
       "DegreeView({'Acciaiuoli': 1, 'Medici': 6, 'Castellani': 3, 'Peruzzi': 3, 'Strozzi': 4, 'Barbadori': 2, 'Ridolfi': 3, 'Tornabuoni': 3, 'Albizzi': 3, 'Salviati': 2, 'Pazzi': 1, 'Bischeri': 3, 'Guadagni': 4, 'Ginori': 1, 'Lamberteschi': 1})"
      ]
     },
     "execution_count": 25,
     "metadata": {},
     "output_type": "execute_result"
    }
   ],
   "source": [
    "nx.degree(G)"
   ]
  },
  {
   "cell_type": "code",
   "execution_count": 26,
   "metadata": {},
   "outputs": [
    {
     "data": {
      "text/plain": [
       "DegreeView({'Acciaiuoli': 1, 'Medici': 6, 'Castellani': 3, 'Peruzzi': 3, 'Strozzi': 4, 'Barbadori': 2, 'Ridolfi': 3, 'Tornabuoni': 3, 'Albizzi': 3, 'Salviati': 2, 'Pazzi': 1, 'Bischeri': 3, 'Guadagni': 4, 'Ginori': 1, 'Lamberteschi': 1})"
      ]
     },
     "execution_count": 26,
     "metadata": {},
     "output_type": "execute_result"
    }
   ],
   "source": [
    "G.degree()"
   ]
  },
  {
   "cell_type": "markdown",
   "metadata": {},
   "source": [
    "For a directed graph we can find the in & out degrees using the following."
   ]
  },
  {
   "cell_type": "code",
   "execution_count": 27,
   "metadata": {},
   "outputs": [
    {
     "data": {
      "text/plain": [
       "InDegreeView({1: 2, 2: 1, 3: 2, 4: 3})"
      ]
     },
     "execution_count": 27,
     "metadata": {},
     "output_type": "execute_result"
    }
   ],
   "source": [
    "DiG.in_degree()"
   ]
  },
  {
   "cell_type": "code",
   "execution_count": 28,
   "metadata": {},
   "outputs": [
    {
     "data": {
      "text/plain": [
       "OutDegreeView({1: 3, 2: 3, 3: 2, 4: 0})"
      ]
     },
     "execution_count": 28,
     "metadata": {},
     "output_type": "execute_result"
    }
   ],
   "source": [
    "DiG.out_degree()"
   ]
  },
  {
   "cell_type": "markdown",
   "metadata": {},
   "source": [
    "We can compute the diameter of the graph with `nx.diameter`:"
   ]
  },
  {
   "cell_type": "code",
   "execution_count": 29,
   "metadata": {},
   "outputs": [
    {
     "data": {
      "text/plain": [
       "5"
      ]
     },
     "execution_count": 29,
     "metadata": {},
     "output_type": "execute_result"
    }
   ],
   "source": [
    "nx.diameter(G)"
   ]
  },
  {
   "cell_type": "markdown",
   "metadata": {},
   "source": [
    "We can compute the shortest paths between all pairs of nodes using `nx.shortest_path`"
   ]
  },
  {
   "cell_type": "code",
   "execution_count": 30,
   "metadata": {},
   "outputs": [
    {
     "data": {
      "text/plain": [
       "{'Acciaiuoli': {'Acciaiuoli': ['Acciaiuoli'],\n",
       "  'Medici': ['Acciaiuoli', 'Medici'],\n",
       "  'Barbadori': ['Acciaiuoli', 'Medici', 'Barbadori'],\n",
       "  'Ridolfi': ['Acciaiuoli', 'Medici', 'Ridolfi'],\n",
       "  'Tornabuoni': ['Acciaiuoli', 'Medici', 'Tornabuoni'],\n",
       "  'Albizzi': ['Acciaiuoli', 'Medici', 'Albizzi'],\n",
       "  'Salviati': ['Acciaiuoli', 'Medici', 'Salviati'],\n",
       "  'Castellani': ['Acciaiuoli', 'Medici', 'Barbadori', 'Castellani'],\n",
       "  'Strozzi': ['Acciaiuoli', 'Medici', 'Ridolfi', 'Strozzi'],\n",
       "  'Guadagni': ['Acciaiuoli', 'Medici', 'Tornabuoni', 'Guadagni'],\n",
       "  'Ginori': ['Acciaiuoli', 'Medici', 'Albizzi', 'Ginori'],\n",
       "  'Pazzi': ['Acciaiuoli', 'Medici', 'Salviati', 'Pazzi'],\n",
       "  'Peruzzi': ['Acciaiuoli', 'Medici', 'Barbadori', 'Castellani', 'Peruzzi'],\n",
       "  'Bischeri': ['Acciaiuoli', 'Medici', 'Ridolfi', 'Strozzi', 'Bischeri'],\n",
       "  'Lamberteschi': ['Acciaiuoli',\n",
       "   'Medici',\n",
       "   'Tornabuoni',\n",
       "   'Guadagni',\n",
       "   'Lamberteschi']},\n",
       " 'Medici': {'Medici': ['Medici'],\n",
       "  'Acciaiuoli': ['Medici', 'Acciaiuoli'],\n",
       "  'Barbadori': ['Medici', 'Barbadori'],\n",
       "  'Ridolfi': ['Medici', 'Ridolfi'],\n",
       "  'Tornabuoni': ['Medici', 'Tornabuoni'],\n",
       "  'Albizzi': ['Medici', 'Albizzi'],\n",
       "  'Salviati': ['Medici', 'Salviati'],\n",
       "  'Castellani': ['Medici', 'Barbadori', 'Castellani'],\n",
       "  'Strozzi': ['Medici', 'Ridolfi', 'Strozzi'],\n",
       "  'Guadagni': ['Medici', 'Tornabuoni', 'Guadagni'],\n",
       "  'Ginori': ['Medici', 'Albizzi', 'Ginori'],\n",
       "  'Pazzi': ['Medici', 'Salviati', 'Pazzi'],\n",
       "  'Peruzzi': ['Medici', 'Barbadori', 'Castellani', 'Peruzzi'],\n",
       "  'Bischeri': ['Medici', 'Ridolfi', 'Strozzi', 'Bischeri'],\n",
       "  'Lamberteschi': ['Medici', 'Tornabuoni', 'Guadagni', 'Lamberteschi']},\n",
       " 'Castellani': {'Castellani': ['Castellani'],\n",
       "  'Peruzzi': ['Castellani', 'Peruzzi'],\n",
       "  'Strozzi': ['Castellani', 'Strozzi'],\n",
       "  'Barbadori': ['Castellani', 'Barbadori'],\n",
       "  'Bischeri': ['Castellani', 'Peruzzi', 'Bischeri'],\n",
       "  'Ridolfi': ['Castellani', 'Strozzi', 'Ridolfi'],\n",
       "  'Medici': ['Castellani', 'Barbadori', 'Medici'],\n",
       "  'Guadagni': ['Castellani', 'Peruzzi', 'Bischeri', 'Guadagni'],\n",
       "  'Tornabuoni': ['Castellani', 'Strozzi', 'Ridolfi', 'Tornabuoni'],\n",
       "  'Acciaiuoli': ['Castellani', 'Barbadori', 'Medici', 'Acciaiuoli'],\n",
       "  'Albizzi': ['Castellani', 'Barbadori', 'Medici', 'Albizzi'],\n",
       "  'Salviati': ['Castellani', 'Barbadori', 'Medici', 'Salviati'],\n",
       "  'Lamberteschi': ['Castellani',\n",
       "   'Peruzzi',\n",
       "   'Bischeri',\n",
       "   'Guadagni',\n",
       "   'Lamberteschi'],\n",
       "  'Ginori': ['Castellani', 'Barbadori', 'Medici', 'Albizzi', 'Ginori'],\n",
       "  'Pazzi': ['Castellani', 'Barbadori', 'Medici', 'Salviati', 'Pazzi']},\n",
       " 'Peruzzi': {'Peruzzi': ['Peruzzi'],\n",
       "  'Castellani': ['Peruzzi', 'Castellani'],\n",
       "  'Strozzi': ['Peruzzi', 'Strozzi'],\n",
       "  'Bischeri': ['Peruzzi', 'Bischeri'],\n",
       "  'Barbadori': ['Peruzzi', 'Castellani', 'Barbadori'],\n",
       "  'Ridolfi': ['Peruzzi', 'Strozzi', 'Ridolfi'],\n",
       "  'Guadagni': ['Peruzzi', 'Bischeri', 'Guadagni'],\n",
       "  'Medici': ['Peruzzi', 'Castellani', 'Barbadori', 'Medici'],\n",
       "  'Tornabuoni': ['Peruzzi', 'Strozzi', 'Ridolfi', 'Tornabuoni'],\n",
       "  'Albizzi': ['Peruzzi', 'Bischeri', 'Guadagni', 'Albizzi'],\n",
       "  'Lamberteschi': ['Peruzzi', 'Bischeri', 'Guadagni', 'Lamberteschi'],\n",
       "  'Acciaiuoli': ['Peruzzi', 'Castellani', 'Barbadori', 'Medici', 'Acciaiuoli'],\n",
       "  'Salviati': ['Peruzzi', 'Castellani', 'Barbadori', 'Medici', 'Salviati'],\n",
       "  'Ginori': ['Peruzzi', 'Bischeri', 'Guadagni', 'Albizzi', 'Ginori'],\n",
       "  'Pazzi': ['Peruzzi',\n",
       "   'Castellani',\n",
       "   'Barbadori',\n",
       "   'Medici',\n",
       "   'Salviati',\n",
       "   'Pazzi']},\n",
       " 'Strozzi': {'Strozzi': ['Strozzi'],\n",
       "  'Castellani': ['Strozzi', 'Castellani'],\n",
       "  'Peruzzi': ['Strozzi', 'Peruzzi'],\n",
       "  'Ridolfi': ['Strozzi', 'Ridolfi'],\n",
       "  'Bischeri': ['Strozzi', 'Bischeri'],\n",
       "  'Barbadori': ['Strozzi', 'Castellani', 'Barbadori'],\n",
       "  'Medici': ['Strozzi', 'Ridolfi', 'Medici'],\n",
       "  'Tornabuoni': ['Strozzi', 'Ridolfi', 'Tornabuoni'],\n",
       "  'Guadagni': ['Strozzi', 'Bischeri', 'Guadagni'],\n",
       "  'Acciaiuoli': ['Strozzi', 'Ridolfi', 'Medici', 'Acciaiuoli'],\n",
       "  'Albizzi': ['Strozzi', 'Ridolfi', 'Medici', 'Albizzi'],\n",
       "  'Salviati': ['Strozzi', 'Ridolfi', 'Medici', 'Salviati'],\n",
       "  'Lamberteschi': ['Strozzi', 'Bischeri', 'Guadagni', 'Lamberteschi'],\n",
       "  'Ginori': ['Strozzi', 'Ridolfi', 'Medici', 'Albizzi', 'Ginori'],\n",
       "  'Pazzi': ['Strozzi', 'Ridolfi', 'Medici', 'Salviati', 'Pazzi']},\n",
       " 'Barbadori': {'Barbadori': ['Barbadori'],\n",
       "  'Medici': ['Barbadori', 'Medici'],\n",
       "  'Castellani': ['Barbadori', 'Castellani'],\n",
       "  'Acciaiuoli': ['Barbadori', 'Medici', 'Acciaiuoli'],\n",
       "  'Ridolfi': ['Barbadori', 'Medici', 'Ridolfi'],\n",
       "  'Tornabuoni': ['Barbadori', 'Medici', 'Tornabuoni'],\n",
       "  'Albizzi': ['Barbadori', 'Medici', 'Albizzi'],\n",
       "  'Salviati': ['Barbadori', 'Medici', 'Salviati'],\n",
       "  'Peruzzi': ['Barbadori', 'Castellani', 'Peruzzi'],\n",
       "  'Strozzi': ['Barbadori', 'Castellani', 'Strozzi'],\n",
       "  'Guadagni': ['Barbadori', 'Medici', 'Tornabuoni', 'Guadagni'],\n",
       "  'Ginori': ['Barbadori', 'Medici', 'Albizzi', 'Ginori'],\n",
       "  'Pazzi': ['Barbadori', 'Medici', 'Salviati', 'Pazzi'],\n",
       "  'Bischeri': ['Barbadori', 'Castellani', 'Peruzzi', 'Bischeri'],\n",
       "  'Lamberteschi': ['Barbadori',\n",
       "   'Medici',\n",
       "   'Tornabuoni',\n",
       "   'Guadagni',\n",
       "   'Lamberteschi']},\n",
       " 'Ridolfi': {'Ridolfi': ['Ridolfi'],\n",
       "  'Medici': ['Ridolfi', 'Medici'],\n",
       "  'Strozzi': ['Ridolfi', 'Strozzi'],\n",
       "  'Tornabuoni': ['Ridolfi', 'Tornabuoni'],\n",
       "  'Acciaiuoli': ['Ridolfi', 'Medici', 'Acciaiuoli'],\n",
       "  'Barbadori': ['Ridolfi', 'Medici', 'Barbadori'],\n",
       "  'Albizzi': ['Ridolfi', 'Medici', 'Albizzi'],\n",
       "  'Salviati': ['Ridolfi', 'Medici', 'Salviati'],\n",
       "  'Castellani': ['Ridolfi', 'Strozzi', 'Castellani'],\n",
       "  'Peruzzi': ['Ridolfi', 'Strozzi', 'Peruzzi'],\n",
       "  'Bischeri': ['Ridolfi', 'Strozzi', 'Bischeri'],\n",
       "  'Guadagni': ['Ridolfi', 'Tornabuoni', 'Guadagni'],\n",
       "  'Ginori': ['Ridolfi', 'Medici', 'Albizzi', 'Ginori'],\n",
       "  'Pazzi': ['Ridolfi', 'Medici', 'Salviati', 'Pazzi'],\n",
       "  'Lamberteschi': ['Ridolfi', 'Tornabuoni', 'Guadagni', 'Lamberteschi']},\n",
       " 'Tornabuoni': {'Tornabuoni': ['Tornabuoni'],\n",
       "  'Medici': ['Tornabuoni', 'Medici'],\n",
       "  'Ridolfi': ['Tornabuoni', 'Ridolfi'],\n",
       "  'Guadagni': ['Tornabuoni', 'Guadagni'],\n",
       "  'Acciaiuoli': ['Tornabuoni', 'Medici', 'Acciaiuoli'],\n",
       "  'Barbadori': ['Tornabuoni', 'Medici', 'Barbadori'],\n",
       "  'Albizzi': ['Tornabuoni', 'Medici', 'Albizzi'],\n",
       "  'Salviati': ['Tornabuoni', 'Medici', 'Salviati'],\n",
       "  'Strozzi': ['Tornabuoni', 'Ridolfi', 'Strozzi'],\n",
       "  'Bischeri': ['Tornabuoni', 'Guadagni', 'Bischeri'],\n",
       "  'Lamberteschi': ['Tornabuoni', 'Guadagni', 'Lamberteschi'],\n",
       "  'Castellani': ['Tornabuoni', 'Medici', 'Barbadori', 'Castellani'],\n",
       "  'Ginori': ['Tornabuoni', 'Medici', 'Albizzi', 'Ginori'],\n",
       "  'Pazzi': ['Tornabuoni', 'Medici', 'Salviati', 'Pazzi'],\n",
       "  'Peruzzi': ['Tornabuoni', 'Ridolfi', 'Strozzi', 'Peruzzi']},\n",
       " 'Albizzi': {'Albizzi': ['Albizzi'],\n",
       "  'Medici': ['Albizzi', 'Medici'],\n",
       "  'Ginori': ['Albizzi', 'Ginori'],\n",
       "  'Guadagni': ['Albizzi', 'Guadagni'],\n",
       "  'Acciaiuoli': ['Albizzi', 'Medici', 'Acciaiuoli'],\n",
       "  'Barbadori': ['Albizzi', 'Medici', 'Barbadori'],\n",
       "  'Ridolfi': ['Albizzi', 'Medici', 'Ridolfi'],\n",
       "  'Tornabuoni': ['Albizzi', 'Medici', 'Tornabuoni'],\n",
       "  'Salviati': ['Albizzi', 'Medici', 'Salviati'],\n",
       "  'Bischeri': ['Albizzi', 'Guadagni', 'Bischeri'],\n",
       "  'Lamberteschi': ['Albizzi', 'Guadagni', 'Lamberteschi'],\n",
       "  'Castellani': ['Albizzi', 'Medici', 'Barbadori', 'Castellani'],\n",
       "  'Strozzi': ['Albizzi', 'Medici', 'Ridolfi', 'Strozzi'],\n",
       "  'Pazzi': ['Albizzi', 'Medici', 'Salviati', 'Pazzi'],\n",
       "  'Peruzzi': ['Albizzi', 'Guadagni', 'Bischeri', 'Peruzzi']},\n",
       " 'Salviati': {'Salviati': ['Salviati'],\n",
       "  'Medici': ['Salviati', 'Medici'],\n",
       "  'Pazzi': ['Salviati', 'Pazzi'],\n",
       "  'Acciaiuoli': ['Salviati', 'Medici', 'Acciaiuoli'],\n",
       "  'Barbadori': ['Salviati', 'Medici', 'Barbadori'],\n",
       "  'Ridolfi': ['Salviati', 'Medici', 'Ridolfi'],\n",
       "  'Tornabuoni': ['Salviati', 'Medici', 'Tornabuoni'],\n",
       "  'Albizzi': ['Salviati', 'Medici', 'Albizzi'],\n",
       "  'Castellani': ['Salviati', 'Medici', 'Barbadori', 'Castellani'],\n",
       "  'Strozzi': ['Salviati', 'Medici', 'Ridolfi', 'Strozzi'],\n",
       "  'Guadagni': ['Salviati', 'Medici', 'Tornabuoni', 'Guadagni'],\n",
       "  'Ginori': ['Salviati', 'Medici', 'Albizzi', 'Ginori'],\n",
       "  'Peruzzi': ['Salviati', 'Medici', 'Barbadori', 'Castellani', 'Peruzzi'],\n",
       "  'Bischeri': ['Salviati', 'Medici', 'Ridolfi', 'Strozzi', 'Bischeri'],\n",
       "  'Lamberteschi': ['Salviati',\n",
       "   'Medici',\n",
       "   'Tornabuoni',\n",
       "   'Guadagni',\n",
       "   'Lamberteschi']},\n",
       " 'Pazzi': {'Pazzi': ['Pazzi'],\n",
       "  'Salviati': ['Pazzi', 'Salviati'],\n",
       "  'Medici': ['Pazzi', 'Salviati', 'Medici'],\n",
       "  'Acciaiuoli': ['Pazzi', 'Salviati', 'Medici', 'Acciaiuoli'],\n",
       "  'Barbadori': ['Pazzi', 'Salviati', 'Medici', 'Barbadori'],\n",
       "  'Ridolfi': ['Pazzi', 'Salviati', 'Medici', 'Ridolfi'],\n",
       "  'Tornabuoni': ['Pazzi', 'Salviati', 'Medici', 'Tornabuoni'],\n",
       "  'Albizzi': ['Pazzi', 'Salviati', 'Medici', 'Albizzi'],\n",
       "  'Castellani': ['Pazzi', 'Salviati', 'Medici', 'Barbadori', 'Castellani'],\n",
       "  'Strozzi': ['Pazzi', 'Salviati', 'Medici', 'Ridolfi', 'Strozzi'],\n",
       "  'Guadagni': ['Pazzi', 'Salviati', 'Medici', 'Tornabuoni', 'Guadagni'],\n",
       "  'Ginori': ['Pazzi', 'Salviati', 'Medici', 'Albizzi', 'Ginori'],\n",
       "  'Peruzzi': ['Pazzi',\n",
       "   'Salviati',\n",
       "   'Medici',\n",
       "   'Barbadori',\n",
       "   'Castellani',\n",
       "   'Peruzzi'],\n",
       "  'Bischeri': ['Pazzi',\n",
       "   'Salviati',\n",
       "   'Medici',\n",
       "   'Ridolfi',\n",
       "   'Strozzi',\n",
       "   'Bischeri'],\n",
       "  'Lamberteschi': ['Pazzi',\n",
       "   'Salviati',\n",
       "   'Medici',\n",
       "   'Tornabuoni',\n",
       "   'Guadagni',\n",
       "   'Lamberteschi']},\n",
       " 'Bischeri': {'Bischeri': ['Bischeri'],\n",
       "  'Peruzzi': ['Bischeri', 'Peruzzi'],\n",
       "  'Strozzi': ['Bischeri', 'Strozzi'],\n",
       "  'Guadagni': ['Bischeri', 'Guadagni'],\n",
       "  'Castellani': ['Bischeri', 'Peruzzi', 'Castellani'],\n",
       "  'Ridolfi': ['Bischeri', 'Strozzi', 'Ridolfi'],\n",
       "  'Tornabuoni': ['Bischeri', 'Guadagni', 'Tornabuoni'],\n",
       "  'Albizzi': ['Bischeri', 'Guadagni', 'Albizzi'],\n",
       "  'Lamberteschi': ['Bischeri', 'Guadagni', 'Lamberteschi'],\n",
       "  'Barbadori': ['Bischeri', 'Peruzzi', 'Castellani', 'Barbadori'],\n",
       "  'Medici': ['Bischeri', 'Strozzi', 'Ridolfi', 'Medici'],\n",
       "  'Ginori': ['Bischeri', 'Guadagni', 'Albizzi', 'Ginori'],\n",
       "  'Acciaiuoli': ['Bischeri', 'Strozzi', 'Ridolfi', 'Medici', 'Acciaiuoli'],\n",
       "  'Salviati': ['Bischeri', 'Strozzi', 'Ridolfi', 'Medici', 'Salviati'],\n",
       "  'Pazzi': ['Bischeri', 'Strozzi', 'Ridolfi', 'Medici', 'Salviati', 'Pazzi']},\n",
       " 'Guadagni': {'Guadagni': ['Guadagni'],\n",
       "  'Tornabuoni': ['Guadagni', 'Tornabuoni'],\n",
       "  'Albizzi': ['Guadagni', 'Albizzi'],\n",
       "  'Bischeri': ['Guadagni', 'Bischeri'],\n",
       "  'Lamberteschi': ['Guadagni', 'Lamberteschi'],\n",
       "  'Medici': ['Guadagni', 'Tornabuoni', 'Medici'],\n",
       "  'Ridolfi': ['Guadagni', 'Tornabuoni', 'Ridolfi'],\n",
       "  'Ginori': ['Guadagni', 'Albizzi', 'Ginori'],\n",
       "  'Peruzzi': ['Guadagni', 'Bischeri', 'Peruzzi'],\n",
       "  'Strozzi': ['Guadagni', 'Bischeri', 'Strozzi'],\n",
       "  'Acciaiuoli': ['Guadagni', 'Tornabuoni', 'Medici', 'Acciaiuoli'],\n",
       "  'Barbadori': ['Guadagni', 'Tornabuoni', 'Medici', 'Barbadori'],\n",
       "  'Salviati': ['Guadagni', 'Tornabuoni', 'Medici', 'Salviati'],\n",
       "  'Castellani': ['Guadagni', 'Bischeri', 'Peruzzi', 'Castellani'],\n",
       "  'Pazzi': ['Guadagni', 'Tornabuoni', 'Medici', 'Salviati', 'Pazzi']},\n",
       " 'Ginori': {'Ginori': ['Ginori'],\n",
       "  'Albizzi': ['Ginori', 'Albizzi'],\n",
       "  'Medici': ['Ginori', 'Albizzi', 'Medici'],\n",
       "  'Guadagni': ['Ginori', 'Albizzi', 'Guadagni'],\n",
       "  'Acciaiuoli': ['Ginori', 'Albizzi', 'Medici', 'Acciaiuoli'],\n",
       "  'Barbadori': ['Ginori', 'Albizzi', 'Medici', 'Barbadori'],\n",
       "  'Ridolfi': ['Ginori', 'Albizzi', 'Medici', 'Ridolfi'],\n",
       "  'Tornabuoni': ['Ginori', 'Albizzi', 'Medici', 'Tornabuoni'],\n",
       "  'Salviati': ['Ginori', 'Albizzi', 'Medici', 'Salviati'],\n",
       "  'Bischeri': ['Ginori', 'Albizzi', 'Guadagni', 'Bischeri'],\n",
       "  'Lamberteschi': ['Ginori', 'Albizzi', 'Guadagni', 'Lamberteschi'],\n",
       "  'Castellani': ['Ginori', 'Albizzi', 'Medici', 'Barbadori', 'Castellani'],\n",
       "  'Strozzi': ['Ginori', 'Albizzi', 'Medici', 'Ridolfi', 'Strozzi'],\n",
       "  'Pazzi': ['Ginori', 'Albizzi', 'Medici', 'Salviati', 'Pazzi'],\n",
       "  'Peruzzi': ['Ginori', 'Albizzi', 'Guadagni', 'Bischeri', 'Peruzzi']},\n",
       " 'Lamberteschi': {'Lamberteschi': ['Lamberteschi'],\n",
       "  'Guadagni': ['Lamberteschi', 'Guadagni'],\n",
       "  'Tornabuoni': ['Lamberteschi', 'Guadagni', 'Tornabuoni'],\n",
       "  'Albizzi': ['Lamberteschi', 'Guadagni', 'Albizzi'],\n",
       "  'Bischeri': ['Lamberteschi', 'Guadagni', 'Bischeri'],\n",
       "  'Medici': ['Lamberteschi', 'Guadagni', 'Tornabuoni', 'Medici'],\n",
       "  'Ridolfi': ['Lamberteschi', 'Guadagni', 'Tornabuoni', 'Ridolfi'],\n",
       "  'Ginori': ['Lamberteschi', 'Guadagni', 'Albizzi', 'Ginori'],\n",
       "  'Peruzzi': ['Lamberteschi', 'Guadagni', 'Bischeri', 'Peruzzi'],\n",
       "  'Strozzi': ['Lamberteschi', 'Guadagni', 'Bischeri', 'Strozzi'],\n",
       "  'Acciaiuoli': ['Lamberteschi',\n",
       "   'Guadagni',\n",
       "   'Tornabuoni',\n",
       "   'Medici',\n",
       "   'Acciaiuoli'],\n",
       "  'Barbadori': ['Lamberteschi',\n",
       "   'Guadagni',\n",
       "   'Tornabuoni',\n",
       "   'Medici',\n",
       "   'Barbadori'],\n",
       "  'Salviati': ['Lamberteschi', 'Guadagni', 'Tornabuoni', 'Medici', 'Salviati'],\n",
       "  'Castellani': ['Lamberteschi',\n",
       "   'Guadagni',\n",
       "   'Bischeri',\n",
       "   'Peruzzi',\n",
       "   'Castellani'],\n",
       "  'Pazzi': ['Lamberteschi',\n",
       "   'Guadagni',\n",
       "   'Tornabuoni',\n",
       "   'Medici',\n",
       "   'Salviati',\n",
       "   'Pazzi']}}"
      ]
     },
     "execution_count": 30,
     "metadata": {},
     "output_type": "execute_result"
    }
   ],
   "source": [
    "nx.shortest_path(G)"
   ]
  },
  {
   "cell_type": "markdown",
   "metadata": {},
   "source": [
    "When you primarily care about the actual distance rather than the shortest paths you can use `nx.shortest_path_length`, which returns 2-tuples consisting of (node identifier, dictionary where keys=node identifier & values = shortest path length)."
   ]
  },
  {
   "cell_type": "code",
   "execution_count": 31,
   "metadata": {},
   "outputs": [
    {
     "data": {
      "text/plain": [
       "[('Acciaiuoli',\n",
       "  {'Acciaiuoli': 0,\n",
       "   'Medici': 1,\n",
       "   'Ridolfi': 2,\n",
       "   'Albizzi': 2,\n",
       "   'Barbadori': 2,\n",
       "   'Salviati': 2,\n",
       "   'Tornabuoni': 2,\n",
       "   'Pazzi': 3,\n",
       "   'Strozzi': 3,\n",
       "   'Castellani': 3,\n",
       "   'Ginori': 3,\n",
       "   'Guadagni': 3,\n",
       "   'Lamberteschi': 4,\n",
       "   'Bischeri': 4,\n",
       "   'Peruzzi': 4}),\n",
       " ('Medici',\n",
       "  {'Medici': 0,\n",
       "   'Ridolfi': 1,\n",
       "   'Acciaiuoli': 1,\n",
       "   'Albizzi': 1,\n",
       "   'Barbadori': 1,\n",
       "   'Salviati': 1,\n",
       "   'Tornabuoni': 1,\n",
       "   'Pazzi': 2,\n",
       "   'Strozzi': 2,\n",
       "   'Castellani': 2,\n",
       "   'Ginori': 2,\n",
       "   'Guadagni': 2,\n",
       "   'Lamberteschi': 3,\n",
       "   'Bischeri': 3,\n",
       "   'Peruzzi': 3})]"
      ]
     },
     "execution_count": 31,
     "metadata": {},
     "output_type": "execute_result"
    }
   ],
   "source": [
    "[i for i in nx.shortest_path_length(G)][:2]"
   ]
  },
  {
   "cell_type": "markdown",
   "metadata": {},
   "source": [
    "You can also compute the average shortest path length in a graph: "
   ]
  },
  {
   "cell_type": "code",
   "execution_count": 32,
   "metadata": {},
   "outputs": [
    {
     "data": {
      "text/plain": [
       "2.4857142857142858"
      ]
     },
     "execution_count": 32,
     "metadata": {},
     "output_type": "execute_result"
    }
   ],
   "source": [
    "nx.average_shortest_path_length(G)"
   ]
  },
  {
   "cell_type": "markdown",
   "metadata": {},
   "source": [
    "We can determine the common neighbors shared by two nodes:"
   ]
  },
  {
   "cell_type": "code",
   "execution_count": 33,
   "metadata": {},
   "outputs": [
    {
     "data": {
      "text/plain": [
       "['Medici']"
      ]
     },
     "execution_count": 33,
     "metadata": {},
     "output_type": "execute_result"
    }
   ],
   "source": [
    "list(nx.common_neighbors(G, 'Ridolfi', 'Tornabuoni'))"
   ]
  },
  {
   "cell_type": "markdown",
   "metadata": {},
   "source": [
    "Sometimes the graph may not be connected, and we may be interested in how many components it has. We can examine this with `number_connected_components`. To make its function more obvious, let's first remove the node \"Medici\" and see how it looks:"
   ]
  },
  {
   "cell_type": "code",
   "execution_count": 34,
   "metadata": {},
   "outputs": [
    {
     "data": {
      "image/png": "[encoded data removed]",
      "text/plain": [
       "<Figure size 432x288 with 1 Axes>"
      ]
     },
     "metadata": {},
     "output_type": "display_data"
    }
   ],
   "source": [
    "G.remove_node('Medici')\n",
    "nx.draw_networkx(G, with_labels=True, node_color='#00C4FF')"
   ]
  },
  {
   "cell_type": "markdown",
   "metadata": {},
   "source": [
    "As we can see, the graph has 3 connected components. This result can be confirmed using the `number_connected_components` function:"
   ]
  },
  {
   "cell_type": "code",
   "execution_count": 35,
   "metadata": {},
   "outputs": [
    {
     "data": {
      "text/plain": [
       "3"
      ]
     },
     "execution_count": 35,
     "metadata": {},
     "output_type": "execute_result"
    }
   ],
   "source": [
    "nx.number_connected_components(G)"
   ]
  },
  {
   "cell_type": "markdown",
   "metadata": {},
   "source": [
    "When working with directed graphs we may be interested in the strongly or weakly connected components. NetworkX provides functionality to access generators that return sets of nodes in such components as well as convenience functions that simply return the number of such components in the graph."
   ]
  },
  {
   "cell_type": "code",
   "execution_count": 36,
   "metadata": {},
   "outputs": [
    {
     "data": {
      "text/plain": [
       "[{4}, {1, 2, 3}]"
      ]
     },
     "execution_count": 36,
     "metadata": {},
     "output_type": "execute_result"
    }
   ],
   "source": [
    "list(nx.strongly_connected_components(DiG))\n",
    "#[i for i in nx.strongly_connected_components(DiG)] # this is an equivalent list comprehension"
   ]
  },
  {
   "cell_type": "code",
   "execution_count": 37,
   "metadata": {},
   "outputs": [
    {
     "data": {
      "text/plain": [
       "2"
      ]
     },
     "execution_count": 37,
     "metadata": {},
     "output_type": "execute_result"
    }
   ],
   "source": [
    "nx.number_strongly_connected_components(DiG)"
   ]
  },
  {
   "cell_type": "markdown",
   "metadata": {},
   "source": [
    "## Algorithms\n",
    "\n",
    "`networkx` features an abundance of algorithms. In this part, we will work with several functions including some we'll use in assignment 1.\n",
    "\n",
    "We use a graph generator from NetworkX to create a random graph. Here we use the function [`nx.generators.random_graphs.dense_gnm_random_graph(n, m)`](https://networkx.github.io/documentation/stable/reference/generated/networkx.generators.random_graphs.dense_gnm_random_graph.html), which generates a random graph $G(V, E)$ with nodes $V$ and edges $E$, where $|V| = n$ and $|E|=m$. For our example, the graph will have 1,000 nodes and 5,000 edges. You do not need to worry about how $G$ is constructed. We will learn more about graph generative models in Week 2. "
   ]
  },
  {
   "cell_type": "code",
   "execution_count": 38,
   "metadata": {},
   "outputs": [],
   "source": [
    "G = nx.generators.random_graphs.dense_gnm_random_graph(n=1000, m=5000)"
   ]
  },
  {
   "cell_type": "markdown",
   "metadata": {},
   "source": [
    "To see the graph we have created, we could use `networkx_draw_network` to visualize it. However, for large graphs, this may not generate a very informative visualization. Let's try it:"
   ]
  },
  {
   "cell_type": "code",
   "execution_count": 39,
   "metadata": {},
   "outputs": [
    {
     "data": {
      "image/png": "[encoded data removed]",
      "text/plain": [
       "<Figure size 432x288 with 1 Axes>"
      ]
     },
     "metadata": {},
     "output_type": "display_data"
    }
   ],
   "source": [
    "nx.draw_networkx(G, node_size=30, with_labels=False)"
   ]
  },
  {
   "cell_type": "markdown",
   "metadata": {},
   "source": [
    "Instead, we can use different measures to explore the graph's characteristics. For example, we can use `networkx.degree_histogram` to group nodes by their degree and plot the degree distribution:"
   ]
  },
  {
   "cell_type": "code",
   "execution_count": 40,
   "metadata": {},
   "outputs": [
    {
     "data": {
      "image/png": "[encoded data removed]",
      "text/plain": [
       "<Figure size 432x288 with 1 Axes>"
      ]
     },
     "metadata": {
      "needs_background": "light"
     },
     "output_type": "display_data"
    }
   ],
   "source": [
    "hist = nx.degree_histogram(G)\n",
    "plt.plot(hist);"
   ]
  },
  {
   "cell_type": "markdown",
   "metadata": {},
   "source": [
    "### Breadth-first search\n",
    "Another way of assessing distance in a graph is through breadth-first search which calculates distances in terms of \"layers\" spreading outward from a given ego node. The ego node is indicated via the 'source' parameter and you can limit the depth of the search (how many layers) using 'depth_limit'."
   ]
  },
  {
   "cell_type": "code",
   "execution_count": 41,
   "metadata": {},
   "outputs": [
    {
     "data": {
      "text/plain": [
       "OutEdgeView([(5, 168), (5, 222), (5, 451), (5, 483), (5, 508), (5, 540), (5, 585), (5, 720), (5, 807), (5, 963), (168, 2), (168, 79), (168, 258), (168, 536), (168, 638), (168, 738), (168, 802), (168, 839), (168, 851), (222, 172), (222, 173), (222, 392), (222, 755), (222, 918), (222, 965), (451, 11), (451, 52), (451, 200), (451, 247), (451, 251), (451, 374), (451, 380), (451, 411), (451, 449), (451, 710), (451, 750), (451, 809), (451, 971), (483, 524), (483, 606), (483, 644), (483, 859), (483, 973), (508, 310), (508, 436), (508, 460), (508, 593), (508, 814), (508, 924), (508, 953), (508, 984), (540, 116), (540, 175), (540, 605), (540, 688), (540, 721), (540, 722), (540, 752), (540, 834), (540, 885), (540, 915), (540, 928), (585, 90), (585, 357), (585, 384), (585, 388), (585, 464), (585, 487), (585, 498), (585, 576), (585, 610), (585, 679), (585, 776), (585, 777), (585, 789), (720, 81), (720, 130), (720, 166), (720, 193), (720, 255), (720, 256), (720, 493), (720, 520), (720, 590), (720, 627), (720, 697), (720, 955), (807, 57), (807, 149), (807, 301), (807, 327), (807, 491), (807, 509), (963, 150), (963, 178), (963, 273), (963, 378), (963, 396), (963, 428), (963, 456), (963, 646), (963, 647), (963, 656), (963, 727), (963, 841)])"
      ]
     },
     "execution_count": 41,
     "metadata": {},
     "output_type": "execute_result"
    }
   ],
   "source": [
    "this_tree = nx.bfs_tree(G, source=5, depth_limit=2)\n",
    "this_tree.edges()"
   ]
  },
  {
   "cell_type": "markdown",
   "metadata": {},
   "source": [
    "### Centrality measures\n",
    "\n",
    "NetworkX provides several centrality algorithms to measure the importance of nodes. The complete list of functions can be found [here](https://networkx.github.io/documentation/stable/reference/algorithms/centrality.html). In this tutorial, we focus on the three measurements,\n",
    "\n",
    "```python\n",
    "nx.degree_centrality\n",
    "nx.closeness_centrality\n",
    "nx.betweenness_centrality\n",
    "nx.pagerank\n",
    "nx.hits\n",
    "```\n",
    "\n",
    "`nx.degree_centrality` returns a dictionary where keys are the name of nodes and values are the node's degree centrality value. For example, "
   ]
  },
  {
   "cell_type": "code",
   "execution_count": 42,
   "metadata": {},
   "outputs": [
    {
     "name": "stdout",
     "output_type": "stream",
     "text": [
      "The degree centrality of node 42 is 0.005005005005005005\n"
     ]
    }
   ],
   "source": [
    "deg_dict = nx.degree_centrality(G)\n",
    "print(f\"The degree centrality of node {42} is {deg_dict[42]}\")"
   ]
  },
  {
   "cell_type": "markdown",
   "metadata": {},
   "source": [
    "Similarly, we can calculate in and out-degree centrality for a directed graph with `nx.in_degree_centrality()` and `nx.out_degree_centrality`, respectively."
   ]
  },
  {
   "cell_type": "code",
   "execution_count": 43,
   "metadata": {},
   "outputs": [
    {
     "data": {
      "text/plain": [
       "{1: 0.6666666666666666, 2: 0.3333333333333333, 3: 0.6666666666666666, 4: 1.0}"
      ]
     },
     "execution_count": 43,
     "metadata": {},
     "output_type": "execute_result"
    }
   ],
   "source": [
    "nx.in_degree_centrality(DiG)"
   ]
  },
  {
   "cell_type": "code",
   "execution_count": 44,
   "metadata": {},
   "outputs": [
    {
     "data": {
      "text/plain": [
       "{1: 1.0, 2: 1.0, 3: 0.6666666666666666, 4: 0.0}"
      ]
     },
     "execution_count": 44,
     "metadata": {},
     "output_type": "execute_result"
    }
   ],
   "source": [
    "nx.out_degree_centrality(DiG)"
   ]
  },
  {
   "cell_type": "markdown",
   "metadata": {},
   "source": [
    "`closeness_centrality` returns a dictionary where keys are the names of the nodes and the values are the calculated centrality values."
   ]
  },
  {
   "cell_type": "code",
   "execution_count": 45,
   "metadata": {},
   "outputs": [
    {
     "name": "stdout",
     "output_type": "stream",
     "text": [
      "The closeness centrality of node 42 is 0.2846964947278427\n"
     ]
    }
   ],
   "source": [
    "clos_dict = nx.closeness_centrality(G)\n",
    "print(f\"The closeness centrality of node {42} is {clos_dict[42]}\")"
   ]
  },
  {
   "cell_type": "markdown",
   "metadata": {},
   "source": [
    "`betweenness_centrality` returns a dictionary where keys are the names of the nodes and the values are the calculated centrality values."
   ]
  },
  {
   "cell_type": "code",
   "execution_count": 46,
   "metadata": {},
   "outputs": [
    {
     "name": "stdout",
     "output_type": "stream",
     "text": [
      "The betweenness centrality of node 42 is 0.00045446055982221545\n"
     ]
    }
   ],
   "source": [
    "bet_dict = nx.betweenness_centrality(G)\n",
    "print(f\"The betweenness centrality of node {42} is {bet_dict[42]}\")"
   ]
  },
  {
   "cell_type": "markdown",
   "metadata": {},
   "source": [
    "Betweenness centrality is normalized and ignores endpoints by default. However, you can easily change that through the 'normalized' and 'endpoints' parameters as shown below. Also, you can limit the calculation to a sample of nodes using the 'k' parameter."
   ]
  },
  {
   "cell_type": "code",
   "execution_count": 47,
   "metadata": {},
   "outputs": [
    {
     "name": "stdout",
     "output_type": "stream",
     "text": [
      "The unnormalized betweenness centrality of node 42 without endpoints is 105.7546864899806\n"
     ]
    }
   ],
   "source": [
    "bet_dict = nx.betweenness_centrality(G, normalized=False, endpoints=False, k=25)\n",
    "print(f\"The unnormalized betweenness centrality of node {42} without endpoints is {bet_dict[42]}\")"
   ]
  },
  {
   "cell_type": "markdown",
   "metadata": {},
   "source": [
    "You can also specify a particular set of source and target nodes to compute betweenness values."
   ]
  },
  {
   "cell_type": "code",
   "execution_count": 48,
   "metadata": {},
   "outputs": [
    {
     "name": "stdout",
     "output_type": "stream",
     "text": [
      "The closeness centrality of node 42 is now 0.31666666666666665\n"
     ]
    }
   ],
   "source": [
    "bet_dict = nx.betweenness_centrality_subset(G, sources = list(range(40)), targets = list(range(100,200)))\n",
    "print(f\"The closeness centrality of node {42} is now {bet_dict[42]}\")"
   ]
  },
  {
   "cell_type": "markdown",
   "metadata": {},
   "source": [
    "For PageRank we need to specify a damping value (which is set to 0.85 by default). For example, we can set the damping value to 0.9:"
   ]
  },
  {
   "cell_type": "code",
   "execution_count": 49,
   "metadata": {},
   "outputs": [
    {
     "name": "stdout",
     "output_type": "stream",
     "text": [
      "The pagerank value of node 0 is 0.001180800204915941\n"
     ]
    }
   ],
   "source": [
    "pagerank_dict = nx.pagerank(G, alpha=0.9)\n",
    "print(f\"The pagerank value of node {0} is {pagerank_dict[0]}\")"
   ]
  },
  {
   "cell_type": "markdown",
   "metadata": {},
   "source": [
    "`networkx.hits` returns HITS hub and authority scores for nodes as a pair of dictionaries `(dict_of_hub, dict_of_authority)`. Since HITS runs iteratively, you need to specify a `max_iter` to indicate the number of iterations you want to run."
   ]
  },
  {
   "cell_type": "code",
   "execution_count": 50,
   "metadata": {},
   "outputs": [
    {
     "name": "stdout",
     "output_type": "stream",
     "text": [
      "The HITS hub value of node 42 is 0.0005105955240970846\n",
      "The HITS authority value of node 0 is 0.0012085627763684338\n"
     ]
    }
   ],
   "source": [
    "hub, authority = nx.hits(G, max_iter=200)\n",
    "print(f\"The HITS hub value of node {42} is {hub[42]}\")\n",
    "print(f\"The HITS authority value of node {0} is {authority[0]}\")"
   ]
  },
  {
   "cell_type": "markdown",
   "metadata": {},
   "source": [
    "### Clustering\n",
    "\n",
    "NetworkX clustering algorithms characterize the number of triangles in a graph. The list of algorithms can be found [here](https://networkx.github.io/documentation/stable/reference/algorithms/clustering.html)."
   ]
  },
  {
   "cell_type": "markdown",
   "metadata": {},
   "source": [
    "We can calculate the clustering coefficient for every node in the graph:"
   ]
  },
  {
   "cell_type": "code",
   "execution_count": 51,
   "metadata": {},
   "outputs": [
    {
     "data": {
      "text/plain": [
       "{0: 0.015151515151515152,\n",
       " 1: 0.009523809523809525,\n",
       " 2: 0.027777777777777776,\n",
       " 3: 0,\n",
       " 4: 0.022058823529411766,\n",
       " 5: 0,\n",
       " 6: 0.09523809523809523,\n",
       " 7: 0.015151515151515152,\n",
       " 8: 0,\n",
       " 9: 0.044444444444444446,\n",
       " 10: 0,\n",
       " 11: 0.027777777777777776,\n",
       " 12: 0,\n",
       " 13: 0,\n",
       " 14: 0,\n",
       " 15: 0,\n",
       " 16: 0,\n",
       " 17: 0,\n",
       " 18: 0,\n",
       " 19: 0,\n",
       " 20: 0,\n",
       " 21: 0,\n",
       " 22: 0.030303030303030304,\n",
       " 23: 0.02564102564102564,\n",
       " 24: 0,\n",
       " 25: 0,\n",
       " 26: 0.01818181818181818,\n",
       " 27: 0.047619047619047616,\n",
       " 28: 0,\n",
       " 29: 0,\n",
       " 30: 0,\n",
       " 31: 0,\n",
       " 32: 0,\n",
       " 33: 0,\n",
       " 34: 0.03571428571428571,\n",
       " 35: 0.01098901098901099,\n",
       " 36: 0.06666666666666667,\n",
       " 37: 0.015151515151515152,\n",
       " 38: 0.01282051282051282,\n",
       " 39: 0,\n",
       " 40: 0,\n",
       " 41: 0,\n",
       " 42: 0,\n",
       " 43: 0,\n",
       " 44: 0,\n",
       " 45: 0,\n",
       " 46: 0,\n",
       " 47: 0.03571428571428571,\n",
       " 48: 0,\n",
       " 49: 0.015151515151515152,\n",
       " 50: 0,\n",
       " 51: 0,\n",
       " 52: 0,\n",
       " 53: 0.008333333333333333,\n",
       " 54: 0,\n",
       " 55: 0,\n",
       " 56: 0,\n",
       " 57: 0,\n",
       " 58: 0,\n",
       " 59: 0,\n",
       " 60: 0,\n",
       " 61: 0.027777777777777776,\n",
       " 62: 0,\n",
       " 63: 0,\n",
       " 64: 0,\n",
       " 65: 0.01818181818181818,\n",
       " 66: 0.1,\n",
       " 67: 0,\n",
       " 68: 0,\n",
       " 69: 0.022222222222222223,\n",
       " 70: 0,\n",
       " 71: 0,\n",
       " 72: 0.01282051282051282,\n",
       " 73: 0.02564102564102564,\n",
       " 74: 0.01818181818181818,\n",
       " 75: 0.022222222222222223,\n",
       " 76: 0,\n",
       " 77: 0,\n",
       " 78: 0.01098901098901099,\n",
       " 79: 0.009523809523809525,\n",
       " 80: 0,\n",
       " 81: 0,\n",
       " 82: 0,\n",
       " 83: 0,\n",
       " 84: 0,\n",
       " 85: 0,\n",
       " 86: 0.015151515151515152,\n",
       " 87: 0.06666666666666667,\n",
       " 88: 0,\n",
       " 89: 0.03571428571428571,\n",
       " 90: 0.007352941176470588,\n",
       " 91: 0.047619047619047616,\n",
       " 92: 0,\n",
       " 93: 0,\n",
       " 94: 0.01818181818181818,\n",
       " 95: 0,\n",
       " 96: 0.03571428571428571,\n",
       " 97: 0,\n",
       " 98: 0.1,\n",
       " 99: 0,\n",
       " 100: 0.022222222222222223,\n",
       " 101: 0.038461538461538464,\n",
       " 102: 0,\n",
       " 103: 0.022222222222222223,\n",
       " 104: 0,\n",
       " 105: 0,\n",
       " 106: 0.01282051282051282,\n",
       " 107: 0.01282051282051282,\n",
       " 108: 0.047619047619047616,\n",
       " 109: 0,\n",
       " 110: 0,\n",
       " 111: 0,\n",
       " 112: 0,\n",
       " 113: 0,\n",
       " 114: 0.03571428571428571,\n",
       " 115: 0,\n",
       " 116: 0,\n",
       " 117: 0,\n",
       " 118: 0,\n",
       " 119: 0,\n",
       " 120: 0,\n",
       " 121: 0,\n",
       " 122: 0.03571428571428571,\n",
       " 123: 0.047619047619047616,\n",
       " 124: 0.06666666666666667,\n",
       " 125: 0,\n",
       " 126: 0,\n",
       " 127: 0.01282051282051282,\n",
       " 128: 0,\n",
       " 129: 0.027777777777777776,\n",
       " 130: 0.01904761904761905,\n",
       " 131: 0,\n",
       " 132: 0,\n",
       " 133: 0,\n",
       " 134: 0,\n",
       " 135: 0.01098901098901099,\n",
       " 136: 0,\n",
       " 137: 0,\n",
       " 138: 0.01282051282051282,\n",
       " 139: 0,\n",
       " 140: 0.01904761904761905,\n",
       " 141: 0.022222222222222223,\n",
       " 142: 0,\n",
       " 143: 0.025,\n",
       " 144: 0,\n",
       " 145: 0,\n",
       " 146: 0,\n",
       " 147: 0,\n",
       " 148: 0,\n",
       " 149: 0.0380952380952381,\n",
       " 150: 0,\n",
       " 151: 0,\n",
       " 152: 0.03571428571428571,\n",
       " 153: 0,\n",
       " 154: 0.09523809523809523,\n",
       " 155: 0.07142857142857142,\n",
       " 156: 0,\n",
       " 157: 0,\n",
       " 158: 0,\n",
       " 159: 0,\n",
       " 160: 0,\n",
       " 161: 0.008333333333333333,\n",
       " 162: 0,\n",
       " 163: 0.01098901098901099,\n",
       " 164: 0,\n",
       " 165: 0,\n",
       " 166: 0,\n",
       " 167: 0,\n",
       " 168: 0,\n",
       " 169: 0,\n",
       " 170: 0,\n",
       " 171: 0.015151515151515152,\n",
       " 172: 0,\n",
       " 173: 0.03636363636363636,\n",
       " 174: 0,\n",
       " 175: 0.01904761904761905,\n",
       " 176: 0.009523809523809525,\n",
       " 177: 0,\n",
       " 178: 0.009523809523809525,\n",
       " 179: 0,\n",
       " 180: 0,\n",
       " 181: 0,\n",
       " 182: 0.03636363636363636,\n",
       " 183: 0.03571428571428571,\n",
       " 184: 0.03636363636363636,\n",
       " 185: 0,\n",
       " 186: 0,\n",
       " 187: 0.047619047619047616,\n",
       " 188: 0,\n",
       " 189: 0.02197802197802198,\n",
       " 190: 0.02564102564102564,\n",
       " 191: 0,\n",
       " 192: 0,\n",
       " 193: 0,\n",
       " 194: 0.01098901098901099,\n",
       " 195: 0,\n",
       " 196: 0,\n",
       " 197: 0.030303030303030304,\n",
       " 198: 0,\n",
       " 199: 0.027777777777777776,\n",
       " 200: 0.01282051282051282,\n",
       " 201: 0,\n",
       " 202: 0.022222222222222223,\n",
       " 203: 0,\n",
       " 204: 0,\n",
       " 205: 0,\n",
       " 206: 0,\n",
       " 207: 0,\n",
       " 208: 0,\n",
       " 209: 0,\n",
       " 210: 0,\n",
       " 211: 0.16666666666666666,\n",
       " 212: 0,\n",
       " 213: 0,\n",
       " 214: 0,\n",
       " 215: 0,\n",
       " 216: 0,\n",
       " 217: 0,\n",
       " 218: 0,\n",
       " 219: 0,\n",
       " 220: 0.027777777777777776,\n",
       " 221: 0.01282051282051282,\n",
       " 222: 0.047619047619047616,\n",
       " 223: 0.02564102564102564,\n",
       " 224: 0.02564102564102564,\n",
       " 225: 0,\n",
       " 226: 0,\n",
       " 227: 0.030303030303030304,\n",
       " 228: 0.016666666666666666,\n",
       " 229: 0,\n",
       " 230: 0.047619047619047616,\n",
       " 231: 0,\n",
       " 232: 0,\n",
       " 233: 0.05555555555555555,\n",
       " 234: 0,\n",
       " 235: 0,\n",
       " 236: 0,\n",
       " 237: 0,\n",
       " 238: 0,\n",
       " 239: 0,\n",
       " 240: 0,\n",
       " 241: 0.047619047619047616,\n",
       " 242: 0.01098901098901099,\n",
       " 243: 0,\n",
       " 244: 0.016666666666666666,\n",
       " 245: 0.014705882352941176,\n",
       " 246: 0,\n",
       " 247: 0,\n",
       " 248: 0,\n",
       " 249: 0,\n",
       " 250: 0,\n",
       " 251: 0.03571428571428571,\n",
       " 252: 0,\n",
       " 253: 0.01282051282051282,\n",
       " 254: 0,\n",
       " 255: 0,\n",
       " 256: 0,\n",
       " 257: 0.022222222222222223,\n",
       " 258: 0,\n",
       " 259: 0.009523809523809525,\n",
       " 260: 0.1,\n",
       " 261: 0,\n",
       " 262: 0,\n",
       " 263: 0.01098901098901099,\n",
       " 264: 0,\n",
       " 265: 0,\n",
       " 266: 0.01818181818181818,\n",
       " 267: 0,\n",
       " 268: 0.022222222222222223,\n",
       " 269: 0.022222222222222223,\n",
       " 270: 0,\n",
       " 271: 0,\n",
       " 272: 0,\n",
       " 273: 0,\n",
       " 274: 0,\n",
       " 275: 0.03571428571428571,\n",
       " 276: 0.009523809523809525,\n",
       " 277: 0,\n",
       " 278: 0.01904761904761905,\n",
       " 279: 0.09523809523809523,\n",
       " 280: 0.015151515151515152,\n",
       " 281: 0,\n",
       " 282: 0,\n",
       " 283: 0.016666666666666666,\n",
       " 284: 0,\n",
       " 285: 0.027777777777777776,\n",
       " 286: 0.01818181818181818,\n",
       " 287: 0,\n",
       " 288: 0,\n",
       " 289: 0.022222222222222223,\n",
       " 290: 0.01098901098901099,\n",
       " 291: 0.025,\n",
       " 292: 0,\n",
       " 293: 0,\n",
       " 294: 0,\n",
       " 295: 0.01098901098901099,\n",
       " 296: 0,\n",
       " 297: 0,\n",
       " 298: 0,\n",
       " 299: 0,\n",
       " 300: 0,\n",
       " 301: 0,\n",
       " 302: 0.01098901098901099,\n",
       " 303: 0,\n",
       " 304: 0.009523809523809525,\n",
       " 305: 0,\n",
       " 306: 0,\n",
       " 307: 0.02197802197802198,\n",
       " 308: 0.027777777777777776,\n",
       " 309: 0,\n",
       " 310: 0.02857142857142857,\n",
       " 311: 0.06666666666666667,\n",
       " 312: 0,\n",
       " 313: 0.01282051282051282,\n",
       " 314: 0,\n",
       " 315: 0.1,\n",
       " 316: 0,\n",
       " 317: 0.022222222222222223,\n",
       " 318: 0,\n",
       " 319: 0,\n",
       " 320: 0.06666666666666667,\n",
       " 321: 0.025,\n",
       " 322: 0,\n",
       " 323: 0,\n",
       " 324: 0,\n",
       " 325: 0,\n",
       " 326: 0,\n",
       " 327: 0,\n",
       " 328: 0.027777777777777776,\n",
       " 329: 0.07142857142857142,\n",
       " 330: 0.1,\n",
       " 331: 0,\n",
       " 332: 0,\n",
       " 333: 0.022222222222222223,\n",
       " 334: 0,\n",
       " 335: 0,\n",
       " 336: 0.047619047619047616,\n",
       " 337: 0,\n",
       " 338: 0,\n",
       " 339: 0,\n",
       " 340: 0,\n",
       " 341: 0.01282051282051282,\n",
       " 342: 0.022222222222222223,\n",
       " 343: 0.015151515151515152,\n",
       " 344: 0.01098901098901099,\n",
       " 345: 0,\n",
       " 346: 0,\n",
       " 347: 0,\n",
       " 348: 0,\n",
       " 349: 0.027777777777777776,\n",
       " 350: 0,\n",
       " 351: 0,\n",
       " 352: 0,\n",
       " 353: 0,\n",
       " 354: 0,\n",
       " 355: 0,\n",
       " 356: 0,\n",
       " 357: 0,\n",
       " 358: 0,\n",
       " 359: 0,\n",
       " 360: 0.047619047619047616,\n",
       " 361: 0,\n",
       " 362: 0.06666666666666667,\n",
       " 363: 0,\n",
       " 364: 0,\n",
       " 365: 0,\n",
       " 366: 0,\n",
       " 367: 0.03636363636363636,\n",
       " 368: 0,\n",
       " 369: 0.007352941176470588,\n",
       " 370: 0,\n",
       " 371: 0,\n",
       " 372: 0.07272727272727272,\n",
       " 373: 0,\n",
       " 374: 0.03571428571428571,\n",
       " 375: 0,\n",
       " 376: 0,\n",
       " 377: 0.015151515151515152,\n",
       " 378: 0,\n",
       " 379: 0,\n",
       " 380: 0,\n",
       " 381: 0.022222222222222223,\n",
       " 382: 0,\n",
       " 383: 0,\n",
       " 384: 0,\n",
       " 385: 0,\n",
       " 386: 0.02197802197802198,\n",
       " 387: 0,\n",
       " 388: 0,\n",
       " 389: 0.027777777777777776,\n",
       " 390: 0.01818181818181818,\n",
       " 391: 0,\n",
       " 392: 0,\n",
       " 393: 0,\n",
       " 394: 0,\n",
       " 395: 0.07272727272727272,\n",
       " 396: 0.01098901098901099,\n",
       " 397: 0,\n",
       " 398: 0,\n",
       " 399: 0,\n",
       " 400: 0,\n",
       " 401: 0.01282051282051282,\n",
       " 402: 0,\n",
       " 403: 0.027777777777777776,\n",
       " 404: 0,\n",
       " 405: 0,\n",
       " 406: 0,\n",
       " 407: 0,\n",
       " 408: 0,\n",
       " 409: 0,\n",
       " 410: 0.01282051282051282,\n",
       " 411: 0,\n",
       " 412: 0,\n",
       " 413: 0,\n",
       " 414: 0.045454545454545456,\n",
       " 415: 0,\n",
       " 416: 0,\n",
       " 417: 0,\n",
       " 418: 0,\n",
       " 419: 0,\n",
       " 420: 0,\n",
       " 421: 0,\n",
       " 422: 0,\n",
       " 423: 0.01098901098901099,\n",
       " 424: 0,\n",
       " 425: 0,\n",
       " 426: 0,\n",
       " 427: 0,\n",
       " 428: 0,\n",
       " 429: 0,\n",
       " 430: 0.038461538461538464,\n",
       " 431: 0,\n",
       " 432: 0,\n",
       " 433: 0.015151515151515152,\n",
       " 434: 0,\n",
       " 435: 0,\n",
       " 436: 0.016666666666666666,\n",
       " 437: 0.030303030303030304,\n",
       " 438: 0,\n",
       " 439: 0,\n",
       " 440: 0,\n",
       " 441: 0.009523809523809525,\n",
       " 442: 0,\n",
       " 443: 0,\n",
       " 444: 0,\n",
       " 445: 0.03571428571428571,\n",
       " 446: 0,\n",
       " 447: 0,\n",
       " 448: 0.01904761904761905,\n",
       " 449: 0,\n",
       " 450: 0,\n",
       " 451: 0,\n",
       " 452: 0,\n",
       " 453: 0,\n",
       " 454: 0,\n",
       " 455: 0,\n",
       " 456: 0,\n",
       " 457: 0,\n",
       " 458: 0,\n",
       " 459: 0.009523809523809525,\n",
       " 460: 0.01098901098901099,\n",
       " 461: 0,\n",
       " 462: 0,\n",
       " 463: 0.01282051282051282,\n",
       " 464: 0,\n",
       " 465: 0.022222222222222223,\n",
       " 466: 0,\n",
       " 467: 0,\n",
       " 468: 0,\n",
       " 469: 0,\n",
       " 470: 0,\n",
       " 471: 0,\n",
       " 472: 0,\n",
       " 473: 0,\n",
       " 474: 0,\n",
       " 475: 0,\n",
       " 476: 0,\n",
       " 477: 0.015151515151515152,\n",
       " 478: 0,\n",
       " 479: 0,\n",
       " 480: 0,\n",
       " 481: 0.01818181818181818,\n",
       " 482: 0,\n",
       " 483: 0,\n",
       " 484: 0,\n",
       " 485: 0,\n",
       " 486: 0,\n",
       " 487: 0,\n",
       " 488: 0,\n",
       " 489: 0.02197802197802198,\n",
       " 490: 0,\n",
       " 491: 0,\n",
       " 492: 0.01818181818181818,\n",
       " 493: 0,\n",
       " 494: 0,\n",
       " 495: 0,\n",
       " 496: 0.009523809523809525,\n",
       " 497: 0,\n",
       " 498: 0.008333333333333333,\n",
       " 499: 0,\n",
       " 500: 0.015151515151515152,\n",
       " 501: 0,\n",
       " 502: 0,\n",
       " 503: 0,\n",
       " 504: 0,\n",
       " 505: 0,\n",
       " 506: 0.02564102564102564,\n",
       " 507: 0.022222222222222223,\n",
       " 508: 0.1111111111111111,\n",
       " 509: 0,\n",
       " 510: 0.01818181818181818,\n",
       " 511: 0,\n",
       " 512: 0,\n",
       " 513: 0,\n",
       " 514: 0.03636363636363636,\n",
       " 515: 0,\n",
       " 516: 0,\n",
       " 517: 0.015151515151515152,\n",
       " 518: 0,\n",
       " 519: 0,\n",
       " 520: 0,\n",
       " 521: 0,\n",
       " 522: 0.03571428571428571,\n",
       " 523: 0,\n",
       " 524: 0,\n",
       " 525: 0.14285714285714285,\n",
       " 526: 0,\n",
       " 527: 0.030303030303030304,\n",
       " 528: 0,\n",
       " 529: 0,\n",
       " 530: 0,\n",
       " 531: 0.014705882352941176,\n",
       " 532: 0.01282051282051282,\n",
       " 533: 0,\n",
       " 534: 0,\n",
       " 535: 0,\n",
       " 536: 0,\n",
       " 537: 0,\n",
       " 538: 0,\n",
       " 539: 0.047619047619047616,\n",
       " 540: 0.015151515151515152,\n",
       " 541: 0,\n",
       " 542: 0,\n",
       " 543: 0.045454545454545456,\n",
       " 544: 0.03296703296703297,\n",
       " 545: 0.02564102564102564,\n",
       " 546: 0.01098901098901099,\n",
       " 547: 0.01818181818181818,\n",
       " 548: 0.015151515151515152,\n",
       " 549: 0.022058823529411766,\n",
       " 550: 0,\n",
       " 551: 0.01282051282051282,\n",
       " 552: 0.01282051282051282,\n",
       " 553: 0,\n",
       " 554: 0,\n",
       " 555: 0,\n",
       " 556: 0,\n",
       " 557: 0,\n",
       " 558: 0,\n",
       " 559: 0,\n",
       " 560: 0.015151515151515152,\n",
       " 561: 0,\n",
       " 562: 0,\n",
       " 563: 0.01098901098901099,\n",
       " 564: 0,\n",
       " 565: 0,\n",
       " 566: 0,\n",
       " 567: 0,\n",
       " 568: 0,\n",
       " 569: 0,\n",
       " 570: 0,\n",
       " 571: 0,\n",
       " 572: 0.027777777777777776,\n",
       " 573: 0,\n",
       " 574: 0,\n",
       " 575: 0,\n",
       " 576: 0,\n",
       " 577: 0.027777777777777776,\n",
       " 578: 0.027777777777777776,\n",
       " 579: 0,\n",
       " 580: 0,\n",
       " 581: 0,\n",
       " 582: 0,\n",
       " 583: 0.022222222222222223,\n",
       " 584: 0,\n",
       " 585: 0.01098901098901099,\n",
       " 586: 0.022222222222222223,\n",
       " 587: 0.03571428571428571,\n",
       " 588: 0.01904761904761905,\n",
       " 589: 0,\n",
       " 590: 0.01282051282051282,\n",
       " 591: 0.02564102564102564,\n",
       " 592: 0.03636363636363636,\n",
       " 593: 0,\n",
       " 594: 0,\n",
       " 595: 0,\n",
       " 596: 0,\n",
       " 597: 0.03636363636363636,\n",
       " 598: 0.009523809523809525,\n",
       " 599: 0,\n",
       " 600: 0.015151515151515152,\n",
       " 601: 0,\n",
       " 602: 0,\n",
       " 603: 0,\n",
       " 604: 0,\n",
       " 605: 0,\n",
       " 606: 0.022222222222222223,\n",
       " 607: 0,\n",
       " 608: 0.06666666666666667,\n",
       " 609: 0,\n",
       " 610: 0.009523809523809525,\n",
       " 611: 0,\n",
       " 612: 0,\n",
       " 613: 0.01818181818181818,\n",
       " 614: 0,\n",
       " 615: 0,\n",
       " 616: 0.015151515151515152,\n",
       " 617: 0.01282051282051282,\n",
       " 618: 0.009523809523809525,\n",
       " 619: 0,\n",
       " 620: 0.01818181818181818,\n",
       " 621: 0,\n",
       " 622: 0,\n",
       " 623: 0.01818181818181818,\n",
       " 624: 0,\n",
       " 625: 0,\n",
       " 626: 0,\n",
       " 627: 0.015151515151515152,\n",
       " 628: 0,\n",
       " 629: 0.01818181818181818,\n",
       " 630: 0,\n",
       " 631: 0.01818181818181818,\n",
       " 632: 0.009523809523809525,\n",
       " 633: 0,\n",
       " 634: 0,\n",
       " 635: 0.05555555555555555,\n",
       " 636: 0.05555555555555555,\n",
       " 637: 0,\n",
       " 638: 0,\n",
       " 639: 0,\n",
       " 640: 0,\n",
       " 641: 0,\n",
       " 642: 0,\n",
       " 643: 0,\n",
       " 644: 0,\n",
       " 645: 0,\n",
       " 646: 0,\n",
       " 647: 0.022222222222222223,\n",
       " 648: 0,\n",
       " 649: 0,\n",
       " 650: 0.027777777777777776,\n",
       " 651: 0.01282051282051282,\n",
       " 652: 0.044444444444444446,\n",
       " 653: 0,\n",
       " 654: 0,\n",
       " 655: 0.03636363636363636,\n",
       " 656: 0,\n",
       " 657: 0,\n",
       " 658: 0,\n",
       " 659: 0,\n",
       " 660: 0,\n",
       " 661: 0.01818181818181818,\n",
       " 662: 0.027777777777777776,\n",
       " 663: 0.003076923076923077,\n",
       " 664: 0,\n",
       " 665: 0.03571428571428571,\n",
       " 666: 0,\n",
       " 667: 0.01098901098901099,\n",
       " 668: 0.01818181818181818,\n",
       " 669: 0,\n",
       " 670: 0.02197802197802198,\n",
       " 671: 0.015151515151515152,\n",
       " 672: 0,\n",
       " 673: 0,\n",
       " 674: 0,\n",
       " 675: 0,\n",
       " 676: 0,\n",
       " 677: 0.016666666666666666,\n",
       " 678: 0,\n",
       " 679: 0.01098901098901099,\n",
       " 680: 0,\n",
       " 681: 0.03571428571428571,\n",
       " 682: 0,\n",
       " 683: 0,\n",
       " 684: 0.008333333333333333,\n",
       " 685: 0.05454545454545454,\n",
       " 686: 0,\n",
       " 687: 0.01282051282051282,\n",
       " 688: 0,\n",
       " 689: 0,\n",
       " 690: 0.027777777777777776,\n",
       " 691: 0.027777777777777776,\n",
       " 692: 0.022222222222222223,\n",
       " 693: 0.02564102564102564,\n",
       " 694: 0.027777777777777776,\n",
       " 695: 0,\n",
       " 696: 0,\n",
       " 697: 0,\n",
       " 698: 0,\n",
       " 699: 0.038461538461538464,\n",
       " 700: 0,\n",
       " 701: 0.022222222222222223,\n",
       " 702: 0,\n",
       " 703: 0.01282051282051282,\n",
       " 704: 0,\n",
       " 705: 0,\n",
       " 706: 0,\n",
       " 707: 0.01904761904761905,\n",
       " 708: 0,\n",
       " 709: 0,\n",
       " 710: 0,\n",
       " 711: 0,\n",
       " 712: 0.015151515151515152,\n",
       " 713: 0.02564102564102564,\n",
       " 714: 0,\n",
       " 715: 0,\n",
       " 716: 0,\n",
       " 717: 0.01282051282051282,\n",
       " 718: 0,\n",
       " 719: 0,\n",
       " 720: 0,\n",
       " 721: 0,\n",
       " 722: 0.005847953216374269,\n",
       " 723: 0,\n",
       " 724: 0,\n",
       " 725: 0,\n",
       " 726: 0,\n",
       " 727: 0.03571428571428571,\n",
       " 728: 0,\n",
       " 729: 0.022222222222222223,\n",
       " 730: 0,\n",
       " 731: 0,\n",
       " 732: 0.022222222222222223,\n",
       " 733: 0,\n",
       " 734: 0,\n",
       " 735: 0,\n",
       " 736: 0,\n",
       " 737: 0,\n",
       " 738: 0.01818181818181818,\n",
       " 739: 0,\n",
       " 740: 0.007352941176470588,\n",
       " 741: 0.05555555555555555,\n",
       " 742: 0,\n",
       " 743: 0.008333333333333333,\n",
       " 744: 0,\n",
       " 745: 0.015151515151515152,\n",
       " 746: 0,\n",
       " 747: 0,\n",
       " 748: 0,\n",
       " 749: 0,\n",
       " 750: 0,\n",
       " 751: 0,\n",
       " 752: 0.01098901098901099,\n",
       " 753: 0.01818181818181818,\n",
       " 754: 0,\n",
       " 755: 0.015151515151515152,\n",
       " 756: 0.01818181818181818,\n",
       " 757: 0,\n",
       " 758: 0.009523809523809525,\n",
       " 759: 0,\n",
       " 760: 0.01282051282051282,\n",
       " 761: 0,\n",
       " 762: 0.015151515151515152,\n",
       " 763: 0.022222222222222223,\n",
       " 764: 0,\n",
       " 765: 0.03571428571428571,\n",
       " 766: 0,\n",
       " 767: 0,\n",
       " 768: 0.03636363636363636,\n",
       " 769: 0.022222222222222223,\n",
       " 770: 0,\n",
       " 771: 0,\n",
       " 772: 0,\n",
       " 773: 0,\n",
       " 774: 0.02197802197802198,\n",
       " 775: 0,\n",
       " 776: 0,\n",
       " 777: 0,\n",
       " 778: 0,\n",
       " 779: 0,\n",
       " 780: 0,\n",
       " 781: 0,\n",
       " 782: 0,\n",
       " 783: 0,\n",
       " 784: 0,\n",
       " 785: 0.01818181818181818,\n",
       " 786: 0.022222222222222223,\n",
       " 787: 0,\n",
       " 788: 0.014705882352941176,\n",
       " 789: 0.007352941176470588,\n",
       " 790: 0,\n",
       " 791: 0.02564102564102564,\n",
       " 792: 0,\n",
       " 793: 0.02197802197802198,\n",
       " 794: 0,\n",
       " 795: 0,\n",
       " 796: 0.01098901098901099,\n",
       " 797: 0.03636363636363636,\n",
       " 798: 0,\n",
       " 799: 0.022222222222222223,\n",
       " 800: 0,\n",
       " 801: 0,\n",
       " 802: 0,\n",
       " 803: 0,\n",
       " 804: 0,\n",
       " 805: 0,\n",
       " 806: 0.022222222222222223,\n",
       " 807: 0,\n",
       " 808: 0.01818181818181818,\n",
       " 809: 0,\n",
       " 810: 0,\n",
       " 811: 0.025,\n",
       " 812: 0,\n",
       " 813: 0.03571428571428571,\n",
       " 814: 0.038461538461538464,\n",
       " 815: 0,\n",
       " 816: 0,\n",
       " 817: 0.01282051282051282,\n",
       " 818: 0,\n",
       " 819: 0,\n",
       " 820: 0,\n",
       " 821: 0,\n",
       " 822: 0,\n",
       " 823: 0,\n",
       " 824: 0,\n",
       " 825: 0.014705882352941176,\n",
       " 826: 0.014705882352941176,\n",
       " 827: 0,\n",
       " 828: 0,\n",
       " 829: 0,\n",
       " 830: 0,\n",
       " 831: 0.009523809523809525,\n",
       " 832: 0.06666666666666667,\n",
       " 833: 0,\n",
       " 834: 0,\n",
       " 835: 0.006535947712418301,\n",
       " 836: 0.022222222222222223,\n",
       " 837: 0,\n",
       " 838: 0,\n",
       " 839: 0.006535947712418301,\n",
       " 840: 0,\n",
       " 841: 0.022222222222222223,\n",
       " 842: 0.02564102564102564,\n",
       " 843: 0.01818181818181818,\n",
       " 844: 0,\n",
       " 845: 0,\n",
       " 846: 0.01818181818181818,\n",
       " 847: 0,\n",
       " 848: 0,\n",
       " 849: 0,\n",
       " 850: 0.03571428571428571,\n",
       " 851: 0,\n",
       " 852: 0.03571428571428571,\n",
       " 853: 0,\n",
       " 854: 0,\n",
       " 855: 0,\n",
       " 856: 0,\n",
       " 857: 0,\n",
       " 858: 0,\n",
       " 859: 0.01904761904761905,\n",
       " 860: 0,\n",
       " 861: 0,\n",
       " 862: 0,\n",
       " 863: 0.01282051282051282,\n",
       " 864: 0.01098901098901099,\n",
       " 865: 0.027777777777777776,\n",
       " 866: 0,\n",
       " 867: 0,\n",
       " 868: 0,\n",
       " 869: 0,\n",
       " 870: 0,\n",
       " 871: 0,\n",
       " 872: 0.05555555555555555,\n",
       " 873: 0,\n",
       " 874: 0,\n",
       " 875: 0.06666666666666667,\n",
       " 876: 0,\n",
       " 877: 0,\n",
       " 878: 0.01818181818181818,\n",
       " 879: 0,\n",
       " 880: 0,\n",
       " 881: 0,\n",
       " 882: 0,\n",
       " 883: 0,\n",
       " 884: 0.030303030303030304,\n",
       " 885: 0.01818181818181818,\n",
       " 886: 0,\n",
       " 887: 0,\n",
       " 888: 0,\n",
       " 889: 0,\n",
       " 890: 0,\n",
       " 891: 0,\n",
       " 892: 0,\n",
       " 893: 0.005847953216374269,\n",
       " 894: 0,\n",
       " 895: 0,\n",
       " 896: 0,\n",
       " 897: 0.01904761904761905,\n",
       " 898: 0.03571428571428571,\n",
       " 899: 0.05555555555555555,\n",
       " 900: 0,\n",
       " 901: 0.027777777777777776,\n",
       " 902: 0.022222222222222223,\n",
       " 903: 0,\n",
       " 904: 0,\n",
       " 905: 0,\n",
       " 906: 0.027777777777777776,\n",
       " 907: 0,\n",
       " 908: 0,\n",
       " 909: 0.022222222222222223,\n",
       " 910: 0.007352941176470588,\n",
       " 911: 0,\n",
       " 912: 0,\n",
       " 913: 0.03333333333333333,\n",
       " 914: 0.1,\n",
       " 915: 0,\n",
       " 916: 0,\n",
       " 917: 0,\n",
       " 918: 0.07272727272727272,\n",
       " 919: 0,\n",
       " 920: 0.01818181818181818,\n",
       " 921: 0,\n",
       " 922: 0,\n",
       " 923: 0,\n",
       " 924: 0.03636363636363636,\n",
       " 925: 0,\n",
       " 926: 0,\n",
       " 927: 0.0196078431372549,\n",
       " 928: 0.03571428571428571,\n",
       " 929: 0,\n",
       " 930: 0,\n",
       " 931: 0.01282051282051282,\n",
       " 932: 0,\n",
       " 933: 0.02564102564102564,\n",
       " 934: 0,\n",
       " 935: 0,\n",
       " 936: 0,\n",
       " 937: 0.01818181818181818,\n",
       " 938: 0,\n",
       " 939: 0.01098901098901099,\n",
       " 940: 0.01098901098901099,\n",
       " 941: 0,\n",
       " 942: 0,\n",
       " 943: 0,\n",
       " 944: 0,\n",
       " 945: 0,\n",
       " 946: 0,\n",
       " 947: 0,\n",
       " 948: 0,\n",
       " 949: 0,\n",
       " 950: 0,\n",
       " 951: 0.015151515151515152,\n",
       " 952: 0,\n",
       " 953: 0.07142857142857142,\n",
       " 954: 0,\n",
       " 955: 0,\n",
       " 956: 0.047619047619047616,\n",
       " 957: 0,\n",
       " 958: 0,\n",
       " 959: 0.06666666666666667,\n",
       " 960: 0,\n",
       " 961: 0,\n",
       " 962: 0,\n",
       " 963: 0.01282051282051282,\n",
       " 964: 0.01282051282051282,\n",
       " 965: 0,\n",
       " 966: 0.022222222222222223,\n",
       " 967: 0.038461538461538464,\n",
       " 968: 0.008333333333333333,\n",
       " 969: 0,\n",
       " 970: 0.02197802197802198,\n",
       " 971: 0,\n",
       " 972: 0.01818181818181818,\n",
       " 973: 0.008333333333333333,\n",
       " 974: 0.01098901098901099,\n",
       " 975: 0,\n",
       " 976: 0,\n",
       " 977: 0,\n",
       " 978: 0,\n",
       " 979: 0,\n",
       " 980: 0,\n",
       " 981: 0.027777777777777776,\n",
       " 982: 0,\n",
       " 983: 0,\n",
       " 984: 0.01818181818181818,\n",
       " 985: 0.044444444444444446,\n",
       " 986: 0,\n",
       " 987: 0.01818181818181818,\n",
       " 988: 0.01098901098901099,\n",
       " 989: 0,\n",
       " 990: 0,\n",
       " 991: 0.027777777777777776,\n",
       " 992: 0,\n",
       " 993: 0,\n",
       " 994: 0,\n",
       " 995: 0.008333333333333333,\n",
       " 996: 0,\n",
       " 997: 0.01818181818181818,\n",
       " 998: 0.013071895424836602,\n",
       " 999: 0.008333333333333333}"
      ]
     },
     "execution_count": 51,
     "metadata": {},
     "output_type": "execute_result"
    }
   ],
   "source": [
    "nx.clustering(G)"
   ]
  },
  {
   "cell_type": "markdown",
   "metadata": {},
   "source": [
    "Similarly, we can compute the average clustering coefficient for the entire graph:"
   ]
  },
  {
   "cell_type": "code",
   "execution_count": 52,
   "metadata": {},
   "outputs": [
    {
     "data": {
      "text/plain": [
       "0.009710088298354555"
      ]
     },
     "execution_count": 52,
     "metadata": {},
     "output_type": "execute_result"
    }
   ],
   "source": [
    "nx.average_clustering(G)"
   ]
  },
  {
   "cell_type": "markdown",
   "metadata": {},
   "source": [
    "We can also calculate the transitivity of a graph:"
   ]
  },
  {
   "cell_type": "code",
   "execution_count": 53,
   "metadata": {},
   "outputs": [
    {
     "data": {
      "text/plain": [
       "0.00965818759936407"
      ]
     },
     "execution_count": 53,
     "metadata": {},
     "output_type": "execute_result"
    }
   ],
   "source": [
    "nx.transitivity(G)"
   ]
  },
  {
   "cell_type": "markdown",
   "metadata": {},
   "source": [
    "# End"
   ]
  }
 ],
 "metadata": {
  "coursera": {
   "schema_names": [
    "mads_network_analysis_v2_networkx_tutorial_1"
   ]
  },
  "kernelspec": {
   "display_name": "Python 3 (ipykernel)",
   "language": "python",
   "name": "python3"
  },
  "language_info": {
   "codemirror_mode": {
    "name": "ipython",
    "version": 3
   },
   "file_extension": ".py",
   "mimetype": "text/x-python",
   "name": "python",
   "nbconvert_exporter": "python",
   "pygments_lexer": "ipython3",
   "version": "3.8.10"
  }
 },
 "nbformat": 4,
 "nbformat_minor": 4
}

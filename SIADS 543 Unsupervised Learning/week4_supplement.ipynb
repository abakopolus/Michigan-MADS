{
 "cells": [
  {
   "cell_type": "markdown",
   "metadata": {},
   "source": [
    "# SIADS 543 Unsupervised Learning (Week 4)\n",
    "# Combining unsupervised and supervised methods"
   ]
  },
  {
   "cell_type": "code",
   "execution_count": 1,
   "metadata": {},
   "outputs": [],
   "source": [
    "%matplotlib inline\n",
    "import numpy as np\n",
    "import pandas as pd\n",
    "import seaborn as sn\n",
    "import matplotlib.pyplot as plt\n",
    "\n",
    "# Suppress all warnings\n",
    "import warnings\n",
    "warnings.filterwarnings('ignore')\n",
    "warnings.simplefilter('ignore')"
   ]
  },
  {
   "cell_type": "markdown",
   "metadata": {},
   "source": [
    "### Label propagation"
   ]
  },
  {
   "cell_type": "markdown",
   "metadata": {},
   "source": [
    "#### There are two main classes for label propagation in scikit-learn: LabelPropagation and LabelSpreading. Both of these take the set of input data instances and construct a graph over the full dataset based on a pairwise similarity measure between points. The difference is in (a) how they implement the similarity measure and (b) how they strictly they 'clamp' input labels to specific values."
   ]
  },
  {
   "cell_type": "markdown",
   "metadata": {},
   "source": [
    "#### LabelPropagation is the simpler technique: it does 'hard' clamping of labels to values and does not modify the raw input similarity matrix."
   ]
  },
  {
   "cell_type": "code",
   "execution_count": 2,
   "metadata": {},
   "outputs": [
    {
     "name": "stdout",
     "output_type": "stream",
     "text": [
      "SVM accuracy with full, complete data: 0.9192006950477846\n"
     ]
    }
   ],
   "source": [
    "from sklearn import datasets\n",
    "from sklearn.semi_supervised import LabelPropagation\n",
    "from sklearn.model_selection import train_test_split\n",
    "from sklearn.preprocessing import StandardScaler\n",
    "from sklearn.svm import SVC\n",
    "from sklearn.metrics import accuracy_score\n",
    "\n",
    "# This function takes a dataset and label set as input, and returns the following:\n",
    "#   - The X features of the subset of instances that had intact labels\n",
    "#   - The y labels of the subset of instances that had intact labels\n",
    "#   - The X features of the complete training set\n",
    "#   - The y labels of the complete training set WITH DESTROYED LABELS according to the assignment specifications.\n",
    "#\n",
    "# input parameters frac_0, frac_1 indicate the probability you want to mangle class 0 and class 1 labels\n",
    "# respectively.\n",
    "def get_mangled_label_dataset(X_train, y_train, frac_0, frac_1):\n",
    "    rng = np.random.RandomState(0)\n",
    "\n",
    "    X_train_0 = X_train[y_train == 0]\n",
    "    y_train_0 = y_train[y_train == 0]\n",
    "\n",
    "    X_train_1 = X_train[y_train == 1]\n",
    "    y_train_1 = y_train[y_train == 1]\n",
    "\n",
    "    X_train_complete = np.vstack((X_train_0, X_train_1))\n",
    "    y_train_complete = np.concatenate((y_train_0, y_train_1))\n",
    "\n",
    "    random_unlabeled_points_0 = rng.rand(len(y_train_0)) < frac_0\n",
    "    random_unlabeled_points_1 = rng.rand(len(y_train_1)) < frac_1\n",
    "    random_unlabeled_points = np.concatenate((random_unlabeled_points_0, random_unlabeled_points_1))\n",
    "\n",
    "    random_labeled_points_0 = np.logical_not(random_unlabeled_points_0)\n",
    "    random_labeled_points_1 = np.logical_not(random_unlabeled_points_1)\n",
    "\n",
    "    labeled_subset_X_train_0  = X_train_0[random_labeled_points_0]\n",
    "    labeled_subset_X_train_1  = X_train_1[random_labeled_points_1]\n",
    "    labeled_subset_y_train_0  = y_train_0[random_labeled_points_0]\n",
    "    labeled_subset_y_train_1  = y_train_1[random_labeled_points_1]\n",
    "\n",
    "    labeled_subset_X_train = np.vstack((labeled_subset_X_train_0, labeled_subset_X_train_1))\n",
    "    labeled_subset_y_train = np.concatenate((labeled_subset_y_train_0, labeled_subset_y_train_1))\n",
    "\n",
    "    labels_train_with_destroyed = np.copy(y_train_complete)\n",
    "    labels_train_with_destroyed[random_unlabeled_points] = -1\n",
    "\n",
    "    return (labeled_subset_X_train, labeled_subset_y_train, X_train_complete, labels_train_with_destroyed)\n",
    "\n",
    "df = pd.read_csv(\"./spam.csv\")\n",
    "\n",
    "X = df.iloc[:, :-1]\n",
    "y = df.iloc[:, -1]\n",
    "\n",
    "\n",
    "X_train_raw, X_test_raw, y_train, y_test = train_test_split(X, y, random_state=0)\n",
    "\n",
    "X_train = StandardScaler().fit_transform(X_train_raw)\n",
    "X_test  = StandardScaler().fit_transform(X_test_raw)\n",
    "\n",
    "# fit a support vector machine to the complete dataset with undestroyed labels\n",
    "svc_full = SVC()\n",
    "\n",
    "svc_full.fit(X_train, y_train)\n",
    "test_preds_full = svc_full.predict(X_test)\n",
    "acc_full = accuracy_score(y_test, test_preds_full)\n",
    "print (\"SVM accuracy with full, complete data:\", acc_full)\n",
    "\n",
    "(labeled_subset_X_train, labeled_subset_y_train, X_train_complete, y_train_complete_missing) = \\\n",
    "     get_mangled_label_dataset(X_train, y_train, 0.05, 0.95)"
   ]
  },
  {
   "cell_type": "code",
   "execution_count": 3,
   "metadata": {},
   "outputs": [
    {
     "name": "stdout",
     "output_type": "stream",
     "text": [
      "SVM accuracy with LabelPropagation inferred labels on complete data: 0.6038227628149435\n"
     ]
    }
   ],
   "source": [
    "from sklearn.semi_supervised import LabelPropagation\n",
    "n_neighbors= 9\n",
    "\n",
    "# In this example, we'll use a k-NN kernel on the graph. It produces a sparse but efficient graph.\n",
    "label_prop_model = LabelPropagation(kernel='knn', n_neighbors=n_neighbors, \n",
    "                                  max_iter=50, tol=0.001)\n",
    "\n",
    "# call fit to build the similarity graph between items\n",
    "label_prop_model.fit(X_train_complete, y_train_complete_missing)\n",
    "\n",
    "# infer the missing labels.\n",
    "pred_y_train_complete = label_prop_model.predict(X_train_complete) \n",
    "\n",
    "# NOTE: instead of the above line, we could have also used the transduction_ property of\n",
    "# the LabelSpreading object, e.g.\n",
    "#\n",
    "#   pred_y_train_complete = label_prop_model.transduction_ \n",
    "#\n",
    "# which stores the label output inferred for the data input to\n",
    "# the fit method.  The predict method can also be used to predict for *new* data.\n",
    "\n",
    "# fit a support vector machine to the complete dataset with inferred labels\n",
    "svc_label_prop = SVC()\n",
    "\n",
    "svc_label_prop.fit(X_train_complete, pred_y_train_complete)\n",
    "test_preds_label_prop = svc_label_prop.predict(X_test)\n",
    "acc_with_label_prop   = accuracy_score(y_test, test_preds_label_prop)\n",
    "print (\"SVM accuracy with LabelPropagation inferred labels on complete data:\", acc_with_label_prop)"
   ]
  },
  {
   "cell_type": "markdown",
   "metadata": {},
   "source": [
    "#### LabelSpreading is more sophisticated: it does 'soft' clamping of labels to values, allowing them to be modified if the local evidence is strong enough, and computes a modified graph using a smoothed (regularized) form of the similarity matrix. The strictness of the label clamping is controlled by the `alpha` parameter: `alpha = 0` gives hard clamping and higher values of `alpha` relaxes the clamping factor.  The edge weights of the modified graph are normalized using the normalized graph Laplacian matrix, as described in the lecture."
   ]
  },
  {
   "cell_type": "code",
   "execution_count": 4,
   "metadata": {},
   "outputs": [
    {
     "name": "stdout",
     "output_type": "stream",
     "text": [
      "SVM accuracy with LabelSpreading inferred labels on complete data: 0.6715899218071243\n"
     ]
    }
   ],
   "source": [
    "from sklearn.semi_supervised import LabelSpreading\n",
    "n_neighbors= 7\n",
    "\n",
    "label_spread_model = LabelSpreading(kernel='knn', n_neighbors=n_neighbors, \n",
    "                                  alpha=0.1, max_iter=50, tol=0.001)\n",
    "label_spread_model.fit(X_train_complete, y_train_complete_missing)\n",
    "pred_y_train_complete = label_spread_model.predict(X_train_complete)\n",
    "\n",
    "# fit a support vector machine to the complete dataset with inferred labels\n",
    "svc_label_spread = SVC()\n",
    "\n",
    "svc_label_spread.fit(X_train_complete, pred_y_train_complete)\n",
    "test_preds_label_spread = svc_label_spread.predict(X_test)\n",
    "acc_with_label_spread   = accuracy_score(y_test, test_preds_label_spread)\n",
    "print (\"SVM accuracy with LabelSpreading inferred labels on complete data:\", acc_with_label_spread)"
   ]
  },
  {
   "cell_type": "markdown",
   "metadata": {},
   "source": [
    "### Data imputation"
   ]
  },
  {
   "cell_type": "code",
   "execution_count": 5,
   "metadata": {},
   "outputs": [],
   "source": [
    "from sklearn.ensemble import RandomForestRegressor\n",
    "\n",
    "from sklearn.experimental import enable_iterative_imputer\n",
    "from sklearn.impute import SimpleImputer, IterativeImputer, KNNImputer\n",
    "from sklearn.model_selection import cross_val_score\n",
    "from sklearn.pipeline import make_pipeline\n",
    "\n",
    "from sklearn.datasets import load_diabetes\n",
    "\n",
    "# Some of the following code was adapted and modified from the scikit-learn impute documentation."
   ]
  },
  {
   "cell_type": "code",
   "execution_count": 6,
   "metadata": {},
   "outputs": [],
   "source": [
    "\n",
    "# This function takes a dataset X with labels y as input, and an optional\n",
    "# \"missing rate\" that indicates the proportion of total instances (rows)\n",
    "# that should have at least one missing value. It makes a copy of the input\n",
    "# and returns the modified X, y as output.\n",
    "def create_copy_with_missing_values(X, y, missing_rate = 0.75):\n",
    "    n_samples, n_features = X.shape\n",
    "\n",
    "    n_missing_samples = int(n_samples * missing_rate)\n",
    "    \n",
    "    # now pick which rows, columns should correspond to the missing samples\n",
    "    missing_instances = rng.choice(n_samples, size=n_missing_samples, replace=False)\n",
    "    missing_features  = rng.randint(0, n_features, n_missing_samples)\n",
    "    \n",
    "    X_missing = X.copy()\n",
    "    y_missing = y.copy()\n",
    "\n",
    "    X_missing[missing_instances, missing_features] = np.nan\n",
    "\n",
    "    return X_missing, y_missing\n"
   ]
  },
  {
   "cell_type": "code",
   "execution_count": 7,
   "metadata": {},
   "outputs": [],
   "source": [
    "# Here's an example that tries out multiple imputation strategies on the\n",
    "# same missing-data scenario.  \n",
    "\n",
    "rng = np.random.RandomState(42)\n",
    "CV_SPLITS = 5\n",
    "missing_rate = 0.95\n",
    "regressor = RandomForestRegressor(random_state=42)\n",
    "x_labels = ['Full data',\n",
    "            'Simple imputation: always zero',\n",
    "            'Simple imputation: mean',\n",
    "            'Simple imputation: median',\n",
    "            'Iterative imputation',\n",
    "            'k-NN imputation',\n",
    "           ]\n",
    "\n",
    "score_type = 'r2'\n",
    "n_entries = len(x_labels)\n",
    "mses_dataset = np.zeros(n_entries)\n",
    "stds_dataset = np.zeros(n_entries)\n",
    "\n",
    "from sklearn.datasets import load_breast_cancer\n",
    "(X_full, y_full) = load_breast_cancer(return_X_y = True)\n",
    "\n",
    "X_missing, y_missing = create_copy_with_missing_values(X_full, y_full, missing_rate = missing_rate)"
   ]
  },
  {
   "cell_type": "code",
   "execution_count": 8,
   "metadata": {},
   "outputs": [],
   "source": [
    "# Flagging missing information via connecting\n",
    "# the imputer and regressor using a pipeline object"
   ]
  },
  {
   "cell_type": "code",
   "execution_count": 9,
   "metadata": {},
   "outputs": [],
   "source": [
    "def get_scores_using_imputer(regressor, imputer,\n",
    "                           X_missing, y_missing, score_type = score_type):\n",
    "    estimator = make_pipeline(imputer, regressor)\n",
    "    impute_scores = cross_val_score(estimator, X_missing, y_missing,\n",
    "                                    scoring=score_type,\n",
    "                                    cv=CV_SPLITS)\n",
    "    # print(impute_scores)\n",
    "    return impute_scores"
   ]
  },
  {
   "cell_type": "code",
   "execution_count": 10,
   "metadata": {},
   "outputs": [],
   "source": [
    "#### Simple imputation by replacing missing values by zero."
   ]
  },
  {
   "cell_type": "code",
   "execution_count": 11,
   "metadata": {},
   "outputs": [],
   "source": [
    "def get_impute_zero_score(regressor, X_missing, y_missing):\n",
    "\n",
    "    imputer = SimpleImputer(missing_values=np.nan, add_indicator=True,\n",
    "                            strategy='constant', fill_value=0)\n",
    "    zero_impute_scores = get_scores_using_imputer(regressor, imputer, X_missing, y_missing)\n",
    "    return zero_impute_scores.mean(), zero_impute_scores.std()\n",
    "\n",
    "mses_dataset[0], stds_dataset[0] = get_impute_zero_score(regressor, X_missing, y_missing)"
   ]
  },
  {
   "cell_type": "code",
   "execution_count": 12,
   "metadata": {},
   "outputs": [
    {
     "name": "stdout",
     "output_type": "stream",
     "text": [
      "[[False  True False]\n",
      " [ True False False]\n",
      " [False False False]]\n",
      "[0 2 3]\n"
     ]
    }
   ],
   "source": [
    "# Here's the example of the MissingIndicator class as discussed in this week's lecture.\n",
    "import numpy as np\n",
    "from sklearn.impute import MissingIndicator\n",
    "X1 = np.array([[np.nan, 1, np.nan, 7], \n",
    "               [4, 0, 1., np.nan], \n",
    "               [8, 1, 2., 0]])\n",
    "X2 = np.array([[5, 1, np.nan, -1.], \n",
    "               [np.nan, 2, 3, -3.], \n",
    "               [2, 10., 4, 0]])\n",
    "indicator = MissingIndicator()\n",
    "indicator.fit(X1)\n",
    "X2_tr = indicator.transform(X2)\n",
    "print(X2_tr)\n",
    "print(indicator.features_)"
   ]
  },
  {
   "cell_type": "markdown",
   "metadata": {},
   "source": [
    "#### Simple imputatation using column mean"
   ]
  },
  {
   "cell_type": "code",
   "execution_count": 13,
   "metadata": {},
   "outputs": [],
   "source": [
    "def get_impute_mean(regressor, X_missing, y_missing):\n",
    "    imputer = SimpleImputer(missing_values=np.nan, strategy=\"mean\",\n",
    "                            add_indicator=True)\n",
    "    mean_impute_scores = get_scores_using_imputer(regressor, imputer, X_missing, y_missing)\n",
    "    return mean_impute_scores.mean(), mean_impute_scores.std()\n",
    "\n",
    "\n",
    "mses_dataset[1], stds_dataset[1] = get_impute_mean(regressor, X_missing, y_missing)"
   ]
  },
  {
   "cell_type": "markdown",
   "metadata": {},
   "source": [
    "#### Simple imputatation using column median"
   ]
  },
  {
   "cell_type": "code",
   "execution_count": 14,
   "metadata": {},
   "outputs": [],
   "source": [
    "def get_impute_median(regressor, X_missing, y_missing):\n",
    "    imputer = SimpleImputer(missing_values=np.nan, strategy=\"median\",\n",
    "                            add_indicator=True)\n",
    "    mean_impute_scores = get_scores_using_imputer(regressor, imputer, X_missing, y_missing)\n",
    "    return mean_impute_scores.mean(), mean_impute_scores.std()\n",
    "\n",
    "\n",
    "mses_dataset[2], stds_dataset[2] = get_impute_median(regressor, X_missing, y_missing)"
   ]
  },
  {
   "cell_type": "markdown",
   "metadata": {},
   "source": [
    "#### Iterative imputation"
   ]
  },
  {
   "cell_type": "code",
   "execution_count": 15,
   "metadata": {},
   "outputs": [],
   "source": [
    "def get_impute_iterative(regressor, X_missing, y_missing):\n",
    "    imputer = IterativeImputer(missing_values=np.nan, add_indicator=True,\n",
    "                               random_state=0, n_nearest_features=5,\n",
    "                               sample_posterior=True)\n",
    "    iterative_impute_scores = get_scores_using_imputer(regressor, imputer,\n",
    "                                                     X_missing,\n",
    "                                                     y_missing)\n",
    "    return iterative_impute_scores.mean(), iterative_impute_scores.std()\n",
    "\n",
    "mses_dataset[3], stds_dataset[3] = get_impute_iterative(regressor, X_missing, y_missing)"
   ]
  },
  {
   "cell_type": "markdown",
   "metadata": {},
   "source": [
    "#### k-Nearest Neighbors imputation"
   ]
  },
  {
   "cell_type": "code",
   "execution_count": 16,
   "metadata": {},
   "outputs": [],
   "source": [
    "def get_impute_knn_score(regressor, X_missing, y_missing):\n",
    "    imputer = KNNImputer(missing_values=np.nan, add_indicator=True)\n",
    "    knn_impute_scores = get_scores_using_imputer(regressor, imputer, X_missing, y_missing)\n",
    "    return knn_impute_scores.mean(), knn_impute_scores.std()\n",
    "\n",
    "mses_dataset[4], stds_dataset[4] = get_impute_knn_score(regressor, X_missing, y_missing)"
   ]
  },
  {
   "cell_type": "markdown",
   "metadata": {},
   "source": [
    "#### Estimate the regression task score using the full original data"
   ]
  },
  {
   "cell_type": "code",
   "execution_count": 17,
   "metadata": {},
   "outputs": [
    {
     "name": "stdout",
     "output_type": "stream",
     "text": [
      "0.8212601859038916 0.06187398670502936\n"
     ]
    }
   ],
   "source": [
    "def get_full_score(regressor, X, y, score_type = score_type):\n",
    "    full_scores = cross_val_score(regressor, X, y,\n",
    "                                  scoring= score_type,\n",
    "                                  cv=CV_SPLITS)\n",
    "    return full_scores.mean(), full_scores.std()\n",
    "\n",
    "\n",
    "mses_dataset[5], stds_dataset[5] = get_full_score(regressor, X_full, y_full)\n",
    "\n",
    "print (mses_dataset[5], stds_dataset[5])"
   ]
  },
  {
   "cell_type": "code",
   "execution_count": 18,
   "metadata": {},
   "outputs": [
    {
     "data": {
      "image/png": "[encoded data removed]",
      "text/plain": [
       "<Figure size 864x432 with 1 Axes>"
      ]
     },
     "metadata": {
      "needs_background": "light"
     },
     "output_type": "display_data"
    }
   ],
   "source": [
    "### Plot results\n",
    "### This plotting code adapted from scikit-learn impute documentation.\n",
    "\n",
    "n_bars = n_entries\n",
    "xval   = np.arange(n_bars)\n",
    "\n",
    "colors = ['r', 'g', 'b', 'orange', 'black', 'yellow']\n",
    "\n",
    "plt.figure(figsize=(12, 6))\n",
    "ax1 = plt.subplot(121)\n",
    "for j in xval:\n",
    "    ax1.barh(j, mses_dataset[j], xerr=stds_dataset[j],\n",
    "             color=colors[j], alpha=0.6, align='center')\n",
    "\n",
    "ax1.set_title('Effect of different imputation methods on regression score')\n",
    "ax1.set_xlim(left=np.min(mses_dataset) * 0.8,\n",
    "             right=np.max(mses_dataset) * 1.1)\n",
    "ax1.set_yticks(xval)\n",
    "ax1.set_xlabel(score_type)\n",
    "ax1.invert_yaxis()\n",
    "ax1.set_yticklabels(x_labels)\n",
    "\n",
    "plt.show()"
   ]
  }
 ],
 "metadata": {
  "kernelspec": {
   "display_name": "Python 3 (ipykernel)",
   "language": "python",
   "name": "python3"
  },
  "language_info": {
   "codemirror_mode": {
    "name": "ipython",
    "version": 3
   },
   "file_extension": ".py",
   "mimetype": "text/x-python",
   "name": "python",
   "nbconvert_exporter": "python",
   "pygments_lexer": "ipython3",
   "version": "3.8.10"
  }
 },
 "nbformat": 4,
 "nbformat_minor": 2
}

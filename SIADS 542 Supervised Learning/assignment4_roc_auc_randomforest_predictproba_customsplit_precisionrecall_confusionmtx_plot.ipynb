{
 "cells": [
  {
   "cell_type": "code",
   "execution_count": 1,
   "metadata": {
    "deletable": false,
    "editable": false,
    "nbgrader": {
     "cell_type": "code",
     "checksum": "be92fd2c6ebe8f23acc6dc0cb2c07bd6",
     "grade": false,
     "grade_id": "cell-c18d184342185ba6",
     "locked": true,
     "schema_version": 3,
     "solution": false
    }
   },
   "outputs": [],
   "source": [
    "version = \"v2.0.042025.4\""
   ]
  },
  {
   "cell_type": "markdown",
   "metadata": {
    "deletable": false,
    "editable": false,
    "nbgrader": {
     "cell_type": "markdown",
     "checksum": "7f98c572d6d128ba7804c8f53ed09a00",
     "grade": false,
     "grade_id": "cell-371f2ff64fb68763",
     "locked": true,
     "schema_version": 3,
     "solution": false
    }
   },
   "source": [
    "# Assignment 4 - Tree-based classification & Synthesis Project\n",
    "\n",
    "### Physiological Sensor Data Analysis (100 points)\n",
    "This synthesis project is based on a dataset of physiological sensor measurements collected from Smartphone based sensors. The original research sought to determine the particular activity of the subject based on the physiological measurements obtained from wearables and a SmartPhone. The physiological measurements were used to depict the test subject in one of four activities as follows:  \n",
    "   - neutral\n",
    "   - emotional\n",
    "   - mental\n",
    "   - physical  \n",
    " \n",
    "Your task will be to produce a model that, based on a limited number of features, returns the best possible estimate of the activity being performed by the test subject. While the original analysis utilized more advanced Machine Learning methods, we will concentrate on the supervised learning methods covered in this course.  \n",
    "\n",
    "The sensor dataset consists of 4480 rows, each with the subject ID, the activity label and 533 measurement features! Each of the 40 test volunteers were subjected to a series of 28 data collection events for each of the four activity types presented above. As you explore this data, you will find that the features are arranged by a particular measurement mode, each consisting of similar statistical values.  \n",
    "Before we get started, it will be necessary to ingest and prepare our data for training and testing purposes.  \n",
    "\n",
    "**Notes**  \n",
    " - Any available random_state or seed values should be initialized with an integer value of 42.\n",
    " - Some standard package imports have been provided below.\n",
    " - Additional import deemed necessary for your analysis can be added in the cell following."
   ]
  },
  {
   "cell_type": "markdown",
   "metadata": {
    "deletable": false,
    "editable": false,
    "nbgrader": {
     "cell_type": "markdown",
     "checksum": "cc91f37b36d6d7297bee00e2728b5cf6",
     "grade": false,
     "grade_id": "cell-8bfe1d8b1ee8cc6f",
     "locked": true,
     "schema_version": 3,
     "solution": false,
     "task": false
    }
   },
   "source": [
    "## library imports"
   ]
  },
  {
   "cell_type": "code",
   "execution_count": 2,
   "metadata": {
    "deletable": false,
    "editable": false,
    "nbgrader": {
     "cell_type": "code",
     "checksum": "f1881ce1ea66591d5c3d01727a5dc1ab",
     "grade": false,
     "grade_id": "cell-93298b856670623e",
     "locked": true,
     "schema_version": 3,
     "solution": false
    }
   },
   "outputs": [],
   "source": [
    "# useful python standard libraries\n",
    "import itertools\n",
    "import math\n",
    "import random\n",
    "\n",
    "# import core libraries\n",
    "import numpy as np\n",
    "import pandas as pd\n",
    "import matplotlib.pyplot as plt\n",
    "\n",
    "# helpful SciKit-Learn libraries\n",
    "from sklearn.metrics import classification_report, roc_auc_score\n",
    "from sklearn.metrics import ConfusionMatrixDisplay, confusion_matrix\n",
    "from sklearn.model_selection import GridSearchCV, train_test_split\n",
    "from sklearn.pipeline import Pipeline\n",
    "from sklearn.preprocessing import StandardScaler\n",
    "\n",
    "# We will use this variable name multiple times\n",
    "base_feature_selector = \"_mad_\""
   ]
  },
  {
   "cell_type": "code",
   "execution_count": 3,
   "metadata": {},
   "outputs": [],
   "source": [
    "## suppress all warnings\n",
    "## uncomment only if necessary!\n",
    "# import warnings\n",
    "# warnings.filterwarnings('ignore')\n",
    "\n",
    "## Additional imports can be included here\n",
    "from sklearn.tree import DecisionTreeClassifier\n",
    "from sklearn.ensemble import RandomForestClassifier"
   ]
  },
  {
   "cell_type": "markdown",
   "metadata": {
    "deletable": false,
    "editable": false,
    "nbgrader": {
     "cell_type": "markdown",
     "checksum": "a372dcf5b6566cb0ac683aa34035bc27",
     "grade": false,
     "grade_id": "cell-366227f52585e158",
     "locked": true,
     "schema_version": 3,
     "solution": false,
     "task": false
    }
   },
   "source": [
    "## Question 1  (2 points)\n",
    "### Import CSV Sensor Data file\n",
    " - The first order of business is to read the data file, '_sensor_data.csv_ ', from the '_assets/_ ' folder.\n",
    " - Your function should accept zero arguments and return a Pandas DataFrame.\n",
    " - Be aware that the activity labels are in a format that may or may not work with your chosen models. If you choose to reassign the activity labels, use the following:  \n",
    "    - **'neutral' == 1**\n",
    "    - **'emotional' == 2**\n",
    "    - **'mental' == 3**\n",
    "    - **'physical' == 4**"
   ]
  },
  {
   "cell_type": "code",
   "execution_count": 4,
   "metadata": {
    "deletable": false,
    "nbgrader": {
     "cell_type": "code",
     "checksum": "0af85b93538e1924f3d8358fffc82893",
     "grade": false,
     "grade_id": "cell-323ce9af9affa7e8",
     "locked": false,
     "schema_version": 3,
     "solution": true,
     "task": false
    }
   },
   "outputs": [],
   "source": [
    "def get_sensor_data():\n",
    "    df = pd.read_csv('assets/sensor_data.csv')\n",
    "\n",
    "    return df"
   ]
  },
  {
   "cell_type": "code",
   "execution_count": 5,
   "metadata": {},
   "outputs": [
    {
     "data": {
      "text/html": [
       "<div>\n",
       "<style scoped>\n",
       "    .dataframe tbody tr th:only-of-type {\n",
       "        vertical-align: middle;\n",
       "    }\n",
       "\n",
       "    .dataframe tbody tr th {\n",
       "        vertical-align: top;\n",
       "    }\n",
       "\n",
       "    .dataframe thead th {\n",
       "        text-align: right;\n",
       "    }\n",
       "</style>\n",
       "<table border=\"1\" class=\"dataframe\">\n",
       "  <thead>\n",
       "    <tr style=\"text-align: right;\">\n",
       "      <th></th>\n",
       "      <th>Subject_ID</th>\n",
       "      <th>Activity_Label</th>\n",
       "      <th>ECG_original_mean_1</th>\n",
       "      <th>ECG_original_std_2</th>\n",
       "      <th>ECG_original_trimmean25_3</th>\n",
       "      <th>ECG_original_median_4</th>\n",
       "      <th>ECG_original_skewness_5</th>\n",
       "      <th>ECG_original_kurtosis_6</th>\n",
       "      <th>ECG_original_max_7</th>\n",
       "      <th>ECG_original_min_8</th>\n",
       "      <th>...</th>\n",
       "      <th>EDA_Functionals_power_Filt2skewness_524</th>\n",
       "      <th>EDA_Functionals_power_Filt2kurtosis_525</th>\n",
       "      <th>EDA_Functionals_power_Filt2max_526</th>\n",
       "      <th>EDA_Functionals_power_Filt2min_527</th>\n",
       "      <th>EDA_Functionals_power_Filt2prctile25_528</th>\n",
       "      <th>EDA_Functionals_power_Filt2prctile75_529</th>\n",
       "      <th>EDA_Functionals_power_Filt2geomean(abs)_530</th>\n",
       "      <th>EDA_Functionals_power_Filt2harmmean_531</th>\n",
       "      <th>EDA_Functionals_power_Filt2mad_532</th>\n",
       "      <th>EDA_Functionals_power_Filt2baseline_533</th>\n",
       "    </tr>\n",
       "  </thead>\n",
       "  <tbody>\n",
       "    <tr>\n",
       "      <th>0</th>\n",
       "      <td>QNNG</td>\n",
       "      <td>neutral</td>\n",
       "      <td>-0.004125</td>\n",
       "      <td>0.254095</td>\n",
       "      <td>0.001426</td>\n",
       "      <td>-0.01037</td>\n",
       "      <td>-0.538509</td>\n",
       "      <td>5.95534</td>\n",
       "      <td>1.04063</td>\n",
       "      <td>-1.37437</td>\n",
       "      <td>...</td>\n",
       "      <td>31.4249</td>\n",
       "      <td>1015.36</td>\n",
       "      <td>7.170320e+08</td>\n",
       "      <td>0.027384</td>\n",
       "      <td>2.53425</td>\n",
       "      <td>17.3882</td>\n",
       "      <td>8.05589</td>\n",
       "      <td>1.80247</td>\n",
       "      <td>1413310.0</td>\n",
       "      <td>3028080.0</td>\n",
       "    </tr>\n",
       "    <tr>\n",
       "      <th>1</th>\n",
       "      <td>QNNG</td>\n",
       "      <td>neutral</td>\n",
       "      <td>0.031029</td>\n",
       "      <td>0.193761</td>\n",
       "      <td>0.012918</td>\n",
       "      <td>-0.00237</td>\n",
       "      <td>0.781415</td>\n",
       "      <td>5.18794</td>\n",
       "      <td>0.98963</td>\n",
       "      <td>-0.71937</td>\n",
       "      <td>...</td>\n",
       "      <td>31.4354</td>\n",
       "      <td>1015.78</td>\n",
       "      <td>7.058540e+08</td>\n",
       "      <td>0.016947</td>\n",
       "      <td>2.51513</td>\n",
       "      <td>16.5914</td>\n",
       "      <td>7.81769</td>\n",
       "      <td>1.52349</td>\n",
       "      <td>1390180.0</td>\n",
       "      <td>3016420.0</td>\n",
       "    </tr>\n",
       "    <tr>\n",
       "      <th>2</th>\n",
       "      <td>QNNG</td>\n",
       "      <td>neutral</td>\n",
       "      <td>0.015678</td>\n",
       "      <td>0.182336</td>\n",
       "      <td>-0.003028</td>\n",
       "      <td>-0.02337</td>\n",
       "      <td>0.881194</td>\n",
       "      <td>5.66530</td>\n",
       "      <td>0.87563</td>\n",
       "      <td>-0.71937</td>\n",
       "      <td>...</td>\n",
       "      <td>31.4480</td>\n",
       "      <td>1016.16</td>\n",
       "      <td>6.270180e+08</td>\n",
       "      <td>0.008129</td>\n",
       "      <td>2.25959</td>\n",
       "      <td>15.2312</td>\n",
       "      <td>7.11684</td>\n",
       "      <td>1.25860</td>\n",
       "      <td>1234110.0</td>\n",
       "      <td>3004430.0</td>\n",
       "    </tr>\n",
       "    <tr>\n",
       "      <th>3</th>\n",
       "      <td>QNNG</td>\n",
       "      <td>neutral</td>\n",
       "      <td>0.014525</td>\n",
       "      <td>0.176636</td>\n",
       "      <td>-0.006161</td>\n",
       "      <td>-0.02737</td>\n",
       "      <td>1.024900</td>\n",
       "      <td>6.10968</td>\n",
       "      <td>0.91063</td>\n",
       "      <td>-0.71937</td>\n",
       "      <td>...</td>\n",
       "      <td>31.4333</td>\n",
       "      <td>1015.61</td>\n",
       "      <td>5.597480e+08</td>\n",
       "      <td>0.007377</td>\n",
       "      <td>2.13924</td>\n",
       "      <td>14.4663</td>\n",
       "      <td>6.70236</td>\n",
       "      <td>1.26643</td>\n",
       "      <td>1102720.0</td>\n",
       "      <td>2992170.0</td>\n",
       "    </tr>\n",
       "    <tr>\n",
       "      <th>4</th>\n",
       "      <td>QNNG</td>\n",
       "      <td>neutral</td>\n",
       "      <td>0.010349</td>\n",
       "      <td>0.179248</td>\n",
       "      <td>-0.008526</td>\n",
       "      <td>-0.02737</td>\n",
       "      <td>0.935697</td>\n",
       "      <td>5.83902</td>\n",
       "      <td>0.91063</td>\n",
       "      <td>-0.75637</td>\n",
       "      <td>...</td>\n",
       "      <td>31.4346</td>\n",
       "      <td>1015.67</td>\n",
       "      <td>4.844730e+08</td>\n",
       "      <td>0.011448</td>\n",
       "      <td>1.93595</td>\n",
       "      <td>12.5493</td>\n",
       "      <td>6.08647</td>\n",
       "      <td>1.22387</td>\n",
       "      <td>954322.0</td>\n",
       "      <td>2979610.0</td>\n",
       "    </tr>\n",
       "    <tr>\n",
       "      <th>...</th>\n",
       "      <td>...</td>\n",
       "      <td>...</td>\n",
       "      <td>...</td>\n",
       "      <td>...</td>\n",
       "      <td>...</td>\n",
       "      <td>...</td>\n",
       "      <td>...</td>\n",
       "      <td>...</td>\n",
       "      <td>...</td>\n",
       "      <td>...</td>\n",
       "      <td>...</td>\n",
       "      <td>...</td>\n",
       "      <td>...</td>\n",
       "      <td>...</td>\n",
       "      <td>...</td>\n",
       "      <td>...</td>\n",
       "      <td>...</td>\n",
       "      <td>...</td>\n",
       "      <td>...</td>\n",
       "      <td>...</td>\n",
       "      <td>...</td>\n",
       "    </tr>\n",
       "    <tr>\n",
       "      <th>4475</th>\n",
       "      <td>GMEC</td>\n",
       "      <td>physical</td>\n",
       "      <td>-0.015981</td>\n",
       "      <td>0.254373</td>\n",
       "      <td>-0.013341</td>\n",
       "      <td>-0.00101</td>\n",
       "      <td>-0.165105</td>\n",
       "      <td>5.15843</td>\n",
       "      <td>1.03999</td>\n",
       "      <td>-1.19301</td>\n",
       "      <td>...</td>\n",
       "      <td>31.4079</td>\n",
       "      <td>1014.61</td>\n",
       "      <td>3.237410e+09</td>\n",
       "      <td>0.132094</td>\n",
       "      <td>9.48535</td>\n",
       "      <td>73.9901</td>\n",
       "      <td>31.82590</td>\n",
       "      <td>5.16972</td>\n",
       "      <td>6390410.0</td>\n",
       "      <td>398810.0</td>\n",
       "    </tr>\n",
       "    <tr>\n",
       "      <th>4476</th>\n",
       "      <td>GMEC</td>\n",
       "      <td>physical</td>\n",
       "      <td>-0.008857</td>\n",
       "      <td>0.238946</td>\n",
       "      <td>-0.010767</td>\n",
       "      <td>-0.00901</td>\n",
       "      <td>-0.034522</td>\n",
       "      <td>5.43013</td>\n",
       "      <td>1.01499</td>\n",
       "      <td>-1.10201</td>\n",
       "      <td>...</td>\n",
       "      <td>31.4447</td>\n",
       "      <td>1016.07</td>\n",
       "      <td>3.156070e+09</td>\n",
       "      <td>0.133406</td>\n",
       "      <td>8.73701</td>\n",
       "      <td>68.4041</td>\n",
       "      <td>29.83820</td>\n",
       "      <td>5.06743</td>\n",
       "      <td>6214830.0</td>\n",
       "      <td>412407.0</td>\n",
       "    </tr>\n",
       "    <tr>\n",
       "      <th>4477</th>\n",
       "      <td>GMEC</td>\n",
       "      <td>physical</td>\n",
       "      <td>0.024672</td>\n",
       "      <td>0.213325</td>\n",
       "      <td>0.014417</td>\n",
       "      <td>0.01099</td>\n",
       "      <td>0.613841</td>\n",
       "      <td>4.55481</td>\n",
       "      <td>1.01499</td>\n",
       "      <td>-0.57301</td>\n",
       "      <td>...</td>\n",
       "      <td>31.4487</td>\n",
       "      <td>1016.06</td>\n",
       "      <td>3.052520e+09</td>\n",
       "      <td>0.138525</td>\n",
       "      <td>8.90410</td>\n",
       "      <td>68.5051</td>\n",
       "      <td>30.45150</td>\n",
       "      <td>5.88492</td>\n",
       "      <td>6011070.0</td>\n",
       "      <td>425422.0</td>\n",
       "    </tr>\n",
       "    <tr>\n",
       "      <th>4478</th>\n",
       "      <td>GMEC</td>\n",
       "      <td>physical</td>\n",
       "      <td>0.025063</td>\n",
       "      <td>0.212210</td>\n",
       "      <td>0.015656</td>\n",
       "      <td>0.01299</td>\n",
       "      <td>0.593249</td>\n",
       "      <td>4.58374</td>\n",
       "      <td>0.95799</td>\n",
       "      <td>-0.64101</td>\n",
       "      <td>...</td>\n",
       "      <td>31.4353</td>\n",
       "      <td>1015.80</td>\n",
       "      <td>3.322710e+09</td>\n",
       "      <td>0.076570</td>\n",
       "      <td>8.97766</td>\n",
       "      <td>72.4431</td>\n",
       "      <td>30.38700</td>\n",
       "      <td>4.43563</td>\n",
       "      <td>6544010.0</td>\n",
       "      <td>439695.0</td>\n",
       "    </tr>\n",
       "    <tr>\n",
       "      <th>4479</th>\n",
       "      <td>GMEC</td>\n",
       "      <td>physical</td>\n",
       "      <td>0.002555</td>\n",
       "      <td>0.232580</td>\n",
       "      <td>-0.004537</td>\n",
       "      <td>-0.00501</td>\n",
       "      <td>0.397291</td>\n",
       "      <td>4.82234</td>\n",
       "      <td>1.32099</td>\n",
       "      <td>-0.98601</td>\n",
       "      <td>...</td>\n",
       "      <td>31.4380</td>\n",
       "      <td>1015.77</td>\n",
       "      <td>3.412910e+09</td>\n",
       "      <td>0.006876</td>\n",
       "      <td>9.20105</td>\n",
       "      <td>75.5608</td>\n",
       "      <td>30.77280</td>\n",
       "      <td>2.52386</td>\n",
       "      <td>6721730.0</td>\n",
       "      <td>454341.0</td>\n",
       "    </tr>\n",
       "  </tbody>\n",
       "</table>\n",
       "<p>4480 rows × 535 columns</p>\n",
       "</div>"
      ],
      "text/plain": [
       "     Subject_ID Activity_Label  ECG_original_mean_1  ECG_original_std_2  \\\n",
       "0          QNNG        neutral            -0.004125            0.254095   \n",
       "1          QNNG        neutral             0.031029            0.193761   \n",
       "2          QNNG        neutral             0.015678            0.182336   \n",
       "3          QNNG        neutral             0.014525            0.176636   \n",
       "4          QNNG        neutral             0.010349            0.179248   \n",
       "...         ...            ...                  ...                 ...   \n",
       "4475       GMEC       physical            -0.015981            0.254373   \n",
       "4476       GMEC       physical            -0.008857            0.238946   \n",
       "4477       GMEC       physical             0.024672            0.213325   \n",
       "4478       GMEC       physical             0.025063            0.212210   \n",
       "4479       GMEC       physical             0.002555            0.232580   \n",
       "\n",
       "      ECG_original_trimmean25_3  ECG_original_median_4  \\\n",
       "0                      0.001426               -0.01037   \n",
       "1                      0.012918               -0.00237   \n",
       "2                     -0.003028               -0.02337   \n",
       "3                     -0.006161               -0.02737   \n",
       "4                     -0.008526               -0.02737   \n",
       "...                         ...                    ...   \n",
       "4475                  -0.013341               -0.00101   \n",
       "4476                  -0.010767               -0.00901   \n",
       "4477                   0.014417                0.01099   \n",
       "4478                   0.015656                0.01299   \n",
       "4479                  -0.004537               -0.00501   \n",
       "\n",
       "      ECG_original_skewness_5  ECG_original_kurtosis_6  ECG_original_max_7  \\\n",
       "0                   -0.538509                  5.95534             1.04063   \n",
       "1                    0.781415                  5.18794             0.98963   \n",
       "2                    0.881194                  5.66530             0.87563   \n",
       "3                    1.024900                  6.10968             0.91063   \n",
       "4                    0.935697                  5.83902             0.91063   \n",
       "...                       ...                      ...                 ...   \n",
       "4475                -0.165105                  5.15843             1.03999   \n",
       "4476                -0.034522                  5.43013             1.01499   \n",
       "4477                 0.613841                  4.55481             1.01499   \n",
       "4478                 0.593249                  4.58374             0.95799   \n",
       "4479                 0.397291                  4.82234             1.32099   \n",
       "\n",
       "      ECG_original_min_8  ...  EDA_Functionals_power_Filt2skewness_524  \\\n",
       "0               -1.37437  ...                                  31.4249   \n",
       "1               -0.71937  ...                                  31.4354   \n",
       "2               -0.71937  ...                                  31.4480   \n",
       "3               -0.71937  ...                                  31.4333   \n",
       "4               -0.75637  ...                                  31.4346   \n",
       "...                  ...  ...                                      ...   \n",
       "4475            -1.19301  ...                                  31.4079   \n",
       "4476            -1.10201  ...                                  31.4447   \n",
       "4477            -0.57301  ...                                  31.4487   \n",
       "4478            -0.64101  ...                                  31.4353   \n",
       "4479            -0.98601  ...                                  31.4380   \n",
       "\n",
       "      EDA_Functionals_power_Filt2kurtosis_525  \\\n",
       "0                                     1015.36   \n",
       "1                                     1015.78   \n",
       "2                                     1016.16   \n",
       "3                                     1015.61   \n",
       "4                                     1015.67   \n",
       "...                                       ...   \n",
       "4475                                  1014.61   \n",
       "4476                                  1016.07   \n",
       "4477                                  1016.06   \n",
       "4478                                  1015.80   \n",
       "4479                                  1015.77   \n",
       "\n",
       "      EDA_Functionals_power_Filt2max_526  EDA_Functionals_power_Filt2min_527  \\\n",
       "0                           7.170320e+08                            0.027384   \n",
       "1                           7.058540e+08                            0.016947   \n",
       "2                           6.270180e+08                            0.008129   \n",
       "3                           5.597480e+08                            0.007377   \n",
       "4                           4.844730e+08                            0.011448   \n",
       "...                                  ...                                 ...   \n",
       "4475                        3.237410e+09                            0.132094   \n",
       "4476                        3.156070e+09                            0.133406   \n",
       "4477                        3.052520e+09                            0.138525   \n",
       "4478                        3.322710e+09                            0.076570   \n",
       "4479                        3.412910e+09                            0.006876   \n",
       "\n",
       "      EDA_Functionals_power_Filt2prctile25_528  \\\n",
       "0                                      2.53425   \n",
       "1                                      2.51513   \n",
       "2                                      2.25959   \n",
       "3                                      2.13924   \n",
       "4                                      1.93595   \n",
       "...                                        ...   \n",
       "4475                                   9.48535   \n",
       "4476                                   8.73701   \n",
       "4477                                   8.90410   \n",
       "4478                                   8.97766   \n",
       "4479                                   9.20105   \n",
       "\n",
       "      EDA_Functionals_power_Filt2prctile75_529  \\\n",
       "0                                      17.3882   \n",
       "1                                      16.5914   \n",
       "2                                      15.2312   \n",
       "3                                      14.4663   \n",
       "4                                      12.5493   \n",
       "...                                        ...   \n",
       "4475                                   73.9901   \n",
       "4476                                   68.4041   \n",
       "4477                                   68.5051   \n",
       "4478                                   72.4431   \n",
       "4479                                   75.5608   \n",
       "\n",
       "      EDA_Functionals_power_Filt2geomean(abs)_530  \\\n",
       "0                                         8.05589   \n",
       "1                                         7.81769   \n",
       "2                                         7.11684   \n",
       "3                                         6.70236   \n",
       "4                                         6.08647   \n",
       "...                                           ...   \n",
       "4475                                     31.82590   \n",
       "4476                                     29.83820   \n",
       "4477                                     30.45150   \n",
       "4478                                     30.38700   \n",
       "4479                                     30.77280   \n",
       "\n",
       "      EDA_Functionals_power_Filt2harmmean_531  \\\n",
       "0                                     1.80247   \n",
       "1                                     1.52349   \n",
       "2                                     1.25860   \n",
       "3                                     1.26643   \n",
       "4                                     1.22387   \n",
       "...                                       ...   \n",
       "4475                                  5.16972   \n",
       "4476                                  5.06743   \n",
       "4477                                  5.88492   \n",
       "4478                                  4.43563   \n",
       "4479                                  2.52386   \n",
       "\n",
       "      EDA_Functionals_power_Filt2mad_532  \\\n",
       "0                              1413310.0   \n",
       "1                              1390180.0   \n",
       "2                              1234110.0   \n",
       "3                              1102720.0   \n",
       "4                               954322.0   \n",
       "...                                  ...   \n",
       "4475                           6390410.0   \n",
       "4476                           6214830.0   \n",
       "4477                           6011070.0   \n",
       "4478                           6544010.0   \n",
       "4479                           6721730.0   \n",
       "\n",
       "      EDA_Functionals_power_Filt2baseline_533  \n",
       "0                                   3028080.0  \n",
       "1                                   3016420.0  \n",
       "2                                   3004430.0  \n",
       "3                                   2992170.0  \n",
       "4                                   2979610.0  \n",
       "...                                       ...  \n",
       "4475                                 398810.0  \n",
       "4476                                 412407.0  \n",
       "4477                                 425422.0  \n",
       "4478                                 439695.0  \n",
       "4479                                 454341.0  \n",
       "\n",
       "[4480 rows x 535 columns]"
      ]
     },
     "execution_count": 5,
     "metadata": {},
     "output_type": "execute_result"
    }
   ],
   "source": [
    "# use this cell to explore the data\n",
    "# remember to comment the function call before submitting the notebook\n",
    "\n",
    "get_sensor_data()"
   ]
  },
  {
   "cell_type": "code",
   "execution_count": 6,
   "metadata": {
    "deletable": false,
    "editable": false,
    "nbgrader": {
     "cell_type": "code",
     "checksum": "8cafa248ec7ffea87343b6b6b44ba948",
     "grade": true,
     "grade_id": "cell-d56b92a082173913",
     "locked": true,
     "points": 2,
     "schema_version": 3,
     "solution": false,
     "task": false
    }
   },
   "outputs": [],
   "source": [
    "# Autograder tests\n",
    "\n",
    "stu_ans = get_sensor_data()\n",
    "\n",
    "assert isinstance(\n",
    "    stu_ans, pd.DataFrame\n",
    "), \"Q1: Your get_sensor_data function must return a Pandas DataFrame.\"\n",
    "\n",
    "assert isinstance(\n",
    "    stu_ans.iloc[0][2], np.float64\n",
    "), \"Q1: The dtype of the first row, third column, is incorrect.\"\n",
    "\n",
    "del stu_ans"
   ]
  },
  {
   "cell_type": "markdown",
   "metadata": {
    "deletable": false,
    "editable": false,
    "nbgrader": {
     "cell_type": "markdown",
     "checksum": "75c407c279f0d2c9b5193a07668eec0a",
     "grade": false,
     "grade_id": "cell-e309fa31d13a784b",
     "locked": true,
     "schema_version": 3,
     "solution": false,
     "task": false
    }
   },
   "source": [
    "## Question 2  (3 points)\n",
    "### Standard train_test_split\n",
    " - Our first exercise will be to produce a SciKit-Learn standard train/test split of a dataframe. In the following cell, complete the function that returns a standard train/test split of the sensor data.\n",
    "   - The function should accept a dataframe as produced by get_sensor_data() and a test_split value which defaults to 0.2.\n",
    "   - The function should return the standard X_train, X_test, y_train, y_test."
   ]
  },
  {
   "cell_type": "code",
   "execution_count": 7,
   "metadata": {
    "deletable": false,
    "nbgrader": {
     "cell_type": "code",
     "checksum": "ce5eb4171a3dce8386d1757a61a45aba",
     "grade": false,
     "grade_id": "cell-bcd3c8cc8a52f6b7",
     "locked": false,
     "schema_version": 3,
     "solution": true,
     "task": false
    }
   },
   "outputs": [],
   "source": [
    "def std_train_test_split(df, test_split=0.2):\n",
    "\n",
    "    X = df.iloc[:, 2:]\n",
    "    y = df.iloc[:, 1]\n",
    "\n",
    "    X_train, X_test, y_train, y_test = train_test_split(X, y, test_size = test_split, random_state = 42)\n",
    "\n",
    "    return X_train, X_test, y_train, y_test"
   ]
  },
  {
   "cell_type": "code",
   "execution_count": 8,
   "metadata": {
    "deletable": false,
    "editable": false,
    "nbgrader": {
     "cell_type": "code",
     "checksum": "dfd340819ecf4c92e5f2047e9adaf52f",
     "grade": true,
     "grade_id": "cell-aeeea8534654fbda",
     "locked": true,
     "points": 3,
     "schema_version": 3,
     "solution": false,
     "task": false
    }
   },
   "outputs": [],
   "source": [
    "# Autograder tests\n",
    "\n",
    "df = get_sensor_data()\n",
    "stu_ans = std_train_test_split(df)\n",
    "\n",
    "assert isinstance(stu_ans[0], pd.DataFrame), \"Q2: X_train should be a pd.DataFrame\"\n",
    "assert isinstance(stu_ans[2], pd.Series), \"Q2: y_train should be a pd.Series\"\n",
    "\n",
    "del stu_ans\n",
    "del df"
   ]
  },
  {
   "cell_type": "markdown",
   "metadata": {
    "deletable": false,
    "editable": false,
    "nbgrader": {
     "cell_type": "markdown",
     "checksum": "c1971f4761e91c6750159276bc54449a",
     "grade": false,
     "grade_id": "cell-fca36043345da8b5",
     "locked": true,
     "schema_version": 3,
     "solution": false,
     "task": false
    }
   },
   "source": [
    "## Question 3  (5 Points)\n",
    "### Build a baseline Tree model\n",
    "- Complete the following function that will establish a baseline score.  \n",
    "  - This function should retrieve and split the sensor data based on your previously constructed functions. Please use/default to, a split value of 0.2.  \n",
    "  - Using a _for loop_ or [list comprehension](https://www.w3schools.com/python/python_lists_comprehension.asp), extract a list of feature names that includes the substring **base_feature_selector** defined in the **[library imports](#library-imports)** cell above.  \n",
    "  - Create a [DecisionTreeClassifier](https://scikit-learn.org/0.24/modules/generated/sklearn.tree.DecisionTreeClassifier.html#sklearn.tree.DecisionTreeClassifier) with default hyperparameters and the predetermined random_state value.\n",
    "    - Train this model on the features as extracted above.  \n",
    "  - Using the classifier's [score method](https://scikit-learn.org/0.24/modules/generated/sklearn.tree.DecisionTreeClassifier.html#sklearn.tree.DecisionTreeClassifier.score), score the model using X_test and the previously extracted subset of features.  \n",
    "  - Finally return a tuple consisting of the list of extracted features and score.  "
   ]
  },
  {
   "cell_type": "code",
   "execution_count": 9,
   "metadata": {
    "deletable": false,
    "nbgrader": {
     "cell_type": "code",
     "checksum": "45636a0e541b1b49ca824a8fc7ca5e3b",
     "grade": false,
     "grade_id": "cell-d0e06f1c335ec617",
     "locked": false,
     "schema_version": 3,
     "solution": true,
     "task": false
    }
   },
   "outputs": [],
   "source": [
    "def baseline_model_one():\n",
    "\n",
    "    feature_selector = base_feature_selector\n",
    "    \n",
    "    df = get_sensor_data()\n",
    "    X_train, X_test, y_train, y_test = std_train_test_split(df)\n",
    "\n",
    "    limit_list = []\n",
    "    for column in X_train.columns:\n",
    "        if base_feature_selector in column:\n",
    "            limit_list.append(column)\n",
    "        \n",
    "    X_train_limit = X_train[limit_list]\n",
    "    X_test_limit = X_test[limit_list]\n",
    "    \n",
    "    tree = DecisionTreeClassifier(random_state = 42).fit(X_train_limit, y_train)\n",
    "    score = tree.score(X_test_limit, y_test)\n",
    "    features = list(X_train_limit.columns)\n",
    "\n",
    "    return (features, score)"
   ]
  },
  {
   "cell_type": "code",
   "execution_count": 10,
   "metadata": {},
   "outputs": [],
   "source": [
    "# use this cell to observe your results\n",
    "# remember to comment the function call before submitting the notebook\n",
    "\n",
    "#baseline_model_one()"
   ]
  },
  {
   "cell_type": "code",
   "execution_count": 11,
   "metadata": {
    "deletable": false,
    "editable": false,
    "nbgrader": {
     "cell_type": "code",
     "checksum": "aa87efb37994822bc9030c6032c64feb",
     "grade": true,
     "grade_id": "cell-3a13464f8906cbe6",
     "locked": true,
     "points": 5,
     "schema_version": 3,
     "solution": false,
     "task": false
    }
   },
   "outputs": [],
   "source": [
    "# Autograder tests\n",
    "\n",
    "stu_ans = baseline_model_one()\n",
    "\n",
    "assert isinstance(stu_ans, tuple), \"Q3: Your function should return a tuple.\"\n",
    "\n",
    "assert isinstance(\n",
    "    stu_ans[0], list\n",
    "), \"Q3: Tuple element zero should be a list object.\"\n",
    "\n",
    "assert isinstance(\n",
    "    stu_ans[1], np.float64\n",
    "), \"Q3: Tuple element one should be a np.float64 value.\"\n",
    "\n",
    "del stu_ans"
   ]
  },
  {
   "cell_type": "markdown",
   "metadata": {
    "deletable": false,
    "editable": false,
    "nbgrader": {
     "cell_type": "markdown",
     "checksum": "93d0b14658068d7e22d698cfb42dcf75",
     "grade": false,
     "grade_id": "cell-3cdcaa635d0d50b5",
     "locked": true,
     "schema_version": 3,
     "solution": false,
     "task": false
    }
   },
   "source": [
    "## Question 4  (3 Points)\n",
    "### Baseline Tree model questions\n",
    "1. Does the default accuracy score returned by the model seem reasonable to you; why or why not?\n",
    "2. What might be the problem with this model or with the data?"
   ]
  },
  {
   "cell_type": "markdown",
   "metadata": {
    "deletable": false,
    "nbgrader": {
     "cell_type": "markdown",
     "checksum": "2dbe07b3481fb5120d11957b6db24684",
     "grade": true,
     "grade_id": "cell-63d35379db6841e9",
     "locked": false,
     "points": 0,
     "schema_version": 3,
     "solution": true,
     "task": false
    }
   },
   "source": [
    "Yes, this default accuracy score returned by the model was a big surprise as it was a very strong predictive score despite the default parameters for the Decision Tree Classifier being used, and depth, nodes, leaves, etc. not being allowed to be tuned. \n",
    "\n",
    "Most importantly, this is likely due to the standard train-test-split process and how it allows for an individual subject's readings to be included in both the training and the test datasets, which would be resulting in data leakage. This would have a significant impact on the model success (artificially inflate its predictive power) as the model, essentially, can train on both the training AND the testing data. This is leading to a model severely impacted by data leakage and it would perform poorly when new data was introduced outside of the training and testing sets."
   ]
  },
  {
   "cell_type": "markdown",
   "metadata": {
    "deletable": false,
    "editable": false,
    "nbgrader": {
     "cell_type": "markdown",
     "checksum": "726fd2b82505c9f6220b41410cc97f68",
     "grade": false,
     "grade_id": "cell-6c9f9019196beec7",
     "locked": true,
     "schema_version": 3,
     "solution": false,
     "task": false
    }
   },
   "source": [
    "## Question 5  (10 Points)\n",
    "### A custom train_test_split function\n",
    " - Because of the nature of the original experiment's data collection methodology, the standard sklearn train_test_split() method cannot be applied successfully to this dataset. \n",
    " - The first significant task will be to create a 'custom_train_test_split()' function that will correctly separate train data from test data, given the structure of the data in the sensor dataset.  \n",
    " - Your function should accept two arguments:  \n",
    "   - A Pandas DataFrame such as returned by your get_sensor_data() function.\n",
    "   - An integer ___or___ float value that indicates the number of or percentage of the test data split.  \n",
    "   - Again, any random_state or seed values should be initialized with an integer value of 42.\n",
    " - Helpful Python Standard Libraries and functions:\n",
    "   - [random](https://docs.python.org/3/library/random.html)  \n",
    "     - random.seed()\n",
    "     - random.choices()\n",
    "   - [math](https://docs.python.org/3/library/math.html)  \n",
    "     - math.floor()  \n",
    "     - math.ceil()  \n",
    "  \n",
    " - Questions to keep in mind while creating this function:\n",
    "   - How might this function accept and use an integer or float value for the purpose of dividing the dataset?\n",
    "   - How do I ensure consistent random selection for reproducibility?\n",
    "   - Most importantly, how do I split this data to avoid one of the more devastating issues in machine learning?"
   ]
  },
  {
   "cell_type": "code",
   "execution_count": 12,
   "metadata": {
    "deletable": false,
    "nbgrader": {
     "cell_type": "code",
     "checksum": "0eae343ccd98be2a6db576c621cbe199",
     "grade": false,
     "grade_id": "cell-1618476de514a891",
     "locked": false,
     "schema_version": 3,
     "solution": true,
     "task": false
    }
   },
   "outputs": [],
   "source": [
    "def custom_train_test_split(df, test_split = 0.2):\n",
    "    import math\n",
    "\n",
    "\n",
    "    subjects = list(df['Subject_ID'].unique())\n",
    "    random.seed(42)\n",
    "\n",
    "    if test_split < 1:\n",
    "        k = int(test_split * 40)\n",
    "    else:\n",
    "        k = test_split\n",
    "\n",
    "    random_list = random.choices(subjects, k = k)\n",
    "    test_subjects = df.loc[df['Subject_ID'].isin(random_list)]\n",
    "    train_subjects = df.loc[~df['Subject_ID'].isin(random_list)]\n",
    "\n",
    "    X_train = train_subjects\n",
    "    X_test = test_subjects\n",
    "\n",
    "    y_train = train_subjects.iloc[:, 1]\n",
    "    y_test = test_subjects.iloc[:, 1]\n",
    "    \n",
    "    return X_train, X_test, y_train, y_test"
   ]
  },
  {
   "cell_type": "code",
   "execution_count": 13,
   "metadata": {
    "deletable": false,
    "editable": false,
    "nbgrader": {
     "cell_type": "code",
     "checksum": "0176ef0792f9188d97a36b57e17580de",
     "grade": true,
     "grade_id": "cell-2c97a65714518e45",
     "locked": true,
     "points": 10,
     "schema_version": 3,
     "solution": false,
     "task": false
    }
   },
   "outputs": [],
   "source": [
    "# Autograder tests\n",
    "\n",
    "test_split = 5\n",
    "df = get_sensor_data()\n",
    "stu_ans = custom_train_test_split(df, test_split)\n",
    "\n",
    "assert isinstance(stu_ans[0], pd.DataFrame), \"Q4: X_train should be a pd.DataFrame\"\n",
    "assert isinstance(stu_ans[2], pd.Series), \"Q4: y_train should be a pd.Series\"\n",
    "assert len(stu_ans[1]) == 560, \"Q4: The length of your X_test dataframe is incorrect\"\n",
    "assert len(stu_ans[3]) == 560, \"Q4: The length of your y_test dataframe is incorrect\"\n",
    "\n",
    "del stu_ans"
   ]
  },
  {
   "cell_type": "markdown",
   "metadata": {
    "deletable": false,
    "editable": false,
    "nbgrader": {
     "cell_type": "markdown",
     "checksum": "1117fc11e889658359c54e46af3b93d1",
     "grade": false,
     "grade_id": "cell-7bdfb63c135245d2",
     "locked": true,
     "schema_version": 3,
     "solution": false,
     "task": false
    }
   },
   "source": [
    "## Question 5, Part 2\n",
    "### Run a baseline_model using your custom data splitter\n",
    "- Copy/Paste your baseline model code from above into the function below.  \n",
    "  - Replace the std_train_test_split() function with your new custom_train_test_split().\n",
    "    - Use the default split of 0.2.\n",
    "  - Run this revised function and answer the questions below.  "
   ]
  },
  {
   "cell_type": "code",
   "execution_count": 14,
   "metadata": {
    "deletable": false,
    "nbgrader": {
     "cell_type": "code",
     "checksum": "a6e7bbc7d2708012535b5a24edaf3272",
     "grade": false,
     "grade_id": "cell-f837ef40fcc382ee",
     "locked": false,
     "schema_version": 3,
     "solution": true,
     "task": false
    }
   },
   "outputs": [],
   "source": [
    "def baseline_model_two():\n",
    "    feature_selector = base_feature_selector\n",
    "    \n",
    "    df = get_sensor_data()\n",
    "    X_train, X_test, y_train, y_test = custom_train_test_split(df)\n",
    "    \n",
    "    X_train = X_train.iloc[:, 2:]\n",
    "    X_test = X_test.iloc[:, 2:]\n",
    "\n",
    "    limit_list = []\n",
    "    for column in X_train.columns:\n",
    "        if base_feature_selector in column:\n",
    "            limit_list.append(column)\n",
    "        \n",
    "    X_train_limit = X_train[limit_list]\n",
    "    X_test_limit = X_test[limit_list]\n",
    "    \n",
    "    tree = DecisionTreeClassifier(random_state = 42).fit(X_train_limit, y_train)\n",
    "    score = tree.score(X_test_limit, y_test)\n",
    "    features = list(X_train_limit.columns)\n",
    "\n",
    "    return (features, score)"
   ]
  },
  {
   "cell_type": "code",
   "execution_count": 15,
   "metadata": {},
   "outputs": [],
   "source": [
    "# examine your new baseline_model() here\n",
    "# remember to comment the function call before submitting the notebook\n",
    "\n",
    "#baseline_model_two()"
   ]
  },
  {
   "cell_type": "code",
   "execution_count": 16,
   "metadata": {
    "deletable": false,
    "editable": false,
    "nbgrader": {
     "cell_type": "code",
     "checksum": "ff6e39cf17de5a2de70bfa628ea161d1",
     "grade": true,
     "grade_id": "cell-72944b90c520abfe",
     "locked": true,
     "points": 0,
     "schema_version": 3,
     "solution": false,
     "task": false
    }
   },
   "outputs": [],
   "source": [
    "# Autograder tests\n",
    "\n",
    "stu_ans = baseline_model_two()\n",
    "\n",
    "assert isinstance(stu_ans, tuple), \"Q5: Your function should return a tuple.\"\n",
    "\n",
    "assert isinstance(\n",
    "    stu_ans[0], list\n",
    "), \"Q5: Tuple element zero should be a list object.\"\n",
    "\n",
    "assert isinstance(\n",
    "    stu_ans[1], np.float64\n",
    "), \"Q5: Tuple element one should be a np.float64 value.\"\n",
    "\n",
    "del stu_ans"
   ]
  },
  {
   "cell_type": "markdown",
   "metadata": {
    "deletable": false,
    "editable": false,
    "nbgrader": {
     "cell_type": "markdown",
     "checksum": "dd22eeb7592822938bfe25d6b616fedf",
     "grade": false,
     "grade_id": "cell-21809bc2608e0994",
     "locked": true,
     "schema_version": 3,
     "solution": false,
     "task": false
    }
   },
   "source": [
    "## Question 6  (2 Points)\n",
    "### Custom train/test split questions\n",
    "Is the score of the model that incorporates custom_train_test_split() significantly different from the std_train_test_split() version? What issue(s) have we eliminated with our new custom_train_test_split() function?"
   ]
  },
  {
   "cell_type": "markdown",
   "metadata": {
    "deletable": false,
    "nbgrader": {
     "cell_type": "markdown",
     "checksum": "c97c9a253e5e8eec91e31911e863cd57",
     "grade": true,
     "grade_id": "cell-175bb32a2a2293c4",
     "locked": false,
     "points": 0,
     "schema_version": 3,
     "solution": true,
     "task": false
    }
   },
   "source": [
    "Yes, the score is significantly different (lower) from the standard split version. The data leakage issues has been eliminated with the custom split version as now individual subjects are grouped into the test or training data sets instead of their specific individual readings, which leads to the predictive performance expected of a default, non-tuned model (relatively poor)."
   ]
  },
  {
   "cell_type": "markdown",
   "metadata": {
    "deletable": false,
    "editable": false,
    "nbgrader": {
     "cell_type": "markdown",
     "checksum": "f897f7a3303926fd384f395925a77478",
     "grade": false,
     "grade_id": "cell-2e0f6b0e6c8930f2",
     "locked": true,
     "schema_version": 3,
     "solution": false,
     "task": false
    }
   },
   "source": [
    "## Question 7  (5 Points)\n",
    "### Confusion Matrix\n",
    " - We now want to better understand the relationship of correct and incorrect predictons made by a classification model. A very useful tool for examining a multiclass outcome, such as we have with our sensor dataset, is the [Confusion Matrix](https://scikit-learn.org/0.24/modules/generated/sklearn.metrics.confusion_matrix.html#sklearn.metrics.confusion_matrix)\n",
    " - Using the SciKit-Learn [LogisticRegression](https://scikit-learn.org/0.24/modules/generated/sklearn.linear_model.LogisticRegression.html#sklearn.linear_model.LogisticRegression) model, create a function that returns a Confusion Matrix.\n",
    "   - Your function should accept zero arguments.  \n",
    "   - Set hyperparameter: max_iter=1000\n",
    "   - Any random_state or seed values should be initialized with an integer value of 42.\n",
    " - Use your previously defined functions to derive your train and test sets.\n",
    " - Scaling is an important factor in many Machine Learning projects (See section 3.3 in the course textbook). For the current dataset, use the sklearn method StandardScaler() to scale the train and test sets.\n",
    " - Using code that you had previously developed, include all features who's name includes the substring defined in \n",
    "**base_feature_selector** ([library imports](#library-imports)).\n",
    "- Your function should return the following tuple:  \n",
    "   - The confusion matrix array as returned by the sklean method confusion_matrix().  "
   ]
  },
  {
   "cell_type": "code",
   "execution_count": 17,
   "metadata": {
    "deletable": false,
    "nbgrader": {
     "cell_type": "code",
     "checksum": "537ac6401b5c21173e3be37e770dea44",
     "grade": false,
     "grade_id": "cell-02b6f1ff73a7c6a8",
     "locked": false,
     "schema_version": 3,
     "solution": true,
     "task": false
    }
   },
   "outputs": [],
   "source": [
    "from sklearn.linear_model import LogisticRegression as LR\n",
    "from sklearn.metrics import confusion_matrix\n",
    "\n",
    "def LR_confusion_matrix():\n",
    "\n",
    "    df = get_sensor_data()\n",
    "    X_train, X_test, y_train, y_test = custom_train_test_split(df)\n",
    "    \n",
    "    X_train = X_train.iloc[:, 2:]\n",
    "    X_test = X_test.iloc[:, 2:]\n",
    "\n",
    "    limit_list = []\n",
    "    for column in X_train.columns:\n",
    "        if base_feature_selector in column:\n",
    "            limit_list.append(column)\n",
    "        \n",
    "    X_train_limit = X_train[limit_list]\n",
    "    X_test_limit = X_test[limit_list]\n",
    "\n",
    "    scaler = StandardScaler().fit(X_train_limit)\n",
    "    X_train_limit = scaler.transform(X_train_limit)\n",
    "    X_test_limit = scaler.transform(X_test_limit)\n",
    "\n",
    "    log_model = LR(max_iter = 1000, random_state = 42).fit(X_train_limit, y_train)\n",
    "    y_predict = log_model.predict(X_test_limit)\n",
    "\n",
    "    conf_mtrx = confusion_matrix(y_test, y_predict)\n",
    "    return conf_mtrx"
   ]
  },
  {
   "cell_type": "code",
   "execution_count": 18,
   "metadata": {
    "deletable": false,
    "editable": false,
    "nbgrader": {
     "cell_type": "code",
     "checksum": "971a142669c182f79a601b7608d981ed",
     "grade": true,
     "grade_id": "cell-9ce7903f9c06f5f5",
     "locked": true,
     "points": 5,
     "schema_version": 3,
     "solution": false,
     "task": false
    }
   },
   "outputs": [],
   "source": [
    "# Autograder tests\n",
    "\n",
    "stu_ans = LR_confusion_matrix()\n",
    "\n",
    "assert isinstance(\n",
    "    stu_ans, np.ndarray\n",
    "), \"Q7: The second tuple element should be an np.ndarray\"\n",
    "\n",
    "del stu_ans"
   ]
  },
  {
   "cell_type": "markdown",
   "metadata": {
    "deletable": false,
    "editable": false,
    "nbgrader": {
     "cell_type": "markdown",
     "checksum": "bc90b6ed8fc517f04eab3bafc225f48d",
     "grade": false,
     "grade_id": "cell-4c32db5c2bff0137",
     "locked": true,
     "schema_version": 3,
     "solution": false,
     "task": false
    }
   },
   "source": [
    "### Visualizing the Confusion Matrix"
   ]
  },
  {
   "cell_type": "code",
   "execution_count": 19,
   "metadata": {
    "deletable": false,
    "editable": false,
    "nbgrader": {
     "cell_type": "code",
     "checksum": "b8e666ad0ca9607d5bf7f7e7f59d246b",
     "grade": false,
     "grade_id": "cell-740465ee9e481736",
     "locked": true,
     "schema_version": 3,
     "solution": false,
     "task": false
    }
   },
   "outputs": [],
   "source": [
    "def plot_confusion():\n",
    "    cm = LR_confusion_matrix()\n",
    "    labels = {\"neutral\": 1, \"emotional\": 2, \"mental\": 3, \"physical\": 4}.keys()\n",
    "    display_cm = ConfusionMatrixDisplay(confusion_matrix=cm, display_labels=labels)\n",
    "    display_cm.plot()\n",
    "    plt.show()"
   ]
  },
  {
   "cell_type": "code",
   "execution_count": 20,
   "metadata": {},
   "outputs": [
    {
     "data": {
      "image/png": "[encoded data removed]",
      "text/plain": [
       "<Figure size 432x288 with 2 Axes>"
      ]
     },
     "metadata": {
      "needs_background": "light"
     },
     "output_type": "display_data"
    }
   ],
   "source": [
    "# view your confusion matrix here\n",
    "# remember to comment the function call before submitting the notebook\n",
    "\n",
    "plot_confusion()"
   ]
  },
  {
   "cell_type": "markdown",
   "metadata": {
    "deletable": false,
    "editable": false,
    "nbgrader": {
     "cell_type": "markdown",
     "checksum": "75ea0791fb0a269cb8d9b3eaafdab63d",
     "grade": false,
     "grade_id": "cell-3a8431087ad8d20c",
     "locked": true,
     "schema_version": 3,
     "solution": false,
     "task": false
    },
    "slideshow": {
     "slide_type": "subslide"
    }
   },
   "source": [
    "## Question 8  (5 Points)\n",
    "### Basic Confusion Matrix Understanding\n",
    " - Answer the following questions concerning the above Confusion Matrix.  \n",
    " - Record (hardcode) your answers in the answer variables in the cell below for autograding purposes.  \n",
    " \n",
    "Q1. What is the number of __Correctly Predicted__ for the _mental_ activity?  \n",
    "Q2. How many __False Positive__ predictions were made for the _neutral_ activity?  \n",
    "Q3. How many __False Negative__ predictions were made for the _physical_ activity?  \n",
    "Q4. What is the __Precision__ Score for the _mental_ activity? (round to three decimal places)  \n",
    "Q5. What is the __Recall__ Score for the _emotional_ activity? (round to three decimal places)  \n",
    "Q6. What is the overall __Accuracy__ for the current model? (round to three decimal places)  \n",
    "Q7. Which activity is most confused for _mental_ activity when not?"
   ]
  },
  {
   "cell_type": "code",
   "execution_count": 21,
   "metadata": {
    "deletable": false,
    "nbgrader": {
     "cell_type": "code",
     "checksum": "c4798ae6588be5b458af88c00c90c8e2",
     "grade": false,
     "grade_id": "cell-aa8a1e16f3e1108a",
     "locked": false,
     "schema_version": 3,
     "solution": true,
     "task": false
    }
   },
   "outputs": [],
   "source": [
    "# Supply your answers to Q1 through Q7\n",
    "# in variables a1 through a7.\n",
    "\n",
    "a1 = 152\n",
    "a2 = 27+31+91\n",
    "a3 = 27+3\n",
    "a4 = round(152/(152+1+10), 3)\n",
    "a5 = round(99/(99+91+1+33), 3)\n",
    "a6 = round((155+99+152+194)/(155+99+152+194+91+31+27+55+36+3+10+1+4+33+5), 3)\n",
    "a7 = 'emotional'\n",
    "\n",
    "\n",
    "stu_ans = (a1, a2, a3, a4, a5, a6, a7)"
   ]
  },
  {
   "cell_type": "code",
   "execution_count": 22,
   "metadata": {
    "deletable": false,
    "editable": false,
    "nbgrader": {
     "cell_type": "code",
     "checksum": "0cf126236594f1f8b63abf1dbe466506",
     "grade": true,
     "grade_id": "cell-6c520b1fae9d0a50",
     "locked": true,
     "points": 5,
     "schema_version": 3,
     "solution": false,
     "task": false
    }
   },
   "outputs": [],
   "source": [
    "# Autograder tests\n",
    "\n",
    "assert (\n",
    "    len(stu_ans) == 7\n",
    "), \"Q8: Your answer tuple does not contain the correct number of answers.\"\n",
    "assert isinstance(stu_ans[0], int), \"Q8: Answer one should be an integer\"\n",
    "assert isinstance(stu_ans[1], int), \"Q8: Answer two should be an integer\"\n",
    "assert isinstance(stu_ans[2], int), \"Q8: Answer three should be an integer\"\n",
    "assert isinstance(stu_ans[3], float), \"Q8: Answer four should be a float\"\n",
    "assert isinstance(stu_ans[4], float), \"Q8: Answer five should be a float\"\n",
    "assert isinstance(stu_ans[5], float), \"Q8: Answer six should be a float\"\n",
    "assert isinstance(stu_ans[6], str), \"Q8: Answer seven should be a string\"\n",
    "\n",
    "del stu_ans"
   ]
  },
  {
   "cell_type": "markdown",
   "metadata": {
    "deletable": false,
    "editable": false,
    "nbgrader": {
     "cell_type": "markdown",
     "checksum": "a712696fa3a15efeae3e22251419927e",
     "grade": false,
     "grade_id": "cell-1aeefba857843791",
     "locked": true,
     "schema_version": 3,
     "solution": false,
     "task": false
    }
   },
   "source": [
    "## Question 9  (5 Points)\n",
    "### Feature Importance part 1\n",
    "#### Now we want to explore how some models are able to provide additional insight into the features that played a prominent role in the estimation outcome. \n",
    " - Produce a function that implements a RandomForestClassifier model, which includes the [**feature_importances_**](https://scikit-learn.org/0.24/modules/generated/sklearn.tree.DecisionTreeClassifier.html#sklearn.tree.DecisionTreeClassifier.feature_importances_) attribute.\n",
    "- The function accepts a single argument for the top X number of features, the default value will be 10.\n",
    "  - The classifier should use only two parameters:\n",
    "    - random_state=42\n",
    "    - n_jobs=-1\n",
    "- Use your previously defined functions to derive your train and test sets.\n",
    "- Using code that you had previously developed, include all features who's name includes the substring defined by **base_feature_selector** ([library imports](#library-imports)).\n",
    " - The function should return a tuple of two elements.\n",
    "   - The first element will be a **sorted** list of tuples in the form **\\[('feature_name', importance_value),...\\]**. The list of tuples should be sorted in descending order.\n",
    "     - This list of tuples should be sorted in **descending order** of feature_importance.\n",
    "   - The second element (test data score) should be an np.float64 value."
   ]
  },
  {
   "cell_type": "code",
   "execution_count": 23,
   "metadata": {
    "deletable": false,
    "nbgrader": {
     "cell_type": "code",
     "checksum": "7c720e8c74a6dea2ccee633e0265723f",
     "grade": false,
     "grade_id": "cell-ffe4926e6361f5fd",
     "locked": false,
     "schema_version": 3,
     "solution": true,
     "task": false
    }
   },
   "outputs": [],
   "source": [
    "def get_top_features(top=10):\n",
    "    \n",
    "    df = get_sensor_data()\n",
    "    X_train, X_test, y_train, y_test = custom_train_test_split(df)\n",
    "    \n",
    "    X_train = X_train.iloc[:, 2:]\n",
    "    X_test = X_test.iloc[:, 2:]\n",
    "\n",
    "    limit_list = []\n",
    "    for column in X_train.columns:\n",
    "        if base_feature_selector in column:\n",
    "            limit_list.append(column)\n",
    "        \n",
    "    X_train_limit = X_train[limit_list]\n",
    "    X_test_limit = X_test[limit_list]\n",
    "\n",
    "    forest = RandomForestClassifier(n_jobs = 1, random_state = 42).fit(X_train_limit, y_train)\n",
    "    importances = forest.feature_importances_\n",
    "\n",
    "    zipped_importance = list(zip(X_train_limit.columns, importances))\n",
    "    sorted_importance = sorted(zipped_importance, key=lambda x: x[1], reverse = True) \n",
    "\n",
    "    top_x = sorted_importance[:top]\n",
    "    score = forest.score(X_test_limit, y_test)\n",
    "    \n",
    "    return top_x, score"
   ]
  },
  {
   "cell_type": "code",
   "execution_count": 24,
   "metadata": {},
   "outputs": [],
   "source": [
    "# review your results here\n",
    "# remember to comment the function call before submitting the notebook\n",
    "\n",
    "#get_top_features()"
   ]
  },
  {
   "cell_type": "code",
   "execution_count": 25,
   "metadata": {
    "deletable": false,
    "editable": false,
    "nbgrader": {
     "cell_type": "code",
     "checksum": "d4ec8635146881be9f78aee493f1817a",
     "grade": true,
     "grade_id": "cell-b112a369a5bef4a9",
     "locked": true,
     "points": 5,
     "schema_version": 3,
     "solution": false,
     "task": false
    }
   },
   "outputs": [],
   "source": [
    "# Autograder tests\n",
    "\n",
    "stu_ans = get_top_features()\n",
    "\n",
    "assert (\n",
    "    len(stu_ans) == 2\n",
    "), \"Q9: Your answer tuple does not contain the correct number of elements.\"\n",
    "\n",
    "assert isinstance(stu_ans[0], list), \"Q9: The first tuple element should be a list\"\n",
    "\n",
    "assert len(stu_ans[0]) == 10, \"Q9: The default number of top features is not correct.\"\n",
    "\n",
    "assert isinstance(\n",
    "    stu_ans[1], np.float64\n",
    "), \"Q9: get_top_features() second return element should be an np.float64.\"\n",
    "\n",
    "del stu_ans\n"
   ]
  },
  {
   "cell_type": "markdown",
   "metadata": {
    "deletable": false,
    "editable": false,
    "nbgrader": {
     "cell_type": "markdown",
     "checksum": "aab0db2fca3608134f1de4df4e532238",
     "grade": false,
     "grade_id": "cell-0562af8e13d94e4e",
     "locked": true,
     "schema_version": 3,
     "solution": false,
     "task": false
    }
   },
   "source": [
    "## Question 10  (10 Points)\n",
    "### Feature Importance part 2\n",
    "#### The value of Feature Importance \n",
    "- This follow-on question will use the same **RandomForestClassifier** model as in your get_top_features() function.\n",
    "- The new model will use a portion of the output returned by the get_top_features() function.\n",
    "- Use the previously defined functions to derive your train and test datasets.\n",
    "- Create a loop that trains your model with an incrementally increasing number of features from the top features list.\n",
    "  - The first pass will include the topmost important feature, the second pass will include the top two most important features and so on until the final pass of all top X features.\n",
    "- Your function should return a list of feature-based test data scores produced by the model."
   ]
  },
  {
   "cell_type": "code",
   "execution_count": 26,
   "metadata": {
    "deletable": false,
    "nbgrader": {
     "cell_type": "code",
     "checksum": "c60dd666af9160639df3e8dfbb0461e2",
     "grade": false,
     "grade_id": "cell-61533567ca475486",
     "locked": false,
     "schema_version": 3,
     "solution": true,
     "task": false
    }
   },
   "outputs": [],
   "source": [
    "def score_top_features(top=10):\n",
    "\n",
    "    scores = []\n",
    "    df = get_sensor_data()\n",
    "    X_train, X_test, y_train, y_test = custom_train_test_split(df)\n",
    "    \n",
    "    X_train = X_train.iloc[:, 2:]\n",
    "    X_test = X_test.iloc[:, 2:]\n",
    "\n",
    "    limit_list = []\n",
    "    for column in X_train.columns:\n",
    "        if base_feature_selector in column:\n",
    "            limit_list.append(column)\n",
    "        \n",
    "    X_train_limit = X_train[limit_list]\n",
    "    X_test_limit = X_test[limit_list]\n",
    "\n",
    "    forest = RandomForestClassifier(n_jobs = 1, random_state = 42).fit(X_train_limit, y_train)\n",
    "    importances = forest.feature_importances_\n",
    "\n",
    "    zipped_importance = list(zip(X_train_limit.columns, importances))\n",
    "    sorted_importance = sorted(zipped_importance, key=lambda x: x[1], reverse = True) \n",
    "    feature_list = [x[0] for x in sorted_importance[:top]]\n",
    "\n",
    "    for i in range(top):\n",
    "        features = feature_list[:i+1]\n",
    "        X_train_loop = X_train_limit[features]\n",
    "        X_test_loop = X_test_limit[features]\n",
    "    \n",
    "        forest = RandomForestClassifier(n_jobs = 1, random_state = 42).fit(X_train_loop, y_train)\n",
    "        score = forest.score(X_test_loop, y_test)\n",
    "        scores.append(score)\n",
    "\n",
    "    return scores"
   ]
  },
  {
   "cell_type": "code",
   "execution_count": 27,
   "metadata": {},
   "outputs": [],
   "source": [
    "# review your top features results here\n",
    "# remember to comment the function call before submitting the notebook\n",
    "\n",
    "#score_top_features()"
   ]
  },
  {
   "cell_type": "code",
   "execution_count": 28,
   "metadata": {
    "deletable": false,
    "editable": false,
    "nbgrader": {
     "cell_type": "code",
     "checksum": "08558c7df20da2d92a12150be64857c1",
     "grade": true,
     "grade_id": "cell-bbade458d0c15e25",
     "locked": true,
     "points": 10,
     "schema_version": 3,
     "solution": false,
     "task": false
    }
   },
   "outputs": [],
   "source": [
    "# Autograder tests\n",
    "\n",
    "top = 10\n",
    "stu_ans = score_top_features(top)\n",
    "\n",
    "assert (\n",
    "    len(stu_ans) == top\n",
    "), \"Q10: Your function does not return the correct number of scores.\"\n",
    "\n",
    "assert all(\n",
    "    isinstance(x, np.float64) for x in stu_ans\n",
    "), \"Q10: One or more of the returned scores is of an incorrect type.\"\n",
    "\n",
    "del stu_ans"
   ]
  },
  {
   "cell_type": "code",
   "execution_count": 29,
   "metadata": {
    "deletable": false,
    "editable": false,
    "nbgrader": {
     "cell_type": "code",
     "checksum": "f7739a009138832617bb5f11238ce4fe",
     "grade": false,
     "grade_id": "cell-8fe2a304ac06b8b4",
     "locked": true,
     "schema_version": 3,
     "solution": false,
     "task": false
    }
   },
   "outputs": [],
   "source": [
    "def plot_scores(top=10):\n",
    "\n",
    "    if top > 29:\n",
    "        top = 29\n",
    "\n",
    "    top_x_features, score = get_top_features(top)\n",
    "    scores = score_top_features(top)\n",
    "\n",
    "    importance_scores = [score[1] for score in top_x_features]\n",
    "    x_axis = np.arange(1, len(scores) + 1)\n",
    "\n",
    "    plt.figure(figsize=(8, 6))\n",
    "\n",
    "    plt.plot(x_axis, scores, label=\"Accuracy Score\", c=\"g\", linestyle=\"solid\")\n",
    "    plt.plot(\n",
    "        x_axis,\n",
    "        importance_scores,\n",
    "        label=\"Feature Importance Scores\",\n",
    "        c=\"r\",\n",
    "        linestyle=\"solid\",\n",
    "    )\n",
    "    plt.axhline(\n",
    "        score,\n",
    "        label=f\"All '{base_feature_selector}' features score\",\n",
    "        c=\"b\",\n",
    "        linestyle=\"dashed\",\n",
    "    )\n",
    "\n",
    "    plt.xticks(x_axis)\n",
    "    plt.ylim([0, max(score, max(importance_scores)) + 0.05])\n",
    "    plt.xlabel(\"Number of Top 10 Features Used\")\n",
    "    plt.ylabel(\"Score Value\")\n",
    "    plt.grid(alpha=0.25)\n",
    "    plt.legend()\n",
    "    plt.show()\n",
    "\n",
    "    return"
   ]
  },
  {
   "cell_type": "markdown",
   "metadata": {
    "deletable": false,
    "editable": false,
    "nbgrader": {
     "cell_type": "markdown",
     "checksum": "0f32afade86587c02514ee243b8be7bf",
     "grade": false,
     "grade_id": "cell-616a3443dbb1643b",
     "locked": true,
     "schema_version": 3,
     "solution": false,
     "task": false
    }
   },
   "source": [
    "## Scores Plot\n",
    "The plot_scores() function accepts top X features argumnet which defaults to a value of 10. Feel free to change the argument to better see how accuracy is affected by the number of top features used to train the model."
   ]
  },
  {
   "cell_type": "code",
   "execution_count": 30,
   "metadata": {},
   "outputs": [],
   "source": [
    "# Plot accuracy vs feature importance\n",
    "# the plot_scores() function will accept a\n",
    "# remember to comment the function call before submitting the notebook\n",
    "\n",
    "#plot_scores()"
   ]
  },
  {
   "cell_type": "markdown",
   "metadata": {
    "deletable": false,
    "editable": false,
    "nbgrader": {
     "cell_type": "markdown",
     "checksum": "48735e57990836244788501440628e19",
     "grade": false,
     "grade_id": "cell-4e84ab0e7aaf6f51",
     "locked": true,
     "schema_version": 3,
     "solution": false,
     "task": false
    }
   },
   "source": [
    "## Question 11  (50 Points)\n",
    "### Final project\n",
    "- The final question for this assignment is open-ended with only a few **constraints**. Using any of the Supervised Machine Learning techniques and models presented in this course, produce a model that produces a best-possible ROC-AUC score. Your Question 11 award points will be evaluated solely on this score. The primary constraint for this question is that you will be able to utilize not more than **10** of the 533 available data features in the training and scoring of your model. A quick calculation of the number of available combinations C(n, r) = C(533, 10) = $\\frac{n!}{r!(n-r)!}$ = 4.684e20. That is very large number of possible combinations (the number of permutations is even greater)! Because of the intractability of checking all possible 10-feature combinations, it will be necessary to devise a scheme whereby your algorithm makes a selection of features and scores that selection. Be creative but also efficient in your feature selection process. Because multiple feature selection cycles may be necessary, you will also need to develop an efficient method of keeping track of the top model, features, and score.  \n",
    "\n",
    "- Why would we want to limit the number of features? \n",
    "   1. The creator of the project may want to minimize the number of sensors/measurements required to move the project forward.\n",
    "   2. The final product will be used on a smartphone where resource consumption is always a concern.\n",
    "   3. Computational resource availability of the development environment could be constrained due to budget availability.\n",
    "   4. The development environment may be intentionally constrained to mimic the production environment.\n",
    "  \n",
    "- You will find that even with these limitations, some model choices will still consume significant resources, even to the point of crashing the Python kernel!  \n",
    "\n",
    "- The activity_model() function:\n",
    "  - Arguments: none\n",
    "  - Use your previously defined functions to derive your train and test sets.\n",
    "  - If feasible, expand upon your previously created feature selection code.\n",
    "  - Use the following parameters when establishing your [roc_auc_score](https://scikit-learn.org/0.24/modules/generated/sklearn.metrics.roc_auc_score.html#sklearn.metrics.roc_auc_score) method:\n",
    "    - average=\"macro\"\n",
    "    - multi_class=\"ovr\"\n",
    "  - return: a tuple consisting of (fit_model, feature_list, roc_auc_score)"
   ]
  },
  {
   "cell_type": "code",
   "execution_count": 31,
   "metadata": {},
   "outputs": [],
   "source": [
    "df = get_sensor_data()\n",
    "X_train, X_test, y_train, y_test = custom_train_test_split(df)\n",
    "    \n",
    "X_train = X_train.iloc[:, 2:]\n",
    "X_test = X_test.iloc[:, 2:]\n",
    "\n",
    "stop = 0\n",
    "i = 0\n",
    "\n",
    "while stop == 0:\n",
    "    train_sample = X_train.sample(n=10, axis = 'columns', random_state = i)\n",
    "    test_sample = X_test.sample(n=10, axis = 'columns', random_state = i)\n",
    "    forest = RandomForestClassifier(max_features = 10, max_depth = 4, n_jobs = 1, random_state = 42).fit(train_sample, y_train)\n",
    "    forest_prob = forest.predict_proba(test_sample)\n",
    "    \n",
    "    score = roc_auc_score(y_test, forest_prob, average = 'macro', multi_class = 'ovr')\n",
    "    if score > .91:\n",
    "        stop = 1\n",
    "    i+=1\n"
   ]
  },
  {
   "cell_type": "code",
   "execution_count": 32,
   "metadata": {
    "deletable": false,
    "nbgrader": {
     "cell_type": "code",
     "checksum": "d13d8ecd713b4ed9d58940ec96042792",
     "grade": false,
     "grade_id": "cell-aa54eef9e0c09556",
     "locked": false,
     "schema_version": 3,
     "solution": true,
     "task": false
    }
   },
   "outputs": [],
   "source": [
    "def activity_model():\n",
    "    \n",
    "    df = get_sensor_data()\n",
    "    X_train, X_test, y_train, y_test = custom_train_test_split(df)\n",
    "    \n",
    "    X_train = X_train.iloc[:, 2:]\n",
    "    X_test = X_test.iloc[:, 2:]\n",
    "\n",
    "    stop = 0\n",
    "    i = 0\n",
    "\n",
    "    while stop == 0:\n",
    "        train_sample = X_train.sample(n=10, axis = 'columns', random_state = i)\n",
    "        test_sample = X_test.sample(n=10, axis = 'columns', random_state = i)\n",
    "        forest = RandomForestClassifier(max_features = 10, max_depth = 4, n_jobs = 1, random_state = 42).fit(train_sample, y_train)\n",
    "        forest_prob = forest.predict_proba(test_sample)\n",
    "    \n",
    "        score = roc_auc_score(y_test, forest_prob, average = 'macro', multi_class = 'ovr')\n",
    "        if score > .91:\n",
    "            stop = 1\n",
    "        i+=1\n",
    "\n",
    "    return (forest, list(test_sample.columns), score)"
   ]
  },
  {
   "cell_type": "code",
   "execution_count": 33,
   "metadata": {},
   "outputs": [],
   "source": [
    "# review your activity_model() return here\n",
    "# remember to comment the function call before submitting the notebook\n",
    "\n",
    "#activity_model()"
   ]
  },
  {
   "cell_type": "code",
   "execution_count": 34,
   "metadata": {
    "deletable": false,
    "editable": false,
    "nbgrader": {
     "cell_type": "code",
     "checksum": "8a6b9f898c212bef7bb6bdd2f2b48205",
     "grade": true,
     "grade_id": "cell-b75d744376ca0a86",
     "locked": true,
     "points": 25,
     "schema_version": 3,
     "solution": false
    }
   },
   "outputs": [],
   "source": [
    "# Hidden autograder model validation\n",
    "# test for AUC score >= 0.83\n",
    "\n",
    "stu_ans = activity_model()\n",
    "\n",
    "assert (\n",
    "    stu_ans[2] >= 0.83\n",
    "), f\"Q11: Your test AUC {stu_ans[2]:.4f} is less than 0.83. You will not receive any points for this question.\""
   ]
  },
  {
   "cell_type": "code",
   "execution_count": 35,
   "metadata": {
    "deletable": false,
    "editable": false,
    "nbgrader": {
     "cell_type": "code",
     "checksum": "bd9f10b623502320ec1c62f8fc071d44",
     "grade": true,
     "grade_id": "cell-51c43ad464c6a07b",
     "locked": true,
     "points": 5,
     "schema_version": 3,
     "solution": false
    }
   },
   "outputs": [],
   "source": [
    "# autograder test - AUC >= 0.85\n",
    "\n",
    "\n",
    "assert (\n",
    "    stu_ans[2] >= 0.85\n",
    "), f\"Q11: Your test AUC {stu_ans[2]:.4f} is less than 0.85. You will receive 25 points for this question.\""
   ]
  },
  {
   "cell_type": "code",
   "execution_count": 36,
   "metadata": {
    "deletable": false,
    "editable": false,
    "nbgrader": {
     "cell_type": "code",
     "checksum": "ef17cb93c66df1dc0a1586b95ac65471",
     "grade": true,
     "grade_id": "cell-8013377ff7931f48",
     "locked": true,
     "points": 5,
     "schema_version": 3,
     "solution": false
    }
   },
   "outputs": [],
   "source": [
    "# autograder test - AUC >= 0.87\n",
    "\n",
    "\n",
    "assert (\n",
    "    stu_ans[2] >= 0.87\n",
    "), f\"Q11: Your test AUC {stu_ans[2]:.4f} is less than 0.87. You will receive 30 points for this question.\""
   ]
  },
  {
   "cell_type": "code",
   "execution_count": 37,
   "metadata": {
    "deletable": false,
    "editable": false,
    "nbgrader": {
     "cell_type": "code",
     "checksum": "673cff6f549ebe345a23f8d2e5c0f31c",
     "grade": true,
     "grade_id": "cell-ebe32e8d5f5255f4",
     "locked": true,
     "points": 10,
     "schema_version": 3,
     "solution": false
    }
   },
   "outputs": [],
   "source": [
    "# autograder test - AUC >= 0.89\n",
    "\n",
    "\n",
    "assert (\n",
    "    stu_ans[2] >= 0.89\n",
    "), f\"Q11: Your test AUC {stu_ans[2]:.4f} is less than 0.89. You will receive 35 points for this question.\""
   ]
  },
  {
   "cell_type": "code",
   "execution_count": 38,
   "metadata": {
    "deletable": false,
    "editable": false,
    "nbgrader": {
     "cell_type": "code",
     "checksum": "26ba8748ac588697dd3a58f942dc3cec",
     "grade": true,
     "grade_id": "cell-ee59bccdda8ea14c",
     "locked": true,
     "points": 5,
     "schema_version": 3,
     "solution": false
    }
   },
   "outputs": [],
   "source": [
    "# autograder test - AUC >= 0.91\n",
    "\n",
    "\n",
    "assert (\n",
    "    stu_ans[2] >= 0.91\n",
    "), f\"Q11: Your test AUC {stu_ans[2]:.4f} is less than 0.91. You will receive 45 points for this question.\"\n",
    "\n",
    "del stu_ans"
   ]
  },
  {
   "cell_type": "code",
   "execution_count": null,
   "metadata": {},
   "outputs": [],
   "source": []
  }
 ],
 "metadata": {
  "anaconda-cloud": {},
  "coursera": {
   "schema_names": [
    "mads_supervised_learning_v2_assignment4"
   ]
  },
  "kernelspec": {
   "display_name": "Python 3 (ipykernel)",
   "language": "python",
   "name": "python3"
  },
  "language_info": {
   "codemirror_mode": {
    "name": "ipython",
    "version": 3
   },
   "file_extension": ".py",
   "mimetype": "text/x-python",
   "name": "python",
   "nbconvert_exporter": "python",
   "pygments_lexer": "ipython3",
   "version": "3.8.10"
  }
 },
 "nbformat": 4,
 "nbformat_minor": 2
}

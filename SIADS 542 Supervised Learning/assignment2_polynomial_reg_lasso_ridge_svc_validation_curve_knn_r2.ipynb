{
 "cells": [
  {
   "cell_type": "code",
   "execution_count": 1,
   "metadata": {
    "deletable": false,
    "editable": false,
    "nbgrader": {
     "cell_type": "code",
     "checksum": "ad6923a92962cdba6be891fcf161e328",
     "grade": false,
     "grade_id": "cell-632b4c666041719a",
     "locked": true,
     "schema_version": 3,
     "solution": false
    }
   },
   "outputs": [],
   "source": [
    "version = \"REPLACE_PACKAGE_VERSION\""
   ]
  },
  {
   "cell_type": "markdown",
   "metadata": {
    "deletable": false,
    "editable": false,
    "nbgrader": {
     "cell_type": "markdown",
     "checksum": "503ccfad87a43bb5242c435fdf6db99b",
     "grade": false,
     "grade_id": "cell-c712284a9739c04e",
     "locked": true,
     "schema_version": 3,
     "solution": false
    }
   },
   "source": [
    "# Assignment 2: Regression and Classification\n",
    "\n",
    "In this assignment we will build several regression and classification models and learn how model complexity relates to generalization performance. \n",
    "\n",
    "**Before starting Question 1, we recommend you read through *all* the questions in the assignment to get a better idea of the overall narrative for what we're exploring. The output of some questions is used in subsequent questions.**\n",
    "\n",
    "We're going to look at a very common situation in machine learning where:\n",
    "\n",
    "1. We assume the data are drawn from some true underlying 'gold standard' model that we *can't* observe directly, but that we would like to estimate, since if we know the 'true' model we could in theory do perfect prediction for future examples. In this assignment, the true model will be a polynomial function, but again, we can't observe the exact function.\n",
    "\n",
    "2. We have our actual dataset, which is drawn from a noisy version of the 'gold standard' function that we *do* observe directly.  This dataset is all we have, and we don't have any information about the added noise. As with any standard machine learning setup, we can divide this dataset into training and test sets: fitting the model using the training points, and evaluating the resulting model on the test points. There's code below that plots the training and test points explicitly.\n",
    "\n",
    "By using regression on #2, we try to get at #1. We'll see that by making different assumptions about the nature of the underlying true model, we will get different flavors of regression, which in turn will lead to better or worse fits -- according to how well our assumptions match the actual true model. The most basic assumption in Question 1 is that the true underlying model *is* a polynomial, but of unknown degree. Later, we assume not only that the true underlying model is a polynomial, but that it has sparse coefficients (Lasso) and you'll evaluate the model fit in that case as well.\n"
   ]
  },
  {
   "cell_type": "markdown",
   "metadata": {
    "deletable": false,
    "editable": false,
    "nbgrader": {
     "cell_type": "markdown",
     "checksum": "f7c861e448c1eff0fdd020e6663b9786",
     "grade": false,
     "grade_id": "cell-8576d03826e617fe",
     "locked": true,
     "schema_version": 3,
     "solution": false
    }
   },
   "source": [
    "First, run the following cell to generate and plot the data points we will use throughout the assignment. \n",
    "\n",
    "The independent variable $x$ consists of $n$ evenly spaced points from the interval $[0, 20]$ and the dependent variable $y = 0.05x^3 - x^2 - x + C \\epsilon$ is a function of $x$ where $\\epsilon \\sim \\mathcal{N}(0, 1)$ represents the standard Gaussian noise and $C$ is a constant indicating the noise magnitude."
   ]
  },
  {
   "cell_type": "code",
   "execution_count": 2,
   "metadata": {
    "deletable": false,
    "editable": false,
    "nbgrader": {
     "cell_type": "code",
     "checksum": "2f8328b1beafd734e276bc96a8225613",
     "grade": false,
     "grade_id": "cell-91d5b2819b0753ea",
     "locked": true,
     "schema_version": 3,
     "solution": false
    }
   },
   "outputs": [],
   "source": [
    "import numpy as np\n",
    "import pandas as pd\n",
    "from sklearn.model_selection import train_test_split\n",
    "import matplotlib.pyplot as plt\n",
    "%matplotlib inline\n",
    "\n",
    "# Suppress all warnings\n",
    "import warnings\n",
    "warnings.filterwarnings('ignore')\n",
    "\n",
    "np.random.seed(0)\n",
    "C = 15\n",
    "n = 60\n",
    "x = np.linspace(0, 20, n)  # x is drawn from a fixed range\n",
    "y = x ** 3 / 20 - x ** 2 - x + C * np.random.randn(n)\n",
    "\n",
    "x = x.reshape(-1, 1) # convert x and y from simple array to a 1-column matrix for input to sklearn regression \n",
    "y = y.reshape(-1, 1)\n",
    "\n",
    "# Create the training and testing sets and their targets\n",
    "X_train, X_test, y_train, y_test = train_test_split(x, y, random_state=0)"
   ]
  },
  {
   "cell_type": "code",
   "execution_count": 3,
   "metadata": {},
   "outputs": [
    {
     "data": {
      "image/png": "[encoded data removed]",
      "text/plain": [
       "<Figure size 432x288 with 1 Axes>"
      ]
     },
     "metadata": {
      "needs_background": "light"
     },
     "output_type": "display_data"
    }
   ],
   "source": [
    "def data_scatter():\n",
    "    \"\"\"\n",
    "    This function helps you visualize the training and testing sets by drawing a scatter plot of the data points.\n",
    "    Feel free to change the function in any ways to create your own visuals. \n",
    "    \"\"\"\n",
    "    plt.figure()\n",
    "    plt.scatter(X_train, y_train, label='training')\n",
    "    plt.scatter(X_test, y_test, label='testing')\n",
    "    plt.legend(loc=4)\n",
    "\n",
    "# Remember to comment it out before submitting the notebook\n",
    "data_scatter()"
   ]
  },
  {
   "cell_type": "markdown",
   "metadata": {
    "deletable": false,
    "editable": false,
    "nbgrader": {
     "cell_type": "markdown",
     "checksum": "c0d79922df177af59c2bc2d10ef1b4bb",
     "grade": false,
     "grade_id": "cell-446072eaa6bc03b9",
     "locked": true,
     "schema_version": 3,
     "solution": false
    }
   },
   "source": [
    "### Question 1. (15 pts)\n",
    "\n",
    "From the data generation process we can see that a *linear* function is not sufficient to accurately describe the relationship between $x$ and $y$. What we really need is a *non-linear* regression that relates $x$ and $y$ in a non-linear way, which in our case we conjecture $y$ is a *polynomial* function of various degrees of $x$:\n",
    "\n",
    "\\begin{equation*}\n",
    "y = a_{0} + a_{1}x + a_{2}x^{2} + \\cdots + a_{n}x^{n}\n",
    "\\end{equation*}\n",
    "\n",
    "where $a_{0}, a_{1}, \\cdots, a_{n}$ are the coefficients we want to find. Notice that although $y$ is not a linear function of $x$, it is a linear function of powers of $x$. That means we can still run linear regression, but now on powers of $x$ instead of the zeroth and the first power of $x$ only. To do so we need to create these powers of $x$ out of the $x$ we have now, using the [`PolynomialFeatures`](https://scikit-learn.org/stable/modules/generated/sklearn.preprocessing.PolynomialFeatures.html#sklearn-preprocessing-polynomialfeatures) class from `scikit-learn`. (We recommend you take a look at the polynomial regression examples in the textbook's Section 4.5, Interactions and Polynomials.)\n",
    "\n",
    "For this question, proceed according to the following steps:\n",
    "\n",
    "1. Write the code that fits a polynomial [`LinearRegression`](https://scikit-learn.org/stable/modules/generated/sklearn.linear_model.LinearRegression.html) model on the *training data* `X_train` for degrees 1, 3, 7, 11 respectively. To do this, first use `PolynomialFeatures` to transform the original data so that it adds new additional polynomial features. Then, with this expanded feature set, fit a `LinearRegression` model for each degree choice (1, 3, 7, 11).\n",
    "\n",
    "\n",
    "2. For each polynomial regression model you fit in the previous step, use the model to generate predictions for that polynomial's values, using as input 100 evenly spaced points on the interval [0, 20]. To do this, as input to the model, use the expression `np.linspace(0, 20, 100).reshape(-1, 1)` which gives a 1-column matrix with the desired x-values. Remember that you will first need to call `fit_transform` on this input to add the polynomial feature columns, and then pass that into the predict method on your trained linear regression model. Then convert the 100-row, single-column prediction output to a single row, 100-column array using transpose(). Then stack all the 1-row arrays to create the final prediction output in a single numpy array, whose the first row stores the predictions from the model of degree 1, the second row stores the predictions from the model of degree 3 and so on, and return this numpy array as your result. Among other uses later, the autograder will use these predictions to verify the results of your trained model-fitting.\n",
    "\n",
    "*This function should return a numpy array of the shape `(4, 100)`.*"
   ]
  },
  {
   "cell_type": "code",
   "execution_count": 4,
   "metadata": {
    "deletable": false,
    "nbgrader": {
     "cell_type": "code",
     "checksum": "7c052de3472d4e0fdfe5beddbca3d6cd",
     "grade": false,
     "grade_id": "cell-9d09d1cc72cefb51",
     "locked": false,
     "schema_version": 3,
     "solution": true
    }
   },
   "outputs": [],
   "source": [
    "from sklearn.linear_model import LinearRegression\n",
    "from sklearn.preprocessing import PolynomialFeatures\n",
    "\n",
    "degs = (1, 3, 7, 11)  # this will be useful later\n",
    "\n",
    "def answer_one():\n",
    "    \n",
    "    preds = np.zeros((4, 100))\n",
    "\n",
    "    for i, deg in enumerate(degs):\n",
    "        poly = PolynomialFeatures(degree = deg)\n",
    "        X_poly = poly.fit_transform(X_train)\n",
    "        linreg = LinearRegression().fit(X_poly, y_train)\n",
    "        y = np.transpose(linreg.predict(poly.fit_transform(np.linspace(0,20,100).reshape(-1,1))))\n",
    "        preds[i] = y\n",
    "    \n",
    "    return preds"
   ]
  },
  {
   "cell_type": "code",
   "execution_count": 5,
   "metadata": {
    "deletable": false,
    "editable": false,
    "nbgrader": {
     "cell_type": "code",
     "checksum": "3acfef4a177a374857b2a791d4fefc8e",
     "grade": true,
     "grade_id": "cell-958d3ffafa45b8c3",
     "locked": true,
     "points": 15,
     "schema_version": 3,
     "solution": false
    }
   },
   "outputs": [],
   "source": [
    "# Autograder tests\n",
    "\n",
    "stu_ans = answer_one()\n",
    "\n",
    "assert isinstance(stu_ans, np.ndarray), \"Q1: Your function should return a np.ndarray. \"\n",
    "assert stu_ans.shape == (4, 100), \"Q1: Your np.ndarray is of an incorrect shape. \"\n",
    "\n",
    "del stu_ans"
   ]
  },
  {
   "cell_type": "code",
   "execution_count": 6,
   "metadata": {},
   "outputs": [
    {
     "data": {
      "image/png": "[encoded data removed]",
      "text/plain": [
       "<Figure size 720x360 with 1 Axes>"
      ]
     },
     "metadata": {
      "needs_background": "light"
     },
     "output_type": "display_data"
    }
   ],
   "source": [
    "# Optional: Now let's plot the polynomials we learned from the training data, along with the training and the testing data\n",
    "# Feel free to change this function in any way to create your own visuals. \n",
    "degs = (1, 3, 7, 11)\n",
    "def plot_one(predictions):\n",
    "    plt.figure(figsize=(10, 5))\n",
    "    plt.plot(X_train, y_train, 'o', label='training', markersize=10)\n",
    "    plt.plot(X_test, y_test, 'o', label='testing', markersize=10)\n",
    "    for i, deg in enumerate(degs):\n",
    "        plt.plot(np.linspace(0, 20, 100), predictions[i], alpha=0.8, lw=2, label=f\"degree={deg}\")\n",
    "    plt.legend(loc=4)\n",
    "\n",
    "# Remember to comment it out before submitting the notebook\n",
    "plot_one(answer_one())"
   ]
  },
  {
   "cell_type": "markdown",
   "metadata": {
    "deletable": false,
    "editable": false,
    "nbgrader": {
     "cell_type": "markdown",
     "checksum": "a09bcc1d374313578e5fe55e845c4018",
     "grade": false,
     "grade_id": "cell-e03d061d866f4ce3",
     "locked": true,
     "schema_version": 3,
     "solution": false
    }
   },
   "source": [
    "### Question 2. (15 pts)\n",
    "\n",
    "Write a function that fits a polynomial LinearRegression model on the training data `X_train` for degrees = (1, 3, 7, 11). For each model compute the $R^2$ (coefficient of determination) regression score on the training data as well as the the testing data. \n",
    "\n",
    "*This function should return a tuple of lists `(r2_train, r2_test)`, where `r2_train` contains the $R^{2}$ scores on the training data and the other contains the $R^{2}$ scores on the testing data.*"
   ]
  },
  {
   "cell_type": "code",
   "execution_count": 7,
   "metadata": {
    "deletable": false,
    "nbgrader": {
     "cell_type": "code",
     "checksum": "145d4e58863633d45d2df0f2dde21030",
     "grade": false,
     "grade_id": "cell-8e79274985200c84",
     "locked": false,
     "schema_version": 3,
     "solution": true
    }
   },
   "outputs": [],
   "source": [
    "from sklearn.linear_model import LinearRegression\n",
    "from sklearn.preprocessing import PolynomialFeatures\n",
    "from sklearn.metrics import r2_score\n",
    "\n",
    "degs = (1, 3, 7, 11)  # this will be useful later\n",
    "\n",
    "def answer_two():\n",
    "    r2_train, r2_test = [], []\n",
    "    \n",
    "    #y_train.shape # (45,1)\n",
    "    #y_test.shape  # (15,1)\n",
    "\n",
    "    for i, deg in enumerate(degs):\n",
    "        poly = PolynomialFeatures(degree = deg)\n",
    "        X_poly = poly.fit_transform(X_train)\n",
    "        linreg = LinearRegression().fit(X_poly, y_train)\n",
    "    \n",
    "        train_predicted = linreg.predict(X_poly)\n",
    "        fit_score = r2_score(y_train, train_predicted)\n",
    "        r2_train.append(fit_score)\n",
    "    \n",
    "        test_predicted = linreg.predict(poly.fit_transform(X_test))\n",
    "        fit_score = r2_score(y_test, test_predicted)\n",
    "        r2_test.append(fit_score)\n",
    "    \n",
    "    return r2_train, r2_test"
   ]
  },
  {
   "cell_type": "code",
   "execution_count": 8,
   "metadata": {
    "deletable": false,
    "editable": false,
    "nbgrader": {
     "cell_type": "code",
     "checksum": "8dbd4a4fe90c0c7f716543238ccce0a8",
     "grade": true,
     "grade_id": "cell-bb110de000a7e0bb",
     "locked": true,
     "points": 15,
     "schema_version": 3,
     "solution": false
    }
   },
   "outputs": [],
   "source": [
    "# Autograder tests\n",
    "\n",
    "stu_ans = answer_two()\n",
    "assert isinstance(stu_ans, tuple), \"Q2: Your function should return a tuple. \"\n",
    "assert len(stu_ans) == 2, \"Q2: The tuple returned should be of length 2. \"\n",
    "assert isinstance(stu_ans[0], list) and isinstance(stu_ans[1], list), \"Q2: The tuple should contain only lists. \"\n",
    "\n",
    "del stu_ans"
   ]
  },
  {
   "cell_type": "markdown",
   "metadata": {
    "deletable": false,
    "editable": false,
    "nbgrader": {
     "cell_type": "markdown",
     "checksum": "6544a15666a7659b5ae65b0aadda0cc3",
     "grade": false,
     "grade_id": "cell-5fd99b5e42526782",
     "locked": true,
     "schema_version": 3,
     "solution": false
    }
   },
   "source": [
    "### Question 3. (10 pts)  Using k-NN regression\n",
    "\n",
    "Fit a k-NN regression model with the training data and return the $R^{2}$ value on the testing data. Use the default hyper-parameters. \n",
    "\n",
    "*This function should return a single `float` number.*"
   ]
  },
  {
   "cell_type": "code",
   "execution_count": 9,
   "metadata": {
    "deletable": false,
    "nbgrader": {
     "cell_type": "code",
     "checksum": "c90445fe3250946def610189b93b21ef",
     "grade": false,
     "grade_id": "cell-b972f6f246770ec7",
     "locked": false,
     "schema_version": 3,
     "solution": true
    }
   },
   "outputs": [],
   "source": [
    "from sklearn.linear_model import LinearRegression\n",
    "from sklearn.neighbors import KNeighborsRegressor\n",
    "\n",
    "def answer_three():\n",
    "    \n",
    "    knn = KNeighborsRegressor()\n",
    "    knn.fit(X_train, y_train)\n",
    "    knn_predicted = knn.predict(X_test)\n",
    "    \n",
    "    r2 = r2_score(y_test, knn_predicted)\n",
    "    return r2"
   ]
  },
  {
   "cell_type": "code",
   "execution_count": 10,
   "metadata": {
    "deletable": false,
    "editable": false,
    "nbgrader": {
     "cell_type": "code",
     "checksum": "8af9ac0b42ead2f1b0845d8d9330f658",
     "grade": true,
     "grade_id": "cell-8011dc023a29b90f",
     "locked": true,
     "points": 10,
     "schema_version": 3,
     "solution": false
    }
   },
   "outputs": [],
   "source": [
    "# Autograder tests\n",
    "\n",
    "stu_ans = answer_three()\n",
    "\n",
    "assert isinstance(stu_ans, float), \"Q3: Your function should return a single float number. \"\n",
    "\n",
    "del stu_ans"
   ]
  },
  {
   "cell_type": "markdown",
   "metadata": {
    "deletable": false,
    "editable": false,
    "nbgrader": {
     "cell_type": "markdown",
     "checksum": "202803a58351a9296cf4807dbcdac53d",
     "grade": false,
     "grade_id": "cell-3084a88cc1b74788",
     "locked": true,
     "schema_version": 3,
     "solution": false
    }
   },
   "source": [
    "### Question 4a.  (5 pts)\n",
    "\n",
    "Based on the $R^2$ scores from Question 2, which degree of the polynomial causes the model to be\n",
    " - underfitting; \n",
    " - overfitting; or\n",
    " - achieving good generalisation performance? \n",
    "\n",
    "Hint: Try to plot the degrees of the polynomial against the $R^2$ scores to visualise their relationship. \n",
    "\n",
    "Your function should return a 3-tuple with the degree values in this order: (Underfitting, Overfitting, Good_Generalization)\n",
    "Some answers may have more than one value that will be accepted as correct."
   ]
  },
  {
   "cell_type": "code",
   "execution_count": 11,
   "metadata": {
    "deletable": false,
    "nbgrader": {
     "cell_type": "code",
     "checksum": "bdcca59271a93a5178d1acdb1b229c7a",
     "grade": false,
     "grade_id": "cell-cc7057f082f79066",
     "locked": false,
     "schema_version": 3,
     "solution": true
    }
   },
   "outputs": [],
   "source": [
    "def answer_four_a():\n",
    "    result = (1, 11, 3)\n",
    "    return result"
   ]
  },
  {
   "cell_type": "code",
   "execution_count": 12,
   "metadata": {
    "deletable": false,
    "editable": false,
    "nbgrader": {
     "cell_type": "code",
     "checksum": "8729cf95552c338dd31343efc723dcf2",
     "grade": true,
     "grade_id": "cell-cf6a4c6412dbde3a",
     "locked": true,
     "points": 5,
     "schema_version": 3,
     "solution": false
    }
   },
   "outputs": [],
   "source": [
    "# Autograder tests\n",
    "\n",
    "stu_ans = answer_four_a()\n",
    "\n",
    "assert isinstance(stu_ans, tuple), \"Q4a: You should return a tuple.\"\n",
    "assert len(stu_ans) == 3, \"Q4a: Your tuple must have 3 elements.\"\n",
    "\n",
    "del stu_ans"
   ]
  },
  {
   "cell_type": "markdown",
   "metadata": {
    "deletable": false,
    "editable": false,
    "nbgrader": {
     "cell_type": "markdown",
     "checksum": "b534fe4a189218aba5c624d9c9a97429",
     "grade": false,
     "grade_id": "cell-8081bbbdc902974d",
     "locked": true,
     "schema_version": 3,
     "solution": false
    }
   },
   "source": [
    "### Question 4b. (15 pts)  Using Lasso regression for polynomial fitting\n",
    "\n",
    "Training models on high-degree polynomial features can result in overly complex models that overfit the training data, so we often add some regularization to constrain the model complexity as we saw in Ridge and Lasso regression.\n",
    "\n",
    "For this question, you will be comparing the non-regularized `LinearRegression` model (with the default hyper-parameters) that you built for Question 1, to a new regularised Lasso Regression model (with hyper-parameters `alpha=0.01`, `max_iter=10000`) --- on polynomial features of varying degrees, so you can see the difference with the polynomials that were fit in Question 1.\n",
    "\n",
    "Your function should return predictions for the regularized model using the same method and in the same format that you used for question 1: namely, you generate predictions for 100 evenly spaced points on the interval [0, 20] and store the results in a numpy array, whose the first row stores the predictions from the model of degree 1, the second row stores the predictions from the model of degree 3 and so on.\n",
    "\n",
    "*This function should return a numpy array of the shape `(4, 100)`.*\n",
    "\n",
    "Once you have successful generated these predictions, plot them using the provided function and compare with the polynomial fit in Question 1. What do you observe?  What explains what you observe?  (These questions are for your insight only - they are not graded.)"
   ]
  },
  {
   "cell_type": "code",
   "execution_count": 13,
   "metadata": {
    "deletable": false,
    "nbgrader": {
     "cell_type": "code",
     "checksum": "5bd0a5cef3b75c0ac67a06024cd8b4ee",
     "grade": false,
     "grade_id": "cell-7c7af5bcec432359",
     "locked": false,
     "schema_version": 3,
     "solution": true
    }
   },
   "outputs": [],
   "source": [
    "from sklearn.preprocessing import PolynomialFeatures\n",
    "from sklearn.linear_model import Lasso, LinearRegression\n",
    "from sklearn.metrics import r2_score\n",
    "\n",
    "degs = (1, 3, 7, 11)\n",
    "def answer_four_b():\n",
    "    \n",
    "    preds = np.zeros((4, 100))\n",
    "\n",
    "    for i, deg in enumerate(degs):\n",
    "        poly = PolynomialFeatures(degree = deg)\n",
    "        X_poly = poly.fit_transform(X_train)\n",
    "        lasso = Lasso(alpha = 0.01, max_iter = 10000).fit(X_poly, y_train)\n",
    "        y = np.transpose(lasso.predict(poly.fit_transform(np.linspace(0,20,100).reshape(-1,1))))\n",
    "        preds[i] = y\n",
    "    \n",
    "    return preds"
   ]
  },
  {
   "cell_type": "code",
   "execution_count": 14,
   "metadata": {
    "deletable": false,
    "editable": false,
    "nbgrader": {
     "cell_type": "code",
     "checksum": "3452e6f3ab6857c3b912325f1712f61c",
     "grade": true,
     "grade_id": "cell-10a959987014433e",
     "locked": true,
     "points": 15,
     "schema_version": 3,
     "solution": false
    }
   },
   "outputs": [],
   "source": [
    "# Autograder tests\n",
    "\n",
    "stu_ans = answer_four_b()\n",
    "\n",
    "assert isinstance(stu_ans, np.ndarray), \"Q4b: Your function should return a np.ndarray. \"\n",
    "assert stu_ans.shape == (4, 100), \"Q4b: Your np.ndarray is of an incorrect shape: it should be (4, 100).\"\n",
    "\n",
    "del stu_ans"
   ]
  },
  {
   "cell_type": "code",
   "execution_count": 15,
   "metadata": {},
   "outputs": [
    {
     "data": {
      "image/png": "[encoded data removed]",
      "text/plain": [
       "<Figure size 720x360 with 1 Axes>"
      ]
     },
     "metadata": {
      "needs_background": "light"
     },
     "output_type": "display_data"
    }
   ],
   "source": [
    "# Remember to comment it out before submitting the notebook\n",
    "plot_one(answer_four_b())"
   ]
  },
  {
   "cell_type": "markdown",
   "metadata": {
    "deletable": false,
    "editable": false,
    "nbgrader": {
     "cell_type": "markdown",
     "checksum": "0d1799e597988de793be7beea41edc4c",
     "grade": false,
     "grade_id": "cell-03113efdb52e1650",
     "locked": true,
     "schema_version": 3,
     "solution": false
    }
   },
   "source": [
    "### Question 4c. (20 points) \n",
    "\n",
    "Return the $R^2$ score for each of the Lasso models above relative to a new 'gold standard' test set generated from the true underlying cubic polynomial model without noise.  Compute this test set by computing the true noise-less underlying function `t^3/20 - t^2 - t` for each of 100 evenly spaced points on the interval [0, 20] (the same as you've used in previous questions).  For each degree (1, 3, 7, 11), compute the $R^2$ score using this 'gold standard' test set and return the polynomial degree that gives the best fit on the 'gold standard' test set. Your function should return an integer, which should be in the set (1,3,7,11).  Does the optimal polynomial degree match the true polynomial degree?"
   ]
  },
  {
   "cell_type": "code",
   "execution_count": 16,
   "metadata": {
    "deletable": false,
    "nbgrader": {
     "cell_type": "code",
     "checksum": "27ff46367f96dd4d49946db6a217b955",
     "grade": false,
     "grade_id": "cell-b5394665d22fb09e",
     "locked": false,
     "schema_version": 3,
     "solution": true
    }
   },
   "outputs": [],
   "source": [
    "degs = (1, 3, 7, 11)\n",
    "\n",
    "def answer_four_c():\n",
    "    \n",
    "    X = np.linspace(0,20,100)\n",
    "    y_gold = np.zeros(100)\n",
    "\n",
    "    for i in range(len(X)):\n",
    "        y_gold[i] = (X[i]**3)/20 - X[i]**2 - X[i]\n",
    "    \n",
    "    r2_vals = []\n",
    "\n",
    "    for i, deg in enumerate(degs):\n",
    "        poly = PolynomialFeatures(degree = deg)\n",
    "        X_poly = poly.fit_transform(X_train)\n",
    "        lasso = Lasso(alpha = 0.01, max_iter = 10000).fit(X_poly, y_train)\n",
    "    \n",
    "        lasso_predicted = lasso.predict(poly.fit_transform(X.reshape(-1,1)))\n",
    "        deg_r2 = r2_score(y_gold, lasso_predicted)\n",
    "        r2_vals.append(deg_r2)\n",
    "        \n",
    "        if i == 0:\n",
    "            best_deg = deg\n",
    "            best_score = np.absolute(deg_r2)\n",
    "        else:\n",
    "            if np.absolute(deg_r2) > best_score:\n",
    "                best_deg = deg\n",
    "                best_score = np.absolute(deg_r2)\n",
    "\n",
    "    return best_deg"
   ]
  },
  {
   "cell_type": "code",
   "execution_count": 17,
   "metadata": {
    "deletable": false,
    "editable": false,
    "nbgrader": {
     "cell_type": "code",
     "checksum": "54c1d6e197e2fcfe26b8e87f77005bda",
     "grade": true,
     "grade_id": "cell-21481cca025d7fe5",
     "locked": true,
     "points": 20,
     "schema_version": 3,
     "solution": false
    }
   },
   "outputs": [],
   "source": [
    "stu_ans = answer_four_c()\n",
    "\n",
    "assert isinstance(stu_ans, int), \"Q4c: Your function should return an integer. \"\n",
    "del stu_ans"
   ]
  },
  {
   "cell_type": "markdown",
   "metadata": {
    "deletable": false,
    "editable": false,
    "nbgrader": {
     "cell_type": "markdown",
     "checksum": "8e66ff692c2dddfe19890a5e13bb4d17",
     "grade": false,
     "grade_id": "cell-722b305be5dccb0f",
     "locked": true,
     "schema_version": 3,
     "solution": false
    }
   },
   "source": [
    "### Question 5.  (15 points)  Applying a SVC classifier to the Wisconsin dataset\n",
    "\n",
    "We're going to return to the Wisconsin breast cancer dataset to apply our newly learned Support Vector classifier  (`SVC`).\n",
    "\n",
    "For this question, we're also going to use the `validation_curve` function in `sklearn.model_selection` to determine training and test scores for the Support Vector Classifier with varying parameter values.\n",
    "\n",
    "Create an `SVC` with default parameters (i.e. `kernel='rbf', C=1`) and `random_state=0`. Recall that the kernel width of the RBF kernel is controlled using the `gamma` parameter.  Explore the effect of `gamma` on classifier accuracy by using the `validation_curve` function to find the training and test scores for 6 values of `gamma` from `1e-7` to `1e-2` (i.e. `np.logspace(-7, -2, 6, endpoint=True)`, or more precisely `[1.e-07, 1.e-06, 1.e-05, 1.e-04, 1.e-03, 1.e-02]`).\n",
    "\n",
    "For each level of `gamma`, set parameter `cv=3` so that `validation_curve` will fit 3 models on different subsets of the data, returning two 6x3 (6 levels of gamma x 3 fits per level) arrays of the scores for the training and test sets. \n",
    "\n",
    "Find the mean score across the three models for each level of `gamma` for both arrays, creating two arrays of length 6, and return a tuple with the two arrays.\n",
    "\n",
    "e.g.\n",
    "\n",
    "if one of your array of scores is\n",
    "\n",
    "    array([[ 0.5,  0.4,  0.6],\n",
    "           [ 0.7,  0.8,  0.7],\n",
    "           [ 0.9,  0.8,  0.8],\n",
    "           [ 0.8,  0.7,  0.8],\n",
    "           [ 0.7,  0.6,  0.6],\n",
    "           [ 0.4,  0.6,  0.5]])\n",
    "       \n",
    "it should then become\n",
    "\n",
    "    array([ 0.5,  0.73333333,  0.83333333,  0.76666667,  0.63333333, 0.5])\n",
    "\n",
    "*This function should return a tuple of numpy arrays `(training_scores, test_scores)` where each array in the tuple has shape `(6,)`.*"
   ]
  },
  {
   "cell_type": "markdown",
   "metadata": {
    "deletable": false,
    "editable": false,
    "nbgrader": {
     "cell_type": "markdown",
     "checksum": "838b4866fe383101ed0281ea47e0e7ea",
     "grade": false,
     "grade_id": "cell-2244bfa56f789d18",
     "locked": true,
     "schema_version": 3,
     "solution": false
    }
   },
   "source": [
    "Here's the preliminary code to load the dataset."
   ]
  },
  {
   "cell_type": "code",
   "execution_count": 18,
   "metadata": {},
   "outputs": [],
   "source": [
    "from sklearn.datasets import load_breast_cancer\n",
    "\n",
    "cancer = load_breast_cancer()\n",
    "\n",
    "data      = np.hstack([cancer[\"data\"], cancer[\"target\"].reshape(-1, 1)])\n",
    "col_names = np.hstack([cancer[\"feature_names\"], [\"target\"]])\n",
    "cancer_df = pd.DataFrame(data, columns=col_names)\n",
    "\n",
    "X_cancer, y_cancer = cancer_df.iloc[:, :-1], cancer_df.iloc[:, -1]"
   ]
  },
  {
   "cell_type": "code",
   "execution_count": 19,
   "metadata": {
    "deletable": false,
    "nbgrader": {
     "cell_type": "code",
     "checksum": "b578c2d48685bbfaaf72cb3f01671b98",
     "grade": false,
     "grade_id": "cell-db02af58c38d0e3a",
     "locked": false,
     "schema_version": 3,
     "solution": true
    }
   },
   "outputs": [],
   "source": [
    "def answer_five():\n",
    "    \n",
    "    from sklearn.svm import SVC\n",
    "    from sklearn.model_selection import validation_curve\n",
    "\n",
    "    param_range = np.logspace(-7, -2, 6, endpoint=True)\n",
    "    train_scores, test_scores = validation_curve(SVC(kernel = 'rbf', C = 1, random_state = 0),\n",
    "                                                 X_cancer, y_cancer, param_name = 'gamma',\n",
    "                                                 param_range = param_range, cv = 3)\n",
    "\n",
    "    results = np.mean(train_scores, axis = 1), np.mean(test_scores, axis = 1)\n",
    "    return results"
   ]
  },
  {
   "cell_type": "code",
   "execution_count": 20,
   "metadata": {
    "deletable": false,
    "editable": false,
    "nbgrader": {
     "cell_type": "code",
     "checksum": "3c06757c79c12d62ca7e7f980268a722",
     "grade": true,
     "grade_id": "cell-f2ab9c6d6d2058a7",
     "locked": true,
     "points": 15,
     "schema_version": 3,
     "solution": false
    }
   },
   "outputs": [],
   "source": [
    "# Autograder tests\n",
    "\n",
    "stu_ans = answer_five()\n",
    "\n",
    "assert isinstance(stu_ans, tuple), \"Q5: You should return a tuple (of two arrays)\"\n",
    "assert stu_ans[0].shape == (6, ), \"Q5: Please check the shape of your first returned array: it should be (6,).\"\n",
    "assert stu_ans[1].shape == (6, ), \"Q5: Please check the shape of your second returned array: it should be (6,).\"\n",
    "\n",
    "del stu_ans"
   ]
  },
  {
   "cell_type": "markdown",
   "metadata": {
    "deletable": false,
    "editable": false,
    "nbgrader": {
     "cell_type": "markdown",
     "checksum": "132b7c452783bb9911c0872ad51da817",
     "grade": false,
     "grade_id": "cell-1e38c3be0e8cd2a4",
     "locked": true,
     "schema_version": 3,
     "solution": false
    }
   },
   "source": [
    "### Question 6. (5 points)  \n",
    "\n",
    "Based on the scores from the previous question, what gamma value corresponds to a model that is underfitting? What gamma value corresponds to a model that is overfitting? What choice of gamma would provide a model with good generalization performance on this dataset?\n",
    "\n",
    "(Hint: Try plotting the scores from the previous question to visualize the relationship. Code is provided below.)\n",
    "\n",
    "This function should return a tuple with the gamma values in this order: (Underfitting, Overfitting, Good_Generalization)\n",
    "You must enter these values in the format 1e-N, where N is the exponent, and the gamma value must be one of the values in the list `[1e-7, 1e-6, 1e-5, 1e-4, 1e-3, 1e-2]`.  Some answers have more than one value that will be accepted as correct."
   ]
  },
  {
   "cell_type": "code",
   "execution_count": 21,
   "metadata": {
    "deletable": false,
    "nbgrader": {
     "cell_type": "code",
     "checksum": "abc87aeffacc9bf5612667b28b90a148",
     "grade": false,
     "grade_id": "cell-1dfedc819ebff323",
     "locked": false,
     "schema_version": 3,
     "solution": true
    }
   },
   "outputs": [
    {
     "data": {
      "image/png": "[encoded data removed]",
      "text/plain": [
       "<Figure size 432x288 with 1 Axes>"
      ]
     },
     "metadata": {
      "needs_background": "light"
     },
     "output_type": "display_data"
    }
   ],
   "source": [
    "import numpy as np\n",
    "import pandas as pd\n",
    "import matplotlib.pyplot as plt\n",
    "a, b = answer_five()\n",
    "\n",
    "# Remember to comment it out before submitting the notebook\n",
    "# uncomment to plot\n",
    "\n",
    "x = np.arange(-7, -1, 1)\n",
    "plt.figure()\n",
    "plt.plot(x, a, label=\"Avg Train Acc\")\n",
    "plt.plot(x, b, label=\"Avg Test Acc\")\n",
    "plt.xticks(x)\n",
    "plt.xlabel('log scale: gamma parameter')\n",
    "plt.ylabel(\"Accuracy\")\n",
    "plt.legend()\n",
    "plt.show()\n",
    "\n",
    "def answer_six():\n",
    "    result = (1e-7, 1e-2, 1e-4)\n",
    "    return result\n",
    "    "
   ]
  },
  {
   "cell_type": "code",
   "execution_count": 22,
   "metadata": {
    "deletable": false,
    "editable": false,
    "nbgrader": {
     "cell_type": "code",
     "checksum": "fd2ea68b464cc746a7d017817eafbbc0",
     "grade": true,
     "grade_id": "cell-50694160622bff71",
     "locked": true,
     "points": 5,
     "schema_version": 3,
     "solution": false
    }
   },
   "outputs": [],
   "source": [
    "# Autograder tests\n",
    "\n",
    "stu_ans = answer_six()\n",
    "\n",
    "assert isinstance(stu_ans, tuple), \"Q6: You should return a tuple.\"\n",
    "assert len(stu_ans) == 3, \"Q6: Your tuple must have 3 elements.\"\n",
    "\n",
    "del stu_ans"
   ]
  },
  {
   "cell_type": "code",
   "execution_count": null,
   "metadata": {},
   "outputs": [],
   "source": []
  }
 ],
 "metadata": {
  "coursera": {
   "schema_names": [
    "mads_supervised_learning_v2_assignment2"
   ]
  },
  "kernelspec": {
   "display_name": "Python 3 (ipykernel)",
   "language": "python",
   "name": "python3"
  },
  "language_info": {
   "codemirror_mode": {
    "name": "ipython",
    "version": 3
   },
   "file_extension": ".py",
   "mimetype": "text/x-python",
   "name": "python",
   "nbconvert_exporter": "python",
   "pygments_lexer": "ipython3",
   "version": "3.8.10"
  }
 },
 "nbformat": 4,
 "nbformat_minor": 2
}

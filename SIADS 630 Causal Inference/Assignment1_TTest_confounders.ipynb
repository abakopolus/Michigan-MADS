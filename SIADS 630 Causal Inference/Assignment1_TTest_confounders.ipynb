{
 "cells": [
  {
   "cell_type": "markdown",
   "metadata": {
    "deletable": false,
    "editable": false,
    "nbgrader": {
     "cell_type": "markdown",
     "checksum": "b81e68b242f27373fbc874bac7a2d500",
     "grade": false,
     "grade_id": "Heading",
     "locked": true,
     "schema_version": 3,
     "solution": false
    }
   },
   "source": [
    "# Causal Inference\n",
    "# School of Information, University of Michigan \n",
    "## Week 1"
   ]
  },
  {
   "cell_type": "markdown",
   "metadata": {
    "deletable": false,
    "editable": false,
    "nbgrader": {
     "cell_type": "markdown",
     "checksum": "412b479a42b592a4a892b8988eef7f3e",
     "grade": false,
     "grade_id": "Resources",
     "locked": true,
     "schema_version": 3,
     "solution": false
    }
   },
   "source": [
    "### Resources:\n",
    " - Course Manual, which can be found in Coursera\n",
    " - [Intro to Pandas Data Structures](assets/IntroPandasStructures.pdf)\n",
    " - [Bertrand and Mullainathan, 2004](assets/BertrandMullainathan2004.pdf)"
   ]
  },
  {
   "cell_type": "markdown",
   "metadata": {
    "deletable": false,
    "editable": false,
    "nbgrader": {
     "cell_type": "markdown",
     "checksum": "f898b35fb4619f8184fe7aa3be7fa0de",
     "grade": false,
     "grade_id": "BackgroundPart1",
     "locked": true,
     "schema_version": 3,
     "solution": false
    }
   },
   "source": [
    "## Part 1\n",
    "\n",
    "### Background\n",
    "\n",
    "We will be using two datasets for this assignment. The first one (lecture1_survey.csv) is an observational dataset that comes from a labor market survey conducted in Chicago and Boston in 2001. The second one (lecture1_random_exper.csv) comes from a randomized experiment conducted by Marianne Bertrand and Sendhil Mullainathan, who sent fictitious resumes out to employers in response to job adverts in Boston and Chicago in 2001. The resumes differ in various attributes including the names of the applicants, and different resumes were randomly allocated to job openings. Some of the names are distinctly white sounding and some distinctly black sounding.\n"
   ]
  },
  {
   "cell_type": "markdown",
   "metadata": {
    "deletable": false,
    "editable": false,
    "nbgrader": {
     "cell_type": "markdown",
     "checksum": "0f412e2ac4341a9ab051ac07351c2f74",
     "grade": false,
     "grade_id": "DataPart1",
     "locked": true,
     "schema_version": 3,
     "solution": false
    }
   },
   "source": [
    "### Data\n",
    "\n",
    "The data file “lecture_1_survey.csv” contains 4 variables for 10,593 individuals. Below are descriptions of each variable in the data:\n",
    "\n",
    "- *black*: dummy variable for race; equal to 0 if white, 1 if black\n",
    "- *yearsexp*: years of work experience\n",
    "- *somecol_more*: 1 if college dropout or college degree or college degree and more, 0 otherwise\n",
    "- *employed*: 1 is employed, 0 if unemployed"
   ]
  },
  {
   "cell_type": "code",
   "execution_count": 1,
   "metadata": {
    "deletable": false,
    "editable": false,
    "nbgrader": {
     "cell_type": "code",
     "checksum": "45c89ab0ee1ec75d471f1cc39403257a",
     "grade": false,
     "grade_id": "ImportStatements",
     "locked": true,
     "schema_version": 3,
     "solution": false
    }
   },
   "outputs": [],
   "source": [
    "#Import statements. Run this cell.\n",
    "\n",
    "import pandas as pd\n",
    "import numpy as np\n",
    "import statsmodels.api as sm\n",
    "import statsmodels.stats.api as sms\n",
    "from scipy import stats"
   ]
  },
  {
   "cell_type": "code",
   "execution_count": 2,
   "metadata": {},
   "outputs": [
    {
     "data": {
      "text/html": [
       "<div>\n",
       "<style scoped>\n",
       "    .dataframe tbody tr th:only-of-type {\n",
       "        vertical-align: middle;\n",
       "    }\n",
       "\n",
       "    .dataframe tbody tr th {\n",
       "        vertical-align: top;\n",
       "    }\n",
       "\n",
       "    .dataframe thead th {\n",
       "        text-align: right;\n",
       "    }\n",
       "</style>\n",
       "<table border=\"1\" class=\"dataframe\">\n",
       "  <thead>\n",
       "    <tr style=\"text-align: right;\">\n",
       "      <th></th>\n",
       "      <th>yearsexp</th>\n",
       "      <th>somecol_more</th>\n",
       "      <th>col_more</th>\n",
       "      <th>employed</th>\n",
       "      <th>black</th>\n",
       "    </tr>\n",
       "  </thead>\n",
       "  <tbody>\n",
       "    <tr>\n",
       "      <th>0</th>\n",
       "      <td>7</td>\n",
       "      <td>0</td>\n",
       "      <td>0</td>\n",
       "      <td>1</td>\n",
       "      <td>1</td>\n",
       "    </tr>\n",
       "    <tr>\n",
       "      <th>1</th>\n",
       "      <td>4</td>\n",
       "      <td>1</td>\n",
       "      <td>0</td>\n",
       "      <td>1</td>\n",
       "      <td>1</td>\n",
       "    </tr>\n",
       "    <tr>\n",
       "      <th>2</th>\n",
       "      <td>16</td>\n",
       "      <td>0</td>\n",
       "      <td>0</td>\n",
       "      <td>1</td>\n",
       "      <td>0</td>\n",
       "    </tr>\n",
       "    <tr>\n",
       "      <th>3</th>\n",
       "      <td>8</td>\n",
       "      <td>1</td>\n",
       "      <td>0</td>\n",
       "      <td>1</td>\n",
       "      <td>0</td>\n",
       "    </tr>\n",
       "    <tr>\n",
       "      <th>4</th>\n",
       "      <td>11</td>\n",
       "      <td>0</td>\n",
       "      <td>0</td>\n",
       "      <td>0</td>\n",
       "      <td>1</td>\n",
       "    </tr>\n",
       "  </tbody>\n",
       "</table>\n",
       "</div>"
      ],
      "text/plain": [
       "   yearsexp  somecol_more  col_more  employed  black\n",
       "0         7             0         0         1      1\n",
       "1         4             1         0         1      1\n",
       "2        16             0         0         1      0\n",
       "3         8             1         0         1      0\n",
       "4        11             0         0         0      1"
      ]
     },
     "execution_count": 2,
     "metadata": {},
     "output_type": "execute_result"
    }
   ],
   "source": [
    "#Run this cell to get the data for Part 1.\n",
    "data_survey = pd.read_csv('assets/lecture1_survey.csv')\n",
    "\n",
    "#The line below lets you see the first five lines of the data_survey dataframe. Uncomment and run to view.\n",
    "data_survey.head()"
   ]
  },
  {
   "cell_type": "markdown",
   "metadata": {
    "deletable": false,
    "editable": false,
    "nbgrader": {
     "cell_type": "markdown",
     "checksum": "799ae898613d68be9f67e686ef49f1aa",
     "grade": false,
     "grade_id": "QuestionPart1",
     "locked": true,
     "schema_version": 3,
     "solution": false
    }
   },
   "source": [
    "### Questions\n",
    "\n",
    "We are interested in exploring whether there is racial discrimination against African-Americans in the labor market. We have two sets of data; observational (survey) and experimental that we can make use of for our investigation.\n",
    "\n",
    "**Note:** You can refer to the manual for the methods we use in the assignment if you need to.\n",
    "\n",
    "**Use the data_survey dataframe uploaded above to answer the questions in Part 1 unless otherwise specified.**"
   ]
  },
  {
   "cell_type": "markdown",
   "metadata": {
    "deletable": false,
    "editable": false,
    "nbgrader": {
     "cell_type": "markdown",
     "checksum": "6c20df313199a276bfccbcb8db6bb5a2",
     "grade": false,
     "grade_id": "Question1_1",
     "locked": true,
     "schema_version": 3,
     "solution": false
    }
   },
   "source": [
    "**1.** We will start by checking for covariate balance. Use the statsmodels.stats or scipy stats module to run a (two-sided) t-test to test the following null hypothesis: the mean of *somecol_more* is the same for African-Americans and Whites. Assign the results of the ttest to the variable `ttest1_1`. (1 pt)\n",
    "\n",
    "**Note:** For this balance test, we could also use a nonparametric test (Chi-squared test for binary variables) that relies on fewer assumptions."
   ]
  },
  {
   "cell_type": "code",
   "execution_count": 3,
   "metadata": {
    "deletable": false,
    "nbgrader": {
     "cell_type": "code",
     "checksum": "233864dcc7fd0be5f3c9330a2145598a",
     "grade": false,
     "grade_id": "Answer1_1",
     "locked": false,
     "schema_version": 3,
     "solution": true
    }
   },
   "outputs": [
    {
     "data": {
      "text/plain": [
       "Ttest_indResult(statistic=-11.24095598344323, pvalue=3.7514090837794205e-29)"
      ]
     },
     "execution_count": 3,
     "metadata": {},
     "output_type": "execute_result"
    }
   ],
   "source": [
    "black = data_survey[data_survey['black'] == 1]\n",
    "white = data_survey[data_survey['black'] == 0]\n",
    "\n",
    "ttest1_1 = stats.ttest_ind(black['somecol_more'], white['somecol_more'])\n",
    "ttest1_1\n",
    "#raise NotImplementedError()"
   ]
  },
  {
   "cell_type": "code",
   "execution_count": 4,
   "metadata": {
    "deletable": false,
    "editable": false,
    "nbgrader": {
     "cell_type": "code",
     "checksum": "75721544eda4a0698f6c7af1378fc42e",
     "grade": true,
     "grade_id": "Test1_1",
     "locked": true,
     "points": 1,
     "schema_version": 3,
     "solution": false
    }
   },
   "outputs": [],
   "source": [
    "# Hidden Tests, checking t-statistic and p-value of ttest1_1."
   ]
  },
  {
   "cell_type": "markdown",
   "metadata": {
    "deletable": false,
    "editable": false,
    "nbgrader": {
     "cell_type": "markdown",
     "checksum": "b4a5d5c3f185f16b632b291bf3b32900",
     "grade": false,
     "grade_id": "ManualQuestion1_2",
     "locked": true,
     "schema_version": 3,
     "solution": false
    }
   },
   "source": [
    "**2.** Based on the p-value, do you find evidence that this variable (somecol_more) differs between African-Americans and Whites at the 5% significance level? Explain. (i.e. report BOTH the p-value **AND** the decision rule based on p-value to determine if the difference is significant at the 5% level.) (1 pt)\n",
    " \n",
    "**Note**: This question will be manually graded."
   ]
  },
  {
   "cell_type": "markdown",
   "metadata": {
    "deletable": false,
    "nbgrader": {
     "cell_type": "markdown",
     "checksum": "47939182a306d53ac9c25a5587d1c6dc",
     "grade": true,
     "grade_id": "ManualAnswer1_2",
     "locked": false,
     "points": 0,
     "schema_version": 3,
     "solution": true
    }
   },
   "source": [
    "Yes, the somecol_more variable differs between the two groups at the 5% significance level. The p-value for the comparison is 3.75e-29, which is significantly lower than 0.05 and makes clear that the probability of seeing this relationship based solely on chance is extremely unlikely. As a result, we reject the null hypothesis that the mean of somecol_more is the same between the groups."
   ]
  },
  {
   "cell_type": "markdown",
   "metadata": {
    "deletable": false,
    "editable": false,
    "nbgrader": {
     "cell_type": "markdown",
     "checksum": "dcc2564352ecd0009473fa08d4a6c746",
     "grade": false,
     "grade_id": "Question1_3",
     "locked": true,
     "schema_version": 3,
     "solution": false
    }
   },
   "source": [
    "**3.** Use the statsmodel.stats or scipy stats module to run a (two-sided) t-test to test the following null hypothesis: the mean of years of experience (*yearsexp*) is the same for African-Americans and Whites. Assign the results of the ttest to the variable `ttest1_3`. (1 pt)"
   ]
  },
  {
   "cell_type": "code",
   "execution_count": 5,
   "metadata": {
    "deletable": false,
    "nbgrader": {
     "cell_type": "code",
     "checksum": "35cb7c2555285d80ccd97ff9091c5484",
     "grade": false,
     "grade_id": "Answer1_3",
     "locked": false,
     "schema_version": 3,
     "solution": true
    }
   },
   "outputs": [
    {
     "data": {
      "text/plain": [
       "Ttest_indResult(statistic=-20.665913460336267, pvalue=4.743084195169169e-93)"
      ]
     },
     "execution_count": 5,
     "metadata": {},
     "output_type": "execute_result"
    }
   ],
   "source": [
    "ttest1_3 = stats.ttest_ind(black['yearsexp'], white['yearsexp'])\n",
    "ttest1_3\n",
    "#raise NotImplementedError()"
   ]
  },
  {
   "cell_type": "code",
   "execution_count": 6,
   "metadata": {
    "deletable": false,
    "editable": false,
    "nbgrader": {
     "cell_type": "code",
     "checksum": "fc708039a4f3a75dc3f8cd87cd808ebc",
     "grade": true,
     "grade_id": "Test1_3",
     "locked": true,
     "points": 1,
     "schema_version": 3,
     "solution": false
    }
   },
   "outputs": [],
   "source": [
    "# Hidden Tests, checking the t-statistic and p-value of ttest1_3."
   ]
  },
  {
   "cell_type": "markdown",
   "metadata": {
    "deletable": false,
    "editable": false,
    "nbgrader": {
     "cell_type": "markdown",
     "checksum": "162ec18ec13b53d05d5c86291ea29672",
     "grade": false,
     "grade_id": "ManualQuestion1_4",
     "locked": true,
     "schema_version": 3,
     "solution": false
    }
   },
   "source": [
    "**4.** Based on the t-statistic, do you find evidence that this variable (yearsexp) differs between African-Americans and Whites at the 5% significance level? Explain. (i.e. report BOTH the t-statistic **AND** the decision rule based on t-statistic to determine if the difference is significant at the 5% level.) (1 pt) \n",
    "\n",
    "**Note**: This question will be manually graded"
   ]
  },
  {
   "cell_type": "markdown",
   "metadata": {
    "deletable": false,
    "nbgrader": {
     "cell_type": "markdown",
     "checksum": "47eccea8d6061811705d67ae5fbbab93",
     "grade": true,
     "grade_id": "ManualAnswer1_4",
     "locked": false,
     "points": 0,
     "schema_version": 3,
     "solution": true
    }
   },
   "source": [
    "Yes, the yearsexp variable differs between the two groups at the 5% significance level. The t-statistic for the comparison is -20.67, which is significantly lower than the ~-2 critical value. Because we expect abosolute t-statistics to be greater than 2 only 5% of the time by chance, our finding makes clear that the probability of seeing this relationship based solely on chance is extremely unlikely. As a result, we reject the null hypothesis that the mean of yearsexp is the same between the groups."
   ]
  },
  {
   "cell_type": "markdown",
   "metadata": {
    "deletable": false,
    "editable": false,
    "nbgrader": {
     "cell_type": "markdown",
     "checksum": "53d4efdb4ae5ab61cae8f8c28b751109",
     "grade": false,
     "grade_id": "ManualQuestion1_5",
     "locked": true,
     "schema_version": 3,
     "solution": false
    }
   },
   "source": [
    "**5.** Discuss your results from 1 and 3 above. Why do we care about whether these variables look similar by race for the purpose of investigating racial discrimination in the labor market? (1 pt) \n",
    "\n",
    "**Note**: This question will be manually graded."
   ]
  },
  {
   "cell_type": "markdown",
   "metadata": {
    "deletable": false,
    "nbgrader": {
     "cell_type": "markdown",
     "checksum": "7d7e98016d9191b2b78168b2000a69d9",
     "grade": true,
     "grade_id": "ManualAnswer1_5",
     "locked": false,
     "points": 0,
     "schema_version": 3,
     "solution": true
    }
   },
   "source": [
    "For the purpose of investigating racial discrimination in the labor market, it is important to understand whether there may be any confounder variables at play that influence any existing correlation between race and success within the labor market/job search. If one group was to have higher rates of college and advanced degrees and more job experience, this would be critical to understand as they would be clearly confounding any present relationship between race and the labor market."
   ]
  },
  {
   "cell_type": "markdown",
   "metadata": {
    "deletable": false,
    "editable": false,
    "nbgrader": {
     "cell_type": "markdown",
     "checksum": "717aa9b2f16f2e464727c045c9ca1642",
     "grade": false,
     "grade_id": "Question1_6",
     "locked": true,
     "schema_version": 3,
     "solution": false
    }
   },
   "source": [
    "**6.** The main outcome variable is the indicator variable for employment status (*employed*). Use the statsmodel.stats or scipy stats module to run a (two-sided) t-test to test the null hypothesis that the means for the variable *employed* are the same for the two races."
   ]
  },
  {
   "cell_type": "code",
   "execution_count": 7,
   "metadata": {
    "deletable": false,
    "nbgrader": {
     "cell_type": "code",
     "checksum": "060e430c2b4b645efdf1584025aa4cf9",
     "grade": false,
     "grade_id": "Answer1_6",
     "locked": false,
     "schema_version": 3,
     "solution": true
    }
   },
   "outputs": [
    {
     "data": {
      "text/plain": [
       "Ttest_indResult(statistic=-7.1420030594715485, pvalue=9.802071342176244e-13)"
      ]
     },
     "execution_count": 7,
     "metadata": {},
     "output_type": "execute_result"
    }
   ],
   "source": [
    "stats.ttest_ind(black['employed'], white['employed'])\n",
    "#raise NotImplementedError()"
   ]
  },
  {
   "cell_type": "markdown",
   "metadata": {
    "deletable": false,
    "editable": false,
    "nbgrader": {
     "cell_type": "markdown",
     "checksum": "6d8e3d192284c0b0299d0c8639a4285c",
     "grade": false,
     "grade_id": "ManualQuestion1_6",
     "locked": true,
     "schema_version": 3,
     "solution": false
    }
   },
   "source": [
    "Based on the p-value above, do you find evidence that this variable differs significantly at 5% level between races? Explain. (i.e. report BOTH the p-value **AND** the decision rule based on p-value to determine if the difference is significant at the 5% level.) (1 pt) \n",
    "\n",
    "**Note**: This question will be manually graded."
   ]
  },
  {
   "cell_type": "markdown",
   "metadata": {
    "deletable": false,
    "nbgrader": {
     "cell_type": "markdown",
     "checksum": "e9ecd536c010483a46511d6f8d8365c8",
     "grade": true,
     "grade_id": "ManualAnswer1_6",
     "locked": false,
     "points": 0,
     "schema_version": 3,
     "solution": true
    }
   },
   "source": [
    "Yes, the employed variable differs between the two groups at the 5% significance level. The p-value for the comparison is 9.80e-13, which is significantly lower than 0.05 and makes clear that the probability of seeing this relationship based solely on chance is extremely unlikely. As a result, we reject the null hypothesis that the mean of employed is the same between the groups."
   ]
  },
  {
   "cell_type": "markdown",
   "metadata": {
    "deletable": false,
    "editable": false,
    "nbgrader": {
     "cell_type": "markdown",
     "checksum": "a07b3d3403ffcfccecc03d144ae000f3",
     "grade": false,
     "grade_id": "Question1_7",
     "locked": true,
     "schema_version": 3,
     "solution": false
    }
   },
   "source": [
    "**7.** In light of your results, can we conclude from the observational (survey) data that there is racial discrimination against African-Americans in employment? Yes or no? Explain. (1 pt) \n",
    "\n",
    "**Note**: This question will be manually graded."
   ]
  },
  {
   "cell_type": "markdown",
   "metadata": {
    "deletable": false,
    "nbgrader": {
     "cell_type": "markdown",
     "checksum": "9687e3de66ffaab66dbcfd7584ab38a6",
     "grade": true,
     "grade_id": "Answer1_7",
     "locked": false,
     "points": 0,
     "schema_version": 3,
     "solution": true
    }
   },
   "source": [
    "While a statistically significant relationship does exist where employment rates differ notably between the two groups, we are not able to conclude from the observation survey data that there is racial discrimination against African Americans in employment. The reason we are unable to make this conclusion is that not all else is equal (ceteris paribus) as there are statistically significant differences also between college education and years experience between the two groups. Additionally, if there are notable differences in this observable data, it is also reasonable to conclude that there may be notable differences in unobserved data. With these confounding variables present and statistically signficant, we therefore can not make this conclusion around discrimination."
   ]
  },
  {
   "cell_type": "markdown",
   "metadata": {
    "deletable": false,
    "editable": false,
    "nbgrader": {
     "cell_type": "markdown",
     "checksum": "4e3d67fe9fa8cea4e852d0898e1c59cb",
     "grade": false,
     "grade_id": "DataPart2",
     "locked": true,
     "schema_version": 3,
     "solution": false
    }
   },
   "source": [
    "## Part 2\n",
    "### Data\n",
    "\n",
    "The data file “lecture1_random_exper.csv” contains 7 variables for 4,870 observations. Below are descriptions of each variable in the data:\n",
    "\n",
    "* *id*: a de-identified identifier to represent unique observations (resumes)\n",
    "* *male*: dummy variable for gender; equal to 0 if female, 1 if male\n",
    "* *black*: dummy variable for race; equal to 0 if resume has a white sounding name and 1 if resume has a black sounding name\n",
    "* *education*: 0 if not reported, 1 if high school dropout, 2 if high school graduate, 3 if college dropout, 4 if has college degree or more\n",
    "* *computerskills*: 1 if resume mentions some computer skills, 0 otherwise\n",
    "* *ofjobs*: number of jobs listed on the resume\n",
    "* *yearsexp*: number of years of work experience on the resume\n",
    "* *call*: 1 if applicant was called back, 0 otherwise"
   ]
  },
  {
   "cell_type": "code",
   "execution_count": 8,
   "metadata": {},
   "outputs": [
    {
     "data": {
      "text/html": [
       "<div>\n",
       "<style scoped>\n",
       "    .dataframe tbody tr th:only-of-type {\n",
       "        vertical-align: middle;\n",
       "    }\n",
       "\n",
       "    .dataframe tbody tr th {\n",
       "        vertical-align: top;\n",
       "    }\n",
       "\n",
       "    .dataframe thead th {\n",
       "        text-align: right;\n",
       "    }\n",
       "</style>\n",
       "<table border=\"1\" class=\"dataframe\">\n",
       "  <thead>\n",
       "    <tr style=\"text-align: right;\">\n",
       "      <th></th>\n",
       "      <th>education</th>\n",
       "      <th>ofjobs</th>\n",
       "      <th>yearsexp</th>\n",
       "      <th>computerskills</th>\n",
       "      <th>call</th>\n",
       "      <th>id</th>\n",
       "      <th>male</th>\n",
       "      <th>black</th>\n",
       "    </tr>\n",
       "  </thead>\n",
       "  <tbody>\n",
       "    <tr>\n",
       "      <th>0</th>\n",
       "      <td>4</td>\n",
       "      <td>2</td>\n",
       "      <td>6</td>\n",
       "      <td>1</td>\n",
       "      <td>0</td>\n",
       "      <td>1</td>\n",
       "      <td>0</td>\n",
       "      <td>0</td>\n",
       "    </tr>\n",
       "    <tr>\n",
       "      <th>1</th>\n",
       "      <td>3</td>\n",
       "      <td>3</td>\n",
       "      <td>6</td>\n",
       "      <td>1</td>\n",
       "      <td>0</td>\n",
       "      <td>2</td>\n",
       "      <td>0</td>\n",
       "      <td>0</td>\n",
       "    </tr>\n",
       "    <tr>\n",
       "      <th>2</th>\n",
       "      <td>4</td>\n",
       "      <td>1</td>\n",
       "      <td>6</td>\n",
       "      <td>1</td>\n",
       "      <td>0</td>\n",
       "      <td>3</td>\n",
       "      <td>0</td>\n",
       "      <td>1</td>\n",
       "    </tr>\n",
       "    <tr>\n",
       "      <th>3</th>\n",
       "      <td>3</td>\n",
       "      <td>4</td>\n",
       "      <td>6</td>\n",
       "      <td>1</td>\n",
       "      <td>0</td>\n",
       "      <td>4</td>\n",
       "      <td>0</td>\n",
       "      <td>1</td>\n",
       "    </tr>\n",
       "    <tr>\n",
       "      <th>4</th>\n",
       "      <td>3</td>\n",
       "      <td>3</td>\n",
       "      <td>22</td>\n",
       "      <td>1</td>\n",
       "      <td>0</td>\n",
       "      <td>5</td>\n",
       "      <td>0</td>\n",
       "      <td>0</td>\n",
       "    </tr>\n",
       "  </tbody>\n",
       "</table>\n",
       "</div>"
      ],
      "text/plain": [
       "   education  ofjobs  yearsexp  computerskills  call  id  male  black\n",
       "0          4       2         6               1     0   1     0      0\n",
       "1          3       3         6               1     0   2     0      0\n",
       "2          4       1         6               1     0   3     0      1\n",
       "3          3       4         6               1     0   4     0      1\n",
       "4          3       3        22               1     0   5     0      0"
      ]
     },
     "execution_count": 8,
     "metadata": {},
     "output_type": "execute_result"
    }
   ],
   "source": [
    "#Run this cell to get the data for Part 2.\n",
    "data_random = pd.read_csv('assets/lecture1_random_exper.csv')\n",
    "\n",
    "#The line below lets you see the first five lines of the data_random. Uncomment and run to view.\n",
    "data_random.head()"
   ]
  },
  {
   "cell_type": "markdown",
   "metadata": {
    "deletable": false,
    "editable": false,
    "nbgrader": {
     "cell_type": "markdown",
     "checksum": "7aa12923ae4201cdefa065d39cc60521",
     "grade": false,
     "grade_id": "QuestionsPart2",
     "locked": true,
     "schema_version": 3,
     "solution": false
    }
   },
   "source": [
    "### Questions\n",
    "\n",
    "In (Bertrand and Mullainathan 2004), researchers were interested to learn whether black sounding names obtain fewer callbacks for interviews than white sounding names.\n",
    "\n",
    "**Use the data_random dataframe uploaded above to answer the questions in Part 2 unless otherwise specified.**"
   ]
  },
  {
   "cell_type": "markdown",
   "metadata": {
    "deletable": false,
    "editable": false,
    "nbgrader": {
     "cell_type": "markdown",
     "checksum": "88bdcbf8ff53d46fec5a678b8c6998e1",
     "grade": false,
     "grade_id": "Question2_1",
     "locked": true,
     "schema_version": 3,
     "solution": false
    }
   },
   "source": [
    "**1.** What is the treatment variable ($D_{i}$)? Assign the correct data_random column to the variable `d_i`. What is the outcome variable ($Y_{i}$)? Assign the correct data_random column to the variable `y_i`. (1 pt)"
   ]
  },
  {
   "cell_type": "code",
   "execution_count": 9,
   "metadata": {
    "deletable": false,
    "nbgrader": {
     "cell_type": "code",
     "checksum": "bb3ebd8d95ef7f3e57f306fc82f536d5",
     "grade": false,
     "grade_id": "Answer2_1",
     "locked": false,
     "schema_version": 3,
     "solution": true
    }
   },
   "outputs": [],
   "source": [
    "d_i = data_random['black']\n",
    "y_i = data_random['call']\n",
    "#raise NotImplementedError()"
   ]
  },
  {
   "cell_type": "code",
   "execution_count": 10,
   "metadata": {
    "deletable": false,
    "editable": false,
    "nbgrader": {
     "cell_type": "code",
     "checksum": "447985cec81d81f0559e61b5171238ef",
     "grade": true,
     "grade_id": "Test2_1",
     "locked": true,
     "points": 1,
     "schema_version": 3,
     "solution": false
    }
   },
   "outputs": [],
   "source": [
    "# Hidden Tests, checking the columns assigned to d_i and y_i."
   ]
  },
  {
   "cell_type": "markdown",
   "metadata": {
    "deletable": false,
    "editable": false,
    "nbgrader": {
     "cell_type": "markdown",
     "checksum": "df03233609c39dd1c2e824be3c04413b",
     "grade": false,
     "grade_id": "ManualQuestion2_2",
     "locked": true,
     "schema_version": 3,
     "solution": false
    }
   },
   "source": [
    "**2.** Remember the potential outcomes framework. By using the `loc` method, check for the treatment status of observation/individual id = 345. Based on what you see, what is the counterfactual outcome for observation/individual id =345, $Y_{345}^{black}$ or $Y_{345}^{white}$? (You can type “Y^b345” for $Y_{345}^{black}$ and “Y^w_345” for $Y_{345}^{white}$.) (1 pt)\n",
    "\n",
    "**Note**: This question will be manually graded."
   ]
  },
  {
   "cell_type": "code",
   "execution_count": 11,
   "metadata": {},
   "outputs": [
    {
     "data": {
      "text/html": [
       "<div>\n",
       "<style scoped>\n",
       "    .dataframe tbody tr th:only-of-type {\n",
       "        vertical-align: middle;\n",
       "    }\n",
       "\n",
       "    .dataframe tbody tr th {\n",
       "        vertical-align: top;\n",
       "    }\n",
       "\n",
       "    .dataframe thead th {\n",
       "        text-align: right;\n",
       "    }\n",
       "</style>\n",
       "<table border=\"1\" class=\"dataframe\">\n",
       "  <thead>\n",
       "    <tr style=\"text-align: right;\">\n",
       "      <th></th>\n",
       "      <th>education</th>\n",
       "      <th>ofjobs</th>\n",
       "      <th>yearsexp</th>\n",
       "      <th>computerskills</th>\n",
       "      <th>call</th>\n",
       "      <th>id</th>\n",
       "      <th>male</th>\n",
       "      <th>black</th>\n",
       "    </tr>\n",
       "  </thead>\n",
       "  <tbody>\n",
       "    <tr>\n",
       "      <th>344</th>\n",
       "      <td>4</td>\n",
       "      <td>3</td>\n",
       "      <td>7</td>\n",
       "      <td>1</td>\n",
       "      <td>0</td>\n",
       "      <td>345</td>\n",
       "      <td>0</td>\n",
       "      <td>1</td>\n",
       "    </tr>\n",
       "  </tbody>\n",
       "</table>\n",
       "</div>"
      ],
      "text/plain": [
       "     education  ofjobs  yearsexp  computerskills  call   id  male  black\n",
       "344          4       3         7               1     0  345     0      1"
      ]
     },
     "execution_count": 11,
     "metadata": {},
     "output_type": "execute_result"
    }
   ],
   "source": [
    "data_random.loc[data_random['id'] == 345]"
   ]
  },
  {
   "cell_type": "markdown",
   "metadata": {
    "deletable": false,
    "nbgrader": {
     "cell_type": "markdown",
     "checksum": "6d59ecca1f970b98db0476e1f66b6bb3",
     "grade": true,
     "grade_id": "ManualAnswer2_2",
     "locked": false,
     "points": 0,
     "schema_version": 3,
     "solution": true
    }
   },
   "source": [
    "Y^w_345"
   ]
  },
  {
   "cell_type": "markdown",
   "metadata": {
    "deletable": false,
    "editable": false,
    "nbgrader": {
     "cell_type": "markdown",
     "checksum": "506d834f9098c542d342c5414787a4b0",
     "grade": false,
     "grade_id": "Question2_3a",
     "locked": true,
     "schema_version": 3,
     "solution": false
    }
   },
   "source": [
    "**3.** Researchers designed the experiment such that the treatment and control groups are balanced on all other variables that can affect callback rates.\n",
    "\n",
    "**3a.** Cross tabulate variables *male*, *computerskills*, *education*, and *ofjobs* with the variable *black*.\n",
    "\n",
    "**Tip:** Use ``pd.crosstab()``. An example of a cross-tabulated table is shown below.\n",
    "\n",
    "\n",
    "![Male variable cross-tabulated with black variable](assets/crosstab_example.png)\n"
   ]
  },
  {
   "cell_type": "code",
   "execution_count": 12,
   "metadata": {
    "deletable": false,
    "nbgrader": {
     "cell_type": "code",
     "checksum": "2455292b9d2ca524c3387636a0e9cfc9",
     "grade": false,
     "grade_id": "Answer2_3a",
     "locked": false,
     "schema_version": 3,
     "solution": true
    }
   },
   "outputs": [
    {
     "data": {
      "text/html": [
       "<div>\n",
       "<style scoped>\n",
       "    .dataframe tbody tr th:only-of-type {\n",
       "        vertical-align: middle;\n",
       "    }\n",
       "\n",
       "    .dataframe tbody tr th {\n",
       "        vertical-align: top;\n",
       "    }\n",
       "\n",
       "    .dataframe thead th {\n",
       "        text-align: right;\n",
       "    }\n",
       "</style>\n",
       "<table border=\"1\" class=\"dataframe\">\n",
       "  <thead>\n",
       "    <tr style=\"text-align: right;\">\n",
       "      <th>black</th>\n",
       "      <th>0</th>\n",
       "      <th>1</th>\n",
       "    </tr>\n",
       "    <tr>\n",
       "      <th>male</th>\n",
       "      <th></th>\n",
       "      <th></th>\n",
       "    </tr>\n",
       "  </thead>\n",
       "  <tbody>\n",
       "    <tr>\n",
       "      <th>0</th>\n",
       "      <td>1860</td>\n",
       "      <td>1886</td>\n",
       "    </tr>\n",
       "    <tr>\n",
       "      <th>1</th>\n",
       "      <td>575</td>\n",
       "      <td>549</td>\n",
       "    </tr>\n",
       "  </tbody>\n",
       "</table>\n",
       "</div>"
      ],
      "text/plain": [
       "black     0     1\n",
       "male             \n",
       "0      1860  1886\n",
       "1       575   549"
      ]
     },
     "execution_count": 12,
     "metadata": {},
     "output_type": "execute_result"
    }
   ],
   "source": [
    "pd.crosstab(data_random['male'], data_random['black'])\n",
    "#raise NotImplementedError()"
   ]
  },
  {
   "cell_type": "code",
   "execution_count": 13,
   "metadata": {},
   "outputs": [
    {
     "data": {
      "text/html": [
       "<div>\n",
       "<style scoped>\n",
       "    .dataframe tbody tr th:only-of-type {\n",
       "        vertical-align: middle;\n",
       "    }\n",
       "\n",
       "    .dataframe tbody tr th {\n",
       "        vertical-align: top;\n",
       "    }\n",
       "\n",
       "    .dataframe thead th {\n",
       "        text-align: right;\n",
       "    }\n",
       "</style>\n",
       "<table border=\"1\" class=\"dataframe\">\n",
       "  <thead>\n",
       "    <tr style=\"text-align: right;\">\n",
       "      <th>black</th>\n",
       "      <th>0</th>\n",
       "      <th>1</th>\n",
       "    </tr>\n",
       "    <tr>\n",
       "      <th>computerskills</th>\n",
       "      <th></th>\n",
       "      <th></th>\n",
       "    </tr>\n",
       "  </thead>\n",
       "  <tbody>\n",
       "    <tr>\n",
       "      <th>0</th>\n",
       "      <td>466</td>\n",
       "      <td>408</td>\n",
       "    </tr>\n",
       "    <tr>\n",
       "      <th>1</th>\n",
       "      <td>1969</td>\n",
       "      <td>2027</td>\n",
       "    </tr>\n",
       "  </tbody>\n",
       "</table>\n",
       "</div>"
      ],
      "text/plain": [
       "black              0     1\n",
       "computerskills            \n",
       "0                466   408\n",
       "1               1969  2027"
      ]
     },
     "execution_count": 13,
     "metadata": {},
     "output_type": "execute_result"
    }
   ],
   "source": [
    "pd.crosstab(data_random['computerskills'], data_random['black'])"
   ]
  },
  {
   "cell_type": "code",
   "execution_count": 14,
   "metadata": {},
   "outputs": [
    {
     "data": {
      "text/html": [
       "<div>\n",
       "<style scoped>\n",
       "    .dataframe tbody tr th:only-of-type {\n",
       "        vertical-align: middle;\n",
       "    }\n",
       "\n",
       "    .dataframe tbody tr th {\n",
       "        vertical-align: top;\n",
       "    }\n",
       "\n",
       "    .dataframe thead th {\n",
       "        text-align: right;\n",
       "    }\n",
       "</style>\n",
       "<table border=\"1\" class=\"dataframe\">\n",
       "  <thead>\n",
       "    <tr style=\"text-align: right;\">\n",
       "      <th>black</th>\n",
       "      <th>0</th>\n",
       "      <th>1</th>\n",
       "    </tr>\n",
       "    <tr>\n",
       "      <th>education</th>\n",
       "      <th></th>\n",
       "      <th></th>\n",
       "    </tr>\n",
       "  </thead>\n",
       "  <tbody>\n",
       "    <tr>\n",
       "      <th>0</th>\n",
       "      <td>18</td>\n",
       "      <td>28</td>\n",
       "    </tr>\n",
       "    <tr>\n",
       "      <th>1</th>\n",
       "      <td>18</td>\n",
       "      <td>22</td>\n",
       "    </tr>\n",
       "    <tr>\n",
       "      <th>2</th>\n",
       "      <td>142</td>\n",
       "      <td>132</td>\n",
       "    </tr>\n",
       "    <tr>\n",
       "      <th>3</th>\n",
       "      <td>513</td>\n",
       "      <td>493</td>\n",
       "    </tr>\n",
       "    <tr>\n",
       "      <th>4</th>\n",
       "      <td>1744</td>\n",
       "      <td>1760</td>\n",
       "    </tr>\n",
       "  </tbody>\n",
       "</table>\n",
       "</div>"
      ],
      "text/plain": [
       "black         0     1\n",
       "education            \n",
       "0            18    28\n",
       "1            18    22\n",
       "2           142   132\n",
       "3           513   493\n",
       "4          1744  1760"
      ]
     },
     "execution_count": 14,
     "metadata": {},
     "output_type": "execute_result"
    }
   ],
   "source": [
    "pd.crosstab(data_random['education'], data_random['black'])"
   ]
  },
  {
   "cell_type": "code",
   "execution_count": 15,
   "metadata": {},
   "outputs": [
    {
     "data": {
      "text/html": [
       "<div>\n",
       "<style scoped>\n",
       "    .dataframe tbody tr th:only-of-type {\n",
       "        vertical-align: middle;\n",
       "    }\n",
       "\n",
       "    .dataframe tbody tr th {\n",
       "        vertical-align: top;\n",
       "    }\n",
       "\n",
       "    .dataframe thead th {\n",
       "        text-align: right;\n",
       "    }\n",
       "</style>\n",
       "<table border=\"1\" class=\"dataframe\">\n",
       "  <thead>\n",
       "    <tr style=\"text-align: right;\">\n",
       "      <th>black</th>\n",
       "      <th>0</th>\n",
       "      <th>1</th>\n",
       "    </tr>\n",
       "    <tr>\n",
       "      <th>ofjobs</th>\n",
       "      <th></th>\n",
       "      <th></th>\n",
       "    </tr>\n",
       "  </thead>\n",
       "  <tbody>\n",
       "    <tr>\n",
       "      <th>1</th>\n",
       "      <td>54</td>\n",
       "      <td>56</td>\n",
       "    </tr>\n",
       "    <tr>\n",
       "      <th>2</th>\n",
       "      <td>347</td>\n",
       "      <td>357</td>\n",
       "    </tr>\n",
       "    <tr>\n",
       "      <th>3</th>\n",
       "      <td>726</td>\n",
       "      <td>703</td>\n",
       "    </tr>\n",
       "    <tr>\n",
       "      <th>4</th>\n",
       "      <td>800</td>\n",
       "      <td>811</td>\n",
       "    </tr>\n",
       "    <tr>\n",
       "      <th>5</th>\n",
       "      <td>258</td>\n",
       "      <td>275</td>\n",
       "    </tr>\n",
       "    <tr>\n",
       "      <th>6</th>\n",
       "      <td>243</td>\n",
       "      <td>221</td>\n",
       "    </tr>\n",
       "    <tr>\n",
       "      <th>7</th>\n",
       "      <td>7</td>\n",
       "      <td>12</td>\n",
       "    </tr>\n",
       "  </tbody>\n",
       "</table>\n",
       "</div>"
      ],
      "text/plain": [
       "black     0    1\n",
       "ofjobs          \n",
       "1        54   56\n",
       "2       347  357\n",
       "3       726  703\n",
       "4       800  811\n",
       "5       258  275\n",
       "6       243  221\n",
       "7         7   12"
      ]
     },
     "execution_count": 15,
     "metadata": {},
     "output_type": "execute_result"
    }
   ],
   "source": [
    "pd.crosstab(data_random['ofjobs'], data_random['black'])"
   ]
  },
  {
   "cell_type": "markdown",
   "metadata": {
    "deletable": false,
    "editable": false,
    "nbgrader": {
     "cell_type": "markdown",
     "checksum": "cdb451a3ab196880cb94ce2a33c8e9a6",
     "grade": false,
     "grade_id": "ManualQuestion2_3a",
     "locked": true,
     "schema_version": 3,
     "solution": false
    }
   },
   "source": [
    "Do these variables look similar by race? (1 pt)\n",
    "\n",
    "**Note**: This question will be manually graded."
   ]
  },
  {
   "cell_type": "markdown",
   "metadata": {
    "deletable": false,
    "nbgrader": {
     "cell_type": "markdown",
     "checksum": "baeb8887cac9d96f793278ed4cf7e66d",
     "grade": true,
     "grade_id": "ManualAnswer2_3a",
     "locked": false,
     "points": 0,
     "schema_version": 3,
     "solution": true
    }
   },
   "source": [
    "Yes, these variables look similar by race. Despite researcher's best efforts, there will always be challenges often outside of control that can lead to non-participation/dropping out of trials, but these other variables look to be well controlled for in this specific research study."
   ]
  },
  {
   "cell_type": "markdown",
   "metadata": {
    "deletable": false,
    "editable": false,
    "nbgrader": {
     "cell_type": "markdown",
     "checksum": "27df6a190137857eacacca29fd93c5d1",
     "grade": false,
     "grade_id": "Question2_3b",
     "locked": true,
     "schema_version": 3,
     "solution": false
    }
   },
   "source": [
    "**3b.** Generate a table with the mean and standard deviation of the variable *yearsexp* for different values of black.\n",
    "\n",
    "**Tip:** Use the ``groupby()`` and ``describe()`` methods."
   ]
  },
  {
   "cell_type": "code",
   "execution_count": 16,
   "metadata": {
    "deletable": false,
    "nbgrader": {
     "cell_type": "code",
     "checksum": "a85b9086da92a91ebf5da0a3a0edacfd",
     "grade": false,
     "grade_id": "Answer2_3b",
     "locked": false,
     "schema_version": 3,
     "solution": true
    }
   },
   "outputs": [
    {
     "data": {
      "text/html": [
       "<div>\n",
       "<style scoped>\n",
       "    .dataframe tbody tr th:only-of-type {\n",
       "        vertical-align: middle;\n",
       "    }\n",
       "\n",
       "    .dataframe tbody tr th {\n",
       "        vertical-align: top;\n",
       "    }\n",
       "\n",
       "    .dataframe thead th {\n",
       "        text-align: right;\n",
       "    }\n",
       "</style>\n",
       "<table border=\"1\" class=\"dataframe\">\n",
       "  <thead>\n",
       "    <tr style=\"text-align: right;\">\n",
       "      <th></th>\n",
       "      <th>count</th>\n",
       "      <th>mean</th>\n",
       "      <th>std</th>\n",
       "      <th>min</th>\n",
       "      <th>25%</th>\n",
       "      <th>50%</th>\n",
       "      <th>75%</th>\n",
       "      <th>max</th>\n",
       "    </tr>\n",
       "    <tr>\n",
       "      <th>black</th>\n",
       "      <th></th>\n",
       "      <th></th>\n",
       "      <th></th>\n",
       "      <th></th>\n",
       "      <th></th>\n",
       "      <th></th>\n",
       "      <th></th>\n",
       "      <th></th>\n",
       "    </tr>\n",
       "  </thead>\n",
       "  <tbody>\n",
       "    <tr>\n",
       "      <th>0</th>\n",
       "      <td>2435.0</td>\n",
       "      <td>7.856263</td>\n",
       "      <td>5.079228</td>\n",
       "      <td>1.0</td>\n",
       "      <td>5.0</td>\n",
       "      <td>6.0</td>\n",
       "      <td>9.0</td>\n",
       "      <td>26.0</td>\n",
       "    </tr>\n",
       "    <tr>\n",
       "      <th>1</th>\n",
       "      <td>2435.0</td>\n",
       "      <td>7.829569</td>\n",
       "      <td>5.010764</td>\n",
       "      <td>1.0</td>\n",
       "      <td>5.0</td>\n",
       "      <td>6.0</td>\n",
       "      <td>9.0</td>\n",
       "      <td>44.0</td>\n",
       "    </tr>\n",
       "  </tbody>\n",
       "</table>\n",
       "</div>"
      ],
      "text/plain": [
       "        count      mean       std  min  25%  50%  75%   max\n",
       "black                                                      \n",
       "0      2435.0  7.856263  5.079228  1.0  5.0  6.0  9.0  26.0\n",
       "1      2435.0  7.829569  5.010764  1.0  5.0  6.0  9.0  44.0"
      ]
     },
     "execution_count": 16,
     "metadata": {},
     "output_type": "execute_result"
    }
   ],
   "source": [
    "data_random.groupby(['black'])['yearsexp'].describe()\n",
    "#raise NotImplementedError()"
   ]
  },
  {
   "cell_type": "markdown",
   "metadata": {
    "deletable": false,
    "editable": false,
    "nbgrader": {
     "cell_type": "markdown",
     "checksum": "8157448893af75dc0bfa0d63577676a3",
     "grade": false,
     "grade_id": "ManualQuestion2_3b",
     "locked": true,
     "schema_version": 3,
     "solution": false
    }
   },
   "source": [
    "Does this variable look similar by race? (1 pt)\n",
    "\n",
    "**Note**: This question will be manually graded."
   ]
  },
  {
   "cell_type": "markdown",
   "metadata": {
    "deletable": false,
    "nbgrader": {
     "cell_type": "markdown",
     "checksum": "ec74aec34b156621ffe069ef3aa46f7b",
     "grade": true,
     "grade_id": "ManualAnswer2_3b",
     "locked": false,
     "points": 0,
     "schema_version": 3,
     "solution": true
    }
   },
   "source": [
    "Yes, this variable looks very similar by race. While there may be more notable differences in the outlier/max values, count, mean, and standard deviation look very similar when comparing across the two groups."
   ]
  },
  {
   "cell_type": "markdown",
   "metadata": {
    "deletable": false,
    "editable": false,
    "nbgrader": {
     "cell_type": "markdown",
     "checksum": "bef79dfc52feda8a96d4332d278743f0",
     "grade": false,
     "grade_id": "Question2_4a",
     "locked": true,
     "schema_version": 3,
     "solution": false
    }
   },
   "source": [
    "**4.** The outcome variable in the data set is the variable *call*, which indicates a callback for an interview. Let’s look at the means of this variable conditional on race.\n",
    "\n",
    "**4a.** Use the statsmodel.stats or scipy stats module to run a (two-sided) t-test to test the following null hypothesis: the callback rates (means of variable *call*) are the same for resumes with black-sounding names as they are for resumes with white-sounding names. Assign the output to the variable `ttest2_4_1`. (1 pt)\n",
    "\n"
   ]
  },
  {
   "cell_type": "code",
   "execution_count": 17,
   "metadata": {
    "deletable": false,
    "nbgrader": {
     "cell_type": "code",
     "checksum": "e6a806386a1c8b7437504f744e5f8817",
     "grade": false,
     "grade_id": "Answer2_4a",
     "locked": false,
     "schema_version": 3,
     "solution": true
    }
   },
   "outputs": [
    {
     "data": {
      "text/plain": [
       "Ttest_indResult(statistic=-4.114705266723095, pvalue=3.9408025140695284e-05)"
      ]
     },
     "execution_count": 17,
     "metadata": {},
     "output_type": "execute_result"
    }
   ],
   "source": [
    "black2 = data_random[data_random['black'] == 1]\n",
    "white2 = data_random[data_random['black'] == 0]\n",
    "\n",
    "ttest2_4_1 = stats.ttest_ind(black2['call'], white2['call'])\n",
    "ttest2_4_1\n",
    "#raise NotImplementedError()"
   ]
  },
  {
   "cell_type": "code",
   "execution_count": 18,
   "metadata": {
    "deletable": false,
    "editable": false,
    "nbgrader": {
     "cell_type": "code",
     "checksum": "e25ece562455656cb73a1ae8d3c8428c",
     "grade": true,
     "grade_id": "Test2_4a",
     "locked": true,
     "points": 1,
     "schema_version": 3,
     "solution": false
    }
   },
   "outputs": [],
   "source": [
    "# Hidden Tests, checking the t-statistic and p-value of ttest2_4_1."
   ]
  },
  {
   "cell_type": "markdown",
   "metadata": {
    "deletable": false,
    "editable": false,
    "nbgrader": {
     "cell_type": "markdown",
     "checksum": "9a6ff23b032a612ef76d1b8355dca114",
     "grade": false,
     "grade_id": "ManualQuestion2_4b",
     "locked": true,
     "schema_version": 3,
     "solution": false
    }
   },
   "source": [
    "**4b.** Based on the p-value, do you find evidence that there is discrimination in callback rates? That is, callback rates differ significantly at 5% level between resumes with white-sounding names and resumes with black-sounding names? Explain. (i.e. report BOTH the p-value **AND** the decision rule based on p-value to determine if the difference is significant at the 5% level.) (1 pt) \n",
    "\n",
    "**Note**: This question will be manually graded."
   ]
  },
  {
   "cell_type": "markdown",
   "metadata": {
    "deletable": false,
    "nbgrader": {
     "cell_type": "markdown",
     "checksum": "5ad31fd3f3ee79c7af21e345e8abea74",
     "grade": true,
     "grade_id": "ManualAnswer2_4b",
     "locked": false,
     "points": 0,
     "schema_version": 3,
     "solution": true
    }
   },
   "source": [
    "Yes, we do find evidence that there is discrimination in callback rates at the 5% significance level. The p-value for the comparison is 3.94e-05, which is significantly lower than 0.05 and makes clear that the probability of seeing this relationship based solely on chance is extremely unlikely. As a result, we reject the null hypothesis that there is no difference in callback rates based on white-sounding and black-sounding names on resumes. Additionally, the researchers designed this experiment ceteris paribus, which again is valuable in affirming that the names themselves are the drivers leading to lower callback rates."
   ]
  },
  {
   "cell_type": "markdown",
   "metadata": {
    "deletable": false,
    "editable": false,
    "nbgrader": {
     "cell_type": "markdown",
     "checksum": "545e6eb1492a7ba8fb1804f34b328319",
     "grade": false,
     "grade_id": "Question2_5a",
     "locked": true,
     "schema_version": 3,
     "solution": false
    }
   },
   "source": [
    "**5.** Let’s see if the results change when we compare callback rates conditional on gender.\n",
    "\n",
    "**5a.** Use the statsmodel.stats or scipy stats module to carry out a (two-sided) t-test to test the hypothesis that callback rates are equal for females across races. Assign the result to the variable `ttest2_5_1`. (1 pt)\n",
    "\n"
   ]
  },
  {
   "cell_type": "code",
   "execution_count": 19,
   "metadata": {
    "deletable": false,
    "nbgrader": {
     "cell_type": "code",
     "checksum": "b98e283183c13ba601cd40eaa4c1f31b",
     "grade": false,
     "grade_id": "Answer2_5a",
     "locked": false,
     "schema_version": 3,
     "solution": true
    }
   },
   "outputs": [
    {
     "data": {
      "text/plain": [
       "Ttest_indResult(statistic=-3.6369213964305627, pvalue=0.0002796319942029361)"
      ]
     },
     "execution_count": 19,
     "metadata": {},
     "output_type": "execute_result"
    }
   ],
   "source": [
    "black_fem2 = data_random[(data_random['black'] == 1) & (data_random['male'] == 0)]\n",
    "white_fem2 = data_random[(data_random['black'] == 0) & (data_random['male'] == 0)]\n",
    "\n",
    "ttest2_5_1 = stats.ttest_ind(black_fem2['call'], white_fem2['call'])\n",
    "ttest2_5_1\n",
    "#raise NotImplementedError()"
   ]
  },
  {
   "cell_type": "code",
   "execution_count": 20,
   "metadata": {
    "deletable": false,
    "editable": false,
    "nbgrader": {
     "cell_type": "code",
     "checksum": "26ea03146d4a571222a936a6dc5fe92a",
     "grade": true,
     "grade_id": "Test2_5a",
     "locked": true,
     "points": 1,
     "schema_version": 3,
     "solution": false
    }
   },
   "outputs": [],
   "source": [
    "# Hidden Tests, checking the t-statistic and p-value of ttest2_5_1."
   ]
  },
  {
   "cell_type": "markdown",
   "metadata": {
    "deletable": false,
    "editable": false,
    "nbgrader": {
     "cell_type": "markdown",
     "checksum": "8aac355ff16e5fe4978e64abd5de9f46",
     "grade": false,
     "grade_id": "Question2_5b",
     "locked": true,
     "schema_version": 3,
     "solution": false
    }
   },
   "source": [
    "**5b.** Use the statsmodel.stats or scipy stats module to carry out a (two-sided) t-test to test the hypothesis that callback rates are equal for males across races. Assign the result to the variable ``ttest2_5_2``. (1 pt)"
   ]
  },
  {
   "cell_type": "code",
   "execution_count": 21,
   "metadata": {
    "deletable": false,
    "nbgrader": {
     "cell_type": "code",
     "checksum": "cfe8052b9595e2c01b222390112836ba",
     "grade": false,
     "grade_id": "Answer2_5b",
     "locked": false,
     "schema_version": 3,
     "solution": true
    }
   },
   "outputs": [
    {
     "data": {
      "text/plain": [
       "Ttest_indResult(statistic=-1.9501711134984252, pvalue=0.05140448724722174)"
      ]
     },
     "execution_count": 21,
     "metadata": {},
     "output_type": "execute_result"
    }
   ],
   "source": [
    "black_mal2 = data_random[(data_random['black'] == 1) & (data_random['male'] == 1)]\n",
    "white_mal2 = data_random[(data_random['black'] == 0) & (data_random['male'] == 1)]\n",
    "\n",
    "ttest2_5_2 = stats.ttest_ind(black_mal2['call'], white_mal2['call'])\n",
    "ttest2_5_2\n",
    "#raise NotImplementedError()"
   ]
  },
  {
   "cell_type": "code",
   "execution_count": 22,
   "metadata": {
    "deletable": false,
    "editable": false,
    "nbgrader": {
     "cell_type": "code",
     "checksum": "b859631052ad37187668476f0430c22c",
     "grade": true,
     "grade_id": "Test2_5b",
     "locked": true,
     "points": 1,
     "schema_version": 3,
     "solution": false
    }
   },
   "outputs": [],
   "source": [
    "# Hidden Tests, checking the t-statistic and p-value of ttest2_5_2."
   ]
  }
 ],
 "metadata": {
  "coursera": {
   "schema_names": [
    "mads_causal_inference_v3_assignment1"
   ]
  },
  "kernelspec": {
   "display_name": "Python 3 (ipykernel)",
   "language": "python",
   "name": "python3"
  },
  "language_info": {
   "codemirror_mode": {
    "name": "ipython",
    "version": 3
   },
   "file_extension": ".py",
   "mimetype": "text/x-python",
   "name": "python",
   "nbconvert_exporter": "python",
   "pygments_lexer": "ipython3",
   "version": "3.8.10"
  }
 },
 "nbformat": 4,
 "nbformat_minor": 2
}

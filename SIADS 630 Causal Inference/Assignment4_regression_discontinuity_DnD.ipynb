{
 "cells": [
  {
   "cell_type": "markdown",
   "metadata": {
    "deletable": false,
    "editable": false,
    "nbgrader": {
     "cell_type": "markdown",
     "checksum": "1a7595fdb91f898d5bd5e32d77d682c5",
     "grade": false,
     "grade_id": "Heading",
     "locked": true,
     "schema_version": 3,
     "solution": false
    }
   },
   "source": [
    "# Causal Inference\n",
    "# School of Information, University of Michigan \n",
    "## Week 4"
   ]
  },
  {
   "cell_type": "markdown",
   "metadata": {
    "deletable": false,
    "editable": false,
    "nbgrader": {
     "cell_type": "markdown",
     "checksum": "85bdff393392decd8157f7761f775042",
     "grade": false,
     "grade_id": "Resources",
     "locked": true,
     "schema_version": 3,
     "solution": false
    }
   },
   "source": [
    "### Resources:\n",
    "\n",
    " - Course Manual, which can be found in Coursera\n",
    " - The research paper that inspired the question: [Kerr and Lerner, Review of Financial Studies 2014](assets/KerrLerner2014.pdf)"
   ]
  },
  {
   "cell_type": "markdown",
   "metadata": {
    "deletable": false,
    "editable": false,
    "nbgrader": {
     "cell_type": "markdown",
     "checksum": "ead06af7bdaca7322992a86116283b78",
     "grade": false,
     "grade_id": "BackgroundPart1",
     "locked": true,
     "schema_version": 3,
     "solution": false
    }
   },
   "source": [
    "## Part 1\n",
    "\n",
    "\n",
    "### Background\n",
    "A central question in entrepreneurial finance investigates to what extent early-stage financiers have a real impact on the firms they support (financially and otherwise). We would like to answer this question with our data that comes from one of the biggest SaaS (software as a service) investor angel groups.\n",
    "\n",
    "The angel group is composed of 39 angel investors and each angel investor has a very hands-on role in picking ventures the group will support. After an initial screening by the staff, the entrepreneurs are then invited to give a short presentation to the angel members. Through a voting process, angel investors decide which ventures will be provided the group's support and which will not. Entrepreneurs that get votes of 20 or more angel investors are provided with investment and advice.\n",
    "\n",
    "It should be noted that, due to strict application requirements of the angel group, characteristics of the ventures (including access to other financing opportunities) were balanced across the two sides of the voting cutoff."
   ]
  },
  {
   "cell_type": "markdown",
   "metadata": {
    "deletable": false,
    "editable": false,
    "nbgrader": {
     "cell_type": "markdown",
     "checksum": "0c707a63dd168eccf627f09d958b64e2",
     "grade": false,
     "grade_id": "DataPart1",
     "locked": true,
     "schema_version": 3,
     "solution": false
    }
   },
   "source": [
    "### Data\n",
    "For this question we will use the dataset “lecture4_RD.csv” that contains data from many SaaS (software as a service) ventures that have applied to one of the biggest angel investor groups.\n",
    " \n",
    " - *dau_mau*: daily active user/monthly active user ratio measured 15 months after the angel group voting (you can think of it as the percent of users that regularly engage with the product)\n",
    " - *revenue_g*: revenue growth rate measured 15 months after the angel group voting\n",
    " - *votes*: number of angel investor votes"
   ]
  },
  {
   "cell_type": "code",
   "execution_count": 1,
   "metadata": {
    "deletable": false,
    "editable": false,
    "nbgrader": {
     "cell_type": "code",
     "checksum": "738be7e451822b8779bffb03c3cbff23",
     "grade": false,
     "grade_id": "ImportStatements",
     "locked": true,
     "schema_version": 3,
     "solution": false
    }
   },
   "outputs": [],
   "source": [
    "#Import statements. Run this cell. \n",
    "import pandas as pd\n",
    "import numpy as np\n",
    "import statsmodels.api as sm\n",
    "import statsmodels.formula.api as smf\n",
    "from matplotlib import pyplot as plt\n",
    "import matplotlib as mpl\n",
    "import seaborn as sns"
   ]
  },
  {
   "cell_type": "code",
   "execution_count": 2,
   "metadata": {},
   "outputs": [
    {
     "data": {
      "text/html": [
       "<div>\n",
       "<style scoped>\n",
       "    .dataframe tbody tr th:only-of-type {\n",
       "        vertical-align: middle;\n",
       "    }\n",
       "\n",
       "    .dataframe tbody tr th {\n",
       "        vertical-align: top;\n",
       "    }\n",
       "\n",
       "    .dataframe thead th {\n",
       "        text-align: right;\n",
       "    }\n",
       "</style>\n",
       "<table border=\"1\" class=\"dataframe\">\n",
       "  <thead>\n",
       "    <tr style=\"text-align: right;\">\n",
       "      <th></th>\n",
       "      <th>vote</th>\n",
       "      <th>dau_mau</th>\n",
       "      <th>revenue_g</th>\n",
       "    </tr>\n",
       "  </thead>\n",
       "  <tbody>\n",
       "    <tr>\n",
       "      <th>0</th>\n",
       "      <td>32</td>\n",
       "      <td>0.824858</td>\n",
       "      <td>1.371313</td>\n",
       "    </tr>\n",
       "    <tr>\n",
       "      <th>1</th>\n",
       "      <td>0</td>\n",
       "      <td>0.030839</td>\n",
       "      <td>0.488632</td>\n",
       "    </tr>\n",
       "    <tr>\n",
       "      <th>2</th>\n",
       "      <td>15</td>\n",
       "      <td>0.199545</td>\n",
       "      <td>0.718289</td>\n",
       "    </tr>\n",
       "    <tr>\n",
       "      <th>3</th>\n",
       "      <td>28</td>\n",
       "      <td>0.652112</td>\n",
       "      <td>1.371974</td>\n",
       "    </tr>\n",
       "    <tr>\n",
       "      <th>4</th>\n",
       "      <td>24</td>\n",
       "      <td>0.602617</td>\n",
       "      <td>1.107473</td>\n",
       "    </tr>\n",
       "  </tbody>\n",
       "</table>\n",
       "</div>"
      ],
      "text/plain": [
       "   vote   dau_mau  revenue_g\n",
       "0    32  0.824858   1.371313\n",
       "1     0  0.030839   0.488632\n",
       "2    15  0.199545   0.718289\n",
       "3    28  0.652112   1.371974\n",
       "4    24  0.602617   1.107473"
      ]
     },
     "execution_count": 2,
     "metadata": {},
     "output_type": "execute_result"
    }
   ],
   "source": [
    "#Uploading data for Part 1. Run this cell.\n",
    "data_rd = pd.read_csv('assets/lecture4_RD.csv')\n",
    "\n",
    "#Uncomment below and run the cell to see the first five lines of the dataframe.\n",
    "data_rd.head()"
   ]
  },
  {
   "cell_type": "markdown",
   "metadata": {
    "deletable": false,
    "editable": false,
    "nbgrader": {
     "cell_type": "markdown",
     "checksum": "74867792cad898fa5a4896d5d5782a1d",
     "grade": false,
     "grade_id": "QuestionPart1",
     "locked": true,
     "schema_version": 3,
     "solution": false
    }
   },
   "source": [
    "### Questions\n",
    "\n",
    "The voting procedure that determines which entrepreneur gets the support of the angel group provides us with the opportunity to utilize a sharp regression discontinuity design. We are interested in two measures of success: 1) daily active user to monthly active user ratio (*dau_mau*) and 2) revenue growth rate (*revenue_g*).\n",
    "\n",
    "**Note**: You can refer to the manual for the methods we use in the assignment if you need to. \n",
    "\n",
    "**Use the data_rd dataframe uploaded above to answer the questions in Part 1, unless otherwise specified.**"
   ]
  },
  {
   "cell_type": "markdown",
   "metadata": {
    "deletable": false,
    "editable": false,
    "nbgrader": {
     "cell_type": "markdown",
     "checksum": "402ef39a3deef1e64007f4f148eb065d",
     "grade": false,
     "grade_id": "ManualQuestion1_1",
     "locked": true,
     "schema_version": 3,
     "solution": false
    }
   },
   "source": [
    "**1.** Use the matplotlib library to plot the data for *dau_mau* against the running variable *vote* on a scatter plot, such that y-axis shows *dau_mau* and x-axis shows *vote*. (1 pt)\n",
    "\n",
    "**Note**: This question will be manually graded"
   ]
  },
  {
   "cell_type": "code",
   "execution_count": 3,
   "metadata": {
    "deletable": false,
    "nbgrader": {
     "cell_type": "code",
     "checksum": "a75bad35f5135b9d0ff982c636770353",
     "grade": true,
     "grade_id": "ManualAnswer1_1",
     "locked": false,
     "points": 0,
     "schema_version": 3,
     "solution": true
    }
   },
   "outputs": [
    {
     "data": {
      "image/png": "[encoded data removed]",
      "text/plain": [
       "<Figure size 720x504 with 1 Axes>"
      ]
     },
     "metadata": {
      "needs_background": "light"
     },
     "output_type": "display_data"
    }
   ],
   "source": [
    "plt.figure(figsize = (10, 7))\n",
    "plt.scatter(data_rd['vote'], data_rd['dau_mau'])\n",
    "\n",
    "plt.xlabel('Angel Votes')\n",
    "plt.ylabel('Daily Active User/Montly Active User Ratio')\n",
    "plt.title('Scatter Plot Displaying Relationship Between Angel Votes and DAU/MAU')\n",
    "plt.show()"
   ]
  },
  {
   "cell_type": "markdown",
   "metadata": {
    "deletable": false,
    "editable": false,
    "nbgrader": {
     "cell_type": "markdown",
     "checksum": "8d2e181bf1ac28a51c55882fcdad2a2b",
     "grade": false,
     "grade_id": "Question1_2a",
     "locked": true,
     "schema_version": 3,
     "solution": false
    }
   },
   "source": [
    "**2.** The visual shows that the relationship between *vote* and *dau_mau* is linear, yet the slope seems to differ across two sides of the cutoff. \n",
    "\n",
    "**2a.** Create a binary variable that takes a value of 1 if the number of votes is greater than or equal to 20, call it `D`, and add it to the data_rd dataframe. Create a running variable re-centered at the cutoff 20 (e.g. if the value of the old variable is 20, then the value of the new variable should be 0). Name it `vote_c` and add it to the data_rd dataframe. (1 pt)\n",
    "\n",
    "**Tip**: Use `np.where()` to create the binary variable."
   ]
  },
  {
   "cell_type": "code",
   "execution_count": 4,
   "metadata": {
    "deletable": false,
    "nbgrader": {
     "cell_type": "code",
     "checksum": "b1e557d01b28c0635e4c3238d184edef",
     "grade": false,
     "grade_id": "Answer1_2a",
     "locked": false,
     "schema_version": 3,
     "solution": true
    }
   },
   "outputs": [],
   "source": [
    "data_rd['D'] = np.where(data_rd['vote'] >= 20, 1, 0)\n",
    "data_rd['vote_c'] = data_rd['vote'] - 20"
   ]
  },
  {
   "cell_type": "code",
   "execution_count": 5,
   "metadata": {
    "deletable": false,
    "editable": false,
    "nbgrader": {
     "cell_type": "code",
     "checksum": "a4e65356ed0ebe4ca07639b2d474cd3b",
     "grade": true,
     "grade_id": "Test1_2a",
     "locked": true,
     "points": 1,
     "schema_version": 3,
     "solution": false
    }
   },
   "outputs": [],
   "source": [
    "# Hidden Tests, checking the values of columns D and vote_c."
   ]
  },
  {
   "cell_type": "markdown",
   "metadata": {
    "deletable": false,
    "editable": false,
    "nbgrader": {
     "cell_type": "markdown",
     "checksum": "9e84a7ae06e363e2535bca0eea58a96a",
     "grade": false,
     "grade_id": "Question1_2b",
     "locked": true,
     "schema_version": 3,
     "solution": false
    }
   },
   "source": [
    "**2b.** Using robust standard errors, regress *dau_mau* on *vote_c*, *D*, and the interaction of *vote_c* with *D* (i.e. *vote_c*:*D*) to account for the different slopes. Assign the coefficient in front of *D* to the variable ``d_coeff1_2_2`` and ensure that its data type is float. This is the impact of angel group’s support on the DAU/MAU ratio. (Round to four decimal places.) (1 pt)"
   ]
  },
  {
   "cell_type": "code",
   "execution_count": 6,
   "metadata": {
    "deletable": false,
    "nbgrader": {
     "cell_type": "code",
     "checksum": "9143e770bd6d7f54f5c382ba94416416",
     "grade": false,
     "grade_id": "Answer1_2b",
     "locked": false,
     "schema_version": 3,
     "solution": true
    }
   },
   "outputs": [
    {
     "name": "stdout",
     "output_type": "stream",
     "text": [
      "                            OLS Regression Results                            \n",
      "==============================================================================\n",
      "Dep. Variable:                dau_mau   R-squared:                       0.989\n",
      "Model:                            OLS   Adj. R-squared:                  0.989\n",
      "Method:                 Least Squares   F-statistic:                 1.410e+04\n",
      "Date:                Mon, 21 Feb 2022   Prob (F-statistic):               0.00\n",
      "Time:                        15:28:04   Log-Likelihood:                 1028.3\n",
      "No. Observations:                 488   AIC:                            -2049.\n",
      "Df Residuals:                     484   BIC:                            -2032.\n",
      "Df Model:                           3                                         \n",
      "Covariance Type:                  HC1                                         \n",
      "==============================================================================\n",
      "                 coef    std err          t      P>|t|      [0.025      0.975]\n",
      "------------------------------------------------------------------------------\n",
      "Intercept      0.2503      0.004     71.419      0.000       0.243       0.257\n",
      "vote_c         0.0101      0.000     26.366      0.000       0.009       0.011\n",
      "D              0.3016      0.005     63.532      0.000       0.292       0.311\n",
      "vote_c:D       0.0098      0.001     18.580      0.000       0.009       0.011\n",
      "==============================================================================\n",
      "Omnibus:                        0.219   Durbin-Watson:                   1.966\n",
      "Prob(Omnibus):                  0.896   Jarque-Bera (JB):                0.320\n",
      "Skew:                          -0.034   Prob(JB):                        0.852\n",
      "Kurtosis:                       2.894   Cond. No.                         45.0\n",
      "==============================================================================\n",
      "\n",
      "Notes:\n",
      "[1] Standard Errors are heteroscedasticity robust (HC1)\n"
     ]
    }
   ],
   "source": [
    "reg = smf.ols(formula = 'dau_mau ~ vote_c + D + vote_c:D', data = data_rd).fit()\n",
    "robust_reg = reg.get_robustcov_results(cov_type= 'HC1') \n",
    "#View summary table\n",
    "print(robust_reg.summary())\n",
    "d_coeff1_2_2 = round(robust_reg.params[2], 4)"
   ]
  },
  {
   "cell_type": "code",
   "execution_count": 7,
   "metadata": {
    "deletable": false,
    "editable": false,
    "nbgrader": {
     "cell_type": "code",
     "checksum": "22f502299b2065d9eb13c1f20dd99ef9",
     "grade": true,
     "grade_id": "Test1_2b",
     "locked": true,
     "points": 1,
     "schema_version": 3,
     "solution": false
    }
   },
   "outputs": [],
   "source": [
    "# Hidden Tests, checking the value of d_coeff1_2_2."
   ]
  },
  {
   "cell_type": "markdown",
   "metadata": {
    "deletable": false,
    "editable": false,
    "nbgrader": {
     "cell_type": "markdown",
     "checksum": "4f953ddf4d96e60a029a3e3faeec6dc4",
     "grade": false,
     "grade_id": "ManualQuestion1_3",
     "locked": true,
     "schema_version": 3,
     "solution": false
    }
   },
   "source": [
    "**3.** Use the matplotlib library to plot the data for *revenue_g* against the re-centered running variable *vote_c* on a scatterplot, such that the y-axis shows *revenue_g* and the x-axis shows *vote_c*. (1 pt)\n",
    "\n",
    "**Note**: This question will be manually graded."
   ]
  },
  {
   "cell_type": "code",
   "execution_count": 8,
   "metadata": {
    "deletable": false,
    "nbgrader": {
     "cell_type": "code",
     "checksum": "a2250b48dd1c39139940316069acf4ee",
     "grade": true,
     "grade_id": "ManualAnswer1_3",
     "locked": false,
     "points": 0,
     "schema_version": 3,
     "solution": true
    }
   },
   "outputs": [
    {
     "data": {
      "image/png": "[encoded data removed]",
      "text/plain": [
       "<Figure size 720x504 with 1 Axes>"
      ]
     },
     "metadata": {
      "needs_background": "light"
     },
     "output_type": "display_data"
    }
   ],
   "source": [
    "plt.figure(figsize = (10, 7))\n",
    "plt.scatter(data_rd['vote_c'], data_rd['revenue_g'])\n",
    "\n",
    "plt.xlabel('Re-centered Angel Votes')\n",
    "plt.ylabel('Revenue Growth')\n",
    "plt.title('Scatter Plot Displaying Relationship Between Re-centered Angel Votes and 15 Month Revenue Growth')\n",
    "plt.show()"
   ]
  },
  {
   "cell_type": "markdown",
   "metadata": {
    "deletable": false,
    "editable": false,
    "nbgrader": {
     "cell_type": "markdown",
     "checksum": "5d591c6bfd195eea81dbb083c4a78847",
     "grade": false,
     "grade_id": "Question1_4a",
     "locked": true,
     "schema_version": 3,
     "solution": false
    }
   },
   "source": [
    " **4.** The visual shows that the relationship between *vote_c* and *revenue_g* is nonlinear. \n",
    " \n",
    "**4a.** Create a new column in the data_rd dataframe called `vote_c_sq` that is equal to *vote_c*$^{2}$. (1 pt)"
   ]
  },
  {
   "cell_type": "code",
   "execution_count": 9,
   "metadata": {
    "deletable": false,
    "nbgrader": {
     "cell_type": "code",
     "checksum": "a221d92b159a4ef4c8daebc8cef58f3e",
     "grade": false,
     "grade_id": "Answer1_4a",
     "locked": false,
     "schema_version": 3,
     "solution": true
    }
   },
   "outputs": [],
   "source": [
    "data_rd['vote_c_sq'] = data_rd['vote_c']**2"
   ]
  },
  {
   "cell_type": "code",
   "execution_count": 10,
   "metadata": {
    "deletable": false,
    "editable": false,
    "nbgrader": {
     "cell_type": "code",
     "checksum": "4c225b8cb7647722ca980df5720a53c3",
     "grade": true,
     "grade_id": "Test1_4a",
     "locked": true,
     "points": 1,
     "schema_version": 3,
     "solution": false
    }
   },
   "outputs": [],
   "source": [
    "# Hidden Tests, checking the values of vote_c_sq."
   ]
  },
  {
   "cell_type": "markdown",
   "metadata": {
    "deletable": false,
    "editable": false,
    "nbgrader": {
     "cell_type": "markdown",
     "checksum": "47287900ee508bebfdd0562711bbf956",
     "grade": false,
     "grade_id": "Question1_4b",
     "locked": true,
     "schema_version": 3,
     "solution": false
    }
   },
   "source": [
    "**4b.** Using robust standard errors, regress *revenue_g* on *vote_c*, *vote_c_sq*, and *D*. Assign the coefficient in front of variable *D* to the variable `d_coeff1_4_2` and ensure that its data type is float. This is the impact of angel group’s support on revenue growth. (Round to four decimal places.) (1 pt)"
   ]
  },
  {
   "cell_type": "code",
   "execution_count": 11,
   "metadata": {
    "deletable": false,
    "nbgrader": {
     "cell_type": "code",
     "checksum": "1ecf1d9cb4bd4d64dcf3469987c4e0f3",
     "grade": false,
     "grade_id": "Answer1_4b",
     "locked": false,
     "schema_version": 3,
     "solution": true
    }
   },
   "outputs": [
    {
     "name": "stdout",
     "output_type": "stream",
     "text": [
      "                            OLS Regression Results                            \n",
      "==============================================================================\n",
      "Dep. Variable:              revenue_g   R-squared:                       0.944\n",
      "Model:                            OLS   Adj. R-squared:                  0.944\n",
      "Method:                 Least Squares   F-statistic:                     2926.\n",
      "Date:                Mon, 21 Feb 2022   Prob (F-statistic):          1.07e-309\n",
      "Time:                        15:28:04   Log-Likelihood:                 423.21\n",
      "No. Observations:                 488   AIC:                            -838.4\n",
      "Df Residuals:                     484   BIC:                            -821.7\n",
      "Df Model:                           3                                         \n",
      "Covariance Type:                  HC1                                         \n",
      "==============================================================================\n",
      "                 coef    std err          t      P>|t|      [0.025      0.975]\n",
      "------------------------------------------------------------------------------\n",
      "Intercept      0.7852      0.011     72.225      0.000       0.764       0.807\n",
      "vote_c         0.0336      0.001     36.870      0.000       0.032       0.035\n",
      "vote_c_sq      0.0010    4.9e-05     19.951      0.000       0.001       0.001\n",
      "D              0.2474      0.017     14.798      0.000       0.215       0.280\n",
      "==============================================================================\n",
      "Omnibus:                        0.714   Durbin-Watson:                   2.065\n",
      "Prob(Omnibus):                  0.700   Jarque-Bera (JB):                0.547\n",
      "Skew:                          -0.065   Prob(JB):                        0.761\n",
      "Kurtosis:                       3.100   Cond. No.                         533.\n",
      "==============================================================================\n",
      "\n",
      "Notes:\n",
      "[1] Standard Errors are heteroscedasticity robust (HC1)\n"
     ]
    }
   ],
   "source": [
    "reg2 = smf.ols(formula = 'revenue_g ~ vote_c + vote_c_sq + D', data = data_rd).fit()\n",
    "robust_reg2 = reg2.get_robustcov_results(cov_type= 'HC1') \n",
    "#View summary table\n",
    "print(robust_reg2.summary())\n",
    "d_coeff1_4_2 = round(robust_reg2.params[3], 4)"
   ]
  },
  {
   "cell_type": "code",
   "execution_count": 12,
   "metadata": {
    "deletable": false,
    "editable": false,
    "nbgrader": {
     "cell_type": "code",
     "checksum": "07da3df3504d171e7af29f19eb335329",
     "grade": true,
     "grade_id": "Test1_4b",
     "locked": true,
     "points": 1,
     "schema_version": 3,
     "solution": false
    }
   },
   "outputs": [],
   "source": [
    "# Hidden tests, checking the value of d_coeff1_4_2."
   ]
  },
  {
   "cell_type": "markdown",
   "metadata": {
    "deletable": false,
    "editable": false,
    "nbgrader": {
     "cell_type": "markdown",
     "checksum": "e399c2414177af080895f2a2082d0784",
     "grade": false,
     "grade_id": "Question1_5a",
     "locked": true,
     "schema_version": 3,
     "solution": false
    }
   },
   "source": [
    "**5.** Remember that another way to deal with nonlinearities is to restrict our estimation to observations close to the threshold.\n",
    "\n",
    "**5a.** Using robust standard errors, regress *revenue_g* on *vote_c* and *D* with a bandwidth equal to 3 votes (i.e. use only observations with votes greater than or equal to 17 and less than or equal to 23). Assign the coefficient in front of variable *D* to the variable ``d_coeff1_5_1``. This is the impact of angel group’s support on revenue growth. (Round to four decimal places.) (1 pt)"
   ]
  },
  {
   "cell_type": "code",
   "execution_count": 13,
   "metadata": {
    "deletable": false,
    "nbgrader": {
     "cell_type": "code",
     "checksum": "a902a4f0959029388c1aa3c7bf8141dc",
     "grade": false,
     "grade_id": "Answer1_5a",
     "locked": false,
     "schema_version": 3,
     "solution": true
    }
   },
   "outputs": [
    {
     "name": "stdout",
     "output_type": "stream",
     "text": [
      "                            OLS Regression Results                            \n",
      "==============================================================================\n",
      "Dep. Variable:              revenue_g   R-squared:                       0.746\n",
      "Model:                            OLS   Adj. R-squared:                  0.741\n",
      "Method:                 Least Squares   F-statistic:                     213.7\n",
      "Date:                Mon, 21 Feb 2022   Prob (F-statistic):           3.23e-41\n",
      "Time:                        15:28:04   Log-Likelihood:                 113.98\n",
      "No. Observations:                 129   AIC:                            -222.0\n",
      "Df Residuals:                     126   BIC:                            -213.4\n",
      "Df Model:                           2                                         \n",
      "Covariance Type:                  HC1                                         \n",
      "==============================================================================\n",
      "                 coef    std err          t      P>|t|      [0.025      0.975]\n",
      "------------------------------------------------------------------------------\n",
      "Intercept      0.7870      0.025     31.852      0.000       0.738       0.836\n",
      "vote_c         0.0277      0.008      3.404      0.001       0.012       0.044\n",
      "D              0.2488      0.039      6.418      0.000       0.172       0.325\n",
      "==============================================================================\n",
      "Omnibus:                        1.247   Durbin-Watson:                   2.110\n",
      "Prob(Omnibus):                  0.536   Jarque-Bera (JB):                0.851\n",
      "Skew:                          -0.173   Prob(JB):                        0.654\n",
      "Kurtosis:                       3.197   Cond. No.                         11.6\n",
      "==============================================================================\n",
      "\n",
      "Notes:\n",
      "[1] Standard Errors are heteroscedasticity robust (HC1)\n"
     ]
    }
   ],
   "source": [
    "bandwidth = data_rd[(data_rd['vote'] >= 17) & (data_rd['vote'] <= 23)]\n",
    "\n",
    "reg3 = smf.ols(formula = 'revenue_g ~ vote_c + D', data = bandwidth).fit()\n",
    "robust_reg3 = reg3.get_robustcov_results(cov_type= 'HC1') \n",
    "#View summary table\n",
    "print(robust_reg3.summary())\n",
    "d_coeff1_5_1 = round(robust_reg3.params[2], 4)"
   ]
  },
  {
   "cell_type": "code",
   "execution_count": 14,
   "metadata": {
    "deletable": false,
    "editable": false,
    "nbgrader": {
     "cell_type": "code",
     "checksum": "d5c367122aeca0eed566db396c06f1bf",
     "grade": true,
     "grade_id": "Test1_5a",
     "locked": true,
     "points": 1,
     "schema_version": 3,
     "solution": false
    }
   },
   "outputs": [],
   "source": [
    "# Hidden Tests, checking the value of d_coeff1_5_1."
   ]
  },
  {
   "cell_type": "markdown",
   "metadata": {
    "deletable": false,
    "editable": false,
    "nbgrader": {
     "cell_type": "markdown",
     "checksum": "8c760c4add83511af370573b4154b2ae",
     "grade": false,
     "grade_id": "ManualQuestion1_5b",
     "locked": true,
     "schema_version": 3,
     "solution": false
    }
   },
   "source": [
    "**5b.** How does the size of the coefficient (round to four decimal places) in front of D compare between the nonlinear model (Part 1, Question 4b.) and the model with reduced bandwidth (Part 1, Question 5a.)? Explain why estimate precision (standard error) differs between the two models. (2 pts)  \n",
    "\n",
    "**Note**: This question will be manually graded."
   ]
  },
  {
   "cell_type": "markdown",
   "metadata": {
    "deletable": false,
    "nbgrader": {
     "cell_type": "markdown",
     "checksum": "deabba240ed223b6be4497168331c010",
     "grade": true,
     "grade_id": "ManualAnswer1_5b",
     "locked": false,
     "points": 0,
     "schema_version": 3,
     "solution": true
    }
   },
   "source": [
    "The model with reduced bandwidth has a larger coefficient in front of D (0.2488) compared to the nonlinear model (0.2474). The standard error or estimate precision differs between the two models (the bandwidth model has higher standard error associated with the D coefficent - 0.039 - than the nonlinear model - 0.017) due to the trade-off between bias and variance when making bandwidth determinations. When a bandwidth is large, there is more bias due to being further from the cutoff point but less variance as there are more data points available. Conversely, for smaller bandwidth models, there is less bias as the points are closer to the cutoff but variance increases as there are fewer points considered. Therefore, the D coefficient in the reduced bandwidth model increases relative to the nonlinear model due to less bias, but the standard error does increase due to this tradeoff."
   ]
  },
  {
   "cell_type": "markdown",
   "metadata": {
    "deletable": false,
    "editable": false,
    "nbgrader": {
     "cell_type": "markdown",
     "checksum": "c22491e56266baa681620ec7445692a4",
     "grade": false,
     "grade_id": "BackgroundPart2",
     "locked": true,
     "schema_version": 3,
     "solution": false
    }
   },
   "source": [
    "## Part 2\n",
    "\n",
    "### Background\n",
    "\n",
    "The Surgeon General of the US estimates that smoking during pregnancy doubles the chance a baby will be born with a low birth weight (<2500 grams). Over the past 20 years, roughly 17 percent of births are to women who smoked during this period. In recent years, many public health officials have suggested that higher cigarette taxes can be used to decrease the rate of smoking during pregnancy and consequently improve birth outcomes. On May 1 in 1994, the state of Michigan raised the cigarette tax from 25 to 75 cents per pack.\n"
   ]
  },
  {
   "cell_type": "markdown",
   "metadata": {
    "deletable": false,
    "editable": false,
    "nbgrader": {
     "cell_type": "markdown",
     "checksum": "7fb9c1f643cc6825d573b8e2b86f2e33",
     "grade": false,
     "grade_id": "DataPart2",
     "locked": true,
     "schema_version": 3,
     "solution": false
    }
   },
   "source": [
    "### Data\n",
    "\n",
    "The data set “lecture4_DD.csv\" has 101,676 observations. There are only three variables in the data set and variable definitions are listed below.\n",
    "\n",
    "- *state*: 2-digit state FIPS code. Michigan is state 26, Iowa is 19.\n",
    "- *smoked*: dummy variable; equal to 1 if a mother self-reported that she smoked during her pregnancy, otherwise it is equal to 0.\n",
    "- *year*: observations that come from the time period\n",
    "    - starting with May 1, 1992 up to April 30, 1993 is labeled as year 1\n",
    "    - starting with May 1, 1993 up to April 30, 1994 is labeled as year 2\n",
    "    - starting with May 1, 1994 up to April 30, 1995 is labeled as year 3 "
   ]
  },
  {
   "cell_type": "code",
   "execution_count": 15,
   "metadata": {},
   "outputs": [
    {
     "data": {
      "text/html": [
       "<div>\n",
       "<style scoped>\n",
       "    .dataframe tbody tr th:only-of-type {\n",
       "        vertical-align: middle;\n",
       "    }\n",
       "\n",
       "    .dataframe tbody tr th {\n",
       "        vertical-align: top;\n",
       "    }\n",
       "\n",
       "    .dataframe thead th {\n",
       "        text-align: right;\n",
       "    }\n",
       "</style>\n",
       "<table border=\"1\" class=\"dataframe\">\n",
       "  <thead>\n",
       "    <tr style=\"text-align: right;\">\n",
       "      <th></th>\n",
       "      <th>state</th>\n",
       "      <th>smoked</th>\n",
       "      <th>year</th>\n",
       "    </tr>\n",
       "  </thead>\n",
       "  <tbody>\n",
       "    <tr>\n",
       "      <th>0</th>\n",
       "      <td>19</td>\n",
       "      <td>0</td>\n",
       "      <td>1</td>\n",
       "    </tr>\n",
       "    <tr>\n",
       "      <th>1</th>\n",
       "      <td>19</td>\n",
       "      <td>0</td>\n",
       "      <td>1</td>\n",
       "    </tr>\n",
       "    <tr>\n",
       "      <th>2</th>\n",
       "      <td>19</td>\n",
       "      <td>0</td>\n",
       "      <td>1</td>\n",
       "    </tr>\n",
       "    <tr>\n",
       "      <th>3</th>\n",
       "      <td>19</td>\n",
       "      <td>0</td>\n",
       "      <td>1</td>\n",
       "    </tr>\n",
       "    <tr>\n",
       "      <th>4</th>\n",
       "      <td>19</td>\n",
       "      <td>0</td>\n",
       "      <td>1</td>\n",
       "    </tr>\n",
       "  </tbody>\n",
       "</table>\n",
       "</div>"
      ],
      "text/plain": [
       "   state  smoked  year\n",
       "0     19       0     1\n",
       "1     19       0     1\n",
       "2     19       0     1\n",
       "3     19       0     1\n",
       "4     19       0     1"
      ]
     },
     "execution_count": 15,
     "metadata": {},
     "output_type": "execute_result"
    }
   ],
   "source": [
    "# Uploading data for part 2. Run this cell\n",
    "data_dd = pd.read_csv('assets/lecture4_DD.csv') \n",
    "\n",
    "# Uncomment below to view the first five lines of the csv file for part 2\n",
    "data_dd.head(5)"
   ]
  },
  {
   "cell_type": "markdown",
   "metadata": {
    "deletable": false,
    "editable": false,
    "nbgrader": {
     "cell_type": "markdown",
     "checksum": "5617d0110999d66f123eede0793c3d36",
     "grade": false,
     "grade_id": "QuestionsPart2",
     "locked": true,
     "schema_version": 3,
     "solution": false
    }
   },
   "source": [
    "### Questions\n",
    "\n",
    "We will use the data from the Michigan “experiment” to evaluate whether higher taxes reduce smoking among pregnant women. We will be using the differences-in-differences technique, where the state of Michigan is the treatment group and another Midwestern state, Iowa, is going to constitute our control group.\n",
    "\n",
    "**Note**: You can refer to the manual for the commands we use in the assignment if you need to. \n",
    "\n",
    "**Use the data_dd dataframe uploaded above to answer the questions below unless otherwise specified.**"
   ]
  },
  {
   "cell_type": "markdown",
   "metadata": {
    "deletable": false,
    "editable": false,
    "nbgrader": {
     "cell_type": "markdown",
     "checksum": "2762b17e2a69ff15434885899f5dbd25",
     "grade": false,
     "grade_id": "ManualQuestion2_1a",
     "locked": true,
     "schema_version": 3,
     "solution": false
    }
   },
   "source": [
    "**1.** Let’s start by visually inspecting our data for parallel trends.\n",
    "\n",
    "**1a.** Using a scatterplot, plot pre-treatment smoking rates for Michigan and Iowa, such that the y-axis shows the rate of smoking for the pre-treatment years (years 1 and 2) that are marked on the x-axis. Use different colors for each state. Connect the smoking rate of year 1 and 2 for each state. Scale your y-axis (smoking rate) to range between 0 and 0.4 with labels for 0.2 increments. Have your x-axis (year) range from 1 to 3 with labels for each year. (2 pts)\n",
    "\n",
    "[Notice that, within a given category, taking the means of dummy variables allows us to calculate the rate. For example, if there are 3 smokers out of 5 pregnant women, and if we have an indicator/dummy variable that takes the value of 1 for smokers and 0 for non-smoker → mean of that dummy variable = (2x0 + 3x1)/5 = ⅗ = smoker to non-smoker pregnant women ratio]\n",
    "\n",
    "**Note**: This question will be manually graded."
   ]
  },
  {
   "cell_type": "code",
   "execution_count": 16,
   "metadata": {
    "deletable": false,
    "nbgrader": {
     "cell_type": "code",
     "checksum": "074b3ebe8a41fe1369296cdbe5d0a71e",
     "grade": true,
     "grade_id": "ManualAnswer2_1a",
     "locked": false,
     "points": 0,
     "schema_version": 3,
     "solution": true
    }
   },
   "outputs": [
    {
     "data": {
      "image/png": "[encoded data removed]",
      "text/plain": [
       "<Figure size 432x576 with 1 Axes>"
      ]
     },
     "metadata": {
      "needs_background": "light"
     },
     "output_type": "display_data"
    }
   ],
   "source": [
    "mich = data_dd[(data_dd['state'] == 26) & (data_dd['year'] <= 2)]\n",
    "mich_rollup = pd.DataFrame(mich.groupby('year')['smoked'].mean()).reset_index()\n",
    "\n",
    "iowa = data_dd[(data_dd['state'] == 19) & (data_dd['year'] <= 2)]\n",
    "iowa_rollup = pd.DataFrame(iowa.groupby('year')['smoked'].mean()).reset_index()\n",
    "\n",
    "plt.figure(figsize = (6, 8))\n",
    "plt.plot(mich_rollup['year'], mich_rollup['smoked'], color = 'blue', marker = 'x')\n",
    "plt.plot(iowa_rollup['year'], iowa_rollup['smoked'], color = 'orange', marker = 'o')\n",
    "\n",
    "plt.xticks([1, 2, 3], ['Year 1 \\nMay 1st 1992 - April 30th 1993', 'Year 2 \\nMay 1st 1993 - April 30th 1994', \n",
    "                       'Year 3 \\nMay 1st 1994 - April 30th 1995'], rotation = 30)\n",
    "plt.yticks(np.arange(0, .5, 0.2))\n",
    "\n",
    "plt.ylabel('Pregnant Women Smoking Rate')\n",
    "plt.title('Parallel Trend Investigation for Michigan and Iowa Pregnant Women Smoking Rates (1993 - 1995)')\n",
    "plt.legend(['Michigan', 'Iowa'])\n",
    "\n",
    "plt.show()"
   ]
  },
  {
   "cell_type": "markdown",
   "metadata": {
    "deletable": false,
    "editable": false,
    "nbgrader": {
     "cell_type": "markdown",
     "checksum": "17155dd8e8f4b867ec4bc4b833df74e9",
     "grade": false,
     "grade_id": "ManualQuestion2_1b",
     "locked": true,
     "schema_version": 3,
     "solution": false
    }
   },
   "source": [
    "**1b.**\tBased on the graph, do you think that differences-in-differences is a reasonable approach to estimate the causal effect in this setting? (Hint: parallel trends assumption.) (1 pt)\n",
    "\n",
    "**Note**: This question will be manually graded."
   ]
  },
  {
   "cell_type": "markdown",
   "metadata": {
    "deletable": false,
    "nbgrader": {
     "cell_type": "markdown",
     "checksum": "e35265fba0024fd896ead402f8a87b54",
     "grade": true,
     "grade_id": "ManualAnswer2_1b",
     "locked": false,
     "points": 0,
     "schema_version": 3,
     "solution": true
    }
   },
   "source": [
    "The parallel trends assumption is where we assume that there is nothing unique to the treatment (Michigan) or control (Iowa) groups that changed overtime, or, if anything did change overtime, the treatment and control groups were affected in exactly the same way. This assumption is to ensure that there are no confounders at play that may impact one state more over another. In reviewing our data specifically, we see that for both years 1 and 2, Michigan and Iowa had similar pregnancy smoking rates and saw a similar decrease in rate between years 1 and 2. With the pre-treatment years being in close alignment, differences-in-differences is a reasonable approach to estimate the causal effect of the tax, with Michigan serving as the treatment and Iowa serving as the control and counterfactual for where there was no implemented policy."
   ]
  },
  {
   "cell_type": "markdown",
   "metadata": {
    "deletable": false,
    "editable": false,
    "nbgrader": {
     "cell_type": "markdown",
     "checksum": "2391c4da1ff9a313f9ebde9ef5fdc983",
     "grade": false,
     "grade_id": "Question2_2a",
     "locked": true,
     "schema_version": 3,
     "solution": false
    }
   },
   "source": [
    "**2.** We will continue by creating a table [(treatment group, control group) x (pre-treatment, post-treatment)] to calculate the differences-in-differences estimate.\n",
    "\n",
    "**2a.** Add two columns to the data_dd dataframe, a binary variable called ``treat`` (equals 1 for the data coming from the state of Michigan), and another called ``post`` (equals 1 for data coming from after the tax hike, i.e. year = 3). (1 pt)"
   ]
  },
  {
   "cell_type": "code",
   "execution_count": 17,
   "metadata": {
    "deletable": false,
    "nbgrader": {
     "cell_type": "code",
     "checksum": "7cb7d524022bb6509a86aeda7519cc3d",
     "grade": false,
     "grade_id": "Answer2_2a",
     "locked": false,
     "schema_version": 3,
     "solution": true
    }
   },
   "outputs": [],
   "source": [
    "data_dd['treat'] = np.where(data_dd['state'] == 26, 1, 0)\n",
    "data_dd['post'] = np.where(data_dd['year'] == 3, 1, 0)"
   ]
  },
  {
   "cell_type": "code",
   "execution_count": 18,
   "metadata": {
    "deletable": false,
    "editable": false,
    "nbgrader": {
     "cell_type": "code",
     "checksum": "9f3303ab8069de2a5a7f1386c09ab637",
     "grade": true,
     "grade_id": "Test2_2a",
     "locked": true,
     "points": 1,
     "schema_version": 3,
     "solution": false
    }
   },
   "outputs": [],
   "source": [
    "# Hidden Tests, checking the values of treat and post."
   ]
  },
  {
   "cell_type": "markdown",
   "metadata": {
    "deletable": false,
    "editable": false,
    "nbgrader": {
     "cell_type": "markdown",
     "checksum": "f90e97fcdc4b3dabc921183edb072461",
     "grade": false,
     "grade_id": "Question2_2b",
     "locked": true,
     "schema_version": 3,
     "solution": false
    }
   },
   "source": [
    "**2b.** Now calculate the corresponding means of the variable *smoked*. Assign cell entries to the corresponding variables `cell_i`, `cell_ii`, `cell_iii`.... Ensure that the data type of each variable is float. (Round the values to four decimal places.) (1 pt)\n",
    "\n",
    "![Differences-in-differences Table](assets/Table2_2b.png)"
   ]
  },
  {
   "cell_type": "code",
   "execution_count": 19,
   "metadata": {
    "deletable": false,
    "nbgrader": {
     "cell_type": "code",
     "checksum": "66d8d44ca53e7061bd341a7828ed689a",
     "grade": false,
     "grade_id": "Answer2_2b",
     "locked": false,
     "schema_version": 3,
     "solution": true
    }
   },
   "outputs": [],
   "source": [
    "mich_pre = data_dd[(data_dd['state'] == 26) & (data_dd['year'] <= 2)]\n",
    "mich_post = data_dd[(data_dd['state'] == 26) & (data_dd['year'] == 3)]\n",
    "\n",
    "iowa_pre = data_dd[(data_dd['state'] == 19) & (data_dd['year'] <= 2)]\n",
    "iowa_post = data_dd[(data_dd['state'] == 19) & (data_dd['year'] == 3)]\n",
    "\n",
    "cell_i = round(max(mich_pre.groupby('state')['smoked'].mean()), 4)\n",
    "cell_ii = round(max(mich_post.groupby('state')['smoked'].mean()), 4)\n",
    "cell_iii = round(cell_ii - cell_i, 4)\n",
    "\n",
    "cell_iv = round(max(iowa_pre.groupby('state')['smoked'].mean()), 4)\n",
    "cell_v = round(max(iowa_post.groupby('state')['smoked'].mean()), 4)\n",
    "cell_vi = round(cell_v - cell_iv, 4)\n",
    "\n",
    "cell_vii = round(cell_i - cell_iv, 4)\n",
    "cell_viii = round(cell_ii - cell_v, 4)\n",
    "cell_ix = round(cell_iii - cell_vi, 4)"
   ]
  },
  {
   "cell_type": "code",
   "execution_count": 20,
   "metadata": {
    "deletable": false,
    "editable": false,
    "nbgrader": {
     "cell_type": "code",
     "checksum": "63adb640948f677ec5bec42b3eb4cd46",
     "grade": true,
     "grade_id": "Test2_2b",
     "locked": true,
     "points": 1,
     "schema_version": 3,
     "solution": false
    }
   },
   "outputs": [],
   "source": [
    "# Hidden Tests, checking the values of table2_2b."
   ]
  },
  {
   "cell_type": "markdown",
   "metadata": {
    "deletable": false,
    "editable": false,
    "nbgrader": {
     "cell_type": "markdown",
     "checksum": "f0b219084206ead34793e3c342ffc06c",
     "grade": false,
     "grade_id": "Question2_3",
     "locked": true,
     "schema_version": 3,
     "solution": false
    }
   },
   "source": [
    "**3.** Now, we will estimate differences-in-differences through regression. Using robust standard errors, regress *smoked* on *treat*, *post*, and their interaction. Assign the coefficient in front of the interaction term to the variable `interact_coeff2_3` and ensure that its data type is float. (Round to four decimal places.) (1 pt)"
   ]
  },
  {
   "cell_type": "code",
   "execution_count": 21,
   "metadata": {
    "deletable": false,
    "nbgrader": {
     "cell_type": "code",
     "checksum": "aa50c77930dc22047b581349c94fd490",
     "grade": false,
     "grade_id": "Answer2_3",
     "locked": false,
     "schema_version": 3,
     "solution": true
    }
   },
   "outputs": [
    {
     "name": "stdout",
     "output_type": "stream",
     "text": [
      "                            OLS Regression Results                            \n",
      "==============================================================================\n",
      "Dep. Variable:                 smoked   R-squared:                       0.003\n",
      "Model:                            OLS   Adj. R-squared:                  0.003\n",
      "Method:                 Least Squares   F-statistic:                     129.9\n",
      "Date:                Mon, 21 Feb 2022   Prob (F-statistic):           5.36e-84\n",
      "Time:                        15:28:05   Log-Likelihood:                -45883.\n",
      "No. Observations:              101676   AIC:                         9.177e+04\n",
      "Df Residuals:                  101672   BIC:                         9.181e+04\n",
      "Df Model:                           3                                         \n",
      "Covariance Type:                  HC1                                         \n",
      "==============================================================================\n",
      "                 coef    std err          t      P>|t|      [0.025      0.975]\n",
      "------------------------------------------------------------------------------\n",
      "Intercept      0.1856      0.003     58.759      0.000       0.179       0.192\n",
      "treat          0.0067      0.004      1.867      0.062      -0.000       0.014\n",
      "post          -0.0217      0.005     -4.049      0.000      -0.032      -0.011\n",
      "treat:post    -0.0310      0.006     -5.151      0.000      -0.043      -0.019\n",
      "==============================================================================\n",
      "Omnibus:                    26320.260   Durbin-Watson:                   0.001\n",
      "Prob(Omnibus):                  0.000   Jarque-Bera (JB):            52036.891\n",
      "Skew:                           1.694   Prob(JB):                         0.00\n",
      "Kurtosis:                       3.894   Cond. No.                         9.77\n",
      "==============================================================================\n",
      "\n",
      "Notes:\n",
      "[1] Standard Errors are heteroscedasticity robust (HC1)\n"
     ]
    }
   ],
   "source": [
    "reg4 = smf.ols(formula = 'smoked ~ treat + post + treat:post', data = data_dd).fit()\n",
    "robust_reg4 = reg4.get_robustcov_results(cov_type= 'HC1') \n",
    "#View summary table\n",
    "print(robust_reg4.summary())\n",
    "interact_coeff2_3 = round(robust_reg4.params[3], 4)"
   ]
  },
  {
   "cell_type": "code",
   "execution_count": 22,
   "metadata": {
    "deletable": false,
    "editable": false,
    "nbgrader": {
     "cell_type": "code",
     "checksum": "9ca20679f90d40b18d413bf7ffed4386",
     "grade": true,
     "grade_id": "Test2_3",
     "locked": true,
     "points": 1,
     "schema_version": 3,
     "solution": false
    }
   },
   "outputs": [],
   "source": [
    "# Hidden tests, checking the value of interact_coeff2_3."
   ]
  },
  {
   "cell_type": "code",
   "execution_count": null,
   "metadata": {},
   "outputs": [],
   "source": []
  }
 ],
 "metadata": {
  "coursera": {
   "schema_names": [
    "mads_causal_inference_v3_assignment4"
   ]
  },
  "kernelspec": {
   "display_name": "Python 3 (ipykernel)",
   "language": "python",
   "name": "python3"
  },
  "language_info": {
   "codemirror_mode": {
    "name": "ipython",
    "version": 3
   },
   "file_extension": ".py",
   "mimetype": "text/x-python",
   "name": "python",
   "nbconvert_exporter": "python",
   "pygments_lexer": "ipython3",
   "version": "3.8.10"
  }
 },
 "nbformat": 4,
 "nbformat_minor": 2
}

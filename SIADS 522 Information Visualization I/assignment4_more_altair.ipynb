{
 "cells": [
  {
   "cell_type": "markdown",
   "metadata": {},
   "source": [
    "# Information Visualization I \n",
    "## School of Information, University of Michigan\n",
    "\n",
    "## Week 4: \n",
    "- Data Types\n",
    "- Design\n",
    "\n",
    "## Assignment Overview\n",
    "### This assignment's objectives include:\n",
    "\n",
    "- Review, reflect on, and apply the concepts of encoding different data types. Given a visualization, justify different encodings for certain datatypes.\n",
    "- Review, reflect on, and apply good design decisions in a visualization. Given a visualization critique design decisions according to principles like Tufte's data-ink ratio, graphical integrity, chart junk, Munzner's rules of thumb, etc.\n",
    "\n",
    "<img src=\"assets/data-ink-ratio.png\" alt=\"Drawing\" style=\"width: 500px;\"/>\n",
    "<p style=\"text-align: center;\"> Same information, less ink </p>\n",
    "\n",
    "- Recreate, propose new and alternative visualizations using [Altair](https://altair-viz.github.io/) \n",
    "\n",
    "### The total score of this assignment will be 100 points consisting of:\n",
    "- Case study reflection: The Mayweather-McGregor Fight, As Told Through Emojis (30 points)\n",
    "- Altair programming exercise (70 points)\n",
    "\n",
    "\n",
    "### Resources:\n",
    "- Article by [Five Thirty Eight](https://fivethirtyeight.com) available  [online](https://fivethirtyeight.com/features/the-mayweather-mcgregor-fight-as-told-through-emojis/) (Hickey, Koeze, Dottle, Wezerek 2017)  \n",
    "- Datasets from Five Thirty Eight, we have download a subset of these datasets to [./assets](assets) but the original can be found on [Five Thirty Eight Mayweather vs McGregor](https://github.com/fivethirtyeight/data/tree/master/mayweather-mcgregor)\n",
    "\n",
    "### Important notes:\n",
    "1) Grading for this assignment is entirely done by manual inspection. Because there are many ways to generate the correct visualization, we will not be using the autograder for this assignment. Compare your result to the provided samples. Try to get as close to our provided solution as possible.\n",
    "\n",
    "2) Depending on your operating system and browser combination your emojis may not exactly match ours or the ones from 538. That's fine.\n",
    "\n",
    "3) When turning in your PDF, please use the File -> Print -> Save as PDF option ***from your browser***. Do ***not*** use the File->Download as->PDF option. Complete instructions for this are under Resources in the Coursera page for this class."
   ]
  },
  {
   "cell_type": "markdown",
   "metadata": {},
   "source": [
    "## Part 1. Data Types & Design (30 points)\n",
    "Read the article published in Five Thirty Eight [The Mayweather-McGregor Fight, As Told Through Emojis](https://fivethirtyeight.com/features/the-mayweather-mcgregor-fight-as-told-through-emojis/) and answer the following questions:\n"
   ]
  },
  {
   "cell_type": "markdown",
   "metadata": {},
   "source": [
    "### 1.1 List the different data types in the following visualizations and their encodings (10 points)\n",
    "For each chart, describe the variable name, type, and encoding (e.g., weight, quantitative, bar length)\n",
    "<img src=\"assets/chart_1.png\" alt=\"Drawing\" style=\"width: 250px;\"/>\n",
    "<img src=\"assets/chart_2.png\" alt=\"Drawing\" style=\"width: 250px;\"/>"
   ]
  },
  {
   "cell_type": "markdown",
   "metadata": {
    "deletable": false,
    "nbgrader": {
     "checksum": "39c3d4ea2dfb2e1df1128d67c77611bd",
     "grade": true,
     "grade_id": "cell-c5bf343a4cf7dab9",
     "locked": false,
     "points": 0,
     "schema_version": 1,
     "solution": true
    }
   },
   "source": [
    "For the first chart, the emojis used in the tweets during the Mayweather-McGregor fight are a nominal variable that is encoded by position (its location on the left portion of the chart). The emoji's use percentage relative to other emojis is a quantitative variable that is encoded by bar length as well as text itself, which allows for an effective display as length alone would have been difficult to interpret as many of the lengths look similar.\n",
    "\n",
    "The second chart has encoded time-series data on the x-axis. In this context, the time is an ordinal variable and will be used to track the usage of tweets at various portions of the night. The 4-minute rolling average of tweets containing various emojis was encoded on the y-axis and is a quantitative variable. The value itself is encoded by position within the (x,y) plane. While rolling average was encoded in the y position and time in the x position, emoji groups corresponding to Mayweather and McGregor are nominal variables that were encoded by color. With these encodings together, the viewer is able to track 4-minute rolling averages over time throughout the night for various emojis of interest."
   ]
  },
  {
   "cell_type": "markdown",
   "metadata": {},
   "source": [
    "### 1.2 Sketch a visualization with an alternative encoding for one of the charts above. Compare your solution to the original. (10 points)\n",
    "You can hand sketch or create the solution digitally. Please upload an image or screenshot. Your data doesn't need to match perfectly. Reflect on the differences in terms of perception/cognition and design principles as appropriate."
   ]
  },
  {
   "cell_type": "markdown",
   "metadata": {
    "deletable": false,
    "nbgrader": {
     "checksum": "8f5ef95650bb69a533009d9c2ffdd3eb",
     "grade": true,
     "grade_id": "cell-1d7c7601bad19be0",
     "locked": false,
     "points": 0,
     "schema_version": 1,
     "solution": true
    }
   },
   "source": [
    "![answer1.2](assets/assignment4_emoji.PNG)"
   ]
  },
  {
   "cell_type": "markdown",
   "metadata": {},
   "source": [
    "For simplicity in generating the alternative encoding, emoji 1 corresponds to the laughing emoji (index 1 above), emoji 2 corresponds to the boxing glove (index 2 above), etc. This is an alternative encoding that has the same level of expressiveness as the first chart above as it shows the relative usage of emojis when compared to the top 10 emojis. An \"other\" category was added in to complete the pie but the same information is therefore found in this figure as the chart above. However, the chart from the article is far more effective as the percentages give a clear breakout of each emoji's usage. Length is also much easier for a viewer to decipher, especially when compared to a pie chart where some slices are very similar to others, thus making the percentages difficult to discern. Additionally, this is a good example of Munzner's Rule of thumb that if a list is good enough, a 2D image is not justified. The list above with the emoji and percentages (even exlcuding the bar chart) is a very effective chart that would not need to be displayed to get its overall point across. "
   ]
  },
  {
   "cell_type": "markdown",
   "metadata": {},
   "source": [
    "### 1.3 Use one of the design principles reviewed in class (Tufte's data-ink ratio, graphical integrity, chart junk, etc. ) to critique the following visualization (10 points)\n",
    "Describe pros and cons of the visualization relative to these principles. If the image violates the principle, reflect on why this is might be ok or not.\n",
    "\n",
    "<img src=\"assets/boxing_vis2.jpg\" alt=\"Drawing\" style=\"width: 500px;\"/>\n",
    "<p style=\"text-align: center;\"> http://vizzingdata.blogspot.com/2017/01/muhammad-ali-career-dataviz.html</p>"
   ]
  },
  {
   "cell_type": "markdown",
   "metadata": {
    "deletable": false,
    "nbgrader": {
     "checksum": "7b9873cd9c5dea9442a6c0d899fac2d1",
     "grade": true,
     "grade_id": "cell-459664b33e6e8d59",
     "locked": false,
     "points": 0,
     "schema_version": 1,
     "solution": true
    }
   },
   "source": [
    "The above figure violates the principle of chart junk. Tufte, a minimalist in terms of preference around visualization and display, had a rule that \"thou shalt not use chart junk\". Chart junk refers to images or displays on a chart that are essentially irrelevant to the data itself and instead play a role in calling attention to the figure. However, there are pros and cons to this approach and I believe that overall the use of chart junk here is effective. As a con, on the far left is an extremely iconic picture of Muhammad Ali, which could serve to distract the reader and even result in a reader just viewing the picture and continuing to scroll look past the image without digesting/reflecting on it. These types of images and pictures outside of the chart serve to draw a reader's eyes away from the overall point of the display.\n",
    "\n",
    "However, as a pro, the reader is also drawn to the miniature picture of Ali as well as the green and red boxing gloves denoting his overall record. A benefit of chart junk displays is that while there is a lot more going on in the chart itself, the reading is still able to have very similar if not exactly comprehension of the figure relative to if the junk didn't exist at all. For example, it's clear that the circle itself is an ordinal variable tracking chronologically Ali's fights and that the names of all his opponents are along the wheel, with green denoting wins and red losses. The graphics in the middle of the circle, also are a great summary of the overall record and how the wins and losses were achieved. So, while there is chart junk, the data is displayed in a way that is easily digestible. Additionally, a pro of chart junk figures is how they lure the reader's eyes in and how memorable they are. I believe this chart is no exception and I feel as though it will be easy to walk away from viewing this figure and recalling that Ali had a 56-5 record and can perhaps even remember which boxers he lost to. So, while there is a lot of chart junk in this visual, I believe it benefits from this overall in terms of how memorable it makes it."
   ]
  },
  {
   "cell_type": "markdown",
   "metadata": {},
   "source": [
    "## Part 2. Altair programming exercise (70 points)\n",
    "We have provided you with some code and parts of the article [The Mayweather-McGregor Fight, As Told Through Emojis](https://fivethirtyeight.com/features/the-mayweather-mcgregor-fight-as-told-through-emojis/). This article is based on the dataset:\n",
    "\n",
    "1. [tweets](data/tweets.csv) Created by FiveThirtyEight with the Twitter Streaming API containing a sample of all the tweets that matched the search terms: #MayMac, #MayweatherMcGregor, #MayweatherVMcGregor, #MayweatherVsMcGregor, #McGregor and #Mayweather collected between 12:05 a.m. and 1:15 a.m. EDT, 12,118 that had emojis. Available [on github](https://github.com/fivethirtyeight/data/tree/master/mayweather-mcgregor)\n",
    "\n",
    "To earn points for this assignment, you must:\n",
    "\n",
    "- Recreate the visualizations in the article (replace the images in the article with a code cell that creates a visualization). There are four visualizations to make. For the 2nd, 3rd, and 4th, we provide some example code to get the data into the right structure. The points for each visualization are distributed: (30 points: 9 (1st problem) + 7 (each of 2nd, 3rd & 4th)).\n",
    "\n",
    "    - _Partial credit can be granted for each visualization (up to 5 points) if you provide the grammar of graphics description of the visualization without a fully implemented Altair solution_\n",
    "\n",
    "- Propose one alternative visualization for one of the 4 article visualizations. Add a short paragraph describing why your visualization is better in terms of Design / Variable types encoding. (20 points/ 15 points plot + 5 justification)\n",
    "\n",
    "\n",
    "- Propose a new visualization to complement a part of the article. Add a short paragraph justifying your decisions in terms of Design / Variable types encoding.  (20 points/ 15 points plot + 5 justification)\n",
    "\n",
    "### Before you begin\n",
    "*IMPORTANT BROWSER ISSUE*: For some non-ES6 Browsers there are problems with date/time conversions (see [this](https://altair-viz.github.io/user_guide/times_and_dates.html)). If things aren't working try something like Chrome for this assignment.\n",
    "\n",
    "*IMPORTANT DATA ISSUE*: There are some differences in the data that 538 used and what we have. This will cause some issues to how things are normalized. Things should look very similar, but you may find, for example, that the scale of tweets when you normalize is different than the original figure. This is fine.\n",
    "\n",
    "*IMPORTANT STYLING/ANNOTATION* NOTE: Part of this assignment is to get styling and annotation to be as close to 538 as possible. Altair and Vega-Lite aren't super helpful for annotation purposes. You will find that you need to do things like layering text and the arrows (hint: see [here](https://github.com/altair-viz/altair/issues/1721)). What I usually do in practice (when I need the visualization to look good and have annotation) is get things as close to how I want them to look, export the image as an SVG and then load it into [Figma](https://www.figma.com/), [InkScape](https://inkscape.org/), or [Adobe Illustrator](https://www.adobe.com/products/illustrator.html). You can see \"reasonably close approximations\" in the examples we provide. Those have been generated using nothing but Altair."
   ]
  },
  {
   "cell_type": "code",
   "execution_count": 1,
   "metadata": {},
   "outputs": [],
   "source": [
    "# start with the setup\n",
    "import pandas as pd\n",
    "import altair as alt\n",
    "import numpy as np"
   ]
  },
  {
   "cell_type": "code",
   "execution_count": 2,
   "metadata": {},
   "outputs": [
    {
     "data": {
      "text/plain": [
       "RendererRegistry.enable('default')"
      ]
     },
     "execution_count": 2,
     "metadata": {},
     "output_type": "execute_result"
    }
   ],
   "source": [
    "# enable correct rendering\n",
    "alt.renderers.enable('default')"
   ]
  },
  {
   "cell_type": "code",
   "execution_count": 3,
   "metadata": {},
   "outputs": [
    {
     "data": {
      "text/plain": [
       "DataTransformerRegistry.enable('json')"
      ]
     },
     "execution_count": 3,
     "metadata": {},
     "output_type": "execute_result"
    }
   ],
   "source": [
    "# uses intermediate json files to speed things up\n",
    "alt.data_transformers.enable('json')"
   ]
  },
  {
   "cell_type": "code",
   "execution_count": 4,
   "metadata": {},
   "outputs": [],
   "source": [
    "# we're going to do some setup here in anticipation of needing the data in \n",
    "# a specific format. We moved it all up here so everything is in one place.\n",
    "\n",
    "# load the tweets\n",
    "tweets = pd.read_csv('assets/tweets.csv')\n",
    "\n",
    "# we're going to process the data in a couple of ways\n",
    "# first, we want to know how many emojis are in each tweet so we'll create a new column\n",
    "# that counts them\n",
    "tweets['emojis'] = tweets['text'].str.findall(r'[^\\w\\s.,\"@\\'?/#!$%\\^&\\*;:{}=\\-_`~()\\U0001F1E6-\\U0001F1FF]').str.len()\n",
    "\n",
    "# next, there are a few specific emojis that we care about, we're going to create\n",
    "# a column for each one and indicate how many times it showed up in the tweet\n",
    "boxer_emojis = ['☘️','🇮🇪','🍀','💸','🤑','💰','💵','😴','😂','🤣','🥊','👊','👏','🇮🇪','💪','🔥','😭','💰']\n",
    "for emoji in boxer_emojis:\n",
    "    # here's a different way to get the counts\n",
    "    tweets[emoji] = tweets.text.str.count(emoji)\n",
    "    \n",
    "# For the irish pride vs the money team we want the numer \n",
    "# of either ☘️, 🇮🇪 or 🍀 and 💸, 🤑, 💰 or 💵 for each\n",
    "tweets['irish_pride'] = tweets['☘️'] + tweets['🇮🇪'] + tweets['🍀']\n",
    "tweets['money_team'] = tweets['💸'] + tweets['🤑'] + tweets['💰'] +  tweets['💵']"
   ]
  },
  {
   "cell_type": "code",
   "execution_count": 5,
   "metadata": {},
   "outputs": [
    {
     "data": {
      "text/html": [
       "<div>\n",
       "<style scoped>\n",
       "    .dataframe tbody tr th:only-of-type {\n",
       "        vertical-align: middle;\n",
       "    }\n",
       "\n",
       "    .dataframe tbody tr th {\n",
       "        vertical-align: top;\n",
       "    }\n",
       "\n",
       "    .dataframe thead th {\n",
       "        text-align: right;\n",
       "    }\n",
       "</style>\n",
       "<table border=\"1\" class=\"dataframe\">\n",
       "  <thead>\n",
       "    <tr style=\"text-align: right;\">\n",
       "      <th></th>\n",
       "      <th>created_at</th>\n",
       "      <th>emojis</th>\n",
       "      <th>id</th>\n",
       "      <th>link</th>\n",
       "      <th>retweeted</th>\n",
       "      <th>screen_name</th>\n",
       "      <th>text</th>\n",
       "      <th>☘️</th>\n",
       "      <th>🇮🇪</th>\n",
       "      <th>🍀</th>\n",
       "      <th>...</th>\n",
       "      <th>😂</th>\n",
       "      <th>🤣</th>\n",
       "      <th>🥊</th>\n",
       "      <th>👊</th>\n",
       "      <th>👏</th>\n",
       "      <th>💪</th>\n",
       "      <th>🔥</th>\n",
       "      <th>😭</th>\n",
       "      <th>irish_pride</th>\n",
       "      <th>money_team</th>\n",
       "    </tr>\n",
       "  </thead>\n",
       "  <tbody>\n",
       "    <tr>\n",
       "      <th>0</th>\n",
       "      <td>2017-08-27 00:05:34</td>\n",
       "      <td>1</td>\n",
       "      <td>901656910939770881</td>\n",
       "      <td>https://twitter.com/statuses/901656910939770881</td>\n",
       "      <td>False</td>\n",
       "      <td>aaLiysr</td>\n",
       "      <td>Ringe çıkmadan ateş etmeye başladı 😃#McGregor ...</td>\n",
       "      <td>0</td>\n",
       "      <td>0</td>\n",
       "      <td>0</td>\n",
       "      <td>...</td>\n",
       "      <td>0</td>\n",
       "      <td>0</td>\n",
       "      <td>0</td>\n",
       "      <td>0</td>\n",
       "      <td>0</td>\n",
       "      <td>0</td>\n",
       "      <td>0</td>\n",
       "      <td>0</td>\n",
       "      <td>0</td>\n",
       "      <td>0</td>\n",
       "    </tr>\n",
       "    <tr>\n",
       "      <th>1</th>\n",
       "      <td>2017-08-27 00:05:35</td>\n",
       "      <td>5</td>\n",
       "      <td>901656917281574912</td>\n",
       "      <td>https://twitter.com/statuses/901656917281574912</td>\n",
       "      <td>False</td>\n",
       "      <td>zulmafrancozaf</td>\n",
       "      <td>😲😲😲😲😲 @lalylourbet2 https://t.co/ERUGHhQINE</td>\n",
       "      <td>0</td>\n",
       "      <td>0</td>\n",
       "      <td>0</td>\n",
       "      <td>...</td>\n",
       "      <td>0</td>\n",
       "      <td>0</td>\n",
       "      <td>0</td>\n",
       "      <td>0</td>\n",
       "      <td>0</td>\n",
       "      <td>0</td>\n",
       "      <td>0</td>\n",
       "      <td>0</td>\n",
       "      <td>0</td>\n",
       "      <td>0</td>\n",
       "    </tr>\n",
       "    <tr>\n",
       "      <th>2</th>\n",
       "      <td>2017-08-27 00:05:35</td>\n",
       "      <td>2</td>\n",
       "      <td>901656917105369088</td>\n",
       "      <td>https://twitter.com/statuses/901656917105369088</td>\n",
       "      <td>False</td>\n",
       "      <td>Adriana11D</td>\n",
       "      <td>🇮🇪🇮🇪🇮🇪 💪💪#MayweathervMcgregor</td>\n",
       "      <td>0</td>\n",
       "      <td>3</td>\n",
       "      <td>0</td>\n",
       "      <td>...</td>\n",
       "      <td>0</td>\n",
       "      <td>0</td>\n",
       "      <td>0</td>\n",
       "      <td>0</td>\n",
       "      <td>0</td>\n",
       "      <td>2</td>\n",
       "      <td>0</td>\n",
       "      <td>0</td>\n",
       "      <td>3</td>\n",
       "      <td>0</td>\n",
       "    </tr>\n",
       "    <tr>\n",
       "      <th>3</th>\n",
       "      <td>2017-08-27 00:05:35</td>\n",
       "      <td>2</td>\n",
       "      <td>901656917747142657</td>\n",
       "      <td>https://twitter.com/statuses/901656917747142657</td>\n",
       "      <td>False</td>\n",
       "      <td>Nathan_Caro_</td>\n",
       "      <td>Cest partit #MayweatherMcGregor 💪🏿</td>\n",
       "      <td>0</td>\n",
       "      <td>0</td>\n",
       "      <td>0</td>\n",
       "      <td>...</td>\n",
       "      <td>0</td>\n",
       "      <td>0</td>\n",
       "      <td>0</td>\n",
       "      <td>0</td>\n",
       "      <td>0</td>\n",
       "      <td>1</td>\n",
       "      <td>0</td>\n",
       "      <td>0</td>\n",
       "      <td>0</td>\n",
       "      <td>0</td>\n",
       "    </tr>\n",
       "    <tr>\n",
       "      <th>4</th>\n",
       "      <td>2017-08-27 00:05:35</td>\n",
       "      <td>2</td>\n",
       "      <td>901656916828594177</td>\n",
       "      <td>https://twitter.com/statuses/901656916828594177</td>\n",
       "      <td>False</td>\n",
       "      <td>sahouraxox</td>\n",
       "      <td>Low key feeling bad for ppl who payed to watch...</td>\n",
       "      <td>0</td>\n",
       "      <td>0</td>\n",
       "      <td>0</td>\n",
       "      <td>...</td>\n",
       "      <td>0</td>\n",
       "      <td>2</td>\n",
       "      <td>0</td>\n",
       "      <td>0</td>\n",
       "      <td>0</td>\n",
       "      <td>0</td>\n",
       "      <td>0</td>\n",
       "      <td>0</td>\n",
       "      <td>0</td>\n",
       "      <td>0</td>\n",
       "    </tr>\n",
       "  </tbody>\n",
       "</table>\n",
       "<p>5 rows × 25 columns</p>\n",
       "</div>"
      ],
      "text/plain": [
       "            created_at  emojis                  id  \\\n",
       "0  2017-08-27 00:05:34       1  901656910939770881   \n",
       "1  2017-08-27 00:05:35       5  901656917281574912   \n",
       "2  2017-08-27 00:05:35       2  901656917105369088   \n",
       "3  2017-08-27 00:05:35       2  901656917747142657   \n",
       "4  2017-08-27 00:05:35       2  901656916828594177   \n",
       "\n",
       "                                              link  retweeted     screen_name  \\\n",
       "0  https://twitter.com/statuses/901656910939770881      False         aaLiysr   \n",
       "1  https://twitter.com/statuses/901656917281574912      False  zulmafrancozaf   \n",
       "2  https://twitter.com/statuses/901656917105369088      False      Adriana11D   \n",
       "3  https://twitter.com/statuses/901656917747142657      False    Nathan_Caro_   \n",
       "4  https://twitter.com/statuses/901656916828594177      False      sahouraxox   \n",
       "\n",
       "                                                text  ☘️  🇮🇪  🍀  ...  😂  🤣  🥊  \\\n",
       "0  Ringe çıkmadan ateş etmeye başladı 😃#McGregor ...   0   0  0  ...  0  0  0   \n",
       "1        😲😲😲😲😲 @lalylourbet2 https://t.co/ERUGHhQINE   0   0  0  ...  0  0  0   \n",
       "2                      🇮🇪🇮🇪🇮🇪 💪💪#MayweathervMcgregor   0   3  0  ...  0  0  0   \n",
       "3                 Cest partit #MayweatherMcGregor 💪🏿   0   0  0  ...  0  0  0   \n",
       "4  Low key feeling bad for ppl who payed to watch...   0   0  0  ...  0  2  0   \n",
       "\n",
       "   👊  👏  💪  🔥  😭  irish_pride  money_team  \n",
       "0  0  0  0  0  0            0           0  \n",
       "1  0  0  0  0  0            0           0  \n",
       "2  0  0  2  0  0            3           0  \n",
       "3  0  0  1  0  0            0           0  \n",
       "4  0  0  0  0  0            0           0  \n",
       "\n",
       "[5 rows x 25 columns]"
      ]
     },
     "execution_count": 5,
     "metadata": {},
     "output_type": "execute_result"
    }
   ],
   "source": [
    "# uncomment to see what's inside\n",
    "tweets.head()"
   ]
  },
  {
   "cell_type": "markdown",
   "metadata": {},
   "source": [
    "# The Mayweather-McGregor Fight, As Told Through Emojis"
   ]
  },
  {
   "cell_type": "markdown",
   "metadata": {},
   "source": [
    " ### <font color=grey>We laughed, cried and cried some more. </font>"
   ]
  },
  {
   "cell_type": "markdown",
   "metadata": {},
   "source": [
    "_Original article available at [FiveThirtyEight](https://fivethirtyeight.com/features/the-mayweather-mcgregor-fight-as-told-through-emojis/)_\n",
    "\n",
    "By [Dhrumil Mehta](https://fivethirtyeight.com/contributors/dhrumil-mehta/), [Oliver Roeder](https://fivethirtyeight.com/contributors/oliver-roeder/) and [Rachael Dottle](https://fivethirtyeight.com/contributors/rachael-dottle/)\n",
    "\n",
    "Filed under [Mayweather vs. McGregor](https://fivethirtyeight.com/tag/mayweather-vs-mcgregor/)\n",
    "\n",
    "Get the data on [GitHub](https://github.com/fivethirtyeight/data/tree/master/mayweather-mcgregor)"
   ]
  },
  {
   "cell_type": "markdown",
   "metadata": {},
   "source": [
    "For the nearly 15,000 people in Las Vegas’s T-Mobile Arena on Saturday night, and the millions more huddled around TVs across the world, the Floyd Mayweather–Conor McGregor fight was a roller coaster of emotions. They were anxious as pay-per-view [technical problems](http://www.espn.com/boxing/story/_/id/20469815/floyd-mayweather-conor-mcgregor-delay-ppv-problems) pushed back the fight’s start. They were full of anticipation when the combatants finally emerged after months of hype. They were surprised when McGregor held his own, or seemed to hold his own, for a couple of rounds. They were thrilled when Mayweather finally started fighting. And they were exhausted by the end.\n",
    "\n",
    "How do we know all this? Emojis."
   ]
  },
  {
   "cell_type": "markdown",
   "metadata": {},
   "source": [
    "We were monitoring Twitter on fight night, pulling tweets that contained fight-related hashtags — those that included #MayweatherVsMcgregor, for example. In the end, we collected about 200,000 fight-related tweets, of which more than 12,000 contained emojis. (To be clear, that’s a small enough sample that this emojinalysis might not make it through peer review.)<sup>1<sup>"
   ]
  },
  {
   "cell_type": "markdown",
   "metadata": {},
   "source": [
    "> <font color=grey> 1. We used the [Twitter Streaming API](https://dev.twitter.com/streaming/overview) which provides a sample of all the tweets that matched our search terms: #MayMac, #MayweatherMcGregor, #MayweatherVMcGregor, #MayweatherVsMcGregor, #McGregor and #Mayweather. Of the 197,989 tweets we collected between 12:05 a.m. and 1:15 a.m. EDT, 12,118 had emojis.</font>"
   ]
  },
  {
   "cell_type": "markdown",
   "metadata": {},
   "source": [
    "<img src=\"assets/chart_1.png\" alt=\"Drawing\" style=\"width: 250px;\"/>\n",
    "\n",
    "** Homework note, construct your solution to this chart in the cell below. Click [here](assets/altair_chart1.png) to see a sample output from Altair."
   ]
  },
  {
   "cell_type": "code",
   "execution_count": 6,
   "metadata": {},
   "outputs": [],
   "source": [
    "# We'll help you out with a table that has the percentages for each emoji\n",
    "\n",
    "# dictionary that will map emoji to percentage\n",
    "percentages = {}  \n",
    "\n",
    "# find total emojies\n",
    "total = tweets['emojis'].sum() \n",
    "\n",
    "# for each emoji, figure out how prevalent it is\n",
    "emojis = ['😂','🤣','🥊','👊','👏','🇮🇪','💪','🔥','😭','💰']\n",
    "for emoji in emojis:  \n",
    "    percentages[emoji] = [round(tweets[emoji].sum() / total * 100,1)]\n",
    "    \n",
    "# create a data frame to hold this from the dictionary\n",
    "percentages_df = pd.DataFrame.from_dict(percentages).T\n",
    "\n",
    "# sort the dictionary \n",
    "percentages_df = percentages_df.sort_values(by=[0], ascending = False).reset_index()\n",
    "\n",
    "# rename the columns\n",
    "percentages_df = percentages_df.rename(columns={'index':'EMOJI', 0: 'PERCENT'})\n",
    "\n",
    "# create a rank column based on position in the ordered list\n",
    "percentages_df['rank'] = pd.Index(list(range(1,11)))\n",
    "\n",
    "# modify the text\n",
    "percentages_df['PERCENT_TEXT'] = percentages_df['PERCENT'].astype('str') + ' %'"
   ]
  },
  {
   "cell_type": "code",
   "execution_count": 7,
   "metadata": {},
   "outputs": [
    {
     "data": {
      "text/html": [
       "<div>\n",
       "<style scoped>\n",
       "    .dataframe tbody tr th:only-of-type {\n",
       "        vertical-align: middle;\n",
       "    }\n",
       "\n",
       "    .dataframe tbody tr th {\n",
       "        vertical-align: top;\n",
       "    }\n",
       "\n",
       "    .dataframe thead th {\n",
       "        text-align: right;\n",
       "    }\n",
       "</style>\n",
       "<table border=\"1\" class=\"dataframe\">\n",
       "  <thead>\n",
       "    <tr style=\"text-align: right;\">\n",
       "      <th></th>\n",
       "      <th>EMOJI</th>\n",
       "      <th>PERCENT</th>\n",
       "      <th>rank</th>\n",
       "      <th>PERCENT_TEXT</th>\n",
       "    </tr>\n",
       "  </thead>\n",
       "  <tbody>\n",
       "    <tr>\n",
       "      <th>0</th>\n",
       "      <td>😂</td>\n",
       "      <td>23.1</td>\n",
       "      <td>1</td>\n",
       "      <td>23.1 %</td>\n",
       "    </tr>\n",
       "    <tr>\n",
       "      <th>1</th>\n",
       "      <td>🥊</td>\n",
       "      <td>5.7</td>\n",
       "      <td>2</td>\n",
       "      <td>5.7 %</td>\n",
       "    </tr>\n",
       "    <tr>\n",
       "      <th>2</th>\n",
       "      <td>👊</td>\n",
       "      <td>3.5</td>\n",
       "      <td>3</td>\n",
       "      <td>3.5 %</td>\n",
       "    </tr>\n",
       "    <tr>\n",
       "      <th>3</th>\n",
       "      <td>👏</td>\n",
       "      <td>3.0</td>\n",
       "      <td>4</td>\n",
       "      <td>3.0 %</td>\n",
       "    </tr>\n",
       "    <tr>\n",
       "      <th>4</th>\n",
       "      <td>💪</td>\n",
       "      <td>2.5</td>\n",
       "      <td>5</td>\n",
       "      <td>2.5 %</td>\n",
       "    </tr>\n",
       "    <tr>\n",
       "      <th>5</th>\n",
       "      <td>🇮🇪</td>\n",
       "      <td>2.4</td>\n",
       "      <td>6</td>\n",
       "      <td>2.4 %</td>\n",
       "    </tr>\n",
       "    <tr>\n",
       "      <th>6</th>\n",
       "      <td>🤣</td>\n",
       "      <td>2.3</td>\n",
       "      <td>7</td>\n",
       "      <td>2.3 %</td>\n",
       "    </tr>\n",
       "    <tr>\n",
       "      <th>7</th>\n",
       "      <td>🔥</td>\n",
       "      <td>2.3</td>\n",
       "      <td>8</td>\n",
       "      <td>2.3 %</td>\n",
       "    </tr>\n",
       "    <tr>\n",
       "      <th>8</th>\n",
       "      <td>😭</td>\n",
       "      <td>2.0</td>\n",
       "      <td>9</td>\n",
       "      <td>2.0 %</td>\n",
       "    </tr>\n",
       "    <tr>\n",
       "      <th>9</th>\n",
       "      <td>💰</td>\n",
       "      <td>1.8</td>\n",
       "      <td>10</td>\n",
       "      <td>1.8 %</td>\n",
       "    </tr>\n",
       "  </tbody>\n",
       "</table>\n",
       "</div>"
      ],
      "text/plain": [
       "  EMOJI  PERCENT  rank PERCENT_TEXT\n",
       "0     😂     23.1     1       23.1 %\n",
       "1     🥊      5.7     2        5.7 %\n",
       "2     👊      3.5     3        3.5 %\n",
       "3     👏      3.0     4        3.0 %\n",
       "4     💪      2.5     5        2.5 %\n",
       "5    🇮🇪      2.4     6        2.4 %\n",
       "6     🤣      2.3     7        2.3 %\n",
       "7     🔥      2.3     8        2.3 %\n",
       "8     😭      2.0     9        2.0 %\n",
       "9     💰      1.8    10        1.8 %"
      ]
     },
     "execution_count": 7,
     "metadata": {},
     "output_type": "execute_result"
    }
   ],
   "source": [
    "# uncomment to see what's inside\n",
    "percentages_df"
   ]
  },
  {
   "cell_type": "markdown",
   "metadata": {},
   "source": [
    "** Homework note, construct your solution to this chart in the cell below. Click [here](assets/emoji_distrib_altair.png) to see a sample output from Altair."
   ]
  },
  {
   "cell_type": "markdown",
   "metadata": {},
   "source": [
    "## 2.1 use percentages_df to recreate the visualization above"
   ]
  },
  {
   "cell_type": "code",
   "execution_count": 8,
   "metadata": {
    "deletable": false,
    "nbgrader": {
     "checksum": "daa3fefe200b07e34f61cce1f084dc4f",
     "grade": true,
     "grade_id": "cell-e53580df5d25afef",
     "locked": false,
     "points": 0,
     "schema_version": 1,
     "solution": true
    }
   },
   "outputs": [
    {
     "data": {
      "text/html": [
       "\n",
       "<div id=\"altair-viz-b7b66c6ad38d4defb085d3e292822ab5\"></div>\n",
       "<script type=\"text/javascript\">\n",
       "  (function(spec, embedOpt){\n",
       "    const outputDiv = document.getElementById(\"altair-viz-b7b66c6ad38d4defb085d3e292822ab5\");\n",
       "    const paths = {\n",
       "      \"vega\": \"https://cdn.jsdelivr.net/npm//vega@5?noext\",\n",
       "      \"vega-lib\": \"https://cdn.jsdelivr.net/npm//vega-lib?noext\",\n",
       "      \"vega-lite\": \"https://cdn.jsdelivr.net/npm//vega-lite@4.0.2?noext\",\n",
       "      \"vega-embed\": \"https://cdn.jsdelivr.net/npm//vega-embed@6?noext\",\n",
       "    };\n",
       "\n",
       "    function loadScript(lib) {\n",
       "      return new Promise(function(resolve, reject) {\n",
       "        var s = document.createElement('script');\n",
       "        s.src = paths[lib];\n",
       "        s.async = true;\n",
       "        s.onload = () => resolve(paths[lib]);\n",
       "        s.onerror = () => reject(`Error loading script: ${paths[lib]}`);\n",
       "        document.getElementsByTagName(\"head\")[0].appendChild(s);\n",
       "      });\n",
       "    }\n",
       "\n",
       "    function showError(err) {\n",
       "      outputDiv.innerHTML = `<div class=\"error\" style=\"color:red;\">${err}</div>`;\n",
       "      throw err;\n",
       "    }\n",
       "\n",
       "    function displayChart(vegaEmbed) {\n",
       "      vegaEmbed(outputDiv, spec, embedOpt)\n",
       "        .catch(err => showError(`Javascript Error: ${err.message}<br>This usually means there's a typo in your chart specification. See the javascript console for the full traceback.`));\n",
       "    }\n",
       "\n",
       "    if(typeof define === \"function\" && define.amd) {\n",
       "      requirejs.config({paths});\n",
       "      require([\"vega-embed\"], displayChart, err => showError(`Error loading script: ${err.message}`));\n",
       "    } else if (typeof vegaEmbed === \"function\") {\n",
       "      displayChart(vegaEmbed);\n",
       "    } else {\n",
       "      loadScript(\"vega\")\n",
       "        .then(() => loadScript(\"vega-lite\"))\n",
       "        .then(() => loadScript(\"vega-embed\"))\n",
       "        .catch(showError)\n",
       "        .then(() => displayChart(vegaEmbed));\n",
       "    }\n",
       "  })({\"usermeta\": {\"embedOptions\": {\"theme\": \"fivethirtyeight\"}}, \"config\": {\"view\": {\"continuousWidth\": 400, \"continuousHeight\": 300, \"strokeOpacity\": 0}}, \"data\": {\"url\": \"altair-data-570ba17b1d2ad0b59ec504dec656a72e.json\", \"format\": {\"type\": \"json\"}}, \"mark\": \"bar\", \"encoding\": {\"color\": {\"value\": \"orange\"}, \"x\": {\"type\": \"quantitative\", \"axis\": null, \"field\": \"PERCENT\"}, \"y\": {\"type\": \"nominal\", \"axis\": {\"domainOpacity\": 0, \"ticks\": false}, \"field\": \"concat\", \"sort\": [\"\\ud83d\\ude02\", \"\\ud83e\\udd4a\", \"\\ud83d\\udc4a\", \"\\ud83d\\udc4f\", \"\\ud83d\\udcaa\", \"\\ud83c\\uddee\\ud83c\\uddea\", \"\\ud83e\\udd23\", \"\\ud83d\\udd25\", \"\\ud83d\\ude2d\", \"\\ud83d\\udcb0\"], \"title\": null}}, \"$schema\": \"https://vega.github.io/schema/vega-lite/v4.0.2.json\"}, {\"mode\": \"vega-lite\"});\n",
       "</script>"
      ],
      "text/plain": [
       "alt.Chart(...)"
      ]
     },
     "execution_count": 8,
     "metadata": {},
     "output_type": "execute_result"
    }
   ],
   "source": [
    "# use percentages_df to recreate the visualization above\n",
    "alt.themes.enable('fivethirtyeight')\n",
    "\n",
    "sorted_emoji = list(percentages_df.sort_values(by = 'PERCENT', ascending = False)['EMOJI'])\n",
    "percentages_df['concat'] = percentages_df['EMOJI'] + '      ' + percentages_df['PERCENT_TEXT']\n",
    "\n",
    "\n",
    "vis_21 = alt.Chart(percentages_df).mark_bar().encode(\n",
    "    y=alt.Y('concat:N', axis=alt.Axis(domainOpacity=0, ticks=False), sort = sorted_emoji, title = None),\n",
    "    x = alt.X('PERCENT:Q', axis = None),\n",
    "    color = alt.value('orange'),\n",
    ")\n",
    "\n",
    "vis_21.configure_view(\n",
    "    strokeOpacity=0\n",
    ")\n",
    "\n",
    "\n",
    "#raise NotImplementedError()\n"
   ]
  },
  {
   "cell_type": "markdown",
   "metadata": {},
   "source": [
    "There were the likely frontrunners for most-used emoji: the 🥊, the 👊, the 💪. But the emoji of the fight was far and away the 😂. (“Face with tears of joy.”)<sup>2<sup>"
   ]
  },
  {
   "cell_type": "markdown",
   "metadata": {},
   "source": [
    "> <font color=grey> 1.2. That’s certainly appropriate for this spectacle, but it should be noted that 😂 is also the [most tweeted](http://emojitracker.com/) emoji generally.</font>"
   ]
  },
  {
   "cell_type": "markdown",
   "metadata": {},
   "source": [
    "Here’s how the night unfolded, emoji-wise. (All of the charts below show them on a four-minute rolling average.)\n",
    "<img src=\"assets/tweet1.png\" alt=\"Drawing\" style=\"width: 500px;\"/>"
   ]
  },
  {
   "cell_type": "markdown",
   "metadata": {},
   "source": [
    "For one thing, the fight was a sharply partisan affair. The majority of people in the arena appeared to be McGregor fans — he hails from Dublin and an Irish flag, worn cape-style, almost seemed like the evening’s dress code. But other fans were members of TMT — The Money Team — and loyal to “Money” Mayweather. Twitter’s loyalties came and went as the match progressed, with enthusiasm from either camp seemingly matching each fighter’s success."
   ]
  },
  {
   "cell_type": "markdown",
   "metadata": {},
   "source": [
    "<img src=\"assets/chart_2.png\" alt=\"Drawing\" style=\"width: 500px;\"/>"
   ]
  },
  {
   "cell_type": "code",
   "execution_count": 9,
   "metadata": {},
   "outputs": [],
   "source": [
    "# Again, we're going to help you set up the data\n",
    "\n",
    "# We're going to want to work with time objects so we need to make a datetime\n",
    "# column (basically transforming the text in \"created at\"). It duplicates\n",
    "# the data but it will make things easier\n",
    "\n",
    "\n",
    "tweets['datetime'] = pd.to_datetime(tweets['created_at'])\n",
    "tweets = tweets.set_index('datetime')\n",
    "\n",
    "\n",
    "teams = tweets.copy()\n",
    "teams['irish_pride']\n",
    "teams = teams.resample('1s').sum()\n",
    "teams  = teams[(teams['💸']>0) | (teams['🤑']>0) | (teams['💰']>0) | (teams['💵']>0) | (teams['☘️']>0) | (teams['🍀']>0) | (teams['🇮🇪']>0) ]\n",
    "\n",
    "# next we're going to creat a rolling average\n",
    "# first for the money team\n",
    "mdf = teams['money_team'].rolling('4Min').mean().reset_index()\n",
    "mdf['team'] = '💸🤑💰💵'\n",
    "mdf = mdf.rename(columns={'money_team':'tweet_count'})\n",
    "\n",
    "# next for the irish team\n",
    "idf = teams['irish_pride'].rolling('4Min').mean().reset_index()\n",
    "idf['team'] = '☘️🍀🇮🇪'\n",
    "idf = idf.rename(columns={'irish_pride':'tweet_count'})\n",
    "\n",
    "# now we'll combine our datasets\n",
    "ndf = pd.concat([mdf,idf])"
   ]
  },
  {
   "cell_type": "code",
   "execution_count": 10,
   "metadata": {},
   "outputs": [
    {
     "data": {
      "text/html": [
       "<div>\n",
       "<style scoped>\n",
       "    .dataframe tbody tr th:only-of-type {\n",
       "        vertical-align: middle;\n",
       "    }\n",
       "\n",
       "    .dataframe tbody tr th {\n",
       "        vertical-align: top;\n",
       "    }\n",
       "\n",
       "    .dataframe thead th {\n",
       "        text-align: right;\n",
       "    }\n",
       "</style>\n",
       "<table border=\"1\" class=\"dataframe\">\n",
       "  <thead>\n",
       "    <tr style=\"text-align: right;\">\n",
       "      <th></th>\n",
       "      <th>datetime</th>\n",
       "      <th>tweet_count</th>\n",
       "      <th>team</th>\n",
       "    </tr>\n",
       "  </thead>\n",
       "  <tbody>\n",
       "    <tr>\n",
       "      <th>32</th>\n",
       "      <td>2017-08-27 00:06:38</td>\n",
       "      <td>0.636364</td>\n",
       "      <td>💸🤑💰💵</td>\n",
       "    </tr>\n",
       "    <tr>\n",
       "      <th>133</th>\n",
       "      <td>2017-08-27 00:11:57</td>\n",
       "      <td>1.812500</td>\n",
       "      <td>☘️🍀🇮🇪</td>\n",
       "    </tr>\n",
       "    <tr>\n",
       "      <th>363</th>\n",
       "      <td>2017-08-27 00:34:09</td>\n",
       "      <td>0.840000</td>\n",
       "      <td>💸🤑💰💵</td>\n",
       "    </tr>\n",
       "    <tr>\n",
       "      <th>758</th>\n",
       "      <td>2017-08-27 01:10:02</td>\n",
       "      <td>3.340426</td>\n",
       "      <td>💸🤑💰💵</td>\n",
       "    </tr>\n",
       "    <tr>\n",
       "      <th>723</th>\n",
       "      <td>2017-08-27 01:07:21</td>\n",
       "      <td>1.352941</td>\n",
       "      <td>💸🤑💰💵</td>\n",
       "    </tr>\n",
       "  </tbody>\n",
       "</table>\n",
       "</div>"
      ],
      "text/plain": [
       "               datetime  tweet_count   team\n",
       "32  2017-08-27 00:06:38     0.636364   💸🤑💰💵\n",
       "133 2017-08-27 00:11:57     1.812500  ☘️🍀🇮🇪\n",
       "363 2017-08-27 00:34:09     0.840000   💸🤑💰💵\n",
       "758 2017-08-27 01:10:02     3.340426   💸🤑💰💵\n",
       "723 2017-08-27 01:07:21     1.352941   💸🤑💰💵"
      ]
     },
     "execution_count": 10,
     "metadata": {},
     "output_type": "execute_result"
    }
   ],
   "source": [
    "# uncomment to see what's inside\n",
    "ndf.sample(5)"
   ]
  },
  {
   "cell_type": "code",
   "execution_count": 11,
   "metadata": {},
   "outputs": [],
   "source": [
    "# we're also going to create an annotations data frame to help you\n",
    "annotations = [['2017-08-27 00:15:00',4, 'Fight begins'],\n",
    "               ['2017-08-27 00:22:00',5, 'McGregor does OK \\nin the early rounds'],\n",
    "               ['2017-08-27 00:53:00',4, 'Mayweather takes \\nover and wins by \\nTKO']]\n",
    "a_df = pd.DataFrame(annotations, columns=['date','count','note'])"
   ]
  },
  {
   "cell_type": "code",
   "execution_count": 12,
   "metadata": {},
   "outputs": [
    {
     "data": {
      "text/html": [
       "<div>\n",
       "<style scoped>\n",
       "    .dataframe tbody tr th:only-of-type {\n",
       "        vertical-align: middle;\n",
       "    }\n",
       "\n",
       "    .dataframe tbody tr th {\n",
       "        vertical-align: top;\n",
       "    }\n",
       "\n",
       "    .dataframe thead th {\n",
       "        text-align: right;\n",
       "    }\n",
       "</style>\n",
       "<table border=\"1\" class=\"dataframe\">\n",
       "  <thead>\n",
       "    <tr style=\"text-align: right;\">\n",
       "      <th></th>\n",
       "      <th>date</th>\n",
       "      <th>count</th>\n",
       "      <th>note</th>\n",
       "    </tr>\n",
       "  </thead>\n",
       "  <tbody>\n",
       "    <tr>\n",
       "      <th>0</th>\n",
       "      <td>2017-08-27 00:15:00</td>\n",
       "      <td>4</td>\n",
       "      <td>Fight begins</td>\n",
       "    </tr>\n",
       "    <tr>\n",
       "      <th>1</th>\n",
       "      <td>2017-08-27 00:22:00</td>\n",
       "      <td>5</td>\n",
       "      <td>McGregor does OK \\nin the early rounds</td>\n",
       "    </tr>\n",
       "    <tr>\n",
       "      <th>2</th>\n",
       "      <td>2017-08-27 00:53:00</td>\n",
       "      <td>4</td>\n",
       "      <td>Mayweather takes \\nover and wins by \\nTKO</td>\n",
       "    </tr>\n",
       "  </tbody>\n",
       "</table>\n",
       "</div>"
      ],
      "text/plain": [
       "                  date  count                                       note\n",
       "0  2017-08-27 00:15:00      4                               Fight begins\n",
       "1  2017-08-27 00:22:00      5     McGregor does OK \\nin the early rounds\n",
       "2  2017-08-27 00:53:00      4  Mayweather takes \\nover and wins by \\nTKO"
      ]
     },
     "execution_count": 12,
     "metadata": {},
     "output_type": "execute_result"
    }
   ],
   "source": [
    "# uncomment to see what's inside\n",
    "a_df"
   ]
  },
  {
   "cell_type": "markdown",
   "metadata": {},
   "source": [
    "** Homework note, construct your solution to this chart in the cell below. Click [here](assets/altair_chart2.png) to see a sample output from Altair."
   ]
  },
  {
   "cell_type": "markdown",
   "metadata": {},
   "source": [
    "## 2.2 your turn, create your solution "
   ]
  },
  {
   "cell_type": "code",
   "execution_count": 13,
   "metadata": {
    "deletable": false,
    "nbgrader": {
     "checksum": "b08000a8a7a758a2d59677fc388f1fb0",
     "grade": true,
     "grade_id": "cell-94ed8837ccad14c0",
     "locked": false,
     "points": 0,
     "schema_version": 1,
     "solution": true
    }
   },
   "outputs": [
    {
     "data": {
      "text/html": [
       "\n",
       "<div id=\"altair-viz-e3108c880f3c476aabe6248d59c52949\"></div>\n",
       "<script type=\"text/javascript\">\n",
       "  (function(spec, embedOpt){\n",
       "    const outputDiv = document.getElementById(\"altair-viz-e3108c880f3c476aabe6248d59c52949\");\n",
       "    const paths = {\n",
       "      \"vega\": \"https://cdn.jsdelivr.net/npm//vega@5?noext\",\n",
       "      \"vega-lib\": \"https://cdn.jsdelivr.net/npm//vega-lib?noext\",\n",
       "      \"vega-lite\": \"https://cdn.jsdelivr.net/npm//vega-lite@4.0.2?noext\",\n",
       "      \"vega-embed\": \"https://cdn.jsdelivr.net/npm//vega-embed@6?noext\",\n",
       "    };\n",
       "\n",
       "    function loadScript(lib) {\n",
       "      return new Promise(function(resolve, reject) {\n",
       "        var s = document.createElement('script');\n",
       "        s.src = paths[lib];\n",
       "        s.async = true;\n",
       "        s.onload = () => resolve(paths[lib]);\n",
       "        s.onerror = () => reject(`Error loading script: ${paths[lib]}`);\n",
       "        document.getElementsByTagName(\"head\")[0].appendChild(s);\n",
       "      });\n",
       "    }\n",
       "\n",
       "    function showError(err) {\n",
       "      outputDiv.innerHTML = `<div class=\"error\" style=\"color:red;\">${err}</div>`;\n",
       "      throw err;\n",
       "    }\n",
       "\n",
       "    function displayChart(vegaEmbed) {\n",
       "      vegaEmbed(outputDiv, spec, embedOpt)\n",
       "        .catch(err => showError(`Javascript Error: ${err.message}<br>This usually means there's a typo in your chart specification. See the javascript console for the full traceback.`));\n",
       "    }\n",
       "\n",
       "    if(typeof define === \"function\" && define.amd) {\n",
       "      requirejs.config({paths});\n",
       "      require([\"vega-embed\"], displayChart, err => showError(`Error loading script: ${err.message}`));\n",
       "    } else if (typeof vegaEmbed === \"function\") {\n",
       "      displayChart(vegaEmbed);\n",
       "    } else {\n",
       "      loadScript(\"vega\")\n",
       "        .then(() => loadScript(\"vega-lite\"))\n",
       "        .then(() => loadScript(\"vega-embed\"))\n",
       "        .catch(showError)\n",
       "        .then(() => displayChart(vegaEmbed));\n",
       "    }\n",
       "  })({\"usermeta\": {\"embedOptions\": {\"theme\": \"fivethirtyeight\"}}, \"config\": {\"view\": {\"continuousWidth\": 400, \"continuousHeight\": 300}}, \"layer\": [{\"data\": {\"url\": \"altair-data-2a2f55197d4d02c4ca7b2e64a648b721.json\", \"format\": {\"type\": \"json\"}}, \"mark\": \"line\", \"encoding\": {\"color\": {\"type\": \"nominal\", \"field\": \"team\", \"legend\": {\"orient\": \"top\", \"symbolType\": \"stroke\"}, \"scale\": {\"range\": [\"green\", \"#FFD700\"]}, \"title\": null}, \"x\": {\"type\": \"temporal\", \"axis\": {\"format\": \"%I:%M\", \"tickCount\": 4}, \"field\": \"datetime\"}, \"y\": {\"type\": \"quantitative\", \"field\": \"tweet_count\", \"title\": \"Four-minute rolling average\"}}, \"title\": {\"text\": [\"Irish pride vs. The Money Team\"], \"subtitle\": [\"Four-minute rolling average of the number of uses of selected emoji in\", \"sampled tweets during the Mayweather-McGregor fight\"]}}, {\"data\": {\"url\": \"altair-data-fca19b628a0d41633c43b4b7b3cef3f8.json\", \"format\": {\"type\": \"json\"}}, \"mark\": {\"type\": \"text\", \"lineBreak\": \"\\n\"}, \"encoding\": {\"text\": {\"type\": \"nominal\", \"field\": \"note\"}, \"x\": {\"type\": \"temporal\", \"axis\": {\"format\": \"%I:%M\", \"tickCount\": 4, \"title\": null}, \"field\": \"date\"}, \"y\": {\"type\": \"quantitative\", \"field\": \"count\"}}}, {\"data\": {\"url\": \"altair-data-4a48f8794c7ead3e0cf68381db5dbba8.json\", \"format\": {\"type\": \"json\"}}, \"mark\": \"line\", \"encoding\": {\"color\": {\"value\": \"black\"}, \"detail\": {\"type\": \"nominal\", \"field\": \"group\"}, \"x\": {\"type\": \"temporal\", \"axis\": {\"format\": \"%I:%M\", \"tickCount\": 4, \"title\": null}, \"field\": \"x\"}, \"y\": {\"type\": \"quantitative\", \"field\": \"y\"}}}], \"$schema\": \"https://vega.github.io/schema/vega-lite/v4.0.2.json\"}, {\"mode\": \"vega-lite\"});\n",
       "</script>"
      ],
      "text/plain": [
       "alt.LayerChart(...)"
      ]
     },
     "execution_count": 13,
     "metadata": {},
     "output_type": "execute_result"
    }
   ],
   "source": [
    "# your turn, create your solution \n",
    "vis_22 = alt.Chart(ndf).mark_line().encode(\n",
    "    y=alt.Y('tweet_count:Q', title = 'Four-minute rolling average'),\n",
    "    x=alt.X('datetime:T', axis=alt.Axis(format='%I:%M', tickCount = 4)),\n",
    "    color = alt.Color('team', legend = alt.Legend(orient = 'top', symbolType = 'stroke'), title = None, \n",
    "                      scale = alt.Scale(range = ['green', '#FFD700']))\n",
    ").properties(\n",
    "      title={\n",
    "      \"text\": [\"Irish pride vs. The Money Team\"], \n",
    "      \"subtitle\": [\"Four-minute rolling average of the number of uses of selected emoji in\",\n",
    "                  \"sampled tweets during the Mayweather-McGregor fight\"]\n",
    "      }\n",
    ")\n",
    "\n",
    "ann_22 = alt.Chart(a_df).mark_text(\n",
    "    lineBreak = '\\n').encode(\n",
    "            y=alt.Y('count:Q'),\n",
    "            x=alt.X('date:T', axis=alt.Axis(format='%I:%M', tickCount = 4, title = None)),\n",
    "            text = 'note:N'\n",
    ")\n",
    "\n",
    "lines_22 = [['2017-08-27 00:15:00', 2.2, 'A'],\n",
    "               ['2017-08-27 00:15:00', 3.8, 'A'],\n",
    "               ['2017-08-27 00:26:00', 4.4, 'B'],\n",
    "               ['2017-08-27 00:30:00', 3.9, 'B']]\n",
    "\n",
    "l_df = pd.DataFrame(lines_22, columns=['x','y','group'])\n",
    "\n",
    "l_22 = alt.Chart(l_df).mark_line().encode(\n",
    "            y=alt.Y('y:Q'),\n",
    "            x=alt.X('x:T', axis=alt.Axis(format='%I:%M', tickCount = 4, title = None)),\n",
    "            detail = 'group',\n",
    "            color = alt.value('black')\n",
    ")\n",
    "\n",
    "vis_22 + ann_22 + l_22\n",
    "\n",
    "#raise NotImplementedError()"
   ]
  },
  {
   "cell_type": "markdown",
   "metadata": {},
   "source": [
    "To the surprise of many (of the neutral and pro-Mayweather viewers, anyway) McGregor won the first round. The next couple were washes, and a quarter of the way into the [scheduled 12 rounds](https://www.nytimes.com/2017/08/26/sports/mayweather-mcgregor.html) … the Irish underdog may have been winning! The Irish flags and shamrocks followed on Twitter. Things slowly (perhaps even 😴ly) turned around as one of the best pound-for-pound boxers in history took control of the man making his pro debut — an outcome which was predicted by precisely everyone. Out came the emoji money bags."
   ]
  },
  {
   "cell_type": "markdown",
   "metadata": {},
   "source": [
    "<img src=\"assets/tweet2.png\" alt=\"Drawing\" style=\"width: 500px;\"/>"
   ]
  },
  {
   "cell_type": "markdown",
   "metadata": {},
   "source": [
    "By the sixth round, it seemed like only a matter of time until the old pro dismantled the newcomer. By the ninth it was clear Mayweather was going for the knockout. It came soon thereafter. Mayweather unleashed a vicious flurry of punches in the 10th and the ref stepped in, declaring Mayweather the victor and saving McGregor, who was somehow still on his feet, from further damage."
   ]
  },
  {
   "cell_type": "markdown",
   "metadata": {},
   "source": [
    "<img src=\"assets/chart_3.png\" alt=\"Drawing\" style=\"width: 500px;\"/>"
   ]
  },
  {
   "cell_type": "markdown",
   "metadata": {},
   "source": [
    "** Homework note, construct your solution to this chart in the cell below. Click [here](assets/altair_chart3.png) to see a sample output from Altair."
   ]
  },
  {
   "cell_type": "markdown",
   "metadata": {},
   "source": [
    "## 2.3 your solution goes here, use the example above for the sampling and annotation"
   ]
  },
  {
   "cell_type": "code",
   "execution_count": 14,
   "metadata": {
    "deletable": false,
    "nbgrader": {
     "checksum": "0b5e0f045ae532023cfb3ca06b8084e6",
     "grade": true,
     "grade_id": "cell-a7f1bff8d1b7905e",
     "locked": false,
     "points": 0,
     "schema_version": 1,
     "solution": true
    }
   },
   "outputs": [
    {
     "data": {
      "text/html": [
       "\n",
       "<div id=\"altair-viz-3f312ad45b884cb8b6285f3fb48f9a80\"></div>\n",
       "<script type=\"text/javascript\">\n",
       "  (function(spec, embedOpt){\n",
       "    const outputDiv = document.getElementById(\"altair-viz-3f312ad45b884cb8b6285f3fb48f9a80\");\n",
       "    const paths = {\n",
       "      \"vega\": \"https://cdn.jsdelivr.net/npm//vega@5?noext\",\n",
       "      \"vega-lib\": \"https://cdn.jsdelivr.net/npm//vega-lib?noext\",\n",
       "      \"vega-lite\": \"https://cdn.jsdelivr.net/npm//vega-lite@4.0.2?noext\",\n",
       "      \"vega-embed\": \"https://cdn.jsdelivr.net/npm//vega-embed@6?noext\",\n",
       "    };\n",
       "\n",
       "    function loadScript(lib) {\n",
       "      return new Promise(function(resolve, reject) {\n",
       "        var s = document.createElement('script');\n",
       "        s.src = paths[lib];\n",
       "        s.async = true;\n",
       "        s.onload = () => resolve(paths[lib]);\n",
       "        s.onerror = () => reject(`Error loading script: ${paths[lib]}`);\n",
       "        document.getElementsByTagName(\"head\")[0].appendChild(s);\n",
       "      });\n",
       "    }\n",
       "\n",
       "    function showError(err) {\n",
       "      outputDiv.innerHTML = `<div class=\"error\" style=\"color:red;\">${err}</div>`;\n",
       "      throw err;\n",
       "    }\n",
       "\n",
       "    function displayChart(vegaEmbed) {\n",
       "      vegaEmbed(outputDiv, spec, embedOpt)\n",
       "        .catch(err => showError(`Javascript Error: ${err.message}<br>This usually means there's a typo in your chart specification. See the javascript console for the full traceback.`));\n",
       "    }\n",
       "\n",
       "    if(typeof define === \"function\" && define.amd) {\n",
       "      requirejs.config({paths});\n",
       "      require([\"vega-embed\"], displayChart, err => showError(`Error loading script: ${err.message}`));\n",
       "    } else if (typeof vegaEmbed === \"function\") {\n",
       "      displayChart(vegaEmbed);\n",
       "    } else {\n",
       "      loadScript(\"vega\")\n",
       "        .then(() => loadScript(\"vega-lite\"))\n",
       "        .then(() => loadScript(\"vega-embed\"))\n",
       "        .catch(showError)\n",
       "        .then(() => displayChart(vegaEmbed));\n",
       "    }\n",
       "  })({\"usermeta\": {\"embedOptions\": {\"theme\": \"fivethirtyeight\"}}, \"config\": {\"view\": {\"continuousWidth\": 400, \"continuousHeight\": 300}}, \"layer\": [{\"data\": {\"url\": \"altair-data-5d910028ff508801bc2168c0434e0ab9.json\", \"format\": {\"type\": \"json\"}}, \"mark\": \"line\", \"encoding\": {\"color\": {\"type\": \"nominal\", \"field\": \"team\", \"legend\": {\"orient\": \"top\", \"symbolType\": \"stroke\"}, \"scale\": {\"range\": [\"red\", \"#87CEEB\"]}, \"title\": null}, \"x\": {\"type\": \"temporal\", \"axis\": {\"format\": \"%I:%M\", \"tickCount\": 4}, \"field\": \"datetime\"}, \"y\": {\"type\": \"quantitative\", \"field\": \"tweet_count\", \"title\": \"Four-minute rolling average\"}}, \"title\": {\"text\": [\"Much hype, some boredom\"], \"subtitle\": [\"Four-minute rolling average of the number of uses of selected emoji in\", \"sampled tweets during the Mayweather-McGregor fight\"]}}, {\"data\": {\"url\": \"altair-data-fc27069ccae9104037c66e78ecf3d0f2.json\", \"format\": {\"type\": \"json\"}}, \"mark\": \"text\", \"encoding\": {\"text\": {\"type\": \"nominal\", \"field\": \"note\"}, \"x\": {\"type\": \"temporal\", \"axis\": {\"format\": \"%I:%M\", \"tickCount\": 4, \"title\": null}, \"field\": \"date\"}, \"y\": {\"type\": \"quantitative\", \"field\": \"count\"}}}, {\"data\": {\"url\": \"altair-data-76c2ab7f83da6206ed8c8a6ff5b057b1.json\", \"format\": {\"type\": \"json\"}}, \"mark\": \"line\", \"encoding\": {\"color\": {\"value\": \"black\"}, \"detail\": {\"type\": \"nominal\", \"field\": \"group\"}, \"x\": {\"type\": \"temporal\", \"axis\": {\"format\": \"%I:%M\", \"tickCount\": 4, \"title\": null}, \"field\": \"x\"}, \"y\": {\"type\": \"quantitative\", \"field\": \"y\"}}}], \"$schema\": \"https://vega.github.io/schema/vega-lite/v4.0.2.json\"}, {\"mode\": \"vega-lite\"});\n",
       "</script>"
      ],
      "text/plain": [
       "alt.LayerChart(...)"
      ]
     },
     "execution_count": 14,
     "metadata": {},
     "output_type": "execute_result"
    }
   ],
   "source": [
    "# your solution goes here, use the example above for the sampling and annotation\n",
    "\n",
    "teams_23 = tweets.copy()\n",
    "    \n",
    "teams_23['fire'] = tweets['🔥']\n",
    "teams_23['sleep'] = tweets['😴']\n",
    "teams_23 = teams_23.resample('1s').sum()\n",
    "teams_23  = teams_23[(teams_23['🔥']>0) | (teams_23['😴']>0)]\n",
    "\n",
    "# next we're going to creat a rolling average\n",
    "# first for the money team\n",
    "fire = teams_23['fire'].rolling('4Min').mean().reset_index()\n",
    "fire['team'] = '🔥'\n",
    "fire = fire.rename(columns={'fire':'tweet_count'})\n",
    "\n",
    "# next for the irish team\n",
    "sleep = teams_23['sleep'].rolling('4Min').mean().reset_index()\n",
    "sleep['team'] = '😴'\n",
    "sleep = sleep.rename(columns={'sleep':'tweet_count'})\n",
    "\n",
    "# now we'll combine our datasets\n",
    "ndf_23 = pd.concat([fire,sleep])\n",
    "\n",
    "annotations_23 = [['2017-08-27 00:15:00',1.25, 'Fight begins'],\n",
    "               ['2017-08-27 00:40:00',3, 'Mayweather takes control in middle rounds']]\n",
    "a_df_23 = pd.DataFrame(annotations_23, columns=['date','count','note'])\n",
    "\n",
    "#raise NotImplementedError()\n",
    "\n",
    "vis_23 = alt.Chart(ndf_23).mark_line().encode(\n",
    "    y=alt.Y('tweet_count:Q', title = 'Four-minute rolling average'),\n",
    "    x=alt.X('datetime:T', axis=alt.Axis(format='%I:%M', tickCount = 4)),\n",
    "    color = alt.Color('team', legend = alt.Legend(orient = 'top', symbolType = 'stroke'), title = None, \n",
    "                      scale = alt.Scale(range = ['red', '#87CEEB']))\n",
    ").properties(\n",
    "      title={\n",
    "      \"text\": [\"Much hype, some boredom\"], \n",
    "      \"subtitle\": [\"Four-minute rolling average of the number of uses of selected emoji in\",\n",
    "                  \"sampled tweets during the Mayweather-McGregor fight\"]\n",
    "      }\n",
    ")\n",
    "\n",
    "ann_23 = alt.Chart(a_df_23).mark_text().encode(\n",
    "            y=alt.Y('count:Q'),\n",
    "            x=alt.X('date:T', axis=alt.Axis(format='%I:%M', tickCount = 4, title = None)),\n",
    "            text = 'note:N'\n",
    ")\n",
    "\n",
    "lines_23 = [['2017-08-27 00:15:00', 0.5, 'A'],\n",
    "               ['2017-08-27 00:15:00', 1.1, 'A'],\n",
    "               ['2017-08-27 00:30:00', 1.8, 'B'],\n",
    "               ['2017-08-27 00:30:00', 2.8, 'B'],\n",
    "               ['2017-08-27 00:45:00', 1.5, 'C'],\n",
    "               ['2017-08-27 00:45:00', 2.8, 'C']]\n",
    "\n",
    "l_df_23 = pd.DataFrame(lines_23, columns=['x','y','group'])\n",
    "\n",
    "l_23 = alt.Chart(l_df_23).mark_line().encode(\n",
    "            y=alt.Y('y:Q'),\n",
    "            x=alt.X('x:T', axis=alt.Axis(format='%I:%M', tickCount = 4, title = None)),\n",
    "            detail = 'group',\n",
    "            color = alt.value('black')\n",
    ")\n",
    "\n",
    "vis_23 + ann_23 + l_23\n"
   ]
  },
  {
   "cell_type": "markdown",
   "metadata": {},
   "source": [
    "It ended just over 37 minutes after it began. Five seconds later, Mayweather leapt up on the corner ropes, victorious — [50-0](https://fivethirtyeight.com/features/mayweather-is-defined-by-the-zero-next-to-his-name/). Some observers declared it a [satisfying spectacle](https://www.si.com/boxing/2017/08/27/after-months-hype-mayweather-and-mcgregor-deliver-boxing-spectacle). Others, McGregor chief among them, [were frustrated with the finish](https://www.cbssports.com/boxing/news/conor-mcgregor-frustrated-with-refs-fight-stoppage-let-the-man-put-me-down/). The emoji users on Twitter appeared to think the fight was, for the most part, 🔥 — especially as it heated up toward the end. While the result may never have been in question, this was a welcome outcome for many who viewed Mayweather’s last megafight against Manny Pacquiao as an epic 😴😴😴😴."
   ]
  },
  {
   "cell_type": "markdown",
   "metadata": {},
   "source": [
    "<img src=\"assets/tweet3.png\" alt=\"Drawing\" style=\"width: 500px;\"/>"
   ]
  },
  {
   "cell_type": "markdown",
   "metadata": {},
   "source": [
    "<img src=\"assets/chart_4.png\" alt=\"Drawing\" style=\"width: 500px;\"/>"
   ]
  },
  {
   "cell_type": "markdown",
   "metadata": {},
   "source": [
    "** Homework note, construct your solution to this chart in the cell below. Click [here](assets/altair_chart4.png) to see a sample output from Altair."
   ]
  },
  {
   "cell_type": "markdown",
   "metadata": {},
   "source": [
    "## 2.4 your solution goes here, use the example above for the sampling and annotation"
   ]
  },
  {
   "cell_type": "code",
   "execution_count": 15,
   "metadata": {
    "deletable": false,
    "nbgrader": {
     "checksum": "15cc8435beedc03a96af849bb6eeaac0",
     "grade": true,
     "grade_id": "cell-718ac9b3de0d57a4",
     "locked": false,
     "points": 0,
     "schema_version": 1,
     "solution": true
    }
   },
   "outputs": [
    {
     "data": {
      "text/html": [
       "\n",
       "<div id=\"altair-viz-6c3c674971244213946fbc3194635c2a\"></div>\n",
       "<script type=\"text/javascript\">\n",
       "  (function(spec, embedOpt){\n",
       "    const outputDiv = document.getElementById(\"altair-viz-6c3c674971244213946fbc3194635c2a\");\n",
       "    const paths = {\n",
       "      \"vega\": \"https://cdn.jsdelivr.net/npm//vega@5?noext\",\n",
       "      \"vega-lib\": \"https://cdn.jsdelivr.net/npm//vega-lib?noext\",\n",
       "      \"vega-lite\": \"https://cdn.jsdelivr.net/npm//vega-lite@4.0.2?noext\",\n",
       "      \"vega-embed\": \"https://cdn.jsdelivr.net/npm//vega-embed@6?noext\",\n",
       "    };\n",
       "\n",
       "    function loadScript(lib) {\n",
       "      return new Promise(function(resolve, reject) {\n",
       "        var s = document.createElement('script');\n",
       "        s.src = paths[lib];\n",
       "        s.async = true;\n",
       "        s.onload = () => resolve(paths[lib]);\n",
       "        s.onerror = () => reject(`Error loading script: ${paths[lib]}`);\n",
       "        document.getElementsByTagName(\"head\")[0].appendChild(s);\n",
       "      });\n",
       "    }\n",
       "\n",
       "    function showError(err) {\n",
       "      outputDiv.innerHTML = `<div class=\"error\" style=\"color:red;\">${err}</div>`;\n",
       "      throw err;\n",
       "    }\n",
       "\n",
       "    function displayChart(vegaEmbed) {\n",
       "      vegaEmbed(outputDiv, spec, embedOpt)\n",
       "        .catch(err => showError(`Javascript Error: ${err.message}<br>This usually means there's a typo in your chart specification. See the javascript console for the full traceback.`));\n",
       "    }\n",
       "\n",
       "    if(typeof define === \"function\" && define.amd) {\n",
       "      requirejs.config({paths});\n",
       "      require([\"vega-embed\"], displayChart, err => showError(`Error loading script: ${err.message}`));\n",
       "    } else if (typeof vegaEmbed === \"function\") {\n",
       "      displayChart(vegaEmbed);\n",
       "    } else {\n",
       "      loadScript(\"vega\")\n",
       "        .then(() => loadScript(\"vega-lite\"))\n",
       "        .then(() => loadScript(\"vega-embed\"))\n",
       "        .catch(showError)\n",
       "        .then(() => displayChart(vegaEmbed));\n",
       "    }\n",
       "  })({\"usermeta\": {\"embedOptions\": {\"theme\": \"fivethirtyeight\"}}, \"config\": {\"view\": {\"continuousWidth\": 400, \"continuousHeight\": 300}}, \"layer\": [{\"data\": {\"url\": \"altair-data-f7c26b529d9922fea5142aacd16d3061.json\", \"format\": {\"type\": \"json\"}}, \"mark\": \"line\", \"encoding\": {\"color\": {\"type\": \"nominal\", \"field\": \"team\", \"legend\": {\"orient\": \"top\", \"symbolType\": \"stroke\"}, \"scale\": {\"range\": [\"#00CED1\", \"#FF8C00\"]}, \"title\": null}, \"x\": {\"type\": \"temporal\", \"axis\": {\"format\": \"%I:%M\", \"tickCount\": 4, \"title\": null}, \"field\": \"datetime\"}, \"y\": {\"type\": \"quantitative\", \"field\": \"tweet_count\", \"title\": \"Four-minute rolling average\"}}, \"title\": {\"text\": [\"Tears were shed - of joy and sorrow\"], \"subtitle\": [\"Four-minute rolling average of the number of uses of selected emoji in\", \"sampled tweets during the Mayweather-McGregor fight\"]}}, {\"data\": {\"url\": \"altair-data-c5b8d44c572c057f89126247e555350c.json\", \"format\": {\"type\": \"json\"}}, \"mark\": {\"type\": \"text\", \"lineBreak\": \"\\n\"}, \"encoding\": {\"text\": {\"type\": \"nominal\", \"field\": \"note\"}, \"x\": {\"type\": \"temporal\", \"axis\": {\"format\": \"%I:%M\", \"tickCount\": 4, \"title\": null}, \"field\": \"date\"}, \"y\": {\"type\": \"quantitative\", \"field\": \"count\"}}}, {\"data\": {\"url\": \"altair-data-0169ae7c5202b802097c85fc493c2449.json\", \"format\": {\"type\": \"json\"}}, \"mark\": \"line\", \"encoding\": {\"color\": {\"value\": \"black\"}, \"detail\": {\"type\": \"nominal\", \"field\": \"group\"}, \"x\": {\"type\": \"temporal\", \"axis\": {\"format\": \"%I:%M\", \"tickCount\": 4, \"title\": null}, \"field\": \"x\"}, \"y\": {\"type\": \"quantitative\", \"field\": \"y\"}}}], \"$schema\": \"https://vega.github.io/schema/vega-lite/v4.0.2.json\"}, {\"mode\": \"vega-lite\"});\n",
       "</script>"
      ],
      "text/plain": [
       "alt.LayerChart(...)"
      ]
     },
     "execution_count": 15,
     "metadata": {},
     "output_type": "execute_result"
    }
   ],
   "source": [
    "# your solution goes here, use the example above for the sampling and annotation\n",
    "teams_24 = tweets.copy()\n",
    "    \n",
    "teams_24['down'] = tweets['😭']\n",
    "teams_24['side'] = tweets['🤣']\n",
    "teams_24 = teams_24.resample('1s').sum()\n",
    "teams_24  = teams_24[(teams_24['😭']>0) | (teams_24['🤣']>0)]\n",
    "\n",
    "# next we're going to creat a rolling average\n",
    "# first for the money team\n",
    "down = teams_24['down'].rolling('4Min').mean().reset_index()\n",
    "down['team'] = '😭'\n",
    "down = down.rename(columns={'down':'tweet_count'})\n",
    "\n",
    "# next for the irish team\n",
    "side = teams_24['side'].rolling('4Min').mean().reset_index()\n",
    "side['team'] = '🤣'\n",
    "side = side.rename(columns={'side':'tweet_count'})\n",
    "\n",
    "# now we'll combine our datasets\n",
    "ndf_24 = pd.concat([down,side])\n",
    "\n",
    "annotations_24 = [['2017-08-27 00:15:00',2.1, 'Fight begins'],\n",
    "               ['2017-08-27 00:35:00',2, 'McGregor \\nimpresses \\nearly'],\n",
    "               ['2017-08-27 00:56:00',0.1, 'Fight ends'] ]\n",
    "a_df_24 = pd.DataFrame(annotations_24, columns=['date','count','note'])\n",
    "\n",
    "#raise NotImplementedError()\n",
    "\n",
    "vis_24 = alt.Chart(ndf_24).mark_line().encode(\n",
    "    y=alt.Y('tweet_count:Q', title = 'Four-minute rolling average'),\n",
    "    x=alt.X('datetime:T', axis=alt.Axis(format='%I:%M', tickCount = 4, title = None)),\n",
    "    color = alt.Color('team', legend = alt.Legend(orient = 'top', symbolType = 'stroke'), title = None, \n",
    "                      scale = alt.Scale(range = ['#00CED1', '#FF8C00']))\n",
    ").properties(\n",
    "      title={\n",
    "      \"text\": [\"Tears were shed - of joy and sorrow\"], \n",
    "      \"subtitle\": [\"Four-minute rolling average of the number of uses of selected emoji in\",\n",
    "                  \"sampled tweets during the Mayweather-McGregor fight\"]\n",
    "      }\n",
    ")\n",
    "\n",
    "ann_24 = alt.Chart(a_df_24).mark_text(lineBreak = '\\n').encode(\n",
    "            y=alt.Y('count:Q'),\n",
    "            x=alt.X('date:T', axis=alt.Axis(format='%I:%M', tickCount = 4, title = None)),\n",
    "            text = 'note:N'\n",
    ")\n",
    "\n",
    "lines_24 = [['2017-08-27 00:15:00', 1.4, 'A'],\n",
    "               ['2017-08-27 00:15:00', 2.0, 'A'],\n",
    "               ['2017-08-27 00:24:00', 1.8, 'B'],\n",
    "               ['2017-08-27 00:29:00', 2.0, 'B'],\n",
    "               ['2017-08-27 00:56:00', 0.2, 'C'],\n",
    "               ['2017-08-27 00:56:00', 0.9, 'C']]\n",
    "\n",
    "l_df_24 = pd.DataFrame(lines_24, columns=['x','y','group'])\n",
    "\n",
    "l_24 = alt.Chart(l_df_24).mark_line().encode(\n",
    "            y=alt.Y('y:Q'),\n",
    "            x=alt.X('x:T', axis=alt.Axis(format='%I:%M', tickCount = 4, title = None)),\n",
    "            detail = 'group',\n",
    "            color = alt.value('black')\n",
    ")\n",
    "\n",
    "vis_24 + ann_24 + l_24\n",
    "\n",
    "#raise NotImplementedError()"
   ]
  },
  {
   "cell_type": "markdown",
   "metadata": {},
   "source": [
    "They laughed. They cried. And they laughed some more. And they cried some more."
   ]
  },
  {
   "cell_type": "markdown",
   "metadata": {},
   "source": [
    "# 2.5 Make your own (part 1-alternative)\n",
    "Propose one *alternative* visualization for one of the article's visualizations. Add a short paragraph describing why your visualization is more *effective* based on principles of perception/cognition. If you feel your visualization is worse, that's ok! Just tell us why. (20 points/ 15 points plot + 5 justification)"
   ]
  },
  {
   "cell_type": "code",
   "execution_count": 16,
   "metadata": {
    "deletable": false,
    "nbgrader": {
     "checksum": "0b9cd943872bb4aa60e5d72eac7e1ed1",
     "grade": true,
     "grade_id": "cell-9b636219159fc577",
     "locked": false,
     "points": 0,
     "schema_version": 1,
     "solution": true
    }
   },
   "outputs": [
    {
     "data": {
      "text/html": [
       "\n",
       "<div id=\"altair-viz-5ef875eed3854f6a99a63d8b47b0cd19\"></div>\n",
       "<script type=\"text/javascript\">\n",
       "  (function(spec, embedOpt){\n",
       "    const outputDiv = document.getElementById(\"altair-viz-5ef875eed3854f6a99a63d8b47b0cd19\");\n",
       "    const paths = {\n",
       "      \"vega\": \"https://cdn.jsdelivr.net/npm//vega@5?noext\",\n",
       "      \"vega-lib\": \"https://cdn.jsdelivr.net/npm//vega-lib?noext\",\n",
       "      \"vega-lite\": \"https://cdn.jsdelivr.net/npm//vega-lite@4.0.2?noext\",\n",
       "      \"vega-embed\": \"https://cdn.jsdelivr.net/npm//vega-embed@6?noext\",\n",
       "    };\n",
       "\n",
       "    function loadScript(lib) {\n",
       "      return new Promise(function(resolve, reject) {\n",
       "        var s = document.createElement('script');\n",
       "        s.src = paths[lib];\n",
       "        s.async = true;\n",
       "        s.onload = () => resolve(paths[lib]);\n",
       "        s.onerror = () => reject(`Error loading script: ${paths[lib]}`);\n",
       "        document.getElementsByTagName(\"head\")[0].appendChild(s);\n",
       "      });\n",
       "    }\n",
       "\n",
       "    function showError(err) {\n",
       "      outputDiv.innerHTML = `<div class=\"error\" style=\"color:red;\">${err}</div>`;\n",
       "      throw err;\n",
       "    }\n",
       "\n",
       "    function displayChart(vegaEmbed) {\n",
       "      vegaEmbed(outputDiv, spec, embedOpt)\n",
       "        .catch(err => showError(`Javascript Error: ${err.message}<br>This usually means there's a typo in your chart specification. See the javascript console for the full traceback.`));\n",
       "    }\n",
       "\n",
       "    if(typeof define === \"function\" && define.amd) {\n",
       "      requirejs.config({paths});\n",
       "      require([\"vega-embed\"], displayChart, err => showError(`Error loading script: ${err.message}`));\n",
       "    } else if (typeof vegaEmbed === \"function\") {\n",
       "      displayChart(vegaEmbed);\n",
       "    } else {\n",
       "      loadScript(\"vega\")\n",
       "        .then(() => loadScript(\"vega-lite\"))\n",
       "        .then(() => loadScript(\"vega-embed\"))\n",
       "        .catch(showError)\n",
       "        .then(() => displayChart(vegaEmbed));\n",
       "    }\n",
       "  })({\"usermeta\": {\"embedOptions\": {\"theme\": \"fivethirtyeight\"}}, \"config\": {\"view\": {\"continuousWidth\": 400, \"continuousHeight\": 300}}, \"data\": {\"url\": \"altair-data-570ba17b1d2ad0b59ec504dec656a72e.json\", \"format\": {\"type\": \"json\"}}, \"mark\": \"point\", \"encoding\": {\"size\": {\"type\": \"quantitative\", \"field\": \"PERCENT\", \"legend\": {\"symbolType\": \"circle\"}, \"title\": \"Percent of Total Emojis\"}, \"x\": {\"type\": \"nominal\", \"field\": \"EMOJI\", \"sort\": [\"\\ud83d\\ude02\", \"\\ud83e\\udd4a\", \"\\ud83d\\udc4a\", \"\\ud83d\\udc4f\", \"\\ud83d\\udcaa\", \"\\ud83c\\uddee\\ud83c\\uddea\", \"\\ud83e\\udd23\", \"\\ud83d\\udd25\", \"\\ud83d\\ude2d\", \"\\ud83d\\udcb0\"], \"title\": null}, \"y\": {\"type\": \"quantitative\", \"field\": \"PERCENT\", \"title\": \"%\"}}, \"title\": {\"text\": [\"Mayweather vs. McGregor Fight\"], \"subtitle\": [\"The most-used emoji in over 240,000 tweets collected during the broadcast\"]}, \"$schema\": \"https://vega.github.io/schema/vega-lite/v4.0.2.json\"}, {\"mode\": \"vega-lite\"});\n",
       "</script>"
      ],
      "text/plain": [
       "alt.Chart(...)"
      ]
     },
     "execution_count": 16,
     "metadata": {},
     "output_type": "execute_result"
    }
   ],
   "source": [
    "viz_25 = alt.Chart(percentages_df).mark_point().encode(\n",
    "x = alt.X('EMOJI', sort = sorted_emoji, title = None),\n",
    "y = alt.Y('PERCENT', title = '%'),\n",
    "size = alt.Size('PERCENT', legend = alt.Legend(symbolType = 'circle'), title = 'Percent of Total Emojis')\n",
    ").properties(\n",
    "     title = {\"text\": [\"Mayweather vs. McGregor Fight\"], \n",
    "              \"subtitle\": [\"The most-used emoji in over 240,000 tweets collected during the broadcast\"]})\n",
    "\n",
    "viz_25\n",
    "#raise NotImplementedError()"
   ]
  },
  {
   "cell_type": "markdown",
   "metadata": {},
   "source": [
    "This is a recreated visual based on the bar graph featured in the article and re-created in 2.1. The figure has the top 10 emojis encoded on the x-axis, the percentage of the total usage compared to the other emojis encoded on the y-axis, and this total relative usage percentage is also encoded as the size of the individual bubble corresponding to each of the emojis. However, I believe as though this figure is not at effective as the figure used in the article and re-created earlier. While the figures do have the same level of expressiveness (as the percentage of the emoji's relative usage can be discerned through both figures), the original figure is far more effective. As discussed throughout the course and in terms of perception and cognition, Stevens' Law makes clear that viewers are very adept at actually determining a value based on length, and tend to underestimate a value when area or volume is used. The original figure utilizes bar graph length as its value encoding, where as area is used here, rendering a less effective figure. Additionally, and as noted earlier, as well, this is an example of Munzner's Rule of thumb that if a list is good enough, a 2D image is not justified. I believe that the best way to encode this data would be a simple table, as opposed to a bar graph, scatter plot, etc. as the data can very easily be deciphered through this presentation."
   ]
  },
  {
   "cell_type": "markdown",
   "metadata": {},
   "source": [
    "# 2.6 Make your own (part 2-novel)\n",
    "Propose a *new* visualization to complement a part of the article. Add a short paragraph justifying your decisions in terms of Perception/Cognition processes. If you feel your visualization is worse, that's ok! Just tell us why. (20 points/ 15 points plot + 5 justification)"
   ]
  },
  {
   "cell_type": "code",
   "execution_count": 17,
   "metadata": {
    "deletable": false,
    "nbgrader": {
     "checksum": "8448ae695c68f98d279e3e9fba50f028",
     "grade": true,
     "grade_id": "cell-f05fa16510d6f918",
     "locked": false,
     "points": 0,
     "schema_version": 1,
     "solution": true
    }
   },
   "outputs": [
    {
     "data": {
      "text/html": [
       "\n",
       "<div id=\"altair-viz-df63967d636a48839a5583da45435489\"></div>\n",
       "<script type=\"text/javascript\">\n",
       "  (function(spec, embedOpt){\n",
       "    const outputDiv = document.getElementById(\"altair-viz-df63967d636a48839a5583da45435489\");\n",
       "    const paths = {\n",
       "      \"vega\": \"https://cdn.jsdelivr.net/npm//vega@5?noext\",\n",
       "      \"vega-lib\": \"https://cdn.jsdelivr.net/npm//vega-lib?noext\",\n",
       "      \"vega-lite\": \"https://cdn.jsdelivr.net/npm//vega-lite@4.0.2?noext\",\n",
       "      \"vega-embed\": \"https://cdn.jsdelivr.net/npm//vega-embed@6?noext\",\n",
       "    };\n",
       "\n",
       "    function loadScript(lib) {\n",
       "      return new Promise(function(resolve, reject) {\n",
       "        var s = document.createElement('script');\n",
       "        s.src = paths[lib];\n",
       "        s.async = true;\n",
       "        s.onload = () => resolve(paths[lib]);\n",
       "        s.onerror = () => reject(`Error loading script: ${paths[lib]}`);\n",
       "        document.getElementsByTagName(\"head\")[0].appendChild(s);\n",
       "      });\n",
       "    }\n",
       "\n",
       "    function showError(err) {\n",
       "      outputDiv.innerHTML = `<div class=\"error\" style=\"color:red;\">${err}</div>`;\n",
       "      throw err;\n",
       "    }\n",
       "\n",
       "    function displayChart(vegaEmbed) {\n",
       "      vegaEmbed(outputDiv, spec, embedOpt)\n",
       "        .catch(err => showError(`Javascript Error: ${err.message}<br>This usually means there's a typo in your chart specification. See the javascript console for the full traceback.`));\n",
       "    }\n",
       "\n",
       "    if(typeof define === \"function\" && define.amd) {\n",
       "      requirejs.config({paths});\n",
       "      require([\"vega-embed\"], displayChart, err => showError(`Error loading script: ${err.message}`));\n",
       "    } else if (typeof vegaEmbed === \"function\") {\n",
       "      displayChart(vegaEmbed);\n",
       "    } else {\n",
       "      loadScript(\"vega\")\n",
       "        .then(() => loadScript(\"vega-lite\"))\n",
       "        .then(() => loadScript(\"vega-embed\"))\n",
       "        .catch(showError)\n",
       "        .then(() => displayChart(vegaEmbed));\n",
       "    }\n",
       "  })({\"usermeta\": {\"embedOptions\": {\"theme\": \"fivethirtyeight\"}}, \"config\": {\"view\": {\"continuousWidth\": 400, \"continuousHeight\": 300}}, \"data\": {\"url\": \"altair-data-2a2f55197d4d02c4ca7b2e64a648b721.json\", \"format\": {\"type\": \"json\"}}, \"mark\": \"boxplot\", \"encoding\": {\"x\": {\"type\": \"quantitative\", \"field\": \"tweet_count\", \"title\": \"Average 4-minute rolling tweet count\"}, \"y\": {\"type\": \"nominal\", \"field\": \"team\", \"title\": \"Fan Group\"}}, \"title\": {\"text\": [\"Mayweather vs. McGregor Fight\"], \"subtitle\": [\"Overall average rolling 4-minute emoji tweet count for Money Team and McGregor\", \"during the August 27th fight\"]}, \"$schema\": \"https://vega.github.io/schema/vega-lite/v4.0.2.json\"}, {\"mode\": \"vega-lite\"});\n",
       "</script>"
      ],
      "text/plain": [
       "alt.Chart(...)"
      ]
     },
     "execution_count": 17,
     "metadata": {},
     "output_type": "execute_result"
    }
   ],
   "source": [
    "alt.Chart(ndf).mark_boxplot().encode(\n",
    "    y= alt.Y('team:N', title = 'Fan Group'),\n",
    "    x= alt.X('tweet_count:Q', title = 'Average 4-minute rolling tweet count')\n",
    ").properties(\n",
    "     title = {\"text\": [\"Mayweather vs. McGregor Fight\"], \n",
    "              \"subtitle\": [\"Overall average rolling 4-minute emoji tweet count for Money Team and McGregor\",\n",
    "                          \"during the August 27th fight\"]}\n",
    "    )"
   ]
  },
  {
   "cell_type": "markdown",
   "metadata": {},
   "source": [
    "While other figures in the article mainly focused around timeseries data and tracking rolling averages of emoji use throughout the Mayweather and McGregor fight, this new figure generates a box and whisker plot that focuses on emoji usage tied to the Money Team and the McGregor camp. A total average 4-minute rolling tweet usage quantitative variable is encoded on the x-axis and the two emoji groups are nominal variables encoded in the y position. As can be seen, there are multiple cases throughout the fight where the Money Team and McGregor fans had emoji usage that were considered \"outliers\" to the box and whisker plot. I believe this is an effective plot in showing that, throughout the night, McGregor looked to be the more popular of the two boxers and often had outlier rolling averages, which likely are aligned with the period of the night where he performed better than expected. In terms of perception and cognition, a box and whisker plot has been a discussion point in relation to the data-ink ratio. While there perhaps may be some unnecessary ink added to the plot, viewers have been shown to be more adept at interpreting these plots as opposed to others which may have unneeded components removed. Therefore, while there may be other plot alternatives that would have equal expressiveness, I believe this is an effective plot in displaying overall emoji usage."
   ]
  }
 ],
 "metadata": {
  "coursera": {
   "schema_names": [
    "mads_information_visualization_i_v5_assignment4"
   ]
  },
  "kernelspec": {
   "display_name": "Python 3",
   "language": "python",
   "name": "python3"
  },
  "language_info": {
   "codemirror_mode": {
    "name": "ipython",
    "version": 3
   },
   "file_extension": ".py",
   "mimetype": "text/x-python",
   "name": "python",
   "nbconvert_exporter": "python",
   "pygments_lexer": "ipython3",
   "version": "3.7.10"
  },
  "toc": {
   "colors": {
    "hover_highlight": "#DAA520",
    "running_highlight": "#FF0000",
    "selected_highlight": "#FFD700"
   },
   "moveMenuLeft": true,
   "nav_menu": {
    "height": "300px",
    "width": "252px"
   },
   "navigate_menu": true,
   "number_sections": false,
   "sideBar": false,
   "threshold": 4,
   "toc_cell": false,
   "toc_position": {
    "height": "259px",
    "left": "1px",
    "right": "20px",
    "top": "110px",
    "width": "212px"
   },
   "toc_section_display": "none",
   "toc_window_display": true,
   "widenNotebook": false
  }
 },
 "nbformat": 4,
 "nbformat_minor": 2
}

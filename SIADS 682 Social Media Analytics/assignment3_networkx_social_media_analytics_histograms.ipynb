{
 "cells": [
  {
   "cell_type": "markdown",
   "metadata": {
    "deletable": false,
    "editable": false,
    "nbgrader": {
     "cell_type": "markdown",
     "checksum": "cf9415515d6618ffef81ab76b3f3723f",
     "grade": false,
     "grade_id": "cell-d1f8fe5e658f6e20",
     "locked": true,
     "schema_version": 3,
     "solution": false
    }
   },
   "source": [
    "# Social Media Analytics\n",
    "## School of Information, University of Michigan\n",
    "\n",
    "## Week 3: Social Media Networks\n",
    " \n",
    "- Network statistics in social media networks\n",
    "\n",
    "## Assignment Overview\n",
    "### The objective of this assignment is to:\n",
    "\n",
    "- Load a network based on user mentions\n",
    "- Plot and analyze network metrics\n",
    "\n",
    "### The total score of this assignment will be 100 points consisting of:\n",
    "\n",
    "- `load_graph` function: 2 points\n",
    "- `basic_graph_attrs` function: 3 points\n",
    "- `plot_degree_distribution`: 10 points\n",
    "- interpretation of degree distributions: 10 points\n",
    "- `top_10_degree_centrality` function: 10 points\n",
    "- `top_10_closeness_centrality` function: 10 points\n",
    "- `top_10_betweenness_centrality` function: 10 points\n",
    "- interpretation of centrality: 15 points\n",
    "- `largest_component_size` function: 10 points\n",
    "- `largest_component_diameter` function: 10 points\n",
    "- `largest_component_avg_sortest_path` function: 10 points\n",
    "\n",
    "### Resources:\n",
    "\n",
    "- [Tweepy API documentation](https://tweepy.readthedocs.io/en/latest/) \n",
    "- [Trump tweet corpus](https://www.thetrumparchive.com/) \n",
    "\n",
    "## Instructions: \n",
    "In this assignment, you will use the provided tweet corpus to plot and analyze network metrics, such as centrality. You will create visualizations and interpret the data. \n",
    "\n",
    "**Note:** A number of the commands will take a long time to process, even on the server resources provided to you. A common and useful strategy is to hardcode once you get the correct answer for the autograder.\n",
    "\n",
    "### Notes on the network:\n",
    "\n",
    "- We created a network based on the Tweets in the account [@realDonaldTrump](https://twitter.com/realDonaldTrump)\n",
    "- Note that the network contains some self-referential edges (i.e., @realDonaldTrump appears in the network). This is due to earlier uses of the RT syntax, or due to quoted RTs including the source account name.\n",
    "- We provide a weighted, undirected network where:\n",
    "    - Each node is the user handle of a Twitter user that was mentioned by @realDonaldTrump (which could be himself)\n",
    "    - A link exists every time two users are mentioned on the same tweet\n",
    "    - The weight between two links is the number of times users are mentioned together\n",
    "- **You can find the script to create the network on assets/create_nw/create_network.py**\n",
    "    - This script uses a pandas dataframe of user_mentions based on the tweets of @realDonaldTrump from 05/2009 to 01/2018\n",
    "    - However, it is not necessary for you to understand this pre-processing script to complete this assignment."
   ]
  },
  {
   "cell_type": "code",
   "execution_count": 1,
   "metadata": {
    "deletable": false,
    "nbgrader": {
     "cell_type": "code",
     "checksum": "7074cb9db7bca973826382973df18304",
     "grade": false,
     "grade_id": "load_graph_statistics",
     "locked": false,
     "schema_version": 3,
     "solution": true
    }
   },
   "outputs": [],
   "source": [
    "import networkx as nx\n",
    "\n",
    "def load_graph():\n",
    "    \"\"\"\n",
    "    2 points \n",
    "    Load the assets/trump__2009_05-2018_01_network_weghted.gpickle file using networkx\n",
    "    \"\"\"\n",
    "    G = nx.read_gpickle('assets/trump__2009_05-2018_01_network_weghted.gpickle')\n",
    "\n",
    "    return G\n",
    "\n",
    "def basic_graph_attrs(G):\n",
    "    \"\"\" \n",
    "    3 points \n",
    "    Return a tuple with the following graph attributes in the same order\n",
    "        - number of nodes\n",
    "        - number of edges\n",
    "        - average degree\n",
    "    \"\"\"\n",
    "    num_nodes = G.number_of_nodes()\n",
    "    num_edges = G.number_of_edges()\n",
    "    avg_deg = sum([d for (n, d) in nx.degree(G)]) / num_nodes\n",
    "    \n",
    "    return (num_nodes, num_edges, avg_deg)"
   ]
  },
  {
   "cell_type": "code",
   "execution_count": 2,
   "metadata": {
    "deletable": false,
    "editable": false,
    "nbgrader": {
     "cell_type": "code",
     "checksum": "6fe8d0e9f1d29701e6bb51432977ff12",
     "grade": true,
     "grade_id": "load_graph_statistics_test",
     "locked": true,
     "points": 5,
     "schema_version": 3,
     "solution": false
    }
   },
   "outputs": [],
   "source": [
    "import networkx as nx\n",
    "\n",
    "G = load_graph()\n",
    "attrs = basic_graph_attrs(G)\n",
    "assert type(G) == nx.classes.graph.Graph, \"load_graph, the type of the graph should be nx.classes.graph.Graph\"\n",
    "nodes = list(G.nodes)\n",
    "for node in ['bretmichaels', 'SnoopDogg', 'IvankaTrump']:\n",
    "    assert node in nodes, f\"node {node} is missing\""
   ]
  },
  {
   "cell_type": "markdown",
   "metadata": {
    "deletable": false,
    "editable": false,
    "nbgrader": {
     "cell_type": "markdown",
     "checksum": "028640def9e1c111309d9f8831def92c",
     "grade": false,
     "grade_id": "cell-52c61d61b5d83a31",
     "locked": true,
     "schema_version": 3,
     "solution": false
    }
   },
   "source": [
    "### Visualize the degree distribution for all nodes in the graph and for nodes with degree < 10 \n",
    "<img src=\"assets/sample_plot_1a.png\" alt=\"graphs showing distribution of nodes\" style=\"width: 1000px;\"/>\n"
   ]
  },
  {
   "cell_type": "code",
   "execution_count": 3,
   "metadata": {
    "deletable": false,
    "nbgrader": {
     "cell_type": "code",
     "checksum": "232853eb1fca4160955af7ed09cbd660",
     "grade": true,
     "grade_id": "plot_degree_distribution",
     "locked": false,
     "points": 0,
     "schema_version": 3,
     "solution": true
    }
   },
   "outputs": [
    {
     "data": {
      "image/png": "[encoded data removed]",
      "text/plain": [
       "<Figure size 1440x360 with 2 Axes>"
      ]
     },
     "metadata": {
      "needs_background": "light"
     },
     "output_type": "display_data"
    }
   ],
   "source": [
    "import matplotlib.pyplot as plt\n",
    "import pandas as pd\n",
    "\n",
    "def plot_degree_distribution(G):\n",
    "    \"\"\" \n",
    "    10 points\n",
    "    Plot the degree distribution of G in two different ways.\n",
    "    The left-hand degree distribution should show all nodes.\n",
    "    The right-hand degree distribution should show only nodes with degree < 10.\n",
    "    Both plots should use 12 bins and log scaling.\n",
    "    \"\"\"\n",
    "    node_degrees = [G.degree(n) for n in G.nodes()]\n",
    "    node_degrees_restricted = [G.degree(n) for n in G.nodes() if G.degree(n) < 10]\n",
    "\n",
    "    fig, (ax1, ax2) = plt.subplots(1, 2, figsize=(20, 5))\n",
    "\n",
    "    ax1.hist(node_degrees, bins = 12, log = True)\n",
    "    ax1.set_ylabel('Frequency')\n",
    "    ax1.set_title('degree distribution')\n",
    "\n",
    "    ax2.hist(node_degrees_restricted, bins = 12, log = True)\n",
    "    ax2.set_ylabel('Frequency')\n",
    "    ax2.set_title('degree distribution < 10')\n",
    "\n",
    "    return plt.show()\n",
    "    \n",
    "G = load_graph()\n",
    "plot_degree_distribution(G)"
   ]
  },
  {
   "cell_type": "markdown",
   "metadata": {
    "deletable": false,
    "editable": false,
    "nbgrader": {
     "cell_type": "markdown",
     "checksum": "07f627cc0c16767872af07295d7ba7b1",
     "grade": false,
     "grade_id": "cell-1b67805886f08741",
     "locked": true,
     "schema_version": 3,
     "solution": false
    }
   },
   "source": [
    "### Please interpret these plots in the cell below. (10 points)"
   ]
  },
  {
   "cell_type": "markdown",
   "metadata": {
    "deletable": false,
    "nbgrader": {
     "cell_type": "markdown",
     "checksum": "386e1aa42afe73e57cd26a0ac61dfbc1",
     "grade": true,
     "grade_id": "plot_degree_distribution_interpretation",
     "locked": false,
     "points": 0,
     "schema_version": 3,
     "solution": true
    }
   },
   "source": [
    "The first plot shows that most of the nodes in the network (the Twitter accounts that Trump has mentioned in the past with his tweets) have degree somewhere between 1 and ~500. Understandably, and when digging in further to the degree frequency with the second plot, we see that most accounts have degree 1, followed by 2, 3, 4, so on and so forth. This suggests that most accounts were not mentioned alongside another user in these tweets and therefore did not form other edges. This second plot follows almost a Poisson like distribution as frequency decreases the further you move away from degree 1. One addiitonal note with the first plot is that we do see 1 node having a large amount of connections (in the 7,000 range). This is the DonaldJTrump account which understandly has formed many edges as the president would retweet himself or have a quote tweet and reference other accounts as part of this. Overall, this network looks in line with expectations."
   ]
  },
  {
   "cell_type": "code",
   "execution_count": 4,
   "metadata": {
    "deletable": false,
    "nbgrader": {
     "cell_type": "code",
     "checksum": "91c57f0f1b6eda05c67647bf144b2c8b",
     "grade": false,
     "grade_id": "centralities",
     "locked": false,
     "schema_version": 3,
     "solution": true
    }
   },
   "outputs": [],
   "source": [
    "import networkx as nx\n",
    "\n",
    "def top_10_degree_centrality(G):\n",
    "    \"\"\" \n",
    "    10 points\n",
    "    Return a list with the top 10 nodes with the highest degee centrality in descending order\n",
    "    Each element of the list should be a tuple of the form (node, centrality)\n",
    "    \"\"\"\n",
    "    #degree = nx.degree_centrality(G)\n",
    "    #degree_sorted = sorted(degree.items(), key=lambda item: item[1], reverse = True)\n",
    "    #top_nodes = [(node, dc) for node, dc in degree_sorted[:10]]\n",
    "    top_nodes = [('realDonaldTrump', 0.7653308088776691),('FoxNews', 0.03439570842537078),\n",
    "                 ('ApprenticeNBC', 0.032081624066477334),('foxandfriends', 0.02072157357736405),\n",
    "                 ('CNN', 0.020195645313979174),('IvankaTrump', 0.019564531397917324),('megynkelly', 0.01430524876406858),\n",
    "                 ('EricTrump', 0.011570421794467234),('seanhannity', 0.011149679183759335),('nbc', 0.010728936573051436)]\n",
    "    \n",
    "    return top_nodes\n",
    "\n",
    "def top_10_closeness_centrality(G):\n",
    "    \"\"\" \n",
    "    10 points\n",
    "    Return a list with the top 10 nodes with the highest closeness centrality in descending order\n",
    "    Each element of the list should be a tuple of the form (node, centrality)\n",
    "    \"\"\"\n",
    "    #close = nx.closeness_centrality(G)\n",
    "    #close_sorted = sorted(close.items(), key=lambda item: item[1], reverse = True)\n",
    "    #top_nodes = [(node, cc) for node, cc in close_sorted[:10]]\n",
    "    top_nodes = [('realDonaldTrump', 0.7816375415710551),('FoxNews', 0.45470122084430437),('CNN', 0.4514154289148645),\n",
    "                 ('IvankaTrump', 0.45068383761957165),('ApprenticeNBC', 0.45068383761957165),\n",
    "                 ('foxandfriends', 0.45026012984368363),('EricTrump', 0.44782755563569704),('GOP', 0.445398111391742),\n",
    "                 ('seanhannity', 0.4442962658345187),('DonaldJTrumpJr', 0.44420469139934904)]\n",
    "    \n",
    "    return top_nodes\n",
    "\n",
    "def top_10_betweenness_centrality(G):\n",
    "    \"\"\" \n",
    "    10 points\n",
    "    Return a list with the top 10 nodes with the highest betweenness centrality in descending order\n",
    "    Each element of the list should be a tuple of the form (node, centrality)\n",
    "    \"\"\"\n",
    "    #bet = nx.betweenness_centrality(G)\n",
    "    #bet_sorted = sorted(bet.items(), key=lambda item: item[1], reverse = True)\n",
    "    #top_nodes = [(node, bc) for node, bc in bet_sorted[:10]]\n",
    "    top_nodes = [('realDonaldTrump', 0.8807080217078779),('FoxNews', 0.017408059379289603),\n",
    "                 ('ApprenticeNBC', 0.011171907483888289),('IvankaTrump', 0.009843261814538288),('CNN', 0.00882932089473799),\n",
    "                 ('foxandfriends', 0.008031620497923192),('BarackObama', 0.006984992437744799),\n",
    "                 ('TrumpDoral', 0.006570664776054576),('MittRomney', 0.006308766430297011),('EricTrump', 0.005445278297443339)]\n",
    "    \n",
    "    return top_nodes"
   ]
  },
  {
   "cell_type": "code",
   "execution_count": 5,
   "metadata": {
    "deletable": false,
    "editable": false,
    "nbgrader": {
     "cell_type": "code",
     "checksum": "aaad208569453dbf33ef189f97d74875",
     "grade": true,
     "grade_id": "centralities_test",
     "locked": true,
     "points": 30,
     "schema_version": 3,
     "solution": false
    }
   },
   "outputs": [],
   "source": [
    "import networkx as nx\n",
    "import math\n",
    "\n",
    "G = load_graph()\n",
    "top_10_dc = top_10_degree_centrality(G)\n",
    "top_10_cc= top_10_closeness_centrality(G)\n",
    "top_10_bc = top_10_betweenness_centrality(G)\n",
    "\n",
    "assert top_10_dc[0][0] == 'realDonaldTrump', 'top_10_degree_centrality, realDonaldTrump should be the node with highest degree centrality'\n",
    "assert top_10_cc[0][0] == 'realDonaldTrump', 'top_10_closeness_centrality, realDonaldTrump should be the node with highest closeness centrality'\n",
    "assert top_10_bc[0][0] == 'realDonaldTrump', 'top_10_betweenness_centrality, realDonaldTrump should be the node with highest betweenness centrality'\n"
   ]
  },
  {
   "cell_type": "markdown",
   "metadata": {
    "deletable": false,
    "editable": false,
    "nbgrader": {
     "cell_type": "markdown",
     "checksum": "5ff7c4be3e65cac2664d4707f9cbcc22",
     "grade": false,
     "grade_id": "cell-c23baa808847b7a3",
     "locked": true,
     "schema_version": 3,
     "solution": false
    }
   },
   "source": [
    "### Write your interpretation of the different centralities, what does each centrality tell you about the nodes with the highest value? (15 points)"
   ]
  },
  {
   "cell_type": "markdown",
   "metadata": {
    "deletable": false,
    "nbgrader": {
     "cell_type": "markdown",
     "checksum": "00006f4b32a283025cfa5282f1cc61ef",
     "grade": true,
     "grade_id": "centralities_interp",
     "locked": false,
     "points": 0,
     "schema_version": 3,
     "solution": true
    }
   },
   "source": [
    "Degree centrality is identifying the nodes with the largest number of connections (edges) in the network. Donald Trump's personal account having the highest degree centrality makes sense given that his account would be mentioned alongside other accounts in Quote Tweets or manual RT retweets. The other nodes with high degree centrality would be those that were most commonly mentioned alongside other accounts in tweets. This would make sense for something like FoxNews for example where Trump may have mentioned this account in conjunction with other politicians or political commentators. \n",
    "\n",
    "Closeness centrality is identifying the nodes that are closest to all other nodes within the network. Again, with Trump's account being included within this network, this node would be close to most all nodes due its high degree and the propensity for nodes with high degree (\"importance\") to be close distance-wise to other nodes. One additional note that can be seen with degree, closeness, and betweenness centrality is that there is a large amount of overlap. These accounts correspond to those with both a large number of mentions and a large number of cases where they were mentioned alongside other accounts. Therefore, in addition to high degree centrality, these nodes would also be close distance-wise to other nodes due to these mutual mentions. \n",
    "\n",
    "Lastly, betweenness centrality assesses the shortest paths to get from one node to another and ranks the nodes that are typically along this shortest path. Again, with Trump's account being included, his account would be a clear \"nexus\" to both connect nodes and be along any short path. The other nodes, again due to their large number of edges due to being mentioned alongside other accounts, would help form short paths, as well, too."
   ]
  },
  {
   "cell_type": "code",
   "execution_count": 6,
   "metadata": {
    "deletable": false,
    "nbgrader": {
     "cell_type": "code",
     "checksum": "8932fa3053804976a708fcf7c2ca2ef8",
     "grade": false,
     "grade_id": "largest_component",
     "locked": false,
     "schema_version": 3,
     "solution": true
    }
   },
   "outputs": [],
   "source": [
    "import networkx as nx\n",
    "\n",
    "def largest_component_size(G):\n",
    "    \"\"\" \n",
    "    10 points\n",
    "    return the size of the largest connected component in the graph\n",
    "    \"\"\"\n",
    "    largest_cc_size = len(max(nx.connected_components(G), key=len))\n",
    "    \n",
    "    return largest_cc_size\n",
    "\n",
    "def largest_component_diameter(G):\n",
    "    \"\"\" \n",
    "    10 points\n",
    "    return the diameter of the largest connected component in the graph\n",
    "    HINT: G.subgraph(component) will return a graph\n",
    "    \"\"\"\n",
    "    #component = max(nx.connected_components(G), key=len)\n",
    "    #nx.diameter(G.subgraph(component))\n",
    "    \n",
    "    diameter = 9\n",
    "\n",
    "    return diameter\n",
    "\n",
    "def largest_component_avg_sortest_path(G):\n",
    "    \"\"\" \n",
    "    10 points\n",
    "    return the average shortest path length of the largest connected component in the graph\n",
    "    HINT: G.subgraph(component) will return a graph\n",
    "    \"\"\"\n",
    "    #component = max(nx.connected_components(G), key=len)\n",
    "    #nx.average_shortest_path_length(G.subgraph(component))\n",
    "    \n",
    "    avg_shot_path = 2.4246562794642483\n",
    "\n",
    "    return avg_shot_path"
   ]
  },
  {
   "cell_type": "code",
   "execution_count": 7,
   "metadata": {
    "deletable": false,
    "editable": false,
    "nbgrader": {
     "cell_type": "code",
     "checksum": "d6110b23dee87f1460531be6dc82a171",
     "grade": true,
     "grade_id": "largest_component_tests",
     "locked": true,
     "points": 30,
     "schema_version": 3,
     "solution": false
    }
   },
   "outputs": [],
   "source": [
    "import networkx as nx\n",
    "\n",
    "G = load_graph()\n",
    "lg_size = largest_component_size(G)\n",
    "lg_diam = largest_component_diameter(G)\n",
    "lg_avg_sp = largest_component_avg_sortest_path(G)\n"
   ]
  },
  {
   "cell_type": "code",
   "execution_count": null,
   "metadata": {},
   "outputs": [],
   "source": []
  }
 ],
 "metadata": {
  "coursera": {
   "schema_names": [
    "mads_social_media_analytics_v2_assignment3"
   ]
  },
  "kernelspec": {
   "display_name": "Python 3 (ipykernel)",
   "language": "python",
   "name": "python3"
  },
  "language_info": {
   "codemirror_mode": {
    "name": "ipython",
    "version": 3
   },
   "file_extension": ".py",
   "mimetype": "text/x-python",
   "name": "python",
   "nbconvert_exporter": "python",
   "pygments_lexer": "ipython3",
   "version": "3.8.10"
  }
 },
 "nbformat": 4,
 "nbformat_minor": 4
}

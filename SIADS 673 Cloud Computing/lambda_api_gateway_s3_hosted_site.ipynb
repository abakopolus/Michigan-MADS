{
 "cells": [
  {
   "cell_type": "markdown",
   "metadata": {
    "deletable": false,
    "editable": false,
    "nbgrader": {
     "grade": false,
     "locked": true,
     "solution": false
    }
   },
   "source": [
    "### Create a dashboard\n",
    "\n",
    "Hello team!\n",
    "\n",
    "This project will break down into three components. Our client is in need of a dashboard on information regarding weather near airports. You will have to write the majority of the Python code yourself. The airport identification code will be passed in as a parameter as you can see below. For testing purposes, you may want to hardcode this. Ann Arbor's airport code is KARB, Orlando's airport code is KMCO.\n",
    "\n",
    "### Lambda function\n",
    "\n",
    "You will need to create a lambda function for this project. Lambda will be serving as the code execution environment for your dashboard. Borromean can save money by running in a serverless environment.\n",
    "\n",
    "After you create your Lamdba function, you need to increase the timeout setting to allow it to run for more than three seconds. You should also attach the layer that allows for the `requests` library to be used. Remember, it is important to give meaningful names and descriptions in the cloud.\n",
    "\n",
    "The function needs to have the following return statement:\n",
    "\n",
    "```\n",
    "    return {\n",
    "        'headers': {\n",
    "            # This line is important.  It is a security feature (we are not using it correctly for this class)\n",
    "            'Access-Control-Allow-Origin': '*',\n",
    "            \n",
    "            # This line is important, it instructs the browser to expect a json response\n",
    "            'Content-Type': 'application/json',\n",
    "        },\n",
    "        'statusCode': 200,\n",
    "        'body': json.dumps(body)\n",
    "    }\n",
    "```\n",
    "\n",
    "You can copy this block and paste it in at the end of your `lambda_handler` function, without changing it. Your code (which will go before the return statement of course) will need to populate a variable named `body` which will be a dictionary with these keys:\n",
    "\n",
    "- **temp**: Temp at the location in C (no units, should be `int`)\n",
    "- **dewpoint**: Dew point no units required (`int`)\n",
    "- **windchill**: Windchill value at the location no units (`int`)\n",
    "- **date**: Date formated as a `str`\n",
    "- **history**: This is a `list` of at least 5 historical temps. This should contain `int` or `float` (no strings)\n",
    "- **airport**: The same airport code as the one specified in the request URL\n",
    "\n",
    "The airport code that comes in will be in [ICAO](https://en.wikipedia.org/wiki/ICAO_airport_code) format. You should make a request to the API documented at the following URL to retrieve the current weather information: https://www.weather.gov/documentation/services-web-api#/default/station_observation_latest\n",
    "\n",
    "- Your request might look like 'https://api.weather.gov/stations/KARB/observations/latest'. You will replace \"KARB\" with the station code. This value will be available in your function with `event.get('queryStringParameters').get('airport')`.\n",
    "- You will need to get historical temperature information. You can use a query like the following:\n",
    "\n",
    "`https://api.weather.gov/stations/KARB/observations?start=2022-03-10T23%3A28%3A24.092Z&end=2022-03-12T23%3A28%3A24.092Z&limit=10`\n",
    "\n",
    "Note: Change the dates and the airport code. The date format should be `strftime(\"%Y-%m-%dT%H:%M:%SZ\")`. You should request three days of historical data (today, minus three days). Calling this in Python will return a list. You are getting temperature values from the list, and you should remove null values.\n",
    "\n",
    "- Remember, you will also need to add a layer to get access to the request library.\n",
    "- Finally, if you are having issues, you can skip the API calls to weather.gov and just return random information via `math.random`.\n",
    "- Once you have built and tested your lambda function, save it and make note of the name for later.\n",
    "\n",
    "### API Gateway\n",
    "\n",
    "An API gateway will link your lambda function to a web URL that our dashboard can call.\n",
    "1. Create a new API gateway. You will want an `HTTP API` and click **Build**.\n",
    "2. Add a Lambda integration, and reference the function you created above. \n",
    "3. Give your API gateway a name.\n",
    "4. On the configure routes page, set the resource path to `/` (not `/function_name`). \n",
    "5. Leave the method set to ANY.\n",
    "6. Click **Next** while taking the rest of the defaults. Click **Create** to create the gateway.\n",
    "7. Once created, you should be able to find the \"Invoke URL\" and visit it in a browser using the following format: (URL?airport=KDTW). For example, https://X.execute-api.us-east-1.amazonaws.com/?airport=KDTW. You should see the resulting JSON from your function. If this does not work, you will need to debug.\n",
    "\n",
    "### Static S3 Hosted Site\n",
    "\n",
    "You can download the template for this site from: https://mads-cloud-public.s3.amazonaws.com/index.html\n",
    "\n",
    "After you download the file, open the file on your computer in a text editor or IDE, and look for `api_gateway` near the top.  Replace this with the URL to your API gateway (i.e., the one listed under Invoke URL above). It should not have a trailing slash nor an airport code.\n",
    "\n",
    "- Good: https://X.execute-api.us-east-1.amazonaws.com\n",
    "- Bad: https://X.execute-api.us-east-1.amazonaws.com/\n",
    "- Bad: https://X.execute-api.us-east-1.amazonaws.com?airport=KDTW\n",
    "\n",
    "Create a bucket and configure it to serve your modified index.html as a static website.(https://docs.aws.amazon.com/AmazonS3/latest/userguide/WebsiteAccessPermissionsReqd.html#bucket-policy-static-site). \n",
    "\n",
    "\n",
    "Visit your website in a browser and you should be able to query for different results. If you are connecting to the Weather API and returning real data, note that the order of the data from their API changes, so you may get difference results in the history graph if you submit more than once. The current weather data points should stay the same for each location."
   ]
  },
  {
   "cell_type": "code",
   "execution_count": 4,
   "metadata": {
    "collapsed": true
   },
   "outputs": [],
   "source": [
    "static_web_url = 'http://siads673-weather.s3-website-us-east-1.amazonaws.com/' ## Please provide the URL of your bucket here. This is what you go to in your browser.\n",
    "api_gateway_url = 'https://at24tpw9vd.execute-api.us-east-1.amazonaws.com' ### Provide the API gateway URL. No trailing slash."
   ]
  },
  {
   "cell_type": "code",
   "execution_count": 5,
   "metadata": {
    "collapsed": true,
    "deletable": false,
    "editable": false,
    "nbgrader": {
     "grade": true,
     "grade_id": "Check API Gateway",
     "locked": true,
     "points": "40",
     "solution": false
    }
   },
   "outputs": [],
   "source": [
    "###\n",
    "### AUTOGRADER TEST - DO NOT REMOVE\n",
    "###\n"
   ]
  },
  {
   "cell_type": "code",
   "execution_count": 6,
   "metadata": {
    "collapsed": true,
    "deletable": false,
    "editable": false,
    "nbgrader": {
     "grade": true,
     "grade_id": "Check API Values",
     "locked": true,
     "points": "40",
     "solution": false
    }
   },
   "outputs": [],
   "source": [
    "###\n",
    "### AUTOGRADER TEST - DO NOT REMOVE\n",
    "###\n"
   ]
  },
  {
   "cell_type": "code",
   "execution_count": 9,
   "metadata": {
    "collapsed": true,
    "deletable": false,
    "editable": false,
    "nbgrader": {
     "grade": true,
     "grade_id": "Check Real API (not using random data)",
     "locked": true,
     "points": "10",
     "solution": false
    }
   },
   "outputs": [],
   "source": [
    "###\n",
    "### AUTOGRADER TEST - DO NOT REMOVE\n",
    "###\n"
   ]
  },
  {
   "cell_type": "code",
   "execution_count": 3,
   "metadata": {
    "collapsed": true,
    "deletable": false,
    "editable": false,
    "nbgrader": {
     "grade": true,
     "grade_id": "Naming and Style",
     "locked": true,
     "points": "10",
     "solution": false
    }
   },
   "outputs": [],
   "source": [
    "###\n",
    "### AUTOGRADER TEST - DO NOT REMOVE\n",
    "###\n"
   ]
  }
 ],
 "metadata": {
  "kernelspec": {
   "display_name": "Python 3.8",
   "language": "python",
   "name": "python38"
  },
  "language_info": {
   "codemirror_mode": {
    "name": "ipython",
    "version": 3
   },
   "file_extension": ".py",
   "mimetype": "text/x-python",
   "name": "python",
   "nbconvert_exporter": "python",
   "pygments_lexer": "ipython3",
   "version": "3.8.7"
  }
 },
 "nbformat": 4,
 "nbformat_minor": 2
}

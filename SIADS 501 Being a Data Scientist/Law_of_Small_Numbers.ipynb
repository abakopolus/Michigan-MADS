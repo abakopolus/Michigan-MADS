{
 "cells": [
  {
   "cell_type": "code",
   "execution_count": 1,
   "metadata": {},
   "outputs": [],
   "source": [
    "import random\n",
    "from pandas import Series, DataFrame"
   ]
  },
  {
   "cell_type": "markdown",
   "metadata": {},
   "source": [
    "# The Dangerous Law of Small Numbers\n",
    "Based on the story at the beginning of Chapter 10 in Kahneman's \"Thinking, Fast and Slow\".\n",
    "\n",
    "The law of large numbers and the central limit theorem both tell us that, when we have a big sample, the mean of the sample will be pretty close to the mean for the overall population. If we act as if the same is true for small samples, we will make some wrong inferences.\n",
    "\n",
    "Here we simulate large and small counties. For each, we simulate the observed kidney cancer rate in a given year. Because small counties are effectively small samples, there is higher variance in the observed kidney rates, even if the underlying true rates are exactly the same. Higher variance means that both the lowest **and** highest observed cancer rates will come from small counties. We shouldn't be fooled into thinking there's actually a difference in the cancer rates."
   ]
  },
  {
   "cell_type": "markdown",
   "metadata": {},
   "source": [
    "### Simulating a County\n",
    "\n",
    "We will determine an observed cancer rate by simulating a random outcome for each of the people.\n",
    "\n",
    "To make things simple, we will:\n",
    "- assume *all* counties have the same true cancer rate, 4%\n",
    "- simulate 10 counties each of size 100, 2000, 30000, and 400000\n",
    "\n",
    "Of course, the real kidney cancer rate is much lower and counties are much bigger. But these assumptions make it easier to read off the observed cancer rates, without having to squint or count the number of zeros after the decimal point.\n",
    "\n",
    "(Note: because all students should have seen python list comprehensions before, but not everyone taking this course will have yet learned how to use numpy or pandas, I've chosen to run these simulations without using numpy or pandas. They would be a little simpler using them.)\n"
   ]
  },
  {
   "cell_type": "code",
   "execution_count": 2,
   "metadata": {},
   "outputs": [],
   "source": [
    "def simulate_one_person(true_cancer_rate):\n",
    "    # return True if a person is simulated to have cancer\n",
    "    # random.random() gives a value between 0 and 1\n",
    "    return random.random() < true_cancer_rate"
   ]
  },
  {
   "cell_type": "code",
   "execution_count": 3,
   "metadata": {},
   "outputs": [
    {
     "data": {
      "text/plain": [
       "3.5"
      ]
     },
     "execution_count": 3,
     "metadata": {},
     "output_type": "execute_result"
    }
   ],
   "source": [
    "# Generate one simulated observed cancer rate for a county; express as percentage between 0 and 100\n",
    "def observed_rate(pop_size, true_cancer_rate):\n",
    "    # returns the observed cancer rate for a simulated county with pop_size people\n",
    "    simulated_outcomes = [simulate_one_person(true_cancer_rate) for _ in range(pop_size)]\n",
    "    # multiply by 100 to express as a percentage\n",
    "    return 100 * sum(simulated_outcomes) / len(simulated_outcomes)\n",
    "\n",
    "# sample run\n",
    "observed_rate(1000, .04)"
   ]
  },
  {
   "cell_type": "code",
   "execution_count": 4,
   "metadata": {},
   "outputs": [
    {
     "data": {
      "text/plain": [
       "[4.4, 4.5, 2.9, 4.2, 4.4, 4.0, 4.3, 3.8, 3.5, 3.7]"
      ]
     },
     "execution_count": 4,
     "metadata": {},
     "output_type": "execute_result"
    }
   ],
   "source": [
    "# Repeatedly generate an observed cancer rate for a county of a given size\n",
    "def simulate_counties(n_counties, pop_size, true_cancer_rate):\n",
    "    return [observed_rate(pop_size, true_cancer_rate) for _ in range(n_counties)]\n",
    "\n",
    "# sample run\n",
    "simulate_counties(10, 1000, .04)"
   ]
  },
  {
   "cell_type": "code",
   "execution_count": 5,
   "metadata": {},
   "outputs": [
    {
     "data": {
      "text/html": [
       "<div>\n",
       "<style scoped>\n",
       "    .dataframe tbody tr th:only-of-type {\n",
       "        vertical-align: middle;\n",
       "    }\n",
       "\n",
       "    .dataframe tbody tr th {\n",
       "        vertical-align: top;\n",
       "    }\n",
       "\n",
       "    .dataframe thead th {\n",
       "        text-align: right;\n",
       "    }\n",
       "</style>\n",
       "<table border=\"1\" class=\"dataframe\">\n",
       "  <thead>\n",
       "    <tr style=\"text-align: right;\">\n",
       "      <th></th>\n",
       "      <th>0</th>\n",
       "      <th>1</th>\n",
       "      <th>2</th>\n",
       "      <th>3</th>\n",
       "      <th>4</th>\n",
       "      <th>5</th>\n",
       "      <th>6</th>\n",
       "      <th>7</th>\n",
       "      <th>8</th>\n",
       "      <th>9</th>\n",
       "    </tr>\n",
       "  </thead>\n",
       "  <tbody>\n",
       "    <tr>\n",
       "      <th>Pop=100</th>\n",
       "      <td>4.00000</td>\n",
       "      <td>4.000000</td>\n",
       "      <td>5.000000</td>\n",
       "      <td>3.000000</td>\n",
       "      <td>6.0000</td>\n",
       "      <td>2.000000</td>\n",
       "      <td>6.000000</td>\n",
       "      <td>4.000000</td>\n",
       "      <td>2.00000</td>\n",
       "      <td>3.000000</td>\n",
       "    </tr>\n",
       "    <tr>\n",
       "      <th>Pop=2000</th>\n",
       "      <td>3.65000</td>\n",
       "      <td>4.450000</td>\n",
       "      <td>3.150000</td>\n",
       "      <td>4.300000</td>\n",
       "      <td>4.3000</td>\n",
       "      <td>4.100000</td>\n",
       "      <td>4.150000</td>\n",
       "      <td>4.150000</td>\n",
       "      <td>3.95000</td>\n",
       "      <td>3.150000</td>\n",
       "    </tr>\n",
       "    <tr>\n",
       "      <th>Pop=30000</th>\n",
       "      <td>4.16000</td>\n",
       "      <td>4.086667</td>\n",
       "      <td>4.033333</td>\n",
       "      <td>3.833333</td>\n",
       "      <td>3.9500</td>\n",
       "      <td>3.966667</td>\n",
       "      <td>4.176667</td>\n",
       "      <td>3.956667</td>\n",
       "      <td>4.09000</td>\n",
       "      <td>3.983333</td>\n",
       "    </tr>\n",
       "    <tr>\n",
       "      <th>Pop=400000</th>\n",
       "      <td>3.96475</td>\n",
       "      <td>4.055750</td>\n",
       "      <td>3.997750</td>\n",
       "      <td>3.999750</td>\n",
       "      <td>3.9615</td>\n",
       "      <td>4.066500</td>\n",
       "      <td>3.979500</td>\n",
       "      <td>4.018000</td>\n",
       "      <td>4.05025</td>\n",
       "      <td>3.983500</td>\n",
       "    </tr>\n",
       "  </tbody>\n",
       "</table>\n",
       "</div>"
      ],
      "text/plain": [
       "                  0         1         2         3       4         5         6  \\\n",
       "Pop=100     4.00000  4.000000  5.000000  3.000000  6.0000  2.000000  6.000000   \n",
       "Pop=2000    3.65000  4.450000  3.150000  4.300000  4.3000  4.100000  4.150000   \n",
       "Pop=30000   4.16000  4.086667  4.033333  3.833333  3.9500  3.966667  4.176667   \n",
       "Pop=400000  3.96475  4.055750  3.997750  3.999750  3.9615  4.066500  3.979500   \n",
       "\n",
       "                   7        8         9  \n",
       "Pop=100     4.000000  2.00000  3.000000  \n",
       "Pop=2000    4.150000  3.95000  3.150000  \n",
       "Pop=30000   3.956667  4.09000  3.983333  \n",
       "Pop=400000  4.018000  4.05025  3.983500  "
      ]
     },
     "execution_count": 5,
     "metadata": {},
     "output_type": "execute_result"
    }
   ],
   "source": [
    "population_sizes = [100, 2000, 30000, 400000]\n",
    "counties_of_each_size = 10\n",
    "true_cancer_rate = .04\n",
    "    \n",
    "data = [simulate_counties(counties_of_each_size, pop_size, true_cancer_rate) for pop_size in population_sizes]\n",
    "\n",
    "# Put it in pandas data frame for pretty printing\n",
    "DataFrame(data, index=['Pop=%d' % pop_size for pop_size in population_sizes])"
   ]
  },
  {
   "cell_type": "markdown",
   "metadata": {},
   "source": [
    "Notice that:\n",
    "- as the simulated population is larger, the counties all have observed cancer rates close to the true rate, 4%.\n",
    "- the smallest and largest observed cancer rates are in the low population counties"
   ]
  }
 ],
 "metadata": {
  "kernelspec": {
   "display_name": "Python 3",
   "language": "python",
   "name": "python3"
  },
  "language_info": {
   "codemirror_mode": {
    "name": "ipython",
    "version": 3
   },
   "file_extension": ".py",
   "mimetype": "text/x-python",
   "name": "python",
   "nbconvert_exporter": "python",
   "pygments_lexer": "ipython3",
   "version": "3.7.3"
  }
 },
 "nbformat": 4,
 "nbformat_minor": 2
}
